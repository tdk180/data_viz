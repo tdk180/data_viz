{
 "cells": [
  {
   "cell_type": "code",
   "execution_count": 30,
   "id": "c87547d3",
   "metadata": {},
   "outputs": [],
   "source": [
    "import pandas as pd\n",
    "\n",
    "df1=pd.read_csv('transfer_window2018.csv', sep=';')\n",
    "df2=pd.read_csv('transfer_window2019.csv', sep=';')\n",
    "df3=pd.read_csv('transfer_window2020.csv', sep=';')\n",
    "df4=pd.read_csv('transfer_window2021.csv', sep=';')\n",
    "df5=pd.read_csv('transfer_window2022.csv', sep=';')\n",
    "\n",
    "frames=[df1,df2,df3,df4,df5]\n",
    "\n",
    "df=pd.concat(frames)"
   ]
  },
  {
   "cell_type": "code",
   "execution_count": 31,
   "id": "d9c35c07",
   "metadata": {},
   "outputs": [],
   "source": [
    "#create others variable to group leagues not in top5 countries\n",
    "general_position=[]\n",
    "for index, row in df.iterrows():\n",
    "    value = row['position']\n",
    "    defense=['Right-Back','Left-Back','Centre-Back']\n",
    "    midfield=['Central Midfield','Defensive Midfield','Right Midfield','Left Midfield','Attacking Midfield']\n",
    "    attack=['Second Striker','Centre-Forward','Left Winger','Right Winger']\n",
    "    if value in defense:\n",
    "        value='Defense'\n",
    "    if value in midfield:\n",
    "        value='Midfield' \n",
    "    if value in attack:\n",
    "        value='Attack'\n",
    "    if value=='Goalkeeper':\n",
    "        pass\n",
    "    general_position.append(value)\n",
    "\n",
    "\n",
    "df['General_Position']=general_position"
   ]
  },
  {
   "cell_type": "code",
   "execution_count": 32,
   "id": "95dba9fc",
   "metadata": {},
   "outputs": [],
   "source": [
    "lst=['Premier League', 'Ligue 1','Bundesliga','Serie A', \"LaLiga\"]\n",
    "league_from=[]\n",
    "for index,row in df.iterrows():\n",
    "    if row['league_from'] not in lst:\n",
    "       league_from.append('Others')\n",
    "    else:\n",
    "       league_from.append(row['league_from']) \n",
    "\n",
    "    \n",
    "df['league_from']=league_from"
   ]
  },
  {
   "cell_type": "code",
   "execution_count": 33,
   "id": "bcd6f6cc",
   "metadata": {},
   "outputs": [],
   "source": [
    "league_to=[]\n",
    "for index,row in df.iterrows():\n",
    "    if row['league_to'] not in lst:\n",
    "       league_to.append('Others')\n",
    "    else:\n",
    "       league_to.append(row['league_to']) \n",
    "\n",
    "    \n",
    "df['league_to']=league_to"
   ]
  },
  {
   "cell_type": "code",
   "execution_count": 46,
   "id": "3f593fa3",
   "metadata": {},
   "outputs": [
    {
     "name": "stderr",
     "output_type": "stream",
     "text": [
      "C:\\Users\\Matteo\\AppData\\Local\\Temp\\ipykernel_7716\\2103170701.py:4: FutureWarning: The default value of regex will change from True to False in a future version. In addition, single character regular expressions will *not* be treated as literal strings when regex=True.\n",
      "  df['fee'] = df['fee'].str.replace('?','0')\n"
     ]
    }
   ],
   "source": [
    "df['fee'] = df['fee'].str.replace('k','000')\n",
    "df['fee'] = df['fee'].str.replace('free transfer','0')\n",
    "df['fee'] = df['fee'].str.replace('loan transfer','0')\n",
    "df['fee'] = df['fee'].str.replace('?','0')\n",
    "df['fee']=df['fee'].astype('int')"
   ]
  },
  {
   "cell_type": "code",
   "execution_count": 49,
   "id": "b764df3b",
   "metadata": {},
   "outputs": [],
   "source": [
    "df.to_csv('transfer_windwow.csv')"
   ]
  },
  {
   "cell_type": "code",
   "execution_count": null,
   "id": "4e0f3e1f",
   "metadata": {},
   "outputs": [],
   "source": []
  }
 ],
 "metadata": {
  "kernelspec": {
   "display_name": "Python 3 (ipykernel)",
   "language": "python",
   "name": "python3"
  },
  "language_info": {
   "codemirror_mode": {
    "name": "ipython",
    "version": 3
   },
   "file_extension": ".py",
   "mimetype": "text/x-python",
   "name": "python",
   "nbconvert_exporter": "python",
   "pygments_lexer": "ipython3",
   "version": "3.9.13"
  }
 },
 "nbformat": 4,
 "nbformat_minor": 5
}
