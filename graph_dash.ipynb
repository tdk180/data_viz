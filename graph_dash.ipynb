{
 "cells": [
  {
   "cell_type": "code",
   "execution_count": 1,
   "id": "b4973a6c",
   "metadata": {},
   "outputs": [
    {
     "name": "stderr",
     "output_type": "stream",
     "text": [
      "C:\\Users\\Matteo\\anaconda3\\lib\\site-packages\\dash_bootstrap_components\\_table.py:5: UserWarning: \n",
      "The dash_html_components package is deprecated. Please replace\n",
      "`import dash_html_components as html` with `from dash import html`\n",
      "  import dash_html_components as html\n"
     ]
    }
   ],
   "source": [
    "import pandas as pd \n",
    "from jaal import Jaal\n",
    "\n",
    "df=pd.read_csv('transfer_window.csv', sep=';')\n",
    "df=df.rename(columns={\"club_from\": \"from\", \"club_to\": \"to\"})"
   ]
  },
  {
   "cell_type": "code",
   "execution_count": 2,
   "id": "a7d2c6de",
   "metadata": {},
   "outputs": [],
   "source": [
    "#edge_list\n",
    "edge_df=df.loc[:,['from','to']]\n",
    "#edge_df['fee']=edge_df['fee']/1000000\n",
    "edge_df=edge_df.drop_duplicates()"
   ]
  },
  {
   "cell_type": "code",
   "execution_count": 3,
   "id": "65b19cc1",
   "metadata": {},
   "outputs": [],
   "source": [
    "#node list\n",
    "\n",
    "#select unique clubs\n",
    "\n",
    "a=list(pd.unique(edge_df['from']))\n",
    "b=list(pd.unique(edge_df['to']))\n",
    "c=a+b\n",
    "nodes_list=list(set(c))\n",
    "nodes_df=pd.DataFrame(nodes_list)\n",
    "nodes_df=nodes_df.rename(columns={0: 'to'})\n",
    "\n",
    "#merge with country to\n",
    "nodes_df=nodes_df.merge(df, how='inner', on='to')\n",
    "nodes_df=nodes_df.loc[:,['to', 'country_to']]\n",
    "nodes_df=nodes_df.drop_duplicates()\n",
    "nodes_df=nodes_df.rename(columns={\"to\": \"id\"})\n",
    "\n",
    "\n",
    "#make country to cateogrical\n",
    "lst=['Italy','England','France', 'Spain','Germany']\n",
    "for index,row in nodes_df.iterrows():\n",
    "    if row['country_to'] not in lst:\n",
    "        row['country_to']='Other'\n",
    "        \n",
    "        \n",
    "nodes_df['country_to'] = nodes_df.country_to.astype('category')"
   ]
  },
  {
   "cell_type": "code",
   "execution_count": 4,
   "id": "07506d25",
   "metadata": {},
   "outputs": [
    {
     "data": {
      "text/html": [
       "<div>\n",
       "<style scoped>\n",
       "    .dataframe tbody tr th:only-of-type {\n",
       "        vertical-align: middle;\n",
       "    }\n",
       "\n",
       "    .dataframe tbody tr th {\n",
       "        vertical-align: top;\n",
       "    }\n",
       "\n",
       "    .dataframe thead th {\n",
       "        text-align: right;\n",
       "    }\n",
       "</style>\n",
       "<table border=\"1\" class=\"dataframe\">\n",
       "  <thead>\n",
       "    <tr style=\"text-align: right;\">\n",
       "      <th></th>\n",
       "      <th>id</th>\n",
       "      <th>country_to</th>\n",
       "      <th>centrality</th>\n",
       "    </tr>\n",
       "  </thead>\n",
       "  <tbody>\n",
       "    <tr>\n",
       "      <th>0</th>\n",
       "      <td>MKE Ankaragücü</td>\n",
       "      <td>Other</td>\n",
       "      <td>2</td>\n",
       "    </tr>\n",
       "    <tr>\n",
       "      <th>1</th>\n",
       "      <td>Al-Raed</td>\n",
       "      <td>Other</td>\n",
       "      <td>1</td>\n",
       "    </tr>\n",
       "    <tr>\n",
       "      <th>2</th>\n",
       "      <td>Nottingham Forest</td>\n",
       "      <td>England</td>\n",
       "      <td>20</td>\n",
       "    </tr>\n",
       "    <tr>\n",
       "      <th>3</th>\n",
       "      <td>Stade Reims</td>\n",
       "      <td>France</td>\n",
       "      <td>13</td>\n",
       "    </tr>\n",
       "    <tr>\n",
       "      <th>4</th>\n",
       "      <td>Liverpool FC</td>\n",
       "      <td>England</td>\n",
       "      <td>11</td>\n",
       "    </tr>\n",
       "    <tr>\n",
       "      <th>...</th>\n",
       "      <td>...</td>\n",
       "      <td>...</td>\n",
       "      <td>...</td>\n",
       "    </tr>\n",
       "    <tr>\n",
       "      <th>295</th>\n",
       "      <td>Bayer 04 Leverkusen</td>\n",
       "      <td>Germany</td>\n",
       "      <td>3</td>\n",
       "    </tr>\n",
       "    <tr>\n",
       "      <th>296</th>\n",
       "      <td>Genoa CFC</td>\n",
       "      <td>Italy</td>\n",
       "      <td>10</td>\n",
       "    </tr>\n",
       "    <tr>\n",
       "      <th>297</th>\n",
       "      <td>West Ham United</td>\n",
       "      <td>England</td>\n",
       "      <td>11</td>\n",
       "    </tr>\n",
       "    <tr>\n",
       "      <th>298</th>\n",
       "      <td>Boavista FC</td>\n",
       "      <td>Other</td>\n",
       "      <td>6</td>\n",
       "    </tr>\n",
       "    <tr>\n",
       "      <th>299</th>\n",
       "      <td>Toronto FC</td>\n",
       "      <td>Other</td>\n",
       "      <td>6</td>\n",
       "    </tr>\n",
       "  </tbody>\n",
       "</table>\n",
       "<p>300 rows × 3 columns</p>\n",
       "</div>"
      ],
      "text/plain": [
       "                      id country_to  centrality\n",
       "0         MKE Ankaragücü      Other           2\n",
       "1                Al-Raed      Other           1\n",
       "2      Nottingham Forest    England          20\n",
       "3            Stade Reims     France          13\n",
       "4           Liverpool FC    England          11\n",
       "..                   ...        ...         ...\n",
       "295  Bayer 04 Leverkusen    Germany           3\n",
       "296            Genoa CFC      Italy          10\n",
       "297      West Ham United    England          11\n",
       "298          Boavista FC      Other           6\n",
       "299           Toronto FC      Other           6\n",
       "\n",
       "[300 rows x 3 columns]"
      ]
     },
     "execution_count": 4,
     "metadata": {},
     "output_type": "execute_result"
    }
   ],
   "source": [
    "#use netwrokx to add centrality degree\n",
    "import networkx as nx\n",
    "\n",
    "G=nx.from_pandas_edgelist(df, source='from', target='to', edge_attr='fee')\n",
    "degree_dict = dict(G.degree(G.nodes()))\n",
    "degree_df=pd.DataFrame.from_dict(degree_dict, orient='index')\n",
    "degree_df['id']=degree_df.index\n",
    "\n",
    "nodes_df=nodes_df.merge(degree_df, how='inner', on='id')\n",
    "nodes_df=nodes_df.rename(columns={0: 'centrality'})\n",
    "nodes_df"
   ]
  },
  {
   "cell_type": "code",
   "execution_count": 18,
   "id": "298304ab",
   "metadata": {
    "scrolled": true
   },
   "outputs": [
    {
     "name": "stdout",
     "output_type": "stream",
     "text": [
      "Parsing the data...Done\n",
      "Dash is running on http://127.0.0.1:8050/\n",
      "\n",
      "Dash is running on http://127.0.0.1:8050/\n",
      "\n",
      "Dash is running on http://127.0.0.1:8050/\n",
      "\n",
      "Dash is running on http://127.0.0.1:8050/\n",
      "\n",
      "Dash is running on http://127.0.0.1:8050/\n",
      "\n",
      "Dash is running on http://127.0.0.1:8050/\n",
      "\n",
      "Dash is running on http://127.0.0.1:8050/\n",
      "\n",
      "Dash is running on http://127.0.0.1:8050/\n",
      "\n",
      "Dash is running on http://127.0.0.1:8050/\n",
      "\n",
      "Dash is running on http://127.0.0.1:8050/\n",
      "\n",
      "Dash is running on http://127.0.0.1:8050/\n",
      "\n",
      "Dash is running on http://127.0.0.1:8050/\n",
      "\n",
      " * Serving Flask app \"__main__\" (lazy loading)\n",
      " * Environment: production\n",
      "\u001b[31m   WARNING: This is a development server. Do not use it in a production deployment.\u001b[0m\n",
      "\u001b[2m   Use a production WSGI server instead.\u001b[0m\n",
      " * Debug mode: off\n"
     ]
    },
    {
     "name": "stderr",
     "output_type": "stream",
     "text": [
      " * Running on http://127.0.0.1:8050/ (Press CTRL+C to quit)\n",
      "127.0.0.1 - - [24/Mar/2023 13:46:41] \"GET / HTTP/1.1\" 200 -\n",
      "127.0.0.1 - - [24/Mar/2023 13:46:42] \"GET /_dash-layout HTTP/1.1\" 200 -\n",
      "127.0.0.1 - - [24/Mar/2023 13:46:42] \"GET /_dash-dependencies HTTP/1.1\" 200 -\n",
      "127.0.0.1 - - [24/Mar/2023 13:46:42] \"POST /_dash-update-component HTTP/1.1\" 200 -\n",
      "127.0.0.1 - - [24/Mar/2023 13:46:42] \"POST /_dash-update-component HTTP/1.1\" 200 -\n",
      "127.0.0.1 - - [24/Mar/2023 13:46:42] \"POST /_dash-update-component HTTP/1.1\" 200 -\n",
      "127.0.0.1 - - [24/Mar/2023 13:46:42] \"POST /_dash-update-component HTTP/1.1\" 200 -\n",
      "127.0.0.1 - - [24/Mar/2023 13:46:42] \"POST /_dash-update-component HTTP/1.1\" 200 -\n"
     ]
    },
    {
     "name": "stdout",
     "output_type": "stream",
     "text": [
      "No trigger\n"
     ]
    },
    {
     "name": "stderr",
     "output_type": "stream",
     "text": [
      "127.0.0.1 - - [24/Mar/2023 13:56:00] \"GET / HTTP/1.1\" 200 -\n",
      "127.0.0.1 - - [24/Mar/2023 13:56:00] \"GET /_dash-layout HTTP/1.1\" 200 -\n",
      "127.0.0.1 - - [24/Mar/2023 13:56:00] \"GET /_dash-dependencies HTTP/1.1\" 200 -\n",
      "127.0.0.1 - - [24/Mar/2023 13:56:00] \"POST /_dash-update-component HTTP/1.1\" 200 -\n",
      "127.0.0.1 - - [24/Mar/2023 13:56:00] \"POST /_dash-update-component HTTP/1.1\" 200 -\n",
      "127.0.0.1 - - [24/Mar/2023 13:56:00] \"POST /_dash-update-component HTTP/1.1\" 200 -\n",
      "127.0.0.1 - - [24/Mar/2023 13:56:00] \"POST /_dash-update-component HTTP/1.1\" 200 -\n",
      "127.0.0.1 - - [24/Mar/2023 13:56:00] \"POST /_dash-update-component HTTP/1.1\" 200 -\n"
     ]
    },
    {
     "name": "stdout",
     "output_type": "stream",
     "text": [
      "No trigger\n"
     ]
    },
    {
     "name": "stderr",
     "output_type": "stream",
     "text": [
      "127.0.0.1 - - [24/Mar/2023 14:03:42] \"GET /favicon.ico HTTP/1.1\" 200 -\n",
      "127.0.0.1 - - [24/Mar/2023 14:04:16] \"GET /favicon.ico HTTP/1.1\" 200 -\n",
      "127.0.0.1 - - [24/Mar/2023 14:04:21] \"GET /favicon.ico HTTP/1.1\" 200 -\n",
      "127.0.0.1 - - [24/Mar/2023 14:04:25] \"GET /favicon.ico HTTP/1.1\" 200 -\n",
      "127.0.0.1 - - [24/Mar/2023 14:04:30] \"GET /favicon.ico HTTP/1.1\" 200 -\n"
     ]
    }
   ],
   "source": [
    "# define vis options\n",
    "vis_opts = {'height': '700px', # change height\n",
    "            'interaction':{'hover': True} # turn on-off the hover \n",
    "           } # define the convergence iteration of network\n",
    "\n",
    "\n",
    "Jaal(edge_df,nodes_df ).plot(vis_opts=vis_opts, debug=False)\n",
    "\n",
    "# app = Jaal(edge_df, nodes_df).create()\n",
    "# server = app.server"
   ]
  },
  {
   "cell_type": "code",
   "execution_count": null,
   "id": "b420e95d",
   "metadata": {},
   "outputs": [],
   "source": []
  }
 ],
 "metadata": {
  "kernelspec": {
   "display_name": "Python 3 (ipykernel)",
   "language": "python",
   "name": "python3"
  },
  "language_info": {
   "codemirror_mode": {
    "name": "ipython",
    "version": 3
   },
   "file_extension": ".py",
   "mimetype": "text/x-python",
   "name": "python",
   "nbconvert_exporter": "python",
   "pygments_lexer": "ipython3",
   "version": "3.9.13"
  }
 },
 "nbformat": 4,
 "nbformat_minor": 5
}
