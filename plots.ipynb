<!DOCTYPE html>
<!-- saved from url=(0140)http://localhost:8890/notebooks/Desktop/Data%20visualisation%20lessons/Data%20Visualization%20Project/DataViz%20Matteo/data_viz/plots.ipynb# -->
<html lang="it-it"><div id="in-page-channel-node-id" data-channel-name="in_page_channel_QvO5DZ"></div><head><meta http-equiv="Content-Type" content="text/html; charset=UTF-8">
    

    <title>plots - Jupyter Notebook</title>
    
    <meta http-equiv="X-UA-Compatible" content="IE=edge">
    <link rel="stylesheet" href="./plots_files/jquery-ui.min.css" type="text/css">
    <link rel="stylesheet" href="./plots_files/jquery.typeahead.min.css" type="text/css">
    <meta name="viewport" content="width=device-width, initial-scale=1.0">
    
    


<script type="text/javascript" src="./plots_files/MathJax.js.download" charset="utf-8"></script>

<script type="text/javascript">
// MathJax disabled, set as null to distinguish from *missing* MathJax,
// where it will be undefined, and should prompt a dialog later.
window.mathjax_url = "/static/components/MathJax/MathJax.js";
</script>

<link rel="stylesheet" href="./plots_files/bootstrap-tour.min.css" type="text/css">
<link rel="stylesheet" href="./plots_files/codemirror.css">


    <link rel="stylesheet" href="./plots_files/style.min.css" type="text/css">
    

<link rel="stylesheet" href="./plots_files/override.css" type="text/css">
<link rel="stylesheet" href="http://localhost:8890/notebooks/Desktop/Data%20visualisation%20lessons/Data%20Visualization%20Project/DataViz%20Matteo/data_viz/plots.ipynb" id="kernel-css" type="text/css">


    <link rel="stylesheet" href="./plots_files/custom.css" type="text/css">
    <script src="./plots_files/promise.min.js.download" type="text/javascript" charset="utf-8"></script>
    <script src="./plots_files/react.production.min.js.download" type="text/javascript"></script>
    <script src="./plots_files/react-dom.production.min.js.download" type="text/javascript"></script>
    <script src="./plots_files/index.js.download" type="text/javascript"></script>
    <script src="./plots_files/require.js.download" type="text/javascript" charset="utf-8"></script>
    <script>
      require.config({
          
          urlArgs: "v=20230327121928",
          
          baseUrl: '/static/',
          paths: {
            'auth/js/main': 'auth/js/main.min',
            custom : '/custom',
            nbextensions : '/nbextensions',
            kernelspecs : '/kernelspecs',
            underscore : 'components/underscore/underscore-min',
            backbone : 'components/backbone/backbone-min',
            jed: 'components/jed/jed',
            jquery: 'components/jquery/jquery.min',
            json: 'components/requirejs-plugins/src/json',
            text: 'components/requirejs-text/text',
            bootstrap: 'components/bootstrap/dist/js/bootstrap.min',
            bootstraptour: 'components/bootstrap-tour/build/js/bootstrap-tour.min',
            'jquery-ui': 'components/jquery-ui/dist/jquery-ui.min',
            moment: 'components/moment/min/moment-with-locales',
            codemirror: 'components/codemirror',
            termjs: 'components/xterm.js/xterm',
            typeahead: 'components/jquery-typeahead/dist/jquery.typeahead.min',
          },
          map: { // for backward compatibility
              "*": {
                  "jqueryui": "jquery-ui",
              }
          },
          shim: {
            typeahead: {
              deps: ["jquery"],
              exports: "typeahead"
            },
            underscore: {
              exports: '_'
            },
            backbone: {
              deps: ["underscore", "jquery"],
              exports: "Backbone"
            },
            bootstrap: {
              deps: ["jquery"],
              exports: "bootstrap"
            },
            bootstraptour: {
              deps: ["bootstrap"],
              exports: "Tour"
            },
            "jquery-ui": {
              deps: ["jquery"],
              exports: "$"
            }
          },
          waitSeconds: 30,
      });

      require.config({
          map: {
              '*':{
                'contents': 'services/contents',
              }
          }
      });

      // error-catching custom.js shim.
      define("custom", function (require, exports, module) {
          try {
              var custom = require('custom/custom');
              console.debug('loaded custom.js');
              return custom;
          } catch (e) {
              console.error("error loading custom.js", e);
              return {};
          }
      })

      // error-catching custom-preload.js shim.
      define("custom-preload", function (require, exports, module) {
          try {
              var custom = require('custom/custom-preload');
              console.debug('loaded custom-preload.js');
              return custom;
          } catch (e) {
              console.error("error loading custom-preload.js", e);
              return {};
          }
      })

    document.nbjs_translations = {"domain": "nbjs", "locale_data": {"nbjs": {"": {"domain": "nbjs"}}}};
    document.documentElement.lang = navigator.language.toLowerCase();
    </script>

    
    

<script type="text/javascript" charset="utf-8" async="" data-requirecontext="_" data-requiremodule="services/contents" src="./plots_files/contents.js.download"></script><script type="text/javascript" charset="utf-8" async="" data-requirecontext="_" data-requiremodule="custom/custom-preload" src="./plots_files/custom-preload.js.download"></script><style type="text/css">.MathJax_Hover_Frame {border-radius: .25em; -webkit-border-radius: .25em; -moz-border-radius: .25em; -khtml-border-radius: .25em; box-shadow: 0px 0px 15px #83A; -webkit-box-shadow: 0px 0px 15px #83A; -moz-box-shadow: 0px 0px 15px #83A; -khtml-box-shadow: 0px 0px 15px #83A; border: 1px solid #A6D ! important; display: inline-block; position: absolute}
.MathJax_Menu_Button .MathJax_Hover_Arrow {position: absolute; cursor: pointer; display: inline-block; border: 2px solid #AAA; border-radius: 4px; -webkit-border-radius: 4px; -moz-border-radius: 4px; -khtml-border-radius: 4px; font-family: 'Courier New',Courier; font-size: 9px; color: #F0F0F0}
.MathJax_Menu_Button .MathJax_Hover_Arrow span {display: block; background-color: #AAA; border: 1px solid; border-radius: 3px; line-height: 0; padding: 4px}
.MathJax_Hover_Arrow:hover {color: white!important; border: 2px solid #CCC!important}
.MathJax_Hover_Arrow:hover span {background-color: #CCC!important}
</style><style type="text/css">#MathJax_About {position: fixed; left: 50%; width: auto; text-align: center; border: 3px outset; padding: 1em 2em; background-color: #DDDDDD; color: black; cursor: default; font-family: message-box; font-size: 120%; font-style: normal; text-indent: 0; text-transform: none; line-height: normal; letter-spacing: normal; word-spacing: normal; word-wrap: normal; white-space: nowrap; float: none; z-index: 201; border-radius: 15px; -webkit-border-radius: 15px; -moz-border-radius: 15px; -khtml-border-radius: 15px; box-shadow: 0px 10px 20px #808080; -webkit-box-shadow: 0px 10px 20px #808080; -moz-box-shadow: 0px 10px 20px #808080; -khtml-box-shadow: 0px 10px 20px #808080; filter: progid:DXImageTransform.Microsoft.dropshadow(OffX=2, OffY=2, Color='gray', Positive='true')}
#MathJax_About.MathJax_MousePost {outline: none}
.MathJax_Menu {position: absolute; background-color: white; color: black; width: auto; padding: 2px; border: 1px solid #CCCCCC; margin: 0; cursor: default; font: menu; text-align: left; text-indent: 0; text-transform: none; line-height: normal; letter-spacing: normal; word-spacing: normal; word-wrap: normal; white-space: nowrap; float: none; z-index: 201; box-shadow: 0px 10px 20px #808080; -webkit-box-shadow: 0px 10px 20px #808080; -moz-box-shadow: 0px 10px 20px #808080; -khtml-box-shadow: 0px 10px 20px #808080; filter: progid:DXImageTransform.Microsoft.dropshadow(OffX=2, OffY=2, Color='gray', Positive='true')}
.MathJax_MenuItem {padding: 2px 2em; background: transparent}
.MathJax_MenuArrow {position: absolute; right: .5em; padding-top: .25em; color: #666666; font-size: .75em}
.MathJax_MenuActive .MathJax_MenuArrow {color: white}
.MathJax_MenuArrow.RTL {left: .5em; right: auto}
.MathJax_MenuCheck {position: absolute; left: .7em}
.MathJax_MenuCheck.RTL {right: .7em; left: auto}
.MathJax_MenuRadioCheck {position: absolute; left: 1em}
.MathJax_MenuRadioCheck.RTL {right: 1em; left: auto}
.MathJax_MenuLabel {padding: 2px 2em 4px 1.33em; font-style: italic}
.MathJax_MenuRule {border-top: 1px solid #CCCCCC; margin: 4px 1px 0px}
.MathJax_MenuDisabled {color: GrayText}
.MathJax_MenuActive {background-color: Highlight; color: HighlightText}
.MathJax_MenuDisabled:focus, .MathJax_MenuLabel:focus {background-color: #E8E8E8}
.MathJax_ContextMenu:focus {outline: none}
.MathJax_ContextMenu .MathJax_MenuItem:focus {outline: none}
#MathJax_AboutClose {top: .2em; right: .2em}
.MathJax_Menu .MathJax_MenuClose {top: -10px; left: -10px}
.MathJax_MenuClose {position: absolute; cursor: pointer; display: inline-block; border: 2px solid #AAA; border-radius: 18px; -webkit-border-radius: 18px; -moz-border-radius: 18px; -khtml-border-radius: 18px; font-family: 'Courier New',Courier; font-size: 24px; color: #F0F0F0}
.MathJax_MenuClose span {display: block; background-color: #AAA; border: 1.5px solid; border-radius: 18px; -webkit-border-radius: 18px; -moz-border-radius: 18px; -khtml-border-radius: 18px; line-height: 0; padding: 8px 0 6px}
.MathJax_MenuClose:hover {color: white!important; border: 2px solid #CCC!important}
.MathJax_MenuClose:hover span {background-color: #CCC!important}
.MathJax_MenuClose:hover:focus {outline: none}
</style><style type="text/css">.MathJax_Preview .MJXf-math {color: inherit!important}
</style><style type="text/css">.MJX_Assistive_MathML {position: absolute!important; top: 0; left: 0; clip: rect(1px, 1px, 1px, 1px); padding: 1px 0 0 0!important; border: 0!important; height: 1px!important; width: 1px!important; overflow: hidden!important; display: block!important; -webkit-touch-callout: none; -webkit-user-select: none; -khtml-user-select: none; -moz-user-select: none; -ms-user-select: none; user-select: none}
.MJX_Assistive_MathML.MJX_Assistive_MathML_Block {width: 100%!important}
</style><style type="text/css">#MathJax_Zoom {position: absolute; background-color: #F0F0F0; overflow: auto; display: block; z-index: 301; padding: .5em; border: 1px solid black; margin: 0; font-weight: normal; font-style: normal; text-align: left; text-indent: 0; text-transform: none; line-height: normal; letter-spacing: normal; word-spacing: normal; word-wrap: normal; white-space: nowrap; float: none; -webkit-box-sizing: content-box; -moz-box-sizing: content-box; box-sizing: content-box; box-shadow: 5px 5px 15px #AAAAAA; -webkit-box-shadow: 5px 5px 15px #AAAAAA; -moz-box-shadow: 5px 5px 15px #AAAAAA; -khtml-box-shadow: 5px 5px 15px #AAAAAA; filter: progid:DXImageTransform.Microsoft.dropshadow(OffX=2, OffY=2, Color='gray', Positive='true')}
#MathJax_ZoomOverlay {position: absolute; left: 0; top: 0; z-index: 300; display: inline-block; width: 100%; height: 100%; border: 0; padding: 0; margin: 0; background-color: white; opacity: 0; filter: alpha(opacity=0)}
#MathJax_ZoomFrame {position: relative; display: inline-block; height: 0; width: 0}
#MathJax_ZoomEventTrap {position: absolute; left: 0; top: 0; z-index: 302; display: inline-block; border: 0; padding: 0; margin: 0; background-color: white; opacity: 0; filter: alpha(opacity=0)}
</style><style type="text/css">.MathJax_Preview {color: #888; display: contents}
#MathJax_Message {position: fixed; left: 1em; bottom: 1.5em; background-color: #E6E6E6; border: 1px solid #959595; margin: 0px; padding: 2px 8px; z-index: 102; color: black; font-size: 80%; width: auto; white-space: nowrap}
#MathJax_MSIE_Frame {position: absolute; top: 0; left: 0; width: 0px; z-index: 101; border: 0px; margin: 0px; padding: 0px}
.MathJax_Error {color: #CC0000; font-style: italic}
</style><script type="text/javascript" charset="utf-8" async="" data-requirecontext="_" data-requiremodule="custom/custom" src="./plots_files/custom.js.download"></script><style type="text/css">div.MathJax_MathML {text-align: center; margin: .75em 0px; display: block!important}
.MathJax_MathML {font-style: normal; font-weight: normal; line-height: normal; font-size: 100%; font-size-adjust: none; text-indent: 0; text-align: left; text-transform: none; letter-spacing: normal; word-spacing: normal; word-wrap: normal; white-space: nowrap; float: none; direction: ltr; max-width: none; max-height: none; min-width: 0; min-height: 0; border: 0; padding: 0; margin: 0}
span.MathJax_MathML {display: inline!important}
.MathJax_mmlExBox {display: block!important; overflow: hidden; height: 1px; width: 60ex; min-height: 0; max-height: none; padding: 0; border: 0; margin: 0}
[class="MJX-tex-oldstyle"] {font-family: MathJax_Caligraphic, MathJax_Caligraphic-WEB}
[class="MJX-tex-oldstyle-bold"] {font-family: MathJax_Caligraphic, MathJax_Caligraphic-WEB; font-weight: bold}
[class="MJX-tex-caligraphic"] {font-family: MathJax_Caligraphic, MathJax_Caligraphic-WEB}
[class="MJX-tex-caligraphic-bold"] {font-family: MathJax_Caligraphic, MathJax_Caligraphic-WEB; font-weight: bold}
@font-face /*1*/ {font-family: MathJax_Caligraphic-WEB; src: url('http://localhost:8890/static/components/MathJax/fonts/HTML-CSS/TeX/otf/MathJax_Caligraphic-Regular.otf')}
@font-face /*2*/ {font-family: MathJax_Caligraphic-WEB; font-weight: bold; src: url('http://localhost:8890/static/components/MathJax/fonts/HTML-CSS/TeX/otf/MathJax_Caligraphic-Bold.otf')}
[mathvariant="double-struck"] {font-family: MathJax_AMS, MathJax_AMS-WEB}
[mathvariant="script"] {font-family: MathJax_Script, MathJax_Script-WEB}
[mathvariant="fraktur"] {font-family: MathJax_Fraktur, MathJax_Fraktur-WEB}
[mathvariant="bold-script"] {font-family: MathJax_Script, MathJax_Caligraphic-WEB; font-weight: bold}
[mathvariant="bold-fraktur"] {font-family: MathJax_Fraktur, MathJax_Fraktur-WEB; font-weight: bold}
[mathvariant="monospace"] {font-family: monospace}
[mathvariant="sans-serif"] {font-family: sans-serif}
[mathvariant="bold-sans-serif"] {font-family: sans-serif; font-weight: bold}
[mathvariant="sans-serif-italic"] {font-family: sans-serif; font-style: italic}
[mathvariant="sans-serif-bold-italic"] {font-family: sans-serif; font-style: italic; font-weight: bold}
@font-face /*3*/ {font-family: MathJax_AMS-WEB; src: url('http://localhost:8890/static/components/MathJax/fonts/HTML-CSS/TeX/otf/MathJax_AMS-Regular.otf')}
@font-face /*4*/ {font-family: MathJax_Script-WEB; src: url('http://localhost:8890/static/components/MathJax/fonts/HTML-CSS/TeX/otf/MathJax_Script-Regular.otf')}
@font-face /*5*/ {font-family: MathJax_Fraktur-WEB; src: url('http://localhost:8890/static/components/MathJax/fonts/HTML-CSS/TeX/otf/MathJax_Fraktur-Regular.otf')}
@font-face /*6*/ {font-family: MathJax_Fraktur-WEB; font-weight: bold; src: url('http://localhost:8890/static/components/MathJax/fonts/HTML-CSS/TeX/otf/MathJax_Fraktur-Bold.otf')}
</style><style type="text/css">.MJXp-script {font-size: .8em}
.MJXp-right {-webkit-transform-origin: right; -moz-transform-origin: right; -ms-transform-origin: right; -o-transform-origin: right; transform-origin: right}
.MJXp-bold {font-weight: bold}
.MJXp-italic {font-style: italic}
.MJXp-scr {font-family: MathJax_Script,'Times New Roman',Times,STIXGeneral,serif}
.MJXp-frak {font-family: MathJax_Fraktur,'Times New Roman',Times,STIXGeneral,serif}
.MJXp-sf {font-family: MathJax_SansSerif,'Times New Roman',Times,STIXGeneral,serif}
.MJXp-cal {font-family: MathJax_Caligraphic,'Times New Roman',Times,STIXGeneral,serif}
.MJXp-mono {font-family: MathJax_Typewriter,'Times New Roman',Times,STIXGeneral,serif}
.MJXp-largeop {font-size: 150%}
.MJXp-largeop.MJXp-int {vertical-align: -.2em}
.MJXp-math {display: inline-block; line-height: 1.2; text-indent: 0; font-family: 'Times New Roman',Times,STIXGeneral,serif; white-space: nowrap; border-collapse: collapse}
.MJXp-display {display: block; text-align: center; margin: 1em 0}
.MJXp-math span {display: inline-block}
.MJXp-box {display: block!important; text-align: center}
.MJXp-box:after {content: " "}
.MJXp-rule {display: block!important; margin-top: .1em}
.MJXp-char {display: block!important}
.MJXp-mo {margin: 0 .15em}
.MJXp-mfrac {margin: 0 .125em; vertical-align: .25em}
.MJXp-denom {display: inline-table!important; width: 100%}
.MJXp-denom > * {display: table-row!important}
.MJXp-surd {vertical-align: top}
.MJXp-surd > * {display: block!important}
.MJXp-script-box > *  {display: table!important; height: 50%}
.MJXp-script-box > * > * {display: table-cell!important; vertical-align: top}
.MJXp-script-box > *:last-child > * {vertical-align: bottom}
.MJXp-script-box > * > * > * {display: block!important}
.MJXp-mphantom {visibility: hidden}
.MJXp-munderover, .MJXp-munder {display: inline-table!important}
.MJXp-over {display: inline-block!important; text-align: center}
.MJXp-over > * {display: block!important}
.MJXp-munderover > *, .MJXp-munder > * {display: table-row!important}
.MJXp-mtable {vertical-align: .25em; margin: 0 .125em}
.MJXp-mtable > * {display: inline-table!important; vertical-align: middle}
.MJXp-mtr {display: table-row!important}
.MJXp-mtd {display: table-cell!important; text-align: center; padding: .5em 0 0 .5em}
.MJXp-mtr > .MJXp-mtd:first-child {padding-left: 0}
.MJXp-mtr:first-child > .MJXp-mtd {padding-top: 0}
.MJXp-mlabeledtr {display: table-row!important}
.MJXp-mlabeledtr > .MJXp-mtd:first-child {padding-left: 0}
.MJXp-mlabeledtr:first-child > .MJXp-mtd {padding-top: 0}
.MJXp-merror {background-color: #FFFF88; color: #CC0000; border: 1px solid #CC0000; padding: 1px 3px; font-style: normal; font-size: 90%}
.MJXp-scale0 {-webkit-transform: scaleX(.0); -moz-transform: scaleX(.0); -ms-transform: scaleX(.0); -o-transform: scaleX(.0); transform: scaleX(.0)}
.MJXp-scale1 {-webkit-transform: scaleX(.1); -moz-transform: scaleX(.1); -ms-transform: scaleX(.1); -o-transform: scaleX(.1); transform: scaleX(.1)}
.MJXp-scale2 {-webkit-transform: scaleX(.2); -moz-transform: scaleX(.2); -ms-transform: scaleX(.2); -o-transform: scaleX(.2); transform: scaleX(.2)}
.MJXp-scale3 {-webkit-transform: scaleX(.3); -moz-transform: scaleX(.3); -ms-transform: scaleX(.3); -o-transform: scaleX(.3); transform: scaleX(.3)}
.MJXp-scale4 {-webkit-transform: scaleX(.4); -moz-transform: scaleX(.4); -ms-transform: scaleX(.4); -o-transform: scaleX(.4); transform: scaleX(.4)}
.MJXp-scale5 {-webkit-transform: scaleX(.5); -moz-transform: scaleX(.5); -ms-transform: scaleX(.5); -o-transform: scaleX(.5); transform: scaleX(.5)}
.MJXp-scale6 {-webkit-transform: scaleX(.6); -moz-transform: scaleX(.6); -ms-transform: scaleX(.6); -o-transform: scaleX(.6); transform: scaleX(.6)}
.MJXp-scale7 {-webkit-transform: scaleX(.7); -moz-transform: scaleX(.7); -ms-transform: scaleX(.7); -o-transform: scaleX(.7); transform: scaleX(.7)}
.MJXp-scale8 {-webkit-transform: scaleX(.8); -moz-transform: scaleX(.8); -ms-transform: scaleX(.8); -o-transform: scaleX(.8); transform: scaleX(.8)}
.MJXp-scale9 {-webkit-transform: scaleX(.9); -moz-transform: scaleX(.9); -ms-transform: scaleX(.9); -o-transform: scaleX(.9); transform: scaleX(.9)}
.MathJax_PHTML .noError {vertical-align: ; font-size: 90%; text-align: left; color: black; padding: 1px 3px; border: 1px solid}
</style><script type="text/javascript" charset="utf-8" async="" data-requirecontext="_" data-requiremodule="nbextensions/jupyter_dash/main" src="./plots_files/main.js.download"></script><script type="text/javascript" charset="utf-8" async="" data-requirecontext="_" data-requiremodule="nbextensions/jupyterlab-plotly/extension" src="./plots_files/extension.js.download"></script><script type="text/javascript" charset="utf-8" async="" data-requirecontext="_" data-requiremodule="nbextensions/jupyter-js-widgets/extension" src="./plots_files/extension.js(1).download"></script><style type="text/css">.MathJax_Display {text-align: center; margin: 0; position: relative; display: block!important; text-indent: 0; max-width: none; max-height: none; min-width: 0; min-height: 0; width: 100%}
.MathJax .merror {background-color: #FFFF88; color: #CC0000; border: 1px solid #CC0000; padding: 1px 3px; font-style: normal; font-size: 90%}
.MathJax .MJX-monospace {font-family: monospace}
.MathJax .MJX-sans-serif {font-family: sans-serif}
#MathJax_Tooltip {background-color: InfoBackground; color: InfoText; border: 1px solid black; box-shadow: 2px 2px 5px #AAAAAA; -webkit-box-shadow: 2px 2px 5px #AAAAAA; -moz-box-shadow: 2px 2px 5px #AAAAAA; -khtml-box-shadow: 2px 2px 5px #AAAAAA; filter: progid:DXImageTransform.Microsoft.dropshadow(OffX=2, OffY=2, Color='gray', Positive='true'); padding: 3px 4px; z-index: 401; position: absolute; left: 0; top: 0; width: auto; height: auto; display: none}
.MathJax {display: inline; font-style: normal; font-weight: normal; line-height: normal; font-size: 100%; font-size-adjust: none; text-indent: 0; text-align: left; text-transform: none; letter-spacing: normal; word-spacing: normal; word-wrap: normal; white-space: nowrap; float: none; direction: ltr; max-width: none; max-height: none; min-width: 0; min-height: 0; border: 0; padding: 0; margin: 0}
.MathJax:focus, body :focus .MathJax {display: inline-table}
.MathJax.MathJax_FullWidth {text-align: center; display: table-cell!important; width: 10000em!important}
.MathJax img, .MathJax nobr, .MathJax a {border: 0; padding: 0; margin: 0; max-width: none; max-height: none; min-width: 0; min-height: 0; vertical-align: 0; line-height: normal; text-decoration: none}
img.MathJax_strut {border: 0!important; padding: 0!important; margin: 0!important; vertical-align: 0!important}
.MathJax span {display: inline; position: static; border: 0; padding: 0; margin: 0; vertical-align: 0; line-height: normal; text-decoration: none; box-sizing: content-box}
.MathJax nobr {white-space: nowrap!important}
.MathJax img {display: inline!important; float: none!important}
.MathJax * {transition: none; -webkit-transition: none; -moz-transition: none; -ms-transition: none; -o-transition: none}
.MathJax_Processing {visibility: hidden; position: fixed; width: 0; height: 0; overflow: hidden}
.MathJax_Processed {display: none!important}
.MathJax_test {font-style: normal; font-weight: normal; font-size: 100%; font-size-adjust: none; text-indent: 0; text-transform: none; letter-spacing: normal; word-spacing: normal; overflow: hidden; height: 1px}
.MathJax_test.mjx-test-display {display: table!important}
.MathJax_test.mjx-test-inline {display: inline!important; margin-right: -1px}
.MathJax_test.mjx-test-default {display: block!important; clear: both}
.MathJax_ex_box {display: inline-block!important; position: absolute; overflow: hidden; min-height: 0; max-height: none; padding: 0; border: 0; margin: 0; width: 1px; height: 60ex}
.MathJax_em_box {display: inline-block!important; position: absolute; overflow: hidden; min-height: 0; max-height: none; padding: 0; border: 0; margin: 0; width: 1px; height: 60em}
.mjx-test-inline .MathJax_left_box {display: inline-block; width: 0; float: left}
.mjx-test-inline .MathJax_right_box {display: inline-block; width: 0; float: right}
.mjx-test-display .MathJax_right_box {display: table-cell!important; width: 10000em!important; min-width: 0; max-width: none; padding: 0; border: 0; margin: 0}
.MathJax .MathJax_HitBox {cursor: text; background: white; opacity: 0; filter: alpha(opacity=0)}
.MathJax .MathJax_HitBox * {filter: none; opacity: 1; background: transparent}
#MathJax_Tooltip * {filter: none; opacity: 1; background: transparent}
@font-face {font-family: MathJax_Blank; src: url('about:blank')}
.MathJax .noError {vertical-align: ; font-size: 90%; text-align: left; color: black; padding: 1px 3px; border: 1px solid}
</style><style>/*
 * Copyright (c) Jupyter Development Team.
 * Distributed under the terms of the Modified BSD License.
 */

/* Override the correction for the prompt area in https://github.com/jupyter/notebook/blob/dd41d9fd5c4f698bd7468612d877828a7eeb0e7a/IPython/html/static/notebook/less/outputarea.less#L110 */
.jupyter-widgets-output-area div.output_subarea {
    max-width: 100%;
}

/* Work-around for the bug fixed in https://github.com/jupyter/notebook/pull/2961 */
.jupyter-widgets-output-area > .out_prompt_overlay {
    display: none;
}
</style><style>/*-----------------------------------------------------------------------------
| Copyright (c) Jupyter Development Team.
| Copyright (c) 2014-2017, PhosphorJS Contributors
|
| Distributed under the terms of the BSD 3-Clause License.
|
| The full license is in the file LICENSE, distributed with this software.
|----------------------------------------------------------------------------*/

/* <DEPRECATED> */
.p-Widget, /* </DEPRECATED> */
.lm-Widget {
  box-sizing: border-box;
  position: relative;
  overflow: hidden;
  cursor: default;
}

/* <DEPRECATED> */
.p-Widget.p-mod-hidden, /* </DEPRECATED> */
.lm-Widget.lm-mod-hidden {
  display: none !important;
}
</style><style>.lm-AccordionPanel[data-orientation='horizontal'] > .lm-AccordionPanel-title {
  /* Title is rotated for horizontal accordion panel using CSS */
  display: block;
  transform-origin: top left;
  transform: rotate(-90deg) translate(-100%);
}
</style><style>/*-----------------------------------------------------------------------------
| Copyright (c) Jupyter Development Team.
| Copyright (c) 2014-2017, PhosphorJS Contributors
|
| Distributed under the terms of the BSD 3-Clause License.
|
| The full license is in the file LICENSE, distributed with this software.
|----------------------------------------------------------------------------*/

/* <DEPRECATED> */
.p-CommandPalette, /* </DEPRECATED> */
.lm-CommandPalette {
  display: flex;
  flex-direction: column;
  -webkit-user-select: none;
  -moz-user-select: none;
  -ms-user-select: none;
  user-select: none;
}

/* <DEPRECATED> */
.p-CommandPalette-search, /* </DEPRECATED> */
.lm-CommandPalette-search {
  flex: 0 0 auto;
}

/* <DEPRECATED> */
.p-CommandPalette-content, /* </DEPRECATED> */
.lm-CommandPalette-content {
  flex: 1 1 auto;
  margin: 0;
  padding: 0;
  min-height: 0;
  overflow: auto;
  list-style-type: none;
}

/* <DEPRECATED> */
.p-CommandPalette-header, /* </DEPRECATED> */
.lm-CommandPalette-header {
  overflow: hidden;
  white-space: nowrap;
  text-overflow: ellipsis;
}

/* <DEPRECATED> */
.p-CommandPalette-item, /* </DEPRECATED> */
.lm-CommandPalette-item {
  display: flex;
  flex-direction: row;
}

/* <DEPRECATED> */
.p-CommandPalette-itemIcon, /* </DEPRECATED> */
.lm-CommandPalette-itemIcon {
  flex: 0 0 auto;
}

/* <DEPRECATED> */
.p-CommandPalette-itemContent, /* </DEPRECATED> */
.lm-CommandPalette-itemContent {
  flex: 1 1 auto;
  overflow: hidden;
}

/* <DEPRECATED> */
.p-CommandPalette-itemShortcut, /* </DEPRECATED> */
.lm-CommandPalette-itemShortcut {
  flex: 0 0 auto;
}

/* <DEPRECATED> */
.p-CommandPalette-itemLabel, /* </DEPRECATED> */
.lm-CommandPalette-itemLabel {
  overflow: hidden;
  white-space: nowrap;
  text-overflow: ellipsis;
}

.lm-close-icon {
  border: 1px solid transparent;
  background-color: transparent;
  position: absolute;
  z-index: 1;
  right: 3%;
  top: 0;
  bottom: 0;
  margin: auto;
  padding: 7px 0;
  display: none;
  vertical-align: middle;
  outline: 0;
  cursor: pointer;
}
.lm-close-icon:after {
  content: 'X';
  display: block;
  width: 15px;
  height: 15px;
  text-align: center;
  color: #000;
  font-weight: normal;
  font-size: 12px;
  cursor: pointer;
}
</style><style>/*-----------------------------------------------------------------------------
| Copyright (c) Jupyter Development Team.
| Copyright (c) 2014-2017, PhosphorJS Contributors
|
| Distributed under the terms of the BSD 3-Clause License.
|
| The full license is in the file LICENSE, distributed with this software.
|----------------------------------------------------------------------------*/

/* <DEPRECATED> */
.p-DockPanel, /* </DEPRECATED> */
.lm-DockPanel {
  z-index: 0;
}

/* <DEPRECATED> */
.p-DockPanel-widget, /* </DEPRECATED> */
.lm-DockPanel-widget {
  z-index: 0;
}

/* <DEPRECATED> */
.p-DockPanel-tabBar, /* </DEPRECATED> */
.lm-DockPanel-tabBar {
  z-index: 1;
}

/* <DEPRECATED> */
.p-DockPanel-handle, /* </DEPRECATED> */
.lm-DockPanel-handle {
  z-index: 2;
}

/* <DEPRECATED> */
.p-DockPanel-handle.p-mod-hidden, /* </DEPRECATED> */
.lm-DockPanel-handle.lm-mod-hidden {
  display: none !important;
}

/* <DEPRECATED> */
.p-DockPanel-handle:after, /* </DEPRECATED> */
.lm-DockPanel-handle:after {
  position: absolute;
  top: 0;
  left: 0;
  width: 100%;
  height: 100%;
  content: '';
}

/* <DEPRECATED> */
.p-DockPanel-handle[data-orientation='horizontal'],
/* </DEPRECATED> */
.lm-DockPanel-handle[data-orientation='horizontal'] {
  cursor: ew-resize;
}

/* <DEPRECATED> */
.p-DockPanel-handle[data-orientation='vertical'],
/* </DEPRECATED> */
.lm-DockPanel-handle[data-orientation='vertical'] {
  cursor: ns-resize;
}

/* <DEPRECATED> */
.p-DockPanel-handle[data-orientation='horizontal']:after,
/* </DEPRECATED> */
.lm-DockPanel-handle[data-orientation='horizontal']:after {
  left: 50%;
  min-width: 8px;
  transform: translateX(-50%);
}

/* <DEPRECATED> */
.p-DockPanel-handle[data-orientation='vertical']:after,
/* </DEPRECATED> */
.lm-DockPanel-handle[data-orientation='vertical']:after {
  top: 50%;
  min-height: 8px;
  transform: translateY(-50%);
}

/* <DEPRECATED> */
.p-DockPanel-overlay, /* </DEPRECATED> */
.lm-DockPanel-overlay {
  z-index: 3;
  box-sizing: border-box;
  pointer-events: none;
}

/* <DEPRECATED> */
.p-DockPanel-overlay.p-mod-hidden, /* </DEPRECATED> */
.lm-DockPanel-overlay.lm-mod-hidden {
  display: none !important;
}
</style><style>/*-----------------------------------------------------------------------------
| Copyright (c) Jupyter Development Team.
| Copyright (c) 2014-2017, PhosphorJS Contributors
|
| Distributed under the terms of the BSD 3-Clause License.
|
| The full license is in the file LICENSE, distributed with this software.
|----------------------------------------------------------------------------*/

/* <DEPRECATED> */
.p-Menu, /* </DEPRECATED> */
.lm-Menu {
  z-index: 10000;
  position: absolute;
  white-space: nowrap;
  overflow-x: hidden;
  overflow-y: auto;
  outline: none;
  -webkit-user-select: none;
  -moz-user-select: none;
  -ms-user-select: none;
  user-select: none;
}

/* <DEPRECATED> */
.p-Menu-content, /* </DEPRECATED> */
.lm-Menu-content {
  margin: 0;
  padding: 0;
  display: table;
  list-style-type: none;
}

/* <DEPRECATED> */
.p-Menu-item, /* </DEPRECATED> */
.lm-Menu-item {
  display: table-row;
}

/* <DEPRECATED> */
.p-Menu-item.p-mod-hidden,
.p-Menu-item.p-mod-collapsed,
/* </DEPRECATED> */
.lm-Menu-item.lm-mod-hidden,
.lm-Menu-item.lm-mod-collapsed {
  display: none !important;
}

/* <DEPRECATED> */
.p-Menu-itemIcon,
.p-Menu-itemSubmenuIcon,
/* </DEPRECATED> */
.lm-Menu-itemIcon,
.lm-Menu-itemSubmenuIcon {
  display: table-cell;
  text-align: center;
}

/* <DEPRECATED> */
.p-Menu-itemLabel, /* </DEPRECATED> */
.lm-Menu-itemLabel {
  display: table-cell;
  text-align: left;
}

/* <DEPRECATED> */
.p-Menu-itemShortcut, /* </DEPRECATED> */
.lm-Menu-itemShortcut {
  display: table-cell;
  text-align: right;
}
</style><style>/*-----------------------------------------------------------------------------
| Copyright (c) Jupyter Development Team.
| Copyright (c) 2014-2017, PhosphorJS Contributors
|
| Distributed under the terms of the BSD 3-Clause License.
|
| The full license is in the file LICENSE, distributed with this software.
|----------------------------------------------------------------------------*/

/* <DEPRECATED> */
.p-MenuBar, /* </DEPRECATED> */
.lm-MenuBar {
  outline: none;
  -webkit-user-select: none;
  -moz-user-select: none;
  -ms-user-select: none;
  user-select: none;
}

/* <DEPRECATED> */
.p-MenuBar-content, /* </DEPRECATED> */
.lm-MenuBar-content {
  margin: 0;
  padding: 0;
  display: flex;
  flex-direction: row;
  list-style-type: none;
}

/* <DEPRECATED> */
.p--MenuBar-item, /* </DEPRECATED> */
.lm-MenuBar-item {
  box-sizing: border-box;
}

/* <DEPRECATED> */
.p-MenuBar-itemIcon,
.p-MenuBar-itemLabel,
/* </DEPRECATED> */
.lm-MenuBar-itemIcon,
.lm-MenuBar-itemLabel {
  display: inline-block;
}
</style><style>/*-----------------------------------------------------------------------------
| Copyright (c) Jupyter Development Team.
| Copyright (c) 2014-2017, PhosphorJS Contributors
|
| Distributed under the terms of the BSD 3-Clause License.
|
| The full license is in the file LICENSE, distributed with this software.
|----------------------------------------------------------------------------*/

/* <DEPRECATED> */
.p-ScrollBar, /* </DEPRECATED> */
.lm-ScrollBar {
  display: flex;
  -webkit-user-select: none;
  -moz-user-select: none;
  -ms-user-select: none;
  user-select: none;
}

/* <DEPRECATED> */
.p-ScrollBar[data-orientation='horizontal'],
/* </DEPRECATED> */
.lm-ScrollBar[data-orientation='horizontal'] {
  flex-direction: row;
}

/* <DEPRECATED> */
.p-ScrollBar[data-orientation='vertical'],
/* </DEPRECATED> */
.lm-ScrollBar[data-orientation='vertical'] {
  flex-direction: column;
}

/* <DEPRECATED> */
.p-ScrollBar-button, /* </DEPRECATED> */
.lm-ScrollBar-button {
  box-sizing: border-box;
  flex: 0 0 auto;
}

/* <DEPRECATED> */
.p-ScrollBar-track, /* </DEPRECATED> */
.lm-ScrollBar-track {
  box-sizing: border-box;
  position: relative;
  overflow: hidden;
  flex: 1 1 auto;
}

/* <DEPRECATED> */
.p-ScrollBar-thumb, /* </DEPRECATED> */
.lm-ScrollBar-thumb {
  box-sizing: border-box;
  position: absolute;
}
</style><style>/*-----------------------------------------------------------------------------
| Copyright (c) Jupyter Development Team.
| Copyright (c) 2014-2017, PhosphorJS Contributors
|
| Distributed under the terms of the BSD 3-Clause License.
|
| The full license is in the file LICENSE, distributed with this software.
|----------------------------------------------------------------------------*/

/* <DEPRECATED> */
.p-SplitPanel-child, /* </DEPRECATED> */
.lm-SplitPanel-child {
  z-index: 0;
}

/* <DEPRECATED> */
.p-SplitPanel-handle, /* </DEPRECATED> */
.lm-SplitPanel-handle {
  z-index: 1;
}

/* <DEPRECATED> */
.p-SplitPanel-handle.p-mod-hidden, /* </DEPRECATED> */
.lm-SplitPanel-handle.lm-mod-hidden {
  display: none !important;
}

/* <DEPRECATED> */
.p-SplitPanel-handle:after, /* </DEPRECATED> */
.lm-SplitPanel-handle:after {
  position: absolute;
  top: 0;
  left: 0;
  width: 100%;
  height: 100%;
  content: '';
}

/* <DEPRECATED> */
.p-SplitPanel[data-orientation='horizontal'] > .p-SplitPanel-handle,
/* </DEPRECATED> */
.lm-SplitPanel[data-orientation='horizontal'] > .lm-SplitPanel-handle {
  cursor: ew-resize;
}

/* <DEPRECATED> */
.p-SplitPanel[data-orientation='vertical'] > .p-SplitPanel-handle,
/* </DEPRECATED> */
.lm-SplitPanel[data-orientation='vertical'] > .lm-SplitPanel-handle {
  cursor: ns-resize;
}

/* <DEPRECATED> */
.p-SplitPanel[data-orientation='horizontal'] > .p-SplitPanel-handle:after,
/* </DEPRECATED> */
.lm-SplitPanel[data-orientation='horizontal'] > .lm-SplitPanel-handle:after {
  left: 50%;
  min-width: 8px;
  transform: translateX(-50%);
}

/* <DEPRECATED> */
.p-SplitPanel[data-orientation='vertical'] > .p-SplitPanel-handle:after,
/* </DEPRECATED> */
.lm-SplitPanel[data-orientation='vertical'] > .lm-SplitPanel-handle:after {
  top: 50%;
  min-height: 8px;
  transform: translateY(-50%);
}
</style><style>/*-----------------------------------------------------------------------------
| Copyright (c) Jupyter Development Team.
| Copyright (c) 2014-2017, PhosphorJS Contributors
|
| Distributed under the terms of the BSD 3-Clause License.
|
| The full license is in the file LICENSE, distributed with this software.
|----------------------------------------------------------------------------*/

/* <DEPRECATED> */
.p-TabBar, /* </DEPRECATED> */
.lm-TabBar {
  display: flex;
  -webkit-user-select: none;
  -moz-user-select: none;
  -ms-user-select: none;
  user-select: none;
}

/* <DEPRECATED> */
.p-TabBar[data-orientation='horizontal'], /* </DEPRECATED> */
.lm-TabBar[data-orientation='horizontal'] {
  flex-direction: row;
  align-items: flex-end;
}

/* <DEPRECATED> */
.p-TabBar[data-orientation='vertical'], /* </DEPRECATED> */
.lm-TabBar[data-orientation='vertical'] {
  flex-direction: column;
  align-items: flex-end;
}

/* <DEPRECATED> */
.p-TabBar-content, /* </DEPRECATED> */
.lm-TabBar-content {
  margin: 0;
  padding: 0;
  display: flex;
  flex: 1 1 auto;
  list-style-type: none;
}

/* <DEPRECATED> */
.p-TabBar[data-orientation='horizontal'] > .p-TabBar-content,
/* </DEPRECATED> */
.lm-TabBar[data-orientation='horizontal'] > .lm-TabBar-content {
  flex-direction: row;
}

/* <DEPRECATED> */
.p-TabBar[data-orientation='vertical'] > .p-TabBar-content,
/* </DEPRECATED> */
.lm-TabBar[data-orientation='vertical'] > .lm-TabBar-content {
  flex-direction: column;
}

/* <DEPRECATED> */
.p-TabBar-tab, /* </DEPRECATED> */
.lm-TabBar-tab {
  display: flex;
  flex-direction: row;
  box-sizing: border-box;
  overflow: hidden;
  touch-action: none; /* Disable native Drag/Drop */
}

/* <DEPRECATED> */
.p-TabBar-tabIcon,
.p-TabBar-tabCloseIcon,
/* </DEPRECATED> */
.lm-TabBar-tabIcon,
.lm-TabBar-tabCloseIcon {
  flex: 0 0 auto;
}

/* <DEPRECATED> */
.p-TabBar-tabLabel, /* </DEPRECATED> */
.lm-TabBar-tabLabel {
  flex: 1 1 auto;
  overflow: hidden;
  white-space: nowrap;
}

.lm-TabBar-tabInput {
  user-select: all;
  width: 100%;
  box-sizing: border-box;
}

/* <DEPRECATED> */
.p-TabBar-tab.p-mod-hidden, /* </DEPRECATED> */
.lm-TabBar-tab.lm-mod-hidden {
  display: none !important;
}

.lm-TabBar-addButton.lm-mod-hidden {
  display: none !important;
}

/* <DEPRECATED> */
.p-TabBar.p-mod-dragging .p-TabBar-tab, /* </DEPRECATED> */
.lm-TabBar.lm-mod-dragging .lm-TabBar-tab {
  position: relative;
}

/* <DEPRECATED> */
.p-TabBar.p-mod-dragging[data-orientation='horizontal'] .p-TabBar-tab,
/* </DEPRECATED> */
.lm-TabBar.lm-mod-dragging[data-orientation='horizontal'] .lm-TabBar-tab {
  left: 0;
  transition: left 150ms ease;
}

/* <DEPRECATED> */
.p-TabBar.p-mod-dragging[data-orientation='vertical'] .p-TabBar-tab,
/* </DEPRECATED> */
.lm-TabBar.lm-mod-dragging[data-orientation='vertical'] .lm-TabBar-tab {
  top: 0;
  transition: top 150ms ease;
}

/* <DEPRECATED> */
.p-TabBar.p-mod-dragging .p-TabBar-tab.p-mod-dragging,
/* </DEPRECATED> */
.lm-TabBar.lm-mod-dragging .lm-TabBar-tab.lm-mod-dragging {
  transition: none;
}

.lm-TabBar-tabLabel .lm-TabBar-tabInput {
  user-select: all;
  width: 100%;
  box-sizing: border-box;
  background: inherit;
}
</style><style>/*-----------------------------------------------------------------------------
| Copyright (c) Jupyter Development Team.
| Copyright (c) 2014-2017, PhosphorJS Contributors
|
| Distributed under the terms of the BSD 3-Clause License.
|
| The full license is in the file LICENSE, distributed with this software.
|----------------------------------------------------------------------------*/

/* <DEPRECATED> */
.p-TabPanel-tabBar, /* </DEPRECATED> */
.lm-TabPanel-tabBar {
  z-index: 1;
}

/* <DEPRECATED> */
.p-TabPanel-stackedPanel, /* </DEPRECATED> */
.lm-TabPanel-stackedPanel {
  z-index: 0;
}
</style><style>/*-----------------------------------------------------------------------------
| Copyright (c) Jupyter Development Team.
| Copyright (c) 2014-2017, PhosphorJS Contributors
|
| Distributed under the terms of the BSD 3-Clause License.
|
| The full license is in the file LICENSE, distributed with this software.
|----------------------------------------------------------------------------*/
</style><style>/* Copyright (c) Jupyter Development Team.
 * Distributed under the terms of the Modified BSD License.
 */

 .jupyter-widgets-disconnected::before {
    content: "\f127"; /* chain-broken */
    display: inline-block;
    font: normal normal normal 14px/1 FontAwesome;
    font-size: inherit;
    text-rendering: auto;
    -webkit-font-smoothing: antialiased;
    -moz-osx-font-smoothing: grayscale;
    color: #d9534f;
    padding: 3px;
    align-self: flex-start;
}
</style><style>/**
 * The material design colors are adapted from google-material-color v1.2.6
 * https://github.com/danlevan/google-material-color
 * https://github.com/danlevan/google-material-color/blob/f67ca5f4028b2f1b34862f64b0ca67323f91b088/dist/palette.var.css
 *
 * The license for the material design color CSS variables is as follows (see
 * https://github.com/danlevan/google-material-color/blob/f67ca5f4028b2f1b34862f64b0ca67323f91b088/LICENSE)
 *
 * The MIT License (MIT)
 *
 * Copyright (c) 2014 Dan Le Van
 *
 * Permission is hereby granted, free of charge, to any person obtaining a copy
 * of this software and associated documentation files (the "Software"), to deal
 * in the Software without restriction, including without limitation the rights
 * to use, copy, modify, merge, publish, distribute, sublicense, and/or sell
 * copies of the Software, and to permit persons to whom the Software is
 * furnished to do so, subject to the following conditions:
 *
 * The above copyright notice and this permission notice shall be included in
 * all copies or substantial portions of the Software.
 *
 * THE SOFTWARE IS PROVIDED "AS IS", WITHOUT WARRANTY OF ANY KIND, EXPRESS OR
 * IMPLIED, INCLUDING BUT NOT LIMITED TO THE WARRANTIES OF MERCHANTABILITY,
 * FITNESS FOR A PARTICULAR PURPOSE AND NONINFRINGEMENT. IN NO EVENT SHALL THE
 * AUTHORS OR COPYRIGHT HOLDERS BE LIABLE FOR ANY CLAIM, DAMAGES OR OTHER
 * LIABILITY, WHETHER IN AN ACTION OF CONTRACT, TORT OR OTHERWISE, ARISING FROM,
 * OUT OF OR IN CONNECTION WITH THE SOFTWARE OR THE USE OR OTHER DEALINGS IN THE
 * SOFTWARE.
 */
:root {
  --md-red-50: #FFEBEE;
  --md-red-100: #FFCDD2;
  --md-red-200: #EF9A9A;
  --md-red-300: #E57373;
  --md-red-400: #EF5350;
  --md-red-500: #F44336;
  --md-red-600: #E53935;
  --md-red-700: #D32F2F;
  --md-red-800: #C62828;
  --md-red-900: #B71C1C;
  --md-red-A100: #FF8A80;
  --md-red-A200: #FF5252;
  --md-red-A400: #FF1744;
  --md-red-A700: #D50000;

  --md-pink-50: #FCE4EC;
  --md-pink-100: #F8BBD0;
  --md-pink-200: #F48FB1;
  --md-pink-300: #F06292;
  --md-pink-400: #EC407A;
  --md-pink-500: #E91E63;
  --md-pink-600: #D81B60;
  --md-pink-700: #C2185B;
  --md-pink-800: #AD1457;
  --md-pink-900: #880E4F;
  --md-pink-A100: #FF80AB;
  --md-pink-A200: #FF4081;
  --md-pink-A400: #F50057;
  --md-pink-A700: #C51162;

  --md-purple-50: #F3E5F5;
  --md-purple-100: #E1BEE7;
  --md-purple-200: #CE93D8;
  --md-purple-300: #BA68C8;
  --md-purple-400: #AB47BC;
  --md-purple-500: #9C27B0;
  --md-purple-600: #8E24AA;
  --md-purple-700: #7B1FA2;
  --md-purple-800: #6A1B9A;
  --md-purple-900: #4A148C;
  --md-purple-A100: #EA80FC;
  --md-purple-A200: #E040FB;
  --md-purple-A400: #D500F9;
  --md-purple-A700: #AA00FF;

  --md-deep-purple-50: #EDE7F6;
  --md-deep-purple-100: #D1C4E9;
  --md-deep-purple-200: #B39DDB;
  --md-deep-purple-300: #9575CD;
  --md-deep-purple-400: #7E57C2;
  --md-deep-purple-500: #673AB7;
  --md-deep-purple-600: #5E35B1;
  --md-deep-purple-700: #512DA8;
  --md-deep-purple-800: #4527A0;
  --md-deep-purple-900: #311B92;
  --md-deep-purple-A100: #B388FF;
  --md-deep-purple-A200: #7C4DFF;
  --md-deep-purple-A400: #651FFF;
  --md-deep-purple-A700: #6200EA;

  --md-indigo-50: #E8EAF6;
  --md-indigo-100: #C5CAE9;
  --md-indigo-200: #9FA8DA;
  --md-indigo-300: #7986CB;
  --md-indigo-400: #5C6BC0;
  --md-indigo-500: #3F51B5;
  --md-indigo-600: #3949AB;
  --md-indigo-700: #303F9F;
  --md-indigo-800: #283593;
  --md-indigo-900: #1A237E;
  --md-indigo-A100: #8C9EFF;
  --md-indigo-A200: #536DFE;
  --md-indigo-A400: #3D5AFE;
  --md-indigo-A700: #304FFE;

  --md-blue-50: #E3F2FD;
  --md-blue-100: #BBDEFB;
  --md-blue-200: #90CAF9;
  --md-blue-300: #64B5F6;
  --md-blue-400: #42A5F5;
  --md-blue-500: #2196F3;
  --md-blue-600: #1E88E5;
  --md-blue-700: #1976D2;
  --md-blue-800: #1565C0;
  --md-blue-900: #0D47A1;
  --md-blue-A100: #82B1FF;
  --md-blue-A200: #448AFF;
  --md-blue-A400: #2979FF;
  --md-blue-A700: #2962FF;

  --md-light-blue-50: #E1F5FE;
  --md-light-blue-100: #B3E5FC;
  --md-light-blue-200: #81D4FA;
  --md-light-blue-300: #4FC3F7;
  --md-light-blue-400: #29B6F6;
  --md-light-blue-500: #03A9F4;
  --md-light-blue-600: #039BE5;
  --md-light-blue-700: #0288D1;
  --md-light-blue-800: #0277BD;
  --md-light-blue-900: #01579B;
  --md-light-blue-A100: #80D8FF;
  --md-light-blue-A200: #40C4FF;
  --md-light-blue-A400: #00B0FF;
  --md-light-blue-A700: #0091EA;

  --md-cyan-50: #E0F7FA;
  --md-cyan-100: #B2EBF2;
  --md-cyan-200: #80DEEA;
  --md-cyan-300: #4DD0E1;
  --md-cyan-400: #26C6DA;
  --md-cyan-500: #00BCD4;
  --md-cyan-600: #00ACC1;
  --md-cyan-700: #0097A7;
  --md-cyan-800: #00838F;
  --md-cyan-900: #006064;
  --md-cyan-A100: #84FFFF;
  --md-cyan-A200: #18FFFF;
  --md-cyan-A400: #00E5FF;
  --md-cyan-A700: #00B8D4;

  --md-teal-50: #E0F2F1;
  --md-teal-100: #B2DFDB;
  --md-teal-200: #80CBC4;
  --md-teal-300: #4DB6AC;
  --md-teal-400: #26A69A;
  --md-teal-500: #009688;
  --md-teal-600: #00897B;
  --md-teal-700: #00796B;
  --md-teal-800: #00695C;
  --md-teal-900: #004D40;
  --md-teal-A100: #A7FFEB;
  --md-teal-A200: #64FFDA;
  --md-teal-A400: #1DE9B6;
  --md-teal-A700: #00BFA5;

  --md-green-50: #E8F5E9;
  --md-green-100: #C8E6C9;
  --md-green-200: #A5D6A7;
  --md-green-300: #81C784;
  --md-green-400: #66BB6A;
  --md-green-500: #4CAF50;
  --md-green-600: #43A047;
  --md-green-700: #388E3C;
  --md-green-800: #2E7D32;
  --md-green-900: #1B5E20;
  --md-green-A100: #B9F6CA;
  --md-green-A200: #69F0AE;
  --md-green-A400: #00E676;
  --md-green-A700: #00C853;

  --md-light-green-50: #F1F8E9;
  --md-light-green-100: #DCEDC8;
  --md-light-green-200: #C5E1A5;
  --md-light-green-300: #AED581;
  --md-light-green-400: #9CCC65;
  --md-light-green-500: #8BC34A;
  --md-light-green-600: #7CB342;
  --md-light-green-700: #689F38;
  --md-light-green-800: #558B2F;
  --md-light-green-900: #33691E;
  --md-light-green-A100: #CCFF90;
  --md-light-green-A200: #B2FF59;
  --md-light-green-A400: #76FF03;
  --md-light-green-A700: #64DD17;

  --md-lime-50: #F9FBE7;
  --md-lime-100: #F0F4C3;
  --md-lime-200: #E6EE9C;
  --md-lime-300: #DCE775;
  --md-lime-400: #D4E157;
  --md-lime-500: #CDDC39;
  --md-lime-600: #C0CA33;
  --md-lime-700: #AFB42B;
  --md-lime-800: #9E9D24;
  --md-lime-900: #827717;
  --md-lime-A100: #F4FF81;
  --md-lime-A200: #EEFF41;
  --md-lime-A400: #C6FF00;
  --md-lime-A700: #AEEA00;

  --md-yellow-50: #FFFDE7;
  --md-yellow-100: #FFF9C4;
  --md-yellow-200: #FFF59D;
  --md-yellow-300: #FFF176;
  --md-yellow-400: #FFEE58;
  --md-yellow-500: #FFEB3B;
  --md-yellow-600: #FDD835;
  --md-yellow-700: #FBC02D;
  --md-yellow-800: #F9A825;
  --md-yellow-900: #F57F17;
  --md-yellow-A100: #FFFF8D;
  --md-yellow-A200: #FFFF00;
  --md-yellow-A400: #FFEA00;
  --md-yellow-A700: #FFD600;

  --md-amber-50: #FFF8E1;
  --md-amber-100: #FFECB3;
  --md-amber-200: #FFE082;
  --md-amber-300: #FFD54F;
  --md-amber-400: #FFCA28;
  --md-amber-500: #FFC107;
  --md-amber-600: #FFB300;
  --md-amber-700: #FFA000;
  --md-amber-800: #FF8F00;
  --md-amber-900: #FF6F00;
  --md-amber-A100: #FFE57F;
  --md-amber-A200: #FFD740;
  --md-amber-A400: #FFC400;
  --md-amber-A700: #FFAB00;

  --md-orange-50: #FFF3E0;
  --md-orange-100: #FFE0B2;
  --md-orange-200: #FFCC80;
  --md-orange-300: #FFB74D;
  --md-orange-400: #FFA726;
  --md-orange-500: #FF9800;
  --md-orange-600: #FB8C00;
  --md-orange-700: #F57C00;
  --md-orange-800: #EF6C00;
  --md-orange-900: #E65100;
  --md-orange-A100: #FFD180;
  --md-orange-A200: #FFAB40;
  --md-orange-A400: #FF9100;
  --md-orange-A700: #FF6D00;

  --md-deep-orange-50: #FBE9E7;
  --md-deep-orange-100: #FFCCBC;
  --md-deep-orange-200: #FFAB91;
  --md-deep-orange-300: #FF8A65;
  --md-deep-orange-400: #FF7043;
  --md-deep-orange-500: #FF5722;
  --md-deep-orange-600: #F4511E;
  --md-deep-orange-700: #E64A19;
  --md-deep-orange-800: #D84315;
  --md-deep-orange-900: #BF360C;
  --md-deep-orange-A100: #FF9E80;
  --md-deep-orange-A200: #FF6E40;
  --md-deep-orange-A400: #FF3D00;
  --md-deep-orange-A700: #DD2C00;

  --md-brown-50: #EFEBE9;
  --md-brown-100: #D7CCC8;
  --md-brown-200: #BCAAA4;
  --md-brown-300: #A1887F;
  --md-brown-400: #8D6E63;
  --md-brown-500: #795548;
  --md-brown-600: #6D4C41;
  --md-brown-700: #5D4037;
  --md-brown-800: #4E342E;
  --md-brown-900: #3E2723;

  --md-grey-50: #FAFAFA;
  --md-grey-100: #F5F5F5;
  --md-grey-200: #EEEEEE;
  --md-grey-300: #E0E0E0;
  --md-grey-400: #BDBDBD;
  --md-grey-500: #9E9E9E;
  --md-grey-600: #757575;
  --md-grey-700: #616161;
  --md-grey-800: #424242;
  --md-grey-900: #212121;

  --md-blue-grey-50: #ECEFF1;
  --md-blue-grey-100: #CFD8DC;
  --md-blue-grey-200: #B0BEC5;
  --md-blue-grey-300: #90A4AE;
  --md-blue-grey-400: #78909C;
  --md-blue-grey-500: #607D8B;
  --md-blue-grey-600: #546E7A;
  --md-blue-grey-700: #455A64;
  --md-blue-grey-800: #37474F;
  --md-blue-grey-900: #263238;
}</style><style>/*-----------------------------------------------------------------------------
| Copyright (c) Jupyter Development Team.
| Distributed under the terms of the Modified BSD License.
|----------------------------------------------------------------------------*/

/*
This file is copied from the JupyterLab project to define default styling for
when the widget styling is compiled down to eliminate CSS variables. We make one
change - we comment out the font import below.
*/

/*
The following CSS variables define the main, public API for styling JupyterLab.
These variables should be used by all plugins wherever possible. In other
words, plugins should not define custom colors, sizes, etc unless absolutely
necessary. This enables users to change the visual theme of JupyterLab
by changing these variables.

Many variables appear in an ordered sequence (0,1,2,3). These sequences
are designed to work well together, so for example, `--jp-border-color1` should
be used with `--jp-layout-color1`. The numbers have the following meanings:

* 0: super-primary, reserved for special emphasis
* 1: primary, most important under normal situations
* 2: secondary, next most important under normal situations
* 3: tertiary, next most important under normal situations

Throughout JupyterLab, we are mostly following principles from Google's
Material Design when selecting colors. We are not, however, following
all of MD as it is not optimized for dense, information rich UIs.
*/


/*
 * Optional monospace font for input/output prompt.
 */
 /* Commented out in ipywidgets since we don't need it. */
/* @import url('https://fonts.googleapis.com/css?family=Roboto+Mono'); */

/*
 * Added for compabitility with output area
 */
:root {
  --jp-icon-search: none;
  --jp-ui-select-caret: none;
}


:root {

  /* Borders

  The following variables, specify the visual styling of borders in JupyterLab.
   */

  --jp-border-width: 1px;
  --jp-border-color0: var(--md-grey-700);
  --jp-border-color1: var(--md-grey-500);
  --jp-border-color2: var(--md-grey-300);
  --jp-border-color3: var(--md-grey-100);

  /* UI Fonts

  The UI font CSS variables are used for the typography all of the JupyterLab
  user interface elements that are not directly user generated content.
  */

  --jp-ui-font-scale-factor: 1.2;
  --jp-ui-font-size0: calc(var(--jp-ui-font-size1)/var(--jp-ui-font-scale-factor));
  --jp-ui-font-size1: 13px; /* Base font size */
  --jp-ui-font-size2: calc(var(--jp-ui-font-size1)*var(--jp-ui-font-scale-factor));
  --jp-ui-font-size3: calc(var(--jp-ui-font-size2)*var(--jp-ui-font-scale-factor));
  --jp-ui-icon-font-size: 14px; /* Ensures px perfect FontAwesome icons */
  --jp-ui-font-family: "Helvetica Neue", Helvetica, Arial, sans-serif;

  /* Use these font colors against the corresponding main layout colors.
     In a light theme, these go from dark to light.
  */

  --jp-ui-font-color0: rgba(0,0,0,1.0);
  --jp-ui-font-color1: rgba(0,0,0,0.8);
  --jp-ui-font-color2: rgba(0,0,0,0.5);
  --jp-ui-font-color3: rgba(0,0,0,0.3);

  /* Use these against the brand/accent/warn/error colors.
     These will typically go from light to darker, in both a dark and light theme
   */

  --jp-ui-inverse-font-color0: rgba(255, 255, 255, 1);
  --jp-ui-inverse-font-color1: rgba(255, 255, 255, 1);
  --jp-ui-inverse-font-color2: rgba(255, 255, 255, 0.7);
  --jp-ui-inverse-font-color3: rgba(255, 255, 255, 0.5);

  /* For backwards compatibility, we still define these below until ipywidgets 8.0.
  See https://github.com/jupyter-widgets/ipywidgets/pull/2801 */
  --jp-inverse-ui-font-color0: rgba(255,255,255,1);
  --jp-inverse-ui-font-color1: rgba(255,255,255,1.0);
  --jp-inverse-ui-font-color2: rgba(255,255,255,0.7);
  --jp-inverse-ui-font-color3: rgba(255,255,255,0.5);

  /* Content Fonts

  Content font variables are used for typography of user generated content.
  */

  --jp-content-font-size: 13px;
  --jp-content-line-height: 1.5;
  --jp-content-font-color0: black;
  --jp-content-font-color1: black;
  --jp-content-font-color2: var(--md-grey-700);
  --jp-content-font-color3: var(--md-grey-500);

  --jp-ui-font-scale-factor: 1.2;
  --jp-ui-font-size0: calc(var(--jp-ui-font-size1)/var(--jp-ui-font-scale-factor));
  --jp-ui-font-size1: 13px; /* Base font size */
  --jp-ui-font-size2: calc(var(--jp-ui-font-size1)*var(--jp-ui-font-scale-factor));
  --jp-ui-font-size3: calc(var(--jp-ui-font-size2)*var(--jp-ui-font-scale-factor));

  --jp-code-font-size: 13px;
  --jp-code-line-height: 1.307;
  --jp-code-padding: 5px;
  --jp-code-font-family: monospace;


  /* Layout

  The following are the main layout colors use in JupyterLab. In a light
  theme these would go from light to dark.
  */

  --jp-layout-color0: white;
  --jp-layout-color1: white;
  --jp-layout-color2: var(--md-grey-200);
  --jp-layout-color3: var(--md-grey-400);

  /* Brand/accent */

  --jp-brand-color0: var(--md-blue-700);
  --jp-brand-color1: var(--md-blue-500);
  --jp-brand-color2: var(--md-blue-300);
  --jp-brand-color3: var(--md-blue-100);

  --jp-accent-color0: var(--md-green-700);
  --jp-accent-color1: var(--md-green-500);
  --jp-accent-color2: var(--md-green-300);
  --jp-accent-color3: var(--md-green-100);

  /* State colors (warn, error, success, info) */

  --jp-warn-color0: var(--md-orange-700);
  --jp-warn-color1: var(--md-orange-500);
  --jp-warn-color2: var(--md-orange-300);
  --jp-warn-color3: var(--md-orange-100);

  --jp-error-color0: var(--md-red-700);
  --jp-error-color1: var(--md-red-500);
  --jp-error-color2: var(--md-red-300);
  --jp-error-color3: var(--md-red-100);

  --jp-success-color0: var(--md-green-700);
  --jp-success-color1: var(--md-green-500);
  --jp-success-color2: var(--md-green-300);
  --jp-success-color3: var(--md-green-100);

  --jp-info-color0: var(--md-cyan-700);
  --jp-info-color1: var(--md-cyan-500);
  --jp-info-color2: var(--md-cyan-300);
  --jp-info-color3: var(--md-cyan-100);

  /* Cell specific styles */

  --jp-cell-padding: 5px;
  --jp-cell-editor-background: #f7f7f7;
  --jp-cell-editor-border-color: #cfcfcf;
  --jp-cell-editor-background-edit: var(--jp-ui-layout-color1);
  --jp-cell-editor-border-color-edit: var(--jp-brand-color1);
  --jp-cell-prompt-width: 100px;
  --jp-cell-prompt-font-family: 'Roboto Mono', monospace;
  --jp-cell-prompt-letter-spacing: 0px;
  --jp-cell-prompt-opacity: 1.0;
  --jp-cell-prompt-opacity-not-active: 0.4;
  --jp-cell-prompt-font-color-not-active: var(--md-grey-700);
  /* A custom blend of MD grey and blue 600
   * See https://meyerweb.com/eric/tools/color-blend/#546E7A:1E88E5:5:hex */
  --jp-cell-inprompt-font-color: #307FC1;
  /* A custom blend of MD grey and orange 600
   * https://meyerweb.com/eric/tools/color-blend/#546E7A:F4511E:5:hex */
  --jp-cell-outprompt-font-color: #BF5B3D;

  /* Notebook specific styles */

  --jp-notebook-padding: 10px;
  --jp-notebook-scroll-padding: 100px;

  /* Console specific styles */

  --jp-console-background: var(--md-grey-100);

  /* Toolbar specific styles */

  --jp-toolbar-border-color: var(--md-grey-400);
  --jp-toolbar-micro-height: 8px;
  --jp-toolbar-background: var(--jp-layout-color0);
  --jp-toolbar-box-shadow: 0px 0px 2px 0px rgba(0,0,0,0.24);
  --jp-toolbar-header-margin: 4px 4px 0px 4px;
  --jp-toolbar-active-background: var(--md-grey-300);
}
</style><style>/* This file has code derived from PhosphorJS CSS files, as noted below. The license for this PhosphorJS code is:

Copyright (c) 2014-2017, PhosphorJS Contributors
All rights reserved.

Redistribution and use in source and binary forms, with or without
modification, are permitted provided that the following conditions are met:

* Redistributions of source code must retain the above copyright notice, this
  list of conditions and the following disclaimer.

* Redistributions in binary form must reproduce the above copyright notice,
  this list of conditions and the following disclaimer in the documentation
  and/or other materials provided with the distribution.

* Neither the name of the copyright holder nor the names of its
  contributors may be used to endorse or promote products derived from
  this software without specific prior written permission.

THIS SOFTWARE IS PROVIDED BY THE COPYRIGHT HOLDERS AND CONTRIBUTORS "AS IS"
AND ANY EXPRESS OR IMPLIED WARRANTIES, INCLUDING, BUT NOT LIMITED TO, THE
IMPLIED WARRANTIES OF MERCHANTABILITY AND FITNESS FOR A PARTICULAR PURPOSE ARE
DISCLAIMED. IN NO EVENT SHALL THE COPYRIGHT HOLDER OR CONTRIBUTORS BE LIABLE
FOR ANY DIRECT, INDIRECT, INCIDENTAL, SPECIAL, EXEMPLARY, OR CONSEQUENTIAL
DAMAGES (INCLUDING, BUT NOT LIMITED TO, PROCUREMENT OF SUBSTITUTE GOODS OR
SERVICES; LOSS OF USE, DATA, OR PROFITS; OR BUSINESS INTERRUPTION) HOWEVER
CAUSED AND ON ANY THEORY OF LIABILITY, WHETHER IN CONTRACT, STRICT LIABILITY,
OR TORT (INCLUDING NEGLIGENCE OR OTHERWISE) ARISING IN ANY WAY OUT OF THE USE
OF THIS SOFTWARE, EVEN IF ADVISED OF THE POSSIBILITY OF SUCH DAMAGE.

*/

/*
 * The following section is derived from https://github.com/phosphorjs/phosphor/blob/23b9d075ebc5b73ab148b6ebfc20af97f85714c4/packages/widgets/style/tabbar.css 
 * We've scoped the rules so that they are consistent with exactly our code.
 */

.jupyter-widgets.widget-tab > .p-TabBar {
  display: flex;
  -webkit-user-select: none;
  -moz-user-select: none;
  -ms-user-select: none;
  user-select: none;
}


.jupyter-widgets.widget-tab > .p-TabBar[data-orientation='horizontal'] {
  flex-direction: row;
}


.jupyter-widgets.widget-tab > .p-TabBar[data-orientation='vertical'] {
  flex-direction: column;
}


.jupyter-widgets.widget-tab > .p-TabBar > .p-TabBar-content {
  margin: 0;
  padding: 0;
  display: flex;
  flex: 1 1 auto;
  list-style-type: none;
}


.jupyter-widgets.widget-tab > .p-TabBar[data-orientation='horizontal'] > .p-TabBar-content {
  flex-direction: row;
}


.jupyter-widgets.widget-tab > .p-TabBar[data-orientation='vertical'] > .p-TabBar-content {
  flex-direction: column;
}


.jupyter-widgets.widget-tab > .p-TabBar .p-TabBar-tab {
  display: flex;
  flex-direction: row;
  box-sizing: border-box;
  overflow: hidden;
}


.jupyter-widgets.widget-tab > .p-TabBar .p-TabBar-tabIcon,
.jupyter-widgets.widget-tab > .p-TabBar .p-TabBar-tabCloseIcon {
  flex: 0 0 auto;
}


.jupyter-widgets.widget-tab > .p-TabBar .p-TabBar-tabLabel {
  flex: 1 1 auto;
  overflow: hidden;
  white-space: nowrap;
}


.jupyter-widgets.widget-tab > .p-TabBar .p-TabBar-tab.p-mod-hidden {
  display: none !important;
}


.jupyter-widgets.widget-tab > .p-TabBar.p-mod-dragging .p-TabBar-tab {
  position: relative;
}


.jupyter-widgets.widget-tab > .p-TabBar.p-mod-dragging[data-orientation='horizontal'] .p-TabBar-tab {
  left: 0;
  transition: left 150ms ease;
}


.jupyter-widgets.widget-tab > .p-TabBar.p-mod-dragging[data-orientation='vertical'] .p-TabBar-tab {
  top: 0;
  transition: top 150ms ease;
}


.jupyter-widgets.widget-tab > .p-TabBar.p-mod-dragging .p-TabBar-tab.p-mod-dragging {
  transition: none;
}

/* End tabbar.css */
</style><style>/* Copyright (c) Jupyter Development Team.
 * Distributed under the terms of the Modified BSD License.
 */

/*
 * We assume that the CSS variables in
 * https://github.com/jupyterlab/jupyterlab/blob/master/src/default-theme/variables.css
 * have been defined.
 */

:root {
    --jp-widgets-color: var(--jp-content-font-color1);
    --jp-widgets-label-color: var(--jp-widgets-color);
    --jp-widgets-readout-color: var(--jp-widgets-color);
    --jp-widgets-font-size: var(--jp-ui-font-size1);
    --jp-widgets-margin: 2px;
    --jp-widgets-inline-height: 28px;
    --jp-widgets-inline-width: 300px;
    --jp-widgets-inline-width-short: calc(var(--jp-widgets-inline-width) / 2 - var(--jp-widgets-margin));
    --jp-widgets-inline-width-tiny: calc(var(--jp-widgets-inline-width-short) / 2 - var(--jp-widgets-margin));
    --jp-widgets-inline-margin: 4px; /* margin between inline elements */
    --jp-widgets-inline-label-width: 80px;
    --jp-widgets-border-width: var(--jp-border-width);
    --jp-widgets-vertical-height: 200px;
    --jp-widgets-horizontal-tab-height: 24px;
    --jp-widgets-horizontal-tab-width: 144px;
    --jp-widgets-horizontal-tab-top-border: 2px;
    --jp-widgets-progress-thickness: 20px;
    --jp-widgets-container-padding: 15px;
    --jp-widgets-input-padding: 4px;
    --jp-widgets-radio-item-height-adjustment: 8px;
    --jp-widgets-radio-item-height: calc(var(--jp-widgets-inline-height) - var(--jp-widgets-radio-item-height-adjustment));
    --jp-widgets-slider-track-thickness: 4px;
    --jp-widgets-slider-border-width: var(--jp-widgets-border-width);
    --jp-widgets-slider-handle-size: 16px;
    --jp-widgets-slider-handle-border-color: var(--jp-border-color1);
    --jp-widgets-slider-handle-background-color: var(--jp-layout-color1);
    --jp-widgets-slider-active-handle-color: var(--jp-brand-color1);
    --jp-widgets-menu-item-height: 24px;
    --jp-widgets-dropdown-arrow: url("data:image/svg+xml;base64,PD94bWwgdmVyc2lvbj0iMS4wIiBlbmNvZGluZz0idXRmLTgiPz4KPCEtLSBHZW5lcmF0b3I6IEFkb2JlIElsbHVzdHJhdG9yIDE5LjIuMSwgU1ZHIEV4cG9ydCBQbHVnLUluIC4gU1ZHIFZlcnNpb246IDYuMDAgQnVpbGQgMCkgIC0tPgo8c3ZnIHZlcnNpb249IjEuMSIgaWQ9IkxheWVyXzEiIHhtbG5zPSJodHRwOi8vd3d3LnczLm9yZy8yMDAwL3N2ZyIgeG1sbnM6eGxpbms9Imh0dHA6Ly93d3cudzMub3JnLzE5OTkveGxpbmsiIHg9IjBweCIgeT0iMHB4IgoJIHZpZXdCb3g9IjAgMCAxOCAxOCIgc3R5bGU9ImVuYWJsZS1iYWNrZ3JvdW5kOm5ldyAwIDAgMTggMTg7IiB4bWw6c3BhY2U9InByZXNlcnZlIj4KPHN0eWxlIHR5cGU9InRleHQvY3NzIj4KCS5zdDB7ZmlsbDpub25lO30KPC9zdHlsZT4KPHBhdGggZD0iTTUuMiw1LjlMOSw5LjdsMy44LTMuOGwxLjIsMS4ybC00LjksNWwtNC45LTVMNS4yLDUuOXoiLz4KPHBhdGggY2xhc3M9InN0MCIgZD0iTTAtMC42aDE4djE4SDBWLTAuNnoiLz4KPC9zdmc+Cg");
    --jp-widgets-input-color: var(--jp-ui-font-color1);
    --jp-widgets-input-background-color: var(--jp-layout-color1);
    --jp-widgets-input-border-color: var(--jp-border-color1);
    --jp-widgets-input-focus-border-color: var(--jp-brand-color2);
    --jp-widgets-input-border-width: var(--jp-widgets-border-width);
    --jp-widgets-disabled-opacity: 0.6;

    /* From Material Design Lite */
    --md-shadow-key-umbra-opacity: 0.2;
    --md-shadow-key-penumbra-opacity: 0.14;
    --md-shadow-ambient-shadow-opacity: 0.12;
}

.jupyter-widgets {
    margin: var(--jp-widgets-margin);
    box-sizing: border-box;
    color: var(--jp-widgets-color);
    overflow: visible;
}

.jupyter-widgets.jupyter-widgets-disconnected::before {
    line-height: var(--jp-widgets-inline-height);
    height: var(--jp-widgets-inline-height);
}

.jp-Output-result > .jupyter-widgets {
    margin-left: 0;
    margin-right: 0;
}

/* vbox and hbox */

.widget-inline-hbox {
    /* Horizontal widgets */
    box-sizing: border-box;
    display: flex;
    flex-direction: row;
    align-items: baseline;
}

.widget-inline-vbox {
    /* Vertical Widgets */
    box-sizing: border-box;
    display: flex;
    flex-direction: column;
    align-items: center;
}

.widget-box {
    box-sizing: border-box;
    display: flex;
    margin: 0;
    overflow: auto;
}

.widget-gridbox {
    box-sizing: border-box;
    display: grid;
    margin: 0;
    overflow: auto;
}

.widget-hbox {
    flex-direction: row;
}

.widget-vbox {
    flex-direction: column;
}

/* General Button Styling */

.jupyter-button {
    padding-left: 10px;
    padding-right: 10px;
    padding-top: 0px;
    padding-bottom: 0px;
    display: inline-block;
    white-space: nowrap;
    overflow: hidden;
    text-overflow: ellipsis;
    text-align: center;
    font-size: var(--jp-widgets-font-size);
    cursor: pointer;

    height: var(--jp-widgets-inline-height);
    border: 0px solid;
    line-height: var(--jp-widgets-inline-height);
    box-shadow: none;

    color: var(--jp-ui-font-color1);
    background-color: var(--jp-layout-color2);
    border-color: var(--jp-border-color2);
    border: none;
    user-select: none;
}

.jupyter-button i.fa {
    margin-right: var(--jp-widgets-inline-margin);
    pointer-events: none;
}

.jupyter-button:empty:before {
    content: "\200b"; /* zero-width space */
}

.jupyter-widgets.jupyter-button:disabled {
    opacity: var(--jp-widgets-disabled-opacity);
}

.jupyter-button i.fa.center {
    margin-right: 0;
}

.jupyter-button:hover:enabled, .jupyter-button:focus:enabled {
    /* MD Lite 2dp shadow */
    box-shadow: 0 2px 2px 0 rgba(0, 0, 0, var(--md-shadow-key-penumbra-opacity)),
                0 3px 1px -2px rgba(0, 0, 0, var(--md-shadow-key-umbra-opacity)),
                0 1px 5px 0 rgba(0, 0, 0, var(--md-shadow-ambient-shadow-opacity));
}

.jupyter-button:active, .jupyter-button.mod-active {
    /* MD Lite 4dp shadow */
    box-shadow: 0 4px 5px 0 rgba(0, 0, 0, var(--md-shadow-key-penumbra-opacity)),
                0 1px 10px 0 rgba(0, 0, 0, var(--md-shadow-ambient-shadow-opacity)),
                0 2px 4px -1px rgba(0, 0, 0, var(--md-shadow-key-umbra-opacity));
    color: var(--jp-ui-font-color1);
    background-color: var(--jp-layout-color3);
}

.jupyter-button:focus:enabled {
    outline: 1px solid var(--jp-widgets-input-focus-border-color);
}

/* Button "Primary" Styling */

.jupyter-button.mod-primary {
    color: var(--jp-ui-inverse-font-color1, var(--jp-inverse-ui-font-color1));
    background-color: var(--jp-brand-color1);
}

.jupyter-button.mod-primary.mod-active {
    color: var(--jp-ui-inverse-font-color0, var(--jp-inverse-ui-font-color0));
    background-color: var(--jp-brand-color0);
}

.jupyter-button.mod-primary:active {
    color: var(--jp-ui-inverse-font-color0, var(--jp-inverse-ui-font-color0));
    background-color: var(--jp-brand-color0);
}

/* Button "Success" Styling */

.jupyter-button.mod-success {
    color: var(--jp-ui-inverse-font-color1, var(--jp-inverse-ui-font-color1));
    background-color: var(--jp-success-color1);
}

.jupyter-button.mod-success.mod-active {
    color: var(--jp-ui-inverse-font-color0, var(--jp-inverse-ui-font-color0));
    background-color: var(--jp-success-color0);
}

.jupyter-button.mod-success:active {
    color: var(--jp-ui-inverse-font-color0, var(--jp-inverse-ui-font-color0));
    background-color: var(--jp-success-color0);
}

 /* Button "Info" Styling */

.jupyter-button.mod-info {
    color: var(--jp-ui-inverse-font-color1, var(--jp-inverse-ui-font-color1));
    background-color: var(--jp-info-color1);
}

.jupyter-button.mod-info.mod-active {
    color: var(--jp-ui-inverse-font-color0, var(--jp-inverse-ui-font-color0));
    background-color: var(--jp-info-color0);
}

.jupyter-button.mod-info:active {
    color: var(--jp-ui-inverse-font-color0, var(--jp-inverse-ui-font-color0));
    background-color: var(--jp-info-color0);
}

/* Button "Warning" Styling */

.jupyter-button.mod-warning {
    color: var(--jp-ui-inverse-font-color1, var(--jp-inverse-ui-font-color1));
    background-color: var(--jp-warn-color1);
}

.jupyter-button.mod-warning.mod-active {
    color: var(--jp-ui-inverse-font-color0, var(--jp-inverse-ui-font-color0));
    background-color: var(--jp-warn-color0);
}

.jupyter-button.mod-warning:active {
    color: var(--jp-ui-inverse-font-color0, var(--jp-inverse-ui-font-color0));
    background-color: var(--jp-warn-color0);
}

/* Button "Danger" Styling */

.jupyter-button.mod-danger {
    color: var(--jp-ui-inverse-font-color1, var(--jp-inverse-ui-font-color1));
    background-color: var(--jp-error-color1);
}

.jupyter-button.mod-danger.mod-active {
    color: var(--jp-ui-inverse-font-color0, var(--jp-inverse-ui-font-color0));
    background-color: var(--jp-error-color0);
}

.jupyter-button.mod-danger:active {
    color: var(--jp-ui-inverse-font-color0, var(--jp-inverse-ui-font-color0));
    background-color: var(--jp-error-color0);
}

/* Widget Button, Widget Toggle Button, Widget Upload */

.widget-button, .widget-toggle-button, .widget-upload {
    width: var(--jp-widgets-inline-width-short);
}

/* Widget Label Styling */

/* Override Bootstrap label css */
.jupyter-widgets label {
    margin-bottom: initial;
}

.widget-label-basic {
    /* Basic Label */
    color: var(--jp-widgets-label-color);
    font-size: var(--jp-widgets-font-size);
    overflow: hidden;
    text-overflow: ellipsis;
    white-space: nowrap;
    line-height: var(--jp-widgets-inline-height);
}

.widget-label {
    /* Label */
    color: var(--jp-widgets-label-color);
    font-size: var(--jp-widgets-font-size);
    overflow: hidden;
    text-overflow: ellipsis;
    white-space: nowrap;
    line-height: var(--jp-widgets-inline-height);
}

.widget-inline-hbox .widget-label {
    /* Horizontal Widget Label */
    color: var(--jp-widgets-label-color);
    text-align: right;
    margin-right: calc( var(--jp-widgets-inline-margin) * 2 );
    width: var(--jp-widgets-inline-label-width);
    flex-shrink: 0;
}

.widget-inline-vbox .widget-label {
    /* Vertical Widget Label */
    color: var(--jp-widgets-label-color);
    text-align: center;
    line-height: var(--jp-widgets-inline-height);
}

/* Widget Readout Styling */

.widget-readout {
    color: var(--jp-widgets-readout-color);
    font-size: var(--jp-widgets-font-size);
    height: var(--jp-widgets-inline-height);
    line-height: var(--jp-widgets-inline-height);
    overflow: hidden;
    white-space: nowrap;
    text-align: center;
}

.widget-readout.overflow {
    /* Overflowing Readout */

    /* From Material Design Lite
        shadow-key-umbra-opacity: 0.2;
        shadow-key-penumbra-opacity: 0.14;
        shadow-ambient-shadow-opacity: 0.12;
     */
    -webkit-box-shadow: 0 2px 2px 0 rgba(0, 0, 0, 0.2),
                        0 3px 1px -2px rgba(0, 0, 0, 0.14),
                        0 1px 5px 0 rgba(0, 0, 0, 0.12);

    -moz-box-shadow: 0 2px 2px 0 rgba(0, 0, 0, 0.2),
                     0 3px 1px -2px rgba(0, 0, 0, 0.14),
                     0 1px 5px 0 rgba(0, 0, 0, 0.12);

    box-shadow: 0 2px 2px 0 rgba(0, 0, 0, 0.2),
                0 3px 1px -2px rgba(0, 0, 0, 0.14),
                0 1px 5px 0 rgba(0, 0, 0, 0.12);
}

.widget-inline-hbox .widget-readout {
    /* Horizontal Readout */
    text-align: center;
    max-width: var(--jp-widgets-inline-width-short);
    min-width: var(--jp-widgets-inline-width-tiny);
    margin-left: var(--jp-widgets-inline-margin);
}

.widget-inline-vbox .widget-readout {
    /* Vertical Readout */
    margin-top: var(--jp-widgets-inline-margin);
    /* as wide as the widget */
    width: inherit;
}

/* Widget Checkbox Styling */

.widget-checkbox {
    width: var(--jp-widgets-inline-width);
    height: var(--jp-widgets-inline-height);
    line-height: var(--jp-widgets-inline-height);
}

.widget-checkbox input[type="checkbox"] {
    margin: 0px calc( var(--jp-widgets-inline-margin) * 2 ) 0px 0px;
    line-height: var(--jp-widgets-inline-height);
    font-size: large;
    flex-grow: 1;
    flex-shrink: 0;
    align-self: center;
}

/* Widget Valid Styling */

.widget-valid {
    height: var(--jp-widgets-inline-height);
    line-height: var(--jp-widgets-inline-height);
    width: var(--jp-widgets-inline-width-short);
    font-size: var(--jp-widgets-font-size);
}

.widget-valid i:before {
    line-height: var(--jp-widgets-inline-height);
    margin-right: var(--jp-widgets-inline-margin);
    margin-left: var(--jp-widgets-inline-margin);
}

.widget-valid.mod-valid i:before {
    color: green;
}

.widget-valid.mod-invalid i:before {
    color: red;
}

.widget-valid.mod-valid .widget-valid-readout {
    display: none;
}

/* Widget Text and TextArea Stying */

.widget-textarea, .widget-text {
    width: var(--jp-widgets-inline-width);
}

.widget-text input[type="text"], .widget-text input[type="number"], .widget-text input[type="password"] {
    height: var(--jp-widgets-inline-height);
    line-height: var(--jp-widgets-inline-height);
}

.widget-text input[type="text"]:disabled, .widget-text input[type="number"]:disabled, .widget-text input[type="password"]:disabled, .widget-textarea textarea:disabled {
    opacity: var(--jp-widgets-disabled-opacity);
}

.widget-text input[type="text"], .widget-text input[type="number"], .widget-text input[type="password"], .widget-textarea textarea {
    box-sizing: border-box;
    border: var(--jp-widgets-input-border-width) solid var(--jp-widgets-input-border-color);
    background-color: var(--jp-widgets-input-background-color);
    color: var(--jp-widgets-input-color);
    font-size: var(--jp-widgets-font-size);
    flex-grow: 1;
    min-width: 0; /* This makes it possible for the flexbox to shrink this input */
    flex-shrink: 1;
    outline: none !important;
}
    
.widget-text input[type="text"], .widget-text input[type="password"], .widget-textarea textarea {
    padding: var(--jp-widgets-input-padding) calc( var(--jp-widgets-input-padding) *  2);
}

.widget-text input[type="number"] {
    padding: var(--jp-widgets-input-padding) 0 var(--jp-widgets-input-padding) calc(var(--jp-widgets-input-padding) *  2);
}

.widget-textarea textarea {
    height: inherit;
    width: inherit;
}

.widget-text input:focus, .widget-textarea textarea:focus {
    border-color: var(--jp-widgets-input-focus-border-color);
}

/* Widget Slider */

.widget-slider .ui-slider {
    /* Slider Track */
    border: var(--jp-widgets-slider-border-width) solid var(--jp-layout-color3);
    background: var(--jp-layout-color3);
    box-sizing: border-box;
    position: relative;
    border-radius: 0px;
}

.widget-slider .ui-slider .ui-slider-handle {
    /* Slider Handle */
    outline: none !important; /* focused slider handles are colored - see below */
    position: absolute;
    background-color: var(--jp-widgets-slider-handle-background-color);
    border: var(--jp-widgets-slider-border-width) solid var(--jp-widgets-slider-handle-border-color);
    box-sizing: border-box;
    z-index: 1;
    background-image: none; /* Override jquery-ui */
}

/* Override jquery-ui */
.widget-slider .ui-slider .ui-slider-handle:hover, .widget-slider .ui-slider .ui-slider-handle:focus {
    background-color: var(--jp-widgets-slider-active-handle-color);
    border: var(--jp-widgets-slider-border-width) solid var(--jp-widgets-slider-active-handle-color);
}

.widget-slider .ui-slider .ui-slider-handle:active {
    background-color: var(--jp-widgets-slider-active-handle-color);
    border-color: var(--jp-widgets-slider-active-handle-color);
    z-index: 2;
    transform: scale(1.2);
}

.widget-slider  .ui-slider .ui-slider-range {
    /* Interval between the two specified value of a double slider */
    position: absolute;
    background: var(--jp-widgets-slider-active-handle-color);
    z-index: 0;
}

/* Shapes of Slider Handles */

.widget-hslider .ui-slider .ui-slider-handle {
    width: var(--jp-widgets-slider-handle-size);
    height: var(--jp-widgets-slider-handle-size);
    margin-top: calc((var(--jp-widgets-slider-track-thickness) - var(--jp-widgets-slider-handle-size)) / 2 - var(--jp-widgets-slider-border-width));
    margin-left: calc(var(--jp-widgets-slider-handle-size) / -2 + var(--jp-widgets-slider-border-width));
    border-radius: 50%;
    top: 0;
}

.widget-vslider .ui-slider .ui-slider-handle {
    width: var(--jp-widgets-slider-handle-size);
    height: var(--jp-widgets-slider-handle-size);
    margin-bottom: calc(var(--jp-widgets-slider-handle-size) / -2 + var(--jp-widgets-slider-border-width));
    margin-left: calc((var(--jp-widgets-slider-track-thickness) - var(--jp-widgets-slider-handle-size)) / 2 - var(--jp-widgets-slider-border-width));
    border-radius: 50%;
    left: 0;
}

.widget-hslider .ui-slider .ui-slider-range {
    height: calc( var(--jp-widgets-slider-track-thickness) * 2 );
    margin-top: calc((var(--jp-widgets-slider-track-thickness) - var(--jp-widgets-slider-track-thickness) * 2 ) / 2 - var(--jp-widgets-slider-border-width));
}

.widget-vslider .ui-slider .ui-slider-range {
    width: calc( var(--jp-widgets-slider-track-thickness) * 2 );
    margin-left: calc((var(--jp-widgets-slider-track-thickness) - var(--jp-widgets-slider-track-thickness) * 2 ) / 2 - var(--jp-widgets-slider-border-width));
}

/* Horizontal Slider */

.widget-hslider {
    width: var(--jp-widgets-inline-width);
    height: var(--jp-widgets-inline-height);
    line-height: var(--jp-widgets-inline-height);

    /* Override the align-items baseline. This way, the description and readout
    still seem to align their baseline properly, and we don't have to have
    align-self: stretch in the .slider-container. */
    align-items: center;
}

.widgets-slider .slider-container {
    overflow: visible;
}

.widget-hslider .slider-container {
    height: var(--jp-widgets-inline-height);
    margin-left: calc(var(--jp-widgets-slider-handle-size) / 2 - 2 * var(--jp-widgets-slider-border-width));
    margin-right: calc(var(--jp-widgets-slider-handle-size) / 2 - 2 * var(--jp-widgets-slider-border-width));
    flex: 1 1 var(--jp-widgets-inline-width-short);
}

.widget-hslider .ui-slider {
    /* Inner, invisible slide div */
    height: var(--jp-widgets-slider-track-thickness);
    margin-top: calc((var(--jp-widgets-inline-height) - var(--jp-widgets-slider-track-thickness)) / 2);
    width: 100%;
}

/* Vertical Slider */

.widget-vbox .widget-label {
    height: var(--jp-widgets-inline-height);
    line-height: var(--jp-widgets-inline-height);
}

.widget-vslider {
    /* Vertical Slider */
    height: var(--jp-widgets-vertical-height);
    width: var(--jp-widgets-inline-width-tiny);
}

.widget-vslider .slider-container {
    flex: 1 1 var(--jp-widgets-inline-width-short);
    margin-left: auto;
    margin-right: auto;
    margin-bottom: calc(var(--jp-widgets-slider-handle-size) / 2 - 2 * var(--jp-widgets-slider-border-width));
    margin-top: calc(var(--jp-widgets-slider-handle-size) / 2 - 2 * var(--jp-widgets-slider-border-width));
    display: flex;
    flex-direction: column;
}

.widget-vslider .ui-slider-vertical {
    /* Inner, invisible slide div */
    width: var(--jp-widgets-slider-track-thickness);
    flex-grow: 1;
    margin-left: auto;
    margin-right: auto;
}

/* Widget Progress Styling */

.progress-bar {
    -webkit-transition: none;
    -moz-transition: none;
    -ms-transition: none;
    -o-transition: none;
    transition: none;
}

.progress-bar {
    height: var(--jp-widgets-inline-height);
}

.progress-bar {
    background-color: var(--jp-brand-color1);
}

.progress-bar-success {
    background-color: var(--jp-success-color1);
}

.progress-bar-info {
    background-color: var(--jp-info-color1);
}

.progress-bar-warning {
    background-color: var(--jp-warn-color1);
}

.progress-bar-danger {
    background-color: var(--jp-error-color1);
}

.progress {
    background-color: var(--jp-layout-color2);
    border: none;
    box-shadow: none;
}

/* Horisontal Progress */

.widget-hprogress {
    /* Progress Bar */
    height: var(--jp-widgets-inline-height);
    line-height: var(--jp-widgets-inline-height);
    width: var(--jp-widgets-inline-width);
    align-items: center;

}

.widget-hprogress .progress {
    flex-grow: 1;
    margin-top: var(--jp-widgets-input-padding);
    margin-bottom: var(--jp-widgets-input-padding);
    align-self: stretch;
    /* Override bootstrap style */
    height: initial;
}

/* Vertical Progress */

.widget-vprogress {
    height: var(--jp-widgets-vertical-height);
    width: var(--jp-widgets-inline-width-tiny);
}

.widget-vprogress .progress {
    flex-grow: 1;
    width: var(--jp-widgets-progress-thickness);
    margin-left: auto;
    margin-right: auto;
    margin-bottom: 0;
}

/* Select Widget Styling */

.widget-dropdown {
    height: var(--jp-widgets-inline-height);
    width: var(--jp-widgets-inline-width);
    line-height: var(--jp-widgets-inline-height);
}

.widget-dropdown > select {
    padding-right: 20px;
    border: var(--jp-widgets-input-border-width) solid var(--jp-widgets-input-border-color);
    border-radius: 0;
    height: inherit;
    flex: 1 1 var(--jp-widgets-inline-width-short);
    min-width: 0; /* This makes it possible for the flexbox to shrink this input */
    box-sizing: border-box;
    outline: none !important;
    box-shadow: none;
    background-color: var(--jp-widgets-input-background-color);
    color: var(--jp-widgets-input-color);
    font-size: var(--jp-widgets-font-size);
    vertical-align: top;
    padding-left: calc( var(--jp-widgets-input-padding) * 2);
	appearance: none;
	-webkit-appearance: none;
	-moz-appearance: none;
    background-repeat: no-repeat;
	background-size: 20px;
	background-position: right center;
    background-image: var(--jp-widgets-dropdown-arrow);
}
.widget-dropdown > select:focus {
    border-color: var(--jp-widgets-input-focus-border-color);
}

.widget-dropdown > select:disabled {
    opacity: var(--jp-widgets-disabled-opacity);
}

/* To disable the dotted border in Firefox around select controls.
   See http://stackoverflow.com/a/18853002 */
.widget-dropdown > select:-moz-focusring {
    color: transparent;
    text-shadow: 0 0 0 #000;
}

/* Select and SelectMultiple */

.widget-select {
    width: var(--jp-widgets-inline-width);
    line-height: var(--jp-widgets-inline-height);

    /* Because Firefox defines the baseline of a select as the bottom of the
    control, we align the entire control to the top and add padding to the
    select to get an approximate first line baseline alignment. */
    align-items: flex-start;
}

.widget-select > select {
    border: var(--jp-widgets-input-border-width) solid var(--jp-widgets-input-border-color);
    background-color: var(--jp-widgets-input-background-color);
    color: var(--jp-widgets-input-color);
    font-size: var(--jp-widgets-font-size);
    flex: 1 1 var(--jp-widgets-inline-width-short);
    outline: none !important;
    overflow: auto;
    height: inherit;

    /* Because Firefox defines the baseline of a select as the bottom of the
    control, we align the entire control to the top and add padding to the
    select to get an approximate first line baseline alignment. */
    padding-top: 5px;
}

.widget-select > select:focus {
    border-color: var(--jp-widgets-input-focus-border-color);
}

.wiget-select > select > option {
    padding-left: var(--jp-widgets-input-padding);
    line-height: var(--jp-widgets-inline-height);
    /* line-height doesn't work on some browsers for select options */
    padding-top: calc(var(--jp-widgets-inline-height)-var(--jp-widgets-font-size)/2);
    padding-bottom: calc(var(--jp-widgets-inline-height)-var(--jp-widgets-font-size)/2);
}



/* Toggle Buttons Styling */

.widget-toggle-buttons {
    line-height: var(--jp-widgets-inline-height);
}

.widget-toggle-buttons .widget-toggle-button {
    margin-left: var(--jp-widgets-margin);
    margin-right: var(--jp-widgets-margin);
}

.widget-toggle-buttons .jupyter-button:disabled {
    opacity: var(--jp-widgets-disabled-opacity);
}

/* Radio Buttons Styling */

.widget-radio {
    width: var(--jp-widgets-inline-width);
    line-height: var(--jp-widgets-inline-height);
}

.widget-radio-box {
    display: flex;
    flex-direction: column;
    align-items: stretch;
    box-sizing: border-box;
    flex-grow: 1;
    margin-bottom: var(--jp-widgets-radio-item-height-adjustment);
}

.widget-radio-box label {
    height: var(--jp-widgets-radio-item-height);
    line-height: var(--jp-widgets-radio-item-height);
    font-size: var(--jp-widgets-font-size);
}

.widget-radio-box input {
    height: var(--jp-widgets-radio-item-height);
    line-height: var(--jp-widgets-radio-item-height);
    margin: 0 calc( var(--jp-widgets-input-padding) * 2 ) 0 1px;
    float: left;
}

/* Color Picker Styling */

.widget-colorpicker {
    width: var(--jp-widgets-inline-width);
    height: var(--jp-widgets-inline-height);
    line-height: var(--jp-widgets-inline-height);
}

.widget-colorpicker > .widget-colorpicker-input {
    flex-grow: 1;
    flex-shrink: 1;
    min-width: var(--jp-widgets-inline-width-tiny);
}

.widget-colorpicker input[type="color"] {
    width: var(--jp-widgets-inline-height);
    height: var(--jp-widgets-inline-height);
    padding: 0 2px; /* make the color square actually square on Chrome on OS X */
    background: var(--jp-widgets-input-background-color);
    color: var(--jp-widgets-input-color);
    border: var(--jp-widgets-input-border-width) solid var(--jp-widgets-input-border-color);
    border-left: none;
    flex-grow: 0;
    flex-shrink: 0;
    box-sizing: border-box;
    align-self: stretch;
    outline: none !important;
}

.widget-colorpicker.concise input[type="color"] {
    border-left: var(--jp-widgets-input-border-width) solid var(--jp-widgets-input-border-color);
}

.widget-colorpicker input[type="color"]:focus, .widget-colorpicker input[type="text"]:focus {
    border-color: var(--jp-widgets-input-focus-border-color);
}

.widget-colorpicker input[type="text"] {
    flex-grow: 1;
    outline: none !important;
    height: var(--jp-widgets-inline-height);
    line-height: var(--jp-widgets-inline-height);
    background: var(--jp-widgets-input-background-color);
    color: var(--jp-widgets-input-color);
    border: var(--jp-widgets-input-border-width) solid var(--jp-widgets-input-border-color);
    font-size: var(--jp-widgets-font-size);
    padding: var(--jp-widgets-input-padding) calc( var(--jp-widgets-input-padding) *  2 );
    min-width: 0; /* This makes it possible for the flexbox to shrink this input */
    flex-shrink: 1;
    box-sizing: border-box;
}

.widget-colorpicker input[type="text"]:disabled {
    opacity: var(--jp-widgets-disabled-opacity);
}

/* Date Picker Styling */

.widget-datepicker {
    width: var(--jp-widgets-inline-width);
    height: var(--jp-widgets-inline-height);
    line-height: var(--jp-widgets-inline-height);
}

.widget-datepicker input[type="date"] {
    flex-grow: 1;
    flex-shrink: 1;
    min-width: 0; /* This makes it possible for the flexbox to shrink this input */
    outline: none !important;
    height: var(--jp-widgets-inline-height);
    border: var(--jp-widgets-input-border-width) solid var(--jp-widgets-input-border-color);
    background-color: var(--jp-widgets-input-background-color);
    color: var(--jp-widgets-input-color);
    font-size: var(--jp-widgets-font-size);
    padding: var(--jp-widgets-input-padding) calc( var(--jp-widgets-input-padding) *  2 );
    box-sizing: border-box;
}

.widget-datepicker input[type="date"]:focus {
    border-color: var(--jp-widgets-input-focus-border-color);
}

.widget-datepicker input[type="date"]:invalid {
    border-color: var(--jp-warn-color1);
}

.widget-datepicker input[type="date"]:disabled {
    opacity: var(--jp-widgets-disabled-opacity);
}

/* Play Widget */

.widget-play {
    width: var(--jp-widgets-inline-width-short);
    display: flex;
    align-items: stretch;
}

.widget-play .jupyter-button {
    flex-grow: 1;
    height: auto;
}

.widget-play .jupyter-button:disabled {
    opacity: var(--jp-widgets-disabled-opacity);
}

/* Tab Widget */

.jupyter-widgets.widget-tab {
    display: flex;
    flex-direction: column;
}

.jupyter-widgets.widget-tab > .p-TabBar {
    /* Necessary so that a tab can be shifted down to overlay the border of the box below. */
    overflow-x: visible;
    overflow-y: visible;
}

.jupyter-widgets.widget-tab > .p-TabBar > .p-TabBar-content {
    /* Make sure that the tab grows from bottom up */
    align-items: flex-end;
    min-width: 0;
    min-height: 0;
}

.jupyter-widgets.widget-tab > .widget-tab-contents {
    width: 100%;
    box-sizing: border-box;
    margin: 0;
    background: var(--jp-layout-color1);
    color: var(--jp-ui-font-color1);
    border: var(--jp-border-width) solid var(--jp-border-color1);
    padding: var(--jp-widgets-container-padding);
    flex-grow: 1;
    overflow: auto;
}

.jupyter-widgets.widget-tab > .p-TabBar {
    font: var(--jp-widgets-font-size) Helvetica, Arial, sans-serif;
    min-height: calc(var(--jp-widgets-horizontal-tab-height) + var(--jp-border-width));
}

.jupyter-widgets.widget-tab > .p-TabBar .p-TabBar-tab {
    flex: 0 1 var(--jp-widgets-horizontal-tab-width);
    min-width: 35px;
    min-height: calc(var(--jp-widgets-horizontal-tab-height) + var(--jp-border-width));
    line-height: var(--jp-widgets-horizontal-tab-height);
    margin-left: calc(-1 * var(--jp-border-width));
    padding: 0px 10px;
    background: var(--jp-layout-color2);
    color: var(--jp-ui-font-color2);
    border: var(--jp-border-width) solid var(--jp-border-color1);
    border-bottom: none;
    position: relative;
}

.jupyter-widgets.widget-tab > .p-TabBar .p-TabBar-tab.p-mod-current {
    color: var(--jp-ui-font-color0);
    /* We want the background to match the tab content background */
    background: var(--jp-layout-color1);
    min-height: calc(var(--jp-widgets-horizontal-tab-height) + 2 * var(--jp-border-width));
    transform: translateY(var(--jp-border-width));
    overflow: visible;
}

.jupyter-widgets.widget-tab > .p-TabBar .p-TabBar-tab.p-mod-current:before {
    position: absolute;
    top: calc(-1 * var(--jp-border-width));
    left: calc(-1 * var(--jp-border-width));
    content: '';
    height: var(--jp-widgets-horizontal-tab-top-border);
    width: calc(100% + 2 * var(--jp-border-width));
    background: var(--jp-brand-color1);
}

.jupyter-widgets.widget-tab > .p-TabBar .p-TabBar-tab:first-child {
    margin-left: 0;
}

.jupyter-widgets.widget-tab > .p-TabBar .p-TabBar-tab:hover:not(.p-mod-current) {
    background: var(--jp-layout-color1);
    color: var(--jp-ui-font-color1);
}

.jupyter-widgets.widget-tab > .p-TabBar .p-mod-closable > .p-TabBar-tabCloseIcon {
    margin-left: 4px;
}

/* This font-awesome strategy may not work across FA4 and FA5, but we don't
actually support closable tabs, so it really doesn't matter */
.jupyter-widgets.widget-tab > .p-TabBar .p-mod-closable > .p-TabBar-tabCloseIcon:before {
    font-family: FontAwesome;
    content: '\f00d'; /* close */
}

.jupyter-widgets.widget-tab > .p-TabBar .p-TabBar-tabIcon,
.jupyter-widgets.widget-tab > .p-TabBar .p-TabBar-tabLabel,
.jupyter-widgets.widget-tab > .p-TabBar .p-TabBar-tabCloseIcon {
    line-height: var(--jp-widgets-horizontal-tab-height);
}

/* Accordion Widget */

.p-Collapse {
    display: flex;
    flex-direction: column;
    align-items: stretch;
}

.p-Collapse-header {
    padding: var(--jp-widgets-input-padding);
    cursor: pointer;
    color: var(--jp-ui-font-color2);
    background-color: var(--jp-layout-color2);
    border: var(--jp-widgets-border-width) solid var(--jp-border-color1);
    padding: calc(var(--jp-widgets-container-padding) * 2 / 3) var(--jp-widgets-container-padding);
    font-weight: bold;
}

.p-Collapse-header:hover {
    background-color: var(--jp-layout-color1);
    color: var(--jp-ui-font-color1);
}

.p-Collapse-open > .p-Collapse-header {
    background-color: var(--jp-layout-color1);
    color: var(--jp-ui-font-color0);
    cursor: default;
    border-bottom: none;
}

.p-Collapse-contents {
    padding: var(--jp-widgets-container-padding);
    background-color: var(--jp-layout-color1);
    color: var(--jp-ui-font-color1);
    border-left: var(--jp-widgets-border-width) solid var(--jp-border-color1);
    border-right: var(--jp-widgets-border-width) solid var(--jp-border-color1);
    border-bottom: var(--jp-widgets-border-width) solid var(--jp-border-color1);
    overflow: auto;
}

.p-Accordion {
    display: flex;
    flex-direction: column;
    align-items: stretch;
}

.p-Accordion .p-Collapse {
    margin-bottom: 0;
}

.p-Accordion .p-Collapse + .p-Collapse {
    margin-top: 4px;
}



/* HTML widget */

.widget-html, .widget-htmlmath {
    font-size: var(--jp-widgets-font-size);
}

.widget-html > .widget-html-content, .widget-htmlmath > .widget-html-content {
    /* Fill out the area in the HTML widget */
    align-self: stretch;
    flex-grow: 1;
    flex-shrink: 1;
    /* Makes sure the baseline is still aligned with other elements */
    line-height: var(--jp-widgets-inline-height);
    /* Make it possible to have absolutely-positioned elements in the html */
    position: relative;
}


/* Image widget  */

.widget-image {
    max-width: 100%;
    height: auto;
}
</style><style>/* Copyright (c) Jupyter Development Team.
 * Distributed under the terms of the Modified BSD License.
 */
</style><link id="favicon" type="image/x-icon" rel="shortcut icon" href="http://localhost:8890/static/base/images/favicon-notebook.ico"></head>

<body class="notebook_app command_mode" data-jupyter-api-token="e47eceb0618355a916b83afd7cf58cccf4915b76aa7ddea8" data-base-url="/" data-ws-url="" data-notebook-name="plots.ipynb" data-notebook-path="Desktop/Data%20visualisation%20lessons/Data%20Visualization%20Project/DataViz%20Matteo/data_viz/plots.ipynb" dir="ltr"><div style="visibility: hidden; overflow: hidden; position: absolute; top: 0px; height: 1px; width: auto; padding: 0px; border: 0px; margin: 0px; text-align: left; text-indent: 0px; text-transform: none; line-height: normal; letter-spacing: normal; word-spacing: normal;"><div id="MathJax_Hidden"></div></div><div id="MathJax_Message" style="display: none;"></div>

<noscript>
    <div id='noscript'>
      Jupyter Notebook requires JavaScript.<br>
      Please enable it to proceed. 
  </div>
</noscript>

<div id="header" role="navigation" aria-label="Top Menu" style="display: block;">
  <div id="header-container" class="container">
  <div id="ipython_notebook" class="nav navbar-brand"><a href="http://localhost:8890/tree?token=e47eceb0618355a916b83afd7cf58cccf4915b76aa7ddea8" title="dashboard">
      <img src="./plots_files/logo.png" alt="Jupyter Notebook">
  </a></div>

  


<span id="save_widget" class="save_widget">
    <span id="notebook_name" class="filename">plots</span>
    <span class="checkpoint_status" title="no checkpoint"></span>
    <span class="autosave_status">(autosaved)</span>
</span>


  

<span id="kernel_logo_widget">
  
  <img class="current_kernel_logo" alt="Current Kernel Logo" src="./plots_files/logo-64x64.png" title="Python 3 (ipykernel)" style="display: inline;">
  
</span>


  
  
  
  

    <span id="login_widget">
      
        <button id="logout" class="btn btn-sm navbar-btn">Logout</button>
      
    </span>

  

  
  
  </div>
  <div class="header-bar"></div>

  
<div id="menubar-container" class="container">
<div id="menubar">
    <div id="menus" class="navbar navbar-default" role="navigation">
        <div class="container-fluid">
            <button type="button" class="btn btn-default navbar-btn navbar-toggle" data-toggle="collapse" data-target=".navbar-collapse">
              <i class="fa fa-bars"></i>
              <span class="navbar-text">Menu</span>
            </button>
            <p id="kernel_indicator" class="navbar-text indicator_area">
              <span class="kernel_indicator_name">Python 3 (ipykernel)</span>
              <i id="kernel_indicator_icon" class="kernel_idle_icon" title="Kernel Idle"></i>
            </p>
            <i id="readonly-indicator" class="navbar-text" title="This notebook is read-only" style="display: none;">
                <span class="fa-stack">
                    <i class="fa fa-save fa-stack-1x"></i>
                    <i class="fa fa-ban fa-stack-2x text-danger"></i>
                </span>
            </i>
            <i id="modal_indicator" class="navbar-text modal_indicator" title="Command Mode"></i>
            <span id="notification_area"><div id="notification_kernel" class="notification_widget btn btn-xs navbar-btn undefined info" style="display: none;"><span></span></div><div id="notification_notebook" class="notification_widget btn btn-xs navbar-btn" style="display: none;"><span></span></div><div id="notification_trusted" class="notification_widget btn btn-xs navbar-btn" style="" role="button"><span title="Javascript disabled for notebook display">Not Trusted</span></div><div id="notification_widgets" class="notification_widget btn btn-xs navbar-btn" style="display: none;"><span></span></div></span>
            <div class="navbar-collapse collapse">
              <ul class="nav navbar-nav">
                <li class="dropdown"><a href="http://localhost:8890/notebooks/Desktop/Data%20visualisation%20lessons/Data%20Visualization%20Project/DataViz%20Matteo/data_viz/plots.ipynb#" class="dropdown-toggle" id="filelink" data-toggle="dropdown" aria-haspopup="true" aria-controls="file_menu">File</a>
                    <ul id="file_menu" class="dropdown-menu" role="menu" aria-labelledby="filelink">
                        <li id="new_notebook" class="menu_focus_highlight dropdown dropdown-submenu" role="none">
                            <a href="http://localhost:8890/notebooks/Desktop/Data%20visualisation%20lessons/Data%20Visualization%20Project/DataViz%20Matteo/data_viz/plots.ipynb#" role="menuitem" aria-haspopup="true" aria-expanded="false" class="dropdown-toggle" data-toggle="dropdown">New Notebook<span class="sr-only">Dropdown</span></a>
                            <ul class="dropdown-menu" id="menu-new-notebook-submenu" role="menu"><li id="new-notebook-submenu-python3"><a href="http://localhost:8890/notebooks/Desktop/Data%20visualisation%20lessons/Data%20Visualization%20Project/DataViz%20Matteo/data_viz/plots.ipynb#">Python 3 (ipykernel)</a></li><li class="divider"></li>
                            <li id="new-notebook-submenu-datavis"><a href="http://localhost:8890/notebooks/Desktop/Data%20visualisation%20lessons/Data%20Visualization%20Project/DataViz%20Matteo/data_viz/plots.ipynb#">datavis</a></li></ul>
                        </li>
                        <li id="open_notebook" role="none" title="Opens a new window with the Dashboard view">
                            <a href="http://localhost:8890/notebooks/Desktop/Data%20visualisation%20lessons/Data%20Visualization%20Project/DataViz%20Matteo/data_viz/plots.ipynb#" role="menuitem">Open...</a></li>
                        <!-- <hr/> -->
                        <li class="divider" role="none"></li>
                        <li id="copy_notebook" role="none" title="Open a copy of this notebook&#39;s contents and start a new kernel">
                            <a href="http://localhost:8890/notebooks/Desktop/Data%20visualisation%20lessons/Data%20Visualization%20Project/DataViz%20Matteo/data_viz/plots.ipynb#" role="menuitem">Make a Copy...</a></li>
                        <li id="save_notebook_as" role="none" title="Save a copy of the notebook&#39;s contents and start a new kernel">
                            <a href="http://localhost:8890/notebooks/Desktop/Data%20visualisation%20lessons/Data%20Visualization%20Project/DataViz%20Matteo/data_viz/plots.ipynb#" role="menuitem">Save as...</a></li>
                        <li id="rename_notebook" role="none"><a href="http://localhost:8890/notebooks/Desktop/Data%20visualisation%20lessons/Data%20Visualization%20Project/DataViz%20Matteo/data_viz/plots.ipynb#" role="menuitem">Rename...</a></li>
                        <li id="save_checkpoint" role="none"><a href="http://localhost:8890/notebooks/Desktop/Data%20visualisation%20lessons/Data%20Visualization%20Project/DataViz%20Matteo/data_viz/plots.ipynb#" role="menuitem" class="menu-shortcut-container"><span class="action">Save and Checkpoint</span><span class="kb"><kbd>Ctrl-S</kbd></span></a></li>
                        <!-- <hr/> -->
                        <li class="divider" role="none"></li>
                        <li id="restore_checkpoint" class="menu_focus_highlight dropdown-submenu" role="none"><a href="http://localhost:8890/notebooks/Desktop/Data%20visualisation%20lessons/Data%20Visualization%20Project/DataViz%20Matteo/data_viz/plots.ipynb#" role="menuitem" aria-haspopup="true" aria-expanded="false" class="dropdown-toggle" data-toggle="dropdown">Revert to Checkpoint<span class="sr-only">Dropdown</span></a>
                          <ul class="dropdown-menu"><li class="disabled"><a>No checkpoints</a></li></ul>
                        </li>
                        <li class="divider" role="none"></li>
                        <li id="print_preview" role="none"><a href="http://localhost:8890/notebooks/Desktop/Data%20visualisation%20lessons/Data%20Visualization%20Project/DataViz%20Matteo/data_viz/plots.ipynb#" role="menuitem">Print Preview</a></li>
                        <li class="dropdown-submenu menu_focus_highlight" role="none"><a href="http://localhost:8890/notebooks/Desktop/Data%20visualisation%20lessons/Data%20Visualization%20Project/DataViz%20Matteo/data_viz/plots.ipynb#" role="menuitem" aria-haspopup="true" aria-expanded="false" class="dropdown-toggle" data-toggle="dropdown">Download as<span class="sr-only">Dropdown</span></a>
                            <ul id="download_menu" class="dropdown-menu">
                                
                                <li id="download_asciidoc">
                                    <a href="http://localhost:8890/notebooks/Desktop/Data%20visualisation%20lessons/Data%20Visualization%20Project/DataViz%20Matteo/data_viz/plots.ipynb#">AsciiDoc (.asciidoc)</a>
                                </li>
                                
                                <li id="download_html">
                                    <a href="http://localhost:8890/notebooks/Desktop/Data%20visualisation%20lessons/Data%20Visualization%20Project/DataViz%20Matteo/data_viz/plots.ipynb#">HTML (.html)</a>
                                </li>
                                
                                <li id="download_latex">
                                    <a href="http://localhost:8890/notebooks/Desktop/Data%20visualisation%20lessons/Data%20Visualization%20Project/DataViz%20Matteo/data_viz/plots.ipynb#">LaTeX (.tex)</a>
                                </li>
                                
                                <li id="download_markdown">
                                    <a href="http://localhost:8890/notebooks/Desktop/Data%20visualisation%20lessons/Data%20Visualization%20Project/DataViz%20Matteo/data_viz/plots.ipynb#">Markdown (.md)</a>
                                </li>
                                
                                <li id="download_notebook">
                                    <a href="http://localhost:8890/notebooks/Desktop/Data%20visualisation%20lessons/Data%20Visualization%20Project/DataViz%20Matteo/data_viz/plots.ipynb#">Notebook (.ipynb)</a>
                                </li>
                                
                                <li id="download_pdf">
                                    <a href="http://localhost:8890/notebooks/Desktop/Data%20visualisation%20lessons/Data%20Visualization%20Project/DataViz%20Matteo/data_viz/plots.ipynb#">PDF via LaTeX (.pdf)</a>
                                </li>
                                
                                <li id="download_rst">
                                    <a href="http://localhost:8890/notebooks/Desktop/Data%20visualisation%20lessons/Data%20Visualization%20Project/DataViz%20Matteo/data_viz/plots.ipynb#">reST (.rst)</a>
                                </li>
                                
                                <li id="download_script">
                                    <a href="http://localhost:8890/notebooks/Desktop/Data%20visualisation%20lessons/Data%20Visualization%20Project/DataViz%20Matteo/data_viz/plots.ipynb#">Python (.py)</a>
                                </li>
                                
                                <li id="download_slides">
                                    <a href="http://localhost:8890/notebooks/Desktop/Data%20visualisation%20lessons/Data%20Visualization%20Project/DataViz%20Matteo/data_viz/plots.ipynb#">Reveal.js slides (.slides.html)</a>
                                </li>
                                
                                <li id="download_webpdf">
                                    <a href="http://localhost:8890/notebooks/Desktop/Data%20visualisation%20lessons/Data%20Visualization%20Project/DataViz%20Matteo/data_viz/plots.ipynb#">PDF via HTML (.html)</a>
                                </li>
                                
                            </ul>
                        </li>
                        <li class="dropdown-submenu hidden" role="none"><a href="http://localhost:8890/notebooks/Desktop/Data%20visualisation%20lessons/Data%20Visualization%20Project/DataViz%20Matteo/data_viz/plots.ipynb#" role="menuitem">Deploy as</a>
                            <ul id="deploy_menu" class="dropdown-menu"></ul>
                        </li>
                        <li class="divider" role="none"></li>
                        <li id="trust_notebook" role="none" title="Trust the output of this notebook">
                            <a href="http://localhost:8890/notebooks/Desktop/Data%20visualisation%20lessons/Data%20Visualization%20Project/DataViz%20Matteo/data_viz/plots.ipynb#" role="menuitem">Trust Notebook</a></li>
                        <li class="divider" role="none"></li>
                        <li id="close_and_halt" role="none" title="Shutdown this notebook&#39;s kernel, and close this window">
                            <a href="http://localhost:8890/notebooks/Desktop/Data%20visualisation%20lessons/Data%20Visualization%20Project/DataViz%20Matteo/data_viz/plots.ipynb#" role="menuitem">Close and Halt</a></li>
                    </ul>
                </li>

                <li class="dropdown"><a href="http://localhost:8890/notebooks/Desktop/Data%20visualisation%20lessons/Data%20Visualization%20Project/DataViz%20Matteo/data_viz/plots.ipynb#" class="dropdown-toggle" id="editlink" data-toggle="dropdown" aria-haspopup="true" aria-controls="edit_menu" aria-expanded="false">Edit</a>
                    <ul id="edit_menu" class="dropdown-menu" role="menu" aria-labelledby="editlink">
                        <li id="cut_cell" role="none"><a href="http://localhost:8890/notebooks/Desktop/Data%20visualisation%20lessons/Data%20Visualization%20Project/DataViz%20Matteo/data_viz/plots.ipynb#" role="menuitem" class="menu-shortcut-container"><span class="action">Cut Cells</span><span class="kb"><kbd>X</kbd></span></a></li>
                        <li id="copy_cell" role="none"><a href="http://localhost:8890/notebooks/Desktop/Data%20visualisation%20lessons/Data%20Visualization%20Project/DataViz%20Matteo/data_viz/plots.ipynb#" role="menuitem" class="menu-shortcut-container"><span class="action">Copy Cells</span><span class="kb"><kbd>C</kbd></span></a></li>
                        <li id="paste_cell_above" class="disabled" role="none"><a href="http://localhost:8890/notebooks/Desktop/Data%20visualisation%20lessons/Data%20Visualization%20Project/DataViz%20Matteo/data_viz/plots.ipynb#" role="menuitem" aria-disabled="true" class="menu-shortcut-container"><span class="action">Paste Cells Above</span><span class="kb"><kbd>Shift-V</kbd></span></a></li>
                        <li id="paste_cell_below" class="disabled" role="none"><a href="http://localhost:8890/notebooks/Desktop/Data%20visualisation%20lessons/Data%20Visualization%20Project/DataViz%20Matteo/data_viz/plots.ipynb#" role="menuitem" aria-disabled="true" class="menu-shortcut-container"><span class="action">Paste Cells Below</span><span class="kb"><kbd>V</kbd></span></a></li>
                        <li id="paste_cell_replace" class="disabled" role="none"><a href="http://localhost:8890/notebooks/Desktop/Data%20visualisation%20lessons/Data%20Visualization%20Project/DataViz%20Matteo/data_viz/plots.ipynb#" role="menuitem" aria-disabled="true">Paste Cells &amp; Replace</a></li>
                        <li id="delete_cell" role="none"><a href="http://localhost:8890/notebooks/Desktop/Data%20visualisation%20lessons/Data%20Visualization%20Project/DataViz%20Matteo/data_viz/plots.ipynb#" role="menuitem" class="menu-shortcut-container"><span class="action">Delete Cells</span><span class="kb"><kbd>D</kbd>,<kbd>D</kbd></span></a></li>
                        <li id="undelete_cell" class="disabled" role="none"><a href="http://localhost:8890/notebooks/Desktop/Data%20visualisation%20lessons/Data%20Visualization%20Project/DataViz%20Matteo/data_viz/plots.ipynb#" role="menuitem" aria-disabled="true" class="menu-shortcut-container"><span class="action">Undo Delete Cells</span><span class="kb"><kbd>Z</kbd></span></a></li>
                        <li class="divider" role="none"></li>
                        <li id="split_cell" role="none"><a href="http://localhost:8890/notebooks/Desktop/Data%20visualisation%20lessons/Data%20Visualization%20Project/DataViz%20Matteo/data_viz/plots.ipynb#" role="menuitem" class="menu-shortcut-container"><span class="action">Split Cell</span><span class="kb"><kbd>Ctrl-Shift-Minus</kbd></span></a></li>
                        <li id="merge_cell_above" role="none"><a href="http://localhost:8890/notebooks/Desktop/Data%20visualisation%20lessons/Data%20Visualization%20Project/DataViz%20Matteo/data_viz/plots.ipynb#" role="menuitem">Merge Cell Above</a></li>
                        <li id="merge_cell_below" role="none"><a href="http://localhost:8890/notebooks/Desktop/Data%20visualisation%20lessons/Data%20Visualization%20Project/DataViz%20Matteo/data_viz/plots.ipynb#" role="menuitem">Merge Cell Below</a></li>
                        <li class="divider" role="none"></li>
                        <li id="move_cell_up" role="none"><a href="http://localhost:8890/notebooks/Desktop/Data%20visualisation%20lessons/Data%20Visualization%20Project/DataViz%20Matteo/data_viz/plots.ipynb#" role="menuitem">Move Cell Up</a></li>
                        <li id="move_cell_down" role="none"><a href="http://localhost:8890/notebooks/Desktop/Data%20visualisation%20lessons/Data%20Visualization%20Project/DataViz%20Matteo/data_viz/plots.ipynb#" role="menuitem">Move Cell Down</a></li>
                        <li class="divider" role="none"></li>
                        <li id="edit_nb_metadata" role="none"><a href="http://localhost:8890/notebooks/Desktop/Data%20visualisation%20lessons/Data%20Visualization%20Project/DataViz%20Matteo/data_viz/plots.ipynb#" role="menuitem">Edit Notebook Metadata</a></li>
                        <li class="divider" role="none"></li>
                        <li id="find_and_replace" role="none"><a href="http://localhost:8890/notebooks/Desktop/Data%20visualisation%20lessons/Data%20Visualization%20Project/DataViz%20Matteo/data_viz/plots.ipynb#" role="menuitem"> Find and Replace </a></li>
                        <li class="divider" role="none"></li>
                        <li id="cut_cell_attachments" role="none"><a href="http://localhost:8890/notebooks/Desktop/Data%20visualisation%20lessons/Data%20Visualization%20Project/DataViz%20Matteo/data_viz/plots.ipynb#" role="menuitem">Cut Cell Attachments</a></li>
                        <li id="copy_cell_attachments" role="none"><a href="http://localhost:8890/notebooks/Desktop/Data%20visualisation%20lessons/Data%20Visualization%20Project/DataViz%20Matteo/data_viz/plots.ipynb#" role="menuitem">Copy Cell Attachments</a></li>
                        <li id="paste_cell_attachments" class="disabled" role="none"><a href="http://localhost:8890/notebooks/Desktop/Data%20visualisation%20lessons/Data%20Visualization%20Project/DataViz%20Matteo/data_viz/plots.ipynb#" role="menuitem" aria-disabled="true">Paste Cell Attachments</a></li>
                        <li class="divider" role="none"></li>
                        <li id="insert_image" class="disabled" role="none"><a href="http://localhost:8890/notebooks/Desktop/Data%20visualisation%20lessons/Data%20Visualization%20Project/DataViz%20Matteo/data_viz/plots.ipynb#" role="menuitem" aria-disabled="true">  Insert Image </a></li>
                    </ul>
                </li>
                <li class="dropdown"><a href="http://localhost:8890/notebooks/Desktop/Data%20visualisation%20lessons/Data%20Visualization%20Project/DataViz%20Matteo/data_viz/plots.ipynb#" class="dropdown-toggle" id="viewlink" data-toggle="dropdown" aria-haspopup="true" aria-controls="view_menu">View</a>
                    <ul id="view_menu" class="dropdown-menu" role="menu" aria-labelledby="viewlink">
                        <li id="toggle_header" role="none" title="Show/Hide the logo and notebook title (above menu bar)">
                            <a href="http://localhost:8890/notebooks/Desktop/Data%20visualisation%20lessons/Data%20Visualization%20Project/DataViz%20Matteo/data_viz/plots.ipynb#" role="menuitem">Toggle Header</a>
                        </li>
                        <li id="toggle_toolbar" role="none" title="Show/Hide the action icons (below menu bar)">
                            <a href="http://localhost:8890/notebooks/Desktop/Data%20visualisation%20lessons/Data%20Visualization%20Project/DataViz%20Matteo/data_viz/plots.ipynb#" role="menuitem">Toggle Toolbar</a>
                        </li>
                        <li id="toggle_line_numbers" role="none" title="Show/Hide line numbers in cells">
                            <a href="http://localhost:8890/notebooks/Desktop/Data%20visualisation%20lessons/Data%20Visualization%20Project/DataViz%20Matteo/data_viz/plots.ipynb#" role="menuitem" class="menu-shortcut-container"><span class="action">Toggle Line Numbers</span><span class="kb"><kbd>Shift-L</kbd></span></a>
                        </li>
                        <li id="menu-cell-toolbar" class="menu_focus_highlight dropdown-submenu" role="none">
                            <a href="http://localhost:8890/notebooks/Desktop/Data%20visualisation%20lessons/Data%20Visualization%20Project/DataViz%20Matteo/data_viz/plots.ipynb#" role="menuitem" aria-haspopup="true" aria-expanded="false" class="dropdown-toggle" data-toggle="dropdown">Cell Toolbar</a>
                            <ul class="dropdown-menu" id="menu-cell-toolbar-submenu"><li data-name="None"><a href="http://localhost:8890/notebooks/Desktop/Data%20visualisation%20lessons/Data%20Visualization%20Project/DataViz%20Matteo/data_viz/plots.ipynb#">None</a></li><li data-name="Edit%20Metadata"><a href="http://localhost:8890/notebooks/Desktop/Data%20visualisation%20lessons/Data%20Visualization%20Project/DataViz%20Matteo/data_viz/plots.ipynb#">Edit Metadata</a></li><li data-name="Raw%20Cell%20Format"><a href="http://localhost:8890/notebooks/Desktop/Data%20visualisation%20lessons/Data%20Visualization%20Project/DataViz%20Matteo/data_viz/plots.ipynb#">Raw Cell Format</a></li><li data-name="Slideshow"><a href="http://localhost:8890/notebooks/Desktop/Data%20visualisation%20lessons/Data%20Visualization%20Project/DataViz%20Matteo/data_viz/plots.ipynb#">Slideshow</a></li><li data-name="Attachments"><a href="http://localhost:8890/notebooks/Desktop/Data%20visualisation%20lessons/Data%20Visualization%20Project/DataViz%20Matteo/data_viz/plots.ipynb#">Attachments</a></li><li data-name="Tags"><a href="http://localhost:8890/notebooks/Desktop/Data%20visualisation%20lessons/Data%20Visualization%20Project/DataViz%20Matteo/data_viz/plots.ipynb#">Tags</a></li></ul>
                        </li>
                    </ul>
                </li>
                <li class="dropdown"><a href="http://localhost:8890/notebooks/Desktop/Data%20visualisation%20lessons/Data%20Visualization%20Project/DataViz%20Matteo/data_viz/plots.ipynb#" class="dropdown-toggle" id="insertlink" data-toggle="dropdown" aria-haspopup="true" aria-controls="insert_menu">Insert</a>
                    <ul id="insert_menu" class="dropdown-menu" role="menu" aria-labelledby="insertlink">
                        <li id="insert_cell_above" role="none" title="Insert an empty Code cell above the currently active cell">
                            <a href="http://localhost:8890/notebooks/Desktop/Data%20visualisation%20lessons/Data%20Visualization%20Project/DataViz%20Matteo/data_viz/plots.ipynb#" role="menuitem" class="menu-shortcut-container"><span class="action">Insert Cell Above</span><span class="kb"><kbd>A</kbd></span></a></li>
                        <li id="insert_cell_below" role="none" title="Insert an empty Code cell below the currently active cell">
                            <a href="http://localhost:8890/notebooks/Desktop/Data%20visualisation%20lessons/Data%20Visualization%20Project/DataViz%20Matteo/data_viz/plots.ipynb#" role="menuitem" class="menu-shortcut-container"><span class="action">Insert Cell Below</span><span class="kb"><kbd>B</kbd></span></a></li>
                    </ul>
                </li>
                <li class="dropdown"><a href="http://localhost:8890/notebooks/Desktop/Data%20visualisation%20lessons/Data%20Visualization%20Project/DataViz%20Matteo/data_viz/plots.ipynb#" class="dropdown-toggle" id="celllink" data-toggle="dropdown" aria-haspopup="true" aria-controls="cell_menu">Cell</a>
                    <ul id="cell_menu" class="dropdown-menu" role="menu" aria-labelledby="celllink">
                        <li id="run_cell" role="none" title="Run this cell, and move cursor to the next one">
                            <a role="menuitem" href="http://localhost:8890/notebooks/Desktop/Data%20visualisation%20lessons/Data%20Visualization%20Project/DataViz%20Matteo/data_viz/plots.ipynb#" class="menu-shortcut-container"><span class="action">Run Cells</span><span class="kb"><kbd>Ctrl-Enter</kbd></span></a></li>
                        <li id="run_cell_select_below" role="none" title="Run this cell, select below">
                            <a href="http://localhost:8890/notebooks/Desktop/Data%20visualisation%20lessons/Data%20Visualization%20Project/DataViz%20Matteo/data_viz/plots.ipynb#" role="menuitem" class="menu-shortcut-container"><span class="action">Run Cells and Select Below</span><span class="kb"><kbd>Shift-Enter</kbd></span></a></li>
                        <li id="run_cell_insert_below" role="none" title="Run this cell, insert below">
                            <a href="http://localhost:8890/notebooks/Desktop/Data%20visualisation%20lessons/Data%20Visualization%20Project/DataViz%20Matteo/data_viz/plots.ipynb#" role="menuitem" class="menu-shortcut-container"><span class="action">Run Cells and Insert Below</span><span class="kb"><kbd>Alt-Enter</kbd></span></a></li>
                        <li id="run_all_cells" role="none" title="Run all cells in the notebook">
                            <a href="http://localhost:8890/notebooks/Desktop/Data%20visualisation%20lessons/Data%20Visualization%20Project/DataViz%20Matteo/data_viz/plots.ipynb#" role="menuitem">Run All</a></li>
                        <li id="run_all_cells_above" role="none" title="Run all cells above (but not including) this cell">
                            <a href="http://localhost:8890/notebooks/Desktop/Data%20visualisation%20lessons/Data%20Visualization%20Project/DataViz%20Matteo/data_viz/plots.ipynb#" role="menuitem">Run All Above</a></li>
                        <li id="run_all_cells_below" role="none" title="Run this cell and all cells below it">
                            <a href="http://localhost:8890/notebooks/Desktop/Data%20visualisation%20lessons/Data%20Visualization%20Project/DataViz%20Matteo/data_viz/plots.ipynb#" role="menuitem">Run All Below</a></li>
                        <li class="divider" role="none"></li>
                        <li id="change_cell_type" class="menu_focus_highlight dropdown-submenu" role="none" title="All cells in the notebook have a cell type. By default, new cells are created as &#39;Code&#39; cells">
                            <a href="http://localhost:8890/notebooks/Desktop/Data%20visualisation%20lessons/Data%20Visualization%20Project/DataViz%20Matteo/data_viz/plots.ipynb#" role="menuitem" aria-haspopup="true" aria-expanded="false" class="dropdown-toggle" data-toggle="dropdown">Cell Type</a>
                            <ul class="dropdown-menu" role="menu">
                              <li id="to_code" role="none" title="Contents will be sent to the kernel for execution, and output will display in the footer of cell">
                                  <a href="http://localhost:8890/notebooks/Desktop/Data%20visualisation%20lessons/Data%20Visualization%20Project/DataViz%20Matteo/data_viz/plots.ipynb#" class="menu-shortcut-container"><span class="action">Code</span><span class="kb"><kbd>Y</kbd></span></a></li>
                              <li id="to_markdown" title="Contents will be rendered as HTML and serve as explanatory text">
                                  <a href="http://localhost:8890/notebooks/Desktop/Data%20visualisation%20lessons/Data%20Visualization%20Project/DataViz%20Matteo/data_viz/plots.ipynb#" class="menu-shortcut-container"><span class="action">Markdown</span><span class="kb"><kbd>M</kbd></span></a></li>
                              <li id="to_raw" title="Contents will pass through nbconvert unmodified">
                                  <a href="http://localhost:8890/notebooks/Desktop/Data%20visualisation%20lessons/Data%20Visualization%20Project/DataViz%20Matteo/data_viz/plots.ipynb#" class="menu-shortcut-container"><span class="action">Raw NBConvert</span><span class="kb"><kbd>R</kbd></span></a></li>
                            </ul>
                        </li>
                        <li class="divider" role="none"></li>
                        <li id="current_outputs" class="menu_focus_highlight dropdown-submenu" role="none"><a href="http://localhost:8890/notebooks/Desktop/Data%20visualisation%20lessons/Data%20Visualization%20Project/DataViz%20Matteo/data_viz/plots.ipynb#" role="menuitem" aria-haspopup="true" aria-expanded="false" class="dropdown-toggle" data-toggle="dropdown">Current Outputs</a>
                            <ul class="dropdown-menu" role="menu">
                                <li id="toggle_current_output" role="none" title="Hide/Show the output of the current cell">
                                    <a href="http://localhost:8890/notebooks/Desktop/Data%20visualisation%20lessons/Data%20Visualization%20Project/DataViz%20Matteo/data_viz/plots.ipynb#" class="menu-shortcut-container"><span class="action">Toggle</span><span class="kb"><kbd>O</kbd></span></a>
                                </li>
                                <li id="toggle_current_output_scroll" title="Scroll the output of the current cell">
                                    <a href="http://localhost:8890/notebooks/Desktop/Data%20visualisation%20lessons/Data%20Visualization%20Project/DataViz%20Matteo/data_viz/plots.ipynb#" class="menu-shortcut-container"><span class="action">Toggle Scrolling</span><span class="kb"><kbd>Shift-O</kbd></span></a>
                                </li>
                                <li id="clear_current_output" title="Clear the output of the current cell">
                                    <a href="http://localhost:8890/notebooks/Desktop/Data%20visualisation%20lessons/Data%20Visualization%20Project/DataViz%20Matteo/data_viz/plots.ipynb#">Clear</a>
                                </li>
                            </ul>
                        </li>
                        <li id="all_outputs" class="menu_focus_highlight dropdown-submenu" role="none"><a href="http://localhost:8890/notebooks/Desktop/Data%20visualisation%20lessons/Data%20Visualization%20Project/DataViz%20Matteo/data_viz/plots.ipynb#" role="menuitem" aria-haspopup="true" aria-expanded="false" class="dropdown-toggle" data-toggle="dropdown">All Output</a>
                            <ul class="dropdown-menu" role="menu">
                                <li id="toggle_all_output" role="none" title="Hide/Show the output of all cells">
                                    <a href="http://localhost:8890/notebooks/Desktop/Data%20visualisation%20lessons/Data%20Visualization%20Project/DataViz%20Matteo/data_viz/plots.ipynb#">Toggle</a>
                                </li>
                                <li id="toggle_all_output_scroll" title="Scroll the output of all cells">
                                    <a href="http://localhost:8890/notebooks/Desktop/Data%20visualisation%20lessons/Data%20Visualization%20Project/DataViz%20Matteo/data_viz/plots.ipynb#">Toggle Scrolling</a>
                                </li>
                                <li id="clear_all_output" title="Clear the output of all cells">
                                    <a href="http://localhost:8890/notebooks/Desktop/Data%20visualisation%20lessons/Data%20Visualization%20Project/DataViz%20Matteo/data_viz/plots.ipynb#">Clear</a>
                                </li>
                            </ul>
                        </li>
                    </ul>
                </li>
                <li class="dropdown"><a href="http://localhost:8890/notebooks/Desktop/Data%20visualisation%20lessons/Data%20Visualization%20Project/DataViz%20Matteo/data_viz/plots.ipynb#" class="dropdown-toggle" data-toggle="dropdown" id="kernellink">Kernel</a>
                    <ul id="kernel_menu" class="dropdown-menu" aria-labelledby="kernellink">
                        <li id="int_kernel" title="Send Keyboard Interrupt (CTRL-C) to the Kernel">
                            <a href="http://localhost:8890/notebooks/Desktop/Data%20visualisation%20lessons/Data%20Visualization%20Project/DataViz%20Matteo/data_viz/plots.ipynb#" class="menu-shortcut-container"><span class="action">Interrupt</span><span class="kb"><kbd>I</kbd>,<kbd>I</kbd></span></a>
                        </li>
                        <li id="restart_kernel" title="Restart the Kernel">
                            <a href="http://localhost:8890/notebooks/Desktop/Data%20visualisation%20lessons/Data%20Visualization%20Project/DataViz%20Matteo/data_viz/plots.ipynb#" class="menu-shortcut-container"><span class="action">Restart</span><span class="kb"><kbd>0</kbd>,<kbd>0</kbd></span></a>
                        </li>
                        <li id="restart_clear_output" title="Restart the Kernel and clear all output">
                            <a href="http://localhost:8890/notebooks/Desktop/Data%20visualisation%20lessons/Data%20Visualization%20Project/DataViz%20Matteo/data_viz/plots.ipynb#">Restart &amp; Clear Output</a>
                        </li>
                        <li id="restart_run_all" title="Restart the Kernel and re-run the notebook">
                            <a href="http://localhost:8890/notebooks/Desktop/Data%20visualisation%20lessons/Data%20Visualization%20Project/DataViz%20Matteo/data_viz/plots.ipynb#">Restart &amp; Run All</a>
                        </li>
                        <li id="reconnect_kernel" title="Reconnect to the Kernel">
                            <a href="http://localhost:8890/notebooks/Desktop/Data%20visualisation%20lessons/Data%20Visualization%20Project/DataViz%20Matteo/data_viz/plots.ipynb#">Reconnect</a>
                        </li>
                        <li id="shutdown_kernel" title="Shutdown the Kernel">
                            <a href="http://localhost:8890/notebooks/Desktop/Data%20visualisation%20lessons/Data%20Visualization%20Project/DataViz%20Matteo/data_viz/plots.ipynb#">Shutdown</a>
                        </li>
                        <li class="divider" role="none"></li>
                        <li id="menu-change-kernel" class="menu_focus_highlight dropdown-submenu" role="menuitem">
                            <a href="http://localhost:8890/notebooks/Desktop/Data%20visualisation%20lessons/Data%20Visualization%20Project/DataViz%20Matteo/data_viz/plots.ipynb#" role="menuitem" aria-haspopup="true" aria-expanded="false" class="dropdown-toggle" data-toggle="dropdown">Change kernel</a>
                            <ul class="dropdown-menu" id="menu-change-kernel-submenu"><li id="kernel-submenu-python3"><a href="http://localhost:8890/notebooks/Desktop/Data%20visualisation%20lessons/Data%20Visualization%20Project/DataViz%20Matteo/data_viz/plots.ipynb#">Python 3 (ipykernel)</a></li><li id="kernel-submenu-datavis"><a href="http://localhost:8890/notebooks/Desktop/Data%20visualisation%20lessons/Data%20Visualization%20Project/DataViz%20Matteo/data_viz/plots.ipynb#">datavis</a></li></ul>
                        </li>
                    </ul>
                </li>
                <li class="dropdown"><a href="http://localhost:8890/notebooks/Desktop/Data%20visualisation%20lessons/Data%20Visualization%20Project/DataViz%20Matteo/data_viz/plots.ipynb#" data-toggle="dropdown" class="dropdown-toggle">Widgets</a><ul id="widget-submenu" class="dropdown-menu"><li title="Save the notebook with the widget state information for static rendering"><a href="http://localhost:8890/notebooks/Desktop/Data%20visualisation%20lessons/Data%20Visualization%20Project/DataViz%20Matteo/data_viz/plots.ipynb#">Save Notebook Widget State</a></li><li title="Clear the widget state information from the notebook"><a href="http://localhost:8890/notebooks/Desktop/Data%20visualisation%20lessons/Data%20Visualization%20Project/DataViz%20Matteo/data_viz/plots.ipynb#">Clear Notebook Widget State</a></li><ul class="divider"></ul><li title="Download the widget state as a JSON file"><a href="http://localhost:8890/notebooks/Desktop/Data%20visualisation%20lessons/Data%20Visualization%20Project/DataViz%20Matteo/data_viz/plots.ipynb#">Download Widget State</a></li><li title="Embed interactive widgets"><a href="http://localhost:8890/notebooks/Desktop/Data%20visualisation%20lessons/Data%20Visualization%20Project/DataViz%20Matteo/data_viz/plots.ipynb#">Embed Widgets</a></li></ul></li><li class="dropdown"><a href="http://localhost:8890/notebooks/Desktop/Data%20visualisation%20lessons/Data%20Visualization%20Project/DataViz%20Matteo/data_viz/plots.ipynb#" class="dropdown-toggle" data-toggle="dropdown">Help</a>
                    <ul id="help_menu" class="dropdown-menu">
                        
                        <li id="notebook_tour" title="A quick tour of the notebook user interface"><a href="http://localhost:8890/notebooks/Desktop/Data%20visualisation%20lessons/Data%20Visualization%20Project/DataViz%20Matteo/data_viz/plots.ipynb#">User Interface Tour</a></li>
                        <li id="keyboard_shortcuts" title="Opens a tooltip with all keyboard shortcuts"><a href="http://localhost:8890/notebooks/Desktop/Data%20visualisation%20lessons/Data%20Visualization%20Project/DataViz%20Matteo/data_viz/plots.ipynb#" class="menu-shortcut-container"><span class="action">Keyboard Shortcuts</span><span class="kb"><kbd>H</kbd></span></a></li>
                        <li id="edit_keyboard_shortcuts" title="Opens a dialog allowing you to edit Keyboard shortcuts"><a href="http://localhost:8890/notebooks/Desktop/Data%20visualisation%20lessons/Data%20Visualization%20Project/DataViz%20Matteo/data_viz/plots.ipynb#">Edit Keyboard Shortcuts</a></li>
                        <li class="divider"></li>
                        

						
                        
                            
                                <li><a rel="noreferrer" href="http://nbviewer.jupyter.org/github/ipython/ipython/blob/3.x/examples/Notebook/Index.ipynb" target="_blank" title="Opens in a new window">
                                
                                    <i class="fa fa-external-link menu-icon pull-right"></i>
                                

                                Notebook Help
                                </a></li>
                            
                                <li><a rel="noreferrer" href="https://help.github.com/articles/markdown-basics/" target="_blank" title="Opens in a new window">
                                
                                    <i class="fa fa-external-link menu-icon pull-right"></i>
                                

                                Markdown
                                </a></li>
                            
                            
                        
                        <li id="kernel-help-links" class="divider"></li><li><a target="_blank" title="Opens in a new window" href="https://docs.python.org/3.8?v=20230327121928"><i class="fa fa-external-link menu-icon pull-right"></i><span>Python Reference</span></a></li><li><a target="_blank" title="Opens in a new window" href="https://ipython.org/documentation.html?v=20230327121928"><i class="fa fa-external-link menu-icon pull-right"></i><span>IPython Reference</span></a></li><li><a target="_blank" title="Opens in a new window" href="https://docs.scipy.org/doc/numpy/reference/?v=20230327121928"><i class="fa fa-external-link menu-icon pull-right"></i><span>NumPy Reference</span></a></li><li><a target="_blank" title="Opens in a new window" href="https://docs.scipy.org/doc/scipy/reference/?v=20230327121928"><i class="fa fa-external-link menu-icon pull-right"></i><span>SciPy Reference</span></a></li><li><a target="_blank" title="Opens in a new window" href="https://matplotlib.org/contents.html?v=20230327121928"><i class="fa fa-external-link menu-icon pull-right"></i><span>Matplotlib Reference</span></a></li><li><a target="_blank" title="Opens in a new window" href="http://docs.sympy.org/latest/index.html?v=20230327121928"><i class="fa fa-external-link menu-icon pull-right"></i><span>SymPy Reference</span></a></li><li><a target="_blank" title="Opens in a new window" href="https://pandas.pydata.org/pandas-docs/stable/?v=20230327121928"><i class="fa fa-external-link menu-icon pull-right"></i><span>pandas Reference</span></a></li><li class="divider"></li>
                        <li title="About Jupyter Notebook"><a id="notebook_about" href="http://localhost:8890/notebooks/Desktop/Data%20visualisation%20lessons/Data%20Visualization%20Project/DataViz%20Matteo/data_viz/plots.ipynb#">About</a></li>
                        
                    </ul>
                </li>
              </ul>
            </div>
        </div>
    </div>
</div>

<div id="maintoolbar" class="navbar">
  <div class="toolbar-inner navbar-inner navbar-nobg">
    <div id="maintoolbar-container" class="container toolbar"><div class="btn-group" id="save-notbook"><button class="btn btn-default" title="Save and Checkpoint" data-jupyter-action="jupyter-notebook:save-notebook"><i class="fa-save fa"></i></button></div><div class="btn-group" id="insert_above_below"><button class="btn btn-default" title="insert cell below" data-jupyter-action="jupyter-notebook:insert-cell-below"><i class="fa-plus fa"></i></button></div><div class="btn-group" id="cut_copy_paste"><button class="btn btn-default" title="cut selected cells" data-jupyter-action="jupyter-notebook:cut-cell"><i class="fa-cut fa"></i></button><button class="btn btn-default" title="copy selected cells" data-jupyter-action="jupyter-notebook:copy-cell"><i class="fa-copy fa"></i></button><button class="btn btn-default" title="paste cells below" data-jupyter-action="jupyter-notebook:paste-cell-below"><i class="fa-paste fa"></i></button></div><div class="btn-group" id="move_up_down"><button class="btn btn-default" title="move selected cells up" data-jupyter-action="jupyter-notebook:move-cell-up"><i class="fa-arrow-up fa"></i></button><button class="btn btn-default" title="move selected cells down" data-jupyter-action="jupyter-notebook:move-cell-down"><i class="fa-arrow-down fa"></i></button></div><div class="btn-group" id="run_int"><button class="btn btn-default" aria-label="Run" title="run cell, select below" data-jupyter-action="jupyter-notebook:run-cell-and-select-next"><i class="fa-play fa"></i><span class="toolbar-btn-label">Run</span></button><button class="btn btn-default" title="interrupt the kernel" data-jupyter-action="jupyter-notebook:interrupt-kernel"><i class="fa-stop fa"></i></button><button class="btn btn-default" title="restart the kernel (with dialog)" data-jupyter-action="jupyter-notebook:confirm-restart-kernel"><i class="fa-repeat fa"></i></button><button class="btn btn-default" title="restart the kernel, then re-run the whole notebook (with dialog)" data-jupyter-action="jupyter-notebook:confirm-restart-kernel-and-run-all-cells"><i class="fa-forward fa"></i></button></div><select id="cell_type" aria-label="combobox, select cell type" role="combobox" class="form-control select-xs"><option value="code">Code</option><option value="markdown">Markdown</option><option value="raw">Raw NBConvert</option><option value="heading">Heading</option><option value="multiselect" disabled="disabled" style="display: none;">-</option></select><div class="btn-group" id="cmd_palette"><button class="btn btn-default" title="open the command palette" data-jupyter-action="jupyter-notebook:show-command-palette"><i class="fa-keyboard-o fa"></i></button></div></div>
  </div>
</div>
</div>

<div class="lower-header-bar"></div>

</div>

<div id="site" style="display: block; height: 864.875px;">


<div id="ipython-main-app">
    <div id="notebook_panel">
        <div id="notebook" tabindex="-1"><div class="container" id="notebook-container"><div class="cell code_cell rendered unselected" tabindex="2"><div class="input"><div class="prompt_container"><div class="prompt input_prompt"><bdi>In</bdi>&nbsp;[7]:</div><div class="run_this_cell" title="Run this cell"><i class="fa-step-forward fa"></i></div></div><div class="inner_cell"><div class="ctb_hideshow"><div class="celltoolbar"></div></div><div class="input_area" aria-label="Edit code here"><div class="CodeMirror cm-s-ipython"><div style="overflow: hidden; position: relative; width: 3px; height: 0px; top: 39.5938px; left: 273.438px;"><textarea autocorrect="off" autocapitalize="off" spellcheck="false" tabindex="0" style="position: absolute; bottom: -1em; padding: 0px; width: 1000px; height: 1em; outline: none;"></textarea></div><div class="CodeMirror-vscrollbar" tabindex="-1" cm-not-content="true"><div style="min-width: 1px; height: 0px;"></div></div><div class="CodeMirror-hscrollbar" tabindex="-1" cm-not-content="true"><div style="height: 100%; min-height: 1px; width: 0px;"></div></div><div class="CodeMirror-scrollbar-filler" cm-not-content="true"></div><div class="CodeMirror-gutter-filler" cm-not-content="true"></div><div class="CodeMirror-scroll" tabindex="-1"><div class="CodeMirror-sizer" style="margin-left: 0px; min-width: 391.938px; margin-bottom: -17px; border-right-width: 33px; min-height: 79px; padding-right: 0px; padding-bottom: 0px;"><div style="position: relative; top: 0px;"><div class="CodeMirror-lines" role="presentation"><div role="presentation" style="position: relative; outline: none;"><div class="CodeMirror-measure"><pre class="CodeMirror-line-like"><span>xxxxxxxxxx</span></pre></div><div class="CodeMirror-measure"></div><div style="position: relative; z-index: 1;"></div><div class="CodeMirror-cursors" style=""><div class="CodeMirror-cursor" style="left: 273.438px; top: 34px; height: 17px;">&nbsp;</div></div><div class="CodeMirror-code" role="presentation"><pre class=" CodeMirror-line " role="presentation"><span role="presentation" style="padding-right: 0.1px;"><span class="cm-keyword">import</span> <span class="cm-variable">pandas</span> <span class="cm-keyword">as</span> <span class="cm-variable">pd</span> </span></pre><pre class=" CodeMirror-line " role="presentation"><span role="presentation" style="padding-right: 0.1px;"><span cm-text="">​</span></span></pre><pre class=" CodeMirror-line " role="presentation"><span role="presentation" style="padding-right: 0.1px;"><span class="cm-variable">df</span><span class="cm-operator">=</span><span class="cm-variable">pd</span>.<span class="cm-property">read_csv</span>(<span class="cm-string">'transfer_window_Mat.csv'</span>, <span class="cm-variable">sep</span><span class="cm-operator">=</span><span class="cm-string">';'</span>)</span></pre><pre class=" CodeMirror-line " role="presentation"><span role="presentation" style="padding-right: 0.1px;"><span cm-text="">​</span></span></pre></div></div></div></div></div><div style="position: absolute; height: 33px; width: 1px; border-bottom: 0px solid transparent; top: 79px;"></div><div class="CodeMirror-gutters" style="display: none; height: 112px;"></div></div></div></div></div></div><div class="output_wrapper"><div class="out_prompt_overlay prompt" title="click to scroll output; double click to hide"></div><div class="output"></div><div class="btn btn-default output_collapsed" title="click to expand output" style="display: none;">. . .</div></div></div><div class="cell code_cell rendered unselected" tabindex="2"><div class="input"><div class="prompt_container"><div class="prompt input_prompt"><bdi>In</bdi>&nbsp;[8]:</div><div class="run_this_cell" title="Run this cell"><i class="fa-step-forward fa"></i></div></div><div class="inner_cell"><div class="ctb_hideshow"><div class="celltoolbar"></div></div><div class="input_area" aria-label="Edit code here"><div class="CodeMirror cm-s-ipython"><div style="overflow: hidden; position: relative; width: 3px; height: 0px; top: 5.59375px; left: 4px;"><textarea autocorrect="off" autocapitalize="off" spellcheck="false" tabindex="0" style="position: absolute; bottom: -1em; padding: 0px; width: 1000px; height: 1em; outline: none;"></textarea></div><div class="CodeMirror-vscrollbar" tabindex="-1" cm-not-content="true"><div style="min-width: 1px; height: 0px;"></div></div><div class="CodeMirror-hscrollbar" tabindex="-1" cm-not-content="true"><div style="height: 100%; min-height: 1px; width: 0px;"></div></div><div class="CodeMirror-scrollbar-filler" cm-not-content="true"></div><div class="CodeMirror-gutter-filler" cm-not-content="true"></div><div class="CodeMirror-scroll" tabindex="-1"><div class="CodeMirror-sizer" style="margin-left: 0px; min-width: 245.672px; margin-bottom: -17px; border-right-width: 33px; min-height: 113px; padding-right: 0px; padding-bottom: 0px;"><div style="position: relative; top: 0px;"><div class="CodeMirror-lines" role="presentation"><div role="presentation" style="position: relative; outline: none;"><div class="CodeMirror-measure"></div><div class="CodeMirror-measure"></div><div style="position: relative; z-index: 1;"></div><div class="CodeMirror-cursors"><div class="CodeMirror-cursor" style="left: 4px; top: 0px; height: 17px;">&nbsp;</div></div><div class="CodeMirror-code" role="presentation" style=""><pre class=" CodeMirror-line " role="presentation"><span role="presentation" style="padding-right: 0.1px;"><span class="cm-keyword">import</span> <span class="cm-variable">matplotlib</span>.<span class="cm-property">pyplot</span> <span class="cm-keyword">as</span> <span class="cm-variable">plt</span></span></pre><pre class=" CodeMirror-line " role="presentation"><span role="presentation" style="padding-right: 0.1px;"><span class="cm-keyword">import</span> <span class="cm-variable">matplotlib</span> <span class="cm-keyword">as</span> <span class="cm-variable">mpl</span></span></pre><pre class=" CodeMirror-line " role="presentation"><span role="presentation" style="padding-right: 0.1px;"><span class="cm-keyword">import</span> <span class="cm-variable">pandas</span> <span class="cm-keyword">as</span> <span class="cm-variable">pd</span></span></pre><pre class=" CodeMirror-line " role="presentation"><span role="presentation" style="padding-right: 0.1px;"><span class="cm-keyword">import</span> <span class="cm-variable">seaborn</span> <span class="cm-keyword">as</span> <span class="cm-variable">sns</span></span></pre><pre class=" CodeMirror-line " role="presentation"><span role="presentation" style="padding-right: 0.1px;"><span class="cm-variable">sns</span>.<span class="cm-property">set</span>()</span></pre><pre class=" CodeMirror-line " role="presentation"><span role="presentation" style="padding-right: 0.1px;"><span class="cm-operator">%</span><span class="cm-variable">matplotlib</span> <span class="cm-variable">notebook</span></span></pre></div></div></div></div></div><div style="position: absolute; height: 33px; width: 1px; border-bottom: 0px solid transparent; top: 113px;"></div><div class="CodeMirror-gutters" style="display: none; height: 146px;"></div></div></div></div></div></div><div class="output_wrapper"><div class="out_prompt_overlay prompt" title="click to scroll output; double click to hide"></div><div class="output"></div><div class="btn btn-default output_collapsed" title="click to expand output" style="display: none;">. . .</div></div></div><div class="cell code_cell rendered unselected" tabindex="2"><div class="input"><div class="prompt_container"><div class="prompt input_prompt"><bdi>In</bdi>&nbsp;[9]:</div><div class="run_this_cell" title="Run this cell"><i class="fa-step-forward fa"></i></div></div><div class="inner_cell"><div class="ctb_hideshow"><div class="celltoolbar"></div></div><div class="input_area" aria-label="Edit code here"><div class="CodeMirror cm-s-ipython"><div style="overflow: hidden; position: relative; width: 3px; height: 0px; top: 73.5938px; left: 4px;"><textarea autocorrect="off" autocapitalize="off" spellcheck="false" tabindex="0" style="position: absolute; bottom: -1em; padding: 0px; width: 1000px; height: 1em; outline: none;"></textarea></div><div class="CodeMirror-vscrollbar" tabindex="-1" cm-not-content="true" style="bottom: 0px;"><div style="min-width: 1px; height: 0px;"></div></div><div class="CodeMirror-hscrollbar" tabindex="-1" cm-not-content="true"><div style="height: 100%; min-height: 1px; width: 0px;"></div></div><div class="CodeMirror-scrollbar-filler" cm-not-content="true"></div><div class="CodeMirror-gutter-filler" cm-not-content="true"></div><div class="CodeMirror-scroll" tabindex="-1"><div class="CodeMirror-sizer" style="margin-left: 0px; min-width: 484.328px; margin-bottom: -17px; border-right-width: 33px; min-height: 266px; padding-right: 0px; padding-bottom: 0px;"><div style="position: relative; top: 0px;"><div class="CodeMirror-lines" role="presentation"><div role="presentation" style="position: relative; outline: none;"><div class="CodeMirror-measure"></div><div class="CodeMirror-measure"></div><div style="position: relative; z-index: 1;"></div><div class="CodeMirror-cursors" style=""><div class="CodeMirror-cursor" style="left: 4px; top: 68px; height: 17px;">&nbsp;</div></div><div class="CodeMirror-code" role="presentation" style=""><pre class=" CodeMirror-line " role="presentation"><span role="presentation" style="padding-right: 0.1px;"><span class="cm-comment">#data preparation club two sided barchart</span></span></pre><pre class=" CodeMirror-line " role="presentation"><span role="presentation" style="padding-right: 0.1px;"><span class="cm-variable">in_transfer</span><span class="cm-operator">=</span><span class="cm-variable">df</span>.<span class="cm-property">groupby</span>(<span class="cm-variable">by</span><span class="cm-operator">=</span>[<span class="cm-string">"club_to"</span>]).<span class="cm-property">sum</span>([<span class="cm-string">'fee'</span>])</span></pre><pre class=" CodeMirror-line " role="presentation"><span role="presentation" style="padding-right: 0.1px;"><span class="cm-variable">in_transfer</span><span class="cm-operator">=</span><span class="cm-variable">in_transfer</span>.<span class="cm-property">rename</span>(<span class="cm-variable">columns</span><span class="cm-operator">=</span>{<span class="cm-string">"fee"</span>: <span class="cm-string">"expenditure"</span>})</span></pre><pre class=" CodeMirror-line " role="presentation"><span role="presentation" style="padding-right: 0.1px;"><span class="cm-variable">in_transfer</span>[<span class="cm-string">'id'</span>]<span class="cm-operator">=</span><span class="cm-variable">in_transfer</span>.<span class="cm-property">index</span></span></pre><pre class=" CodeMirror-line " role="presentation"><span role="presentation" style="padding-right: 0.1px;"><span cm-text="">​</span></span></pre><pre class=" CodeMirror-line " role="presentation"><span role="presentation" style="padding-right: 0.1px;"><span class="cm-variable">out_transfer</span><span class="cm-operator">=</span><span class="cm-variable">df</span>.<span class="cm-property">groupby</span>(<span class="cm-variable">by</span><span class="cm-operator">=</span>[<span class="cm-string">"club_from"</span>]).<span class="cm-property">sum</span>([<span class="cm-string">'fee'</span>])</span></pre><pre class=" CodeMirror-line " role="presentation"><span role="presentation" style="padding-right: 0.1px;"><span class="cm-variable">out_transfer</span>[<span class="cm-string">'id'</span>]<span class="cm-operator">=</span><span class="cm-variable">out_transfer</span>.<span class="cm-property">index</span></span></pre><pre class=" CodeMirror-line " role="presentation"><span role="presentation" style="padding-right: 0.1px;"><span class="cm-variable">out_transfer</span><span class="cm-operator">=</span><span class="cm-variable">out_transfer</span>.<span class="cm-property">rename</span>(<span class="cm-variable">columns</span><span class="cm-operator">=</span>{<span class="cm-string">"fee"</span>: <span class="cm-string">"revenue"</span>})</span></pre><pre class=" CodeMirror-line " role="presentation"><span role="presentation" style="padding-right: 0.1px;"><span cm-text="">​</span></span></pre><pre class=" CodeMirror-line " role="presentation"><span role="presentation" style="padding-right: 0.1px;"><span class="cm-variable">balance</span><span class="cm-operator">=</span><span class="cm-variable">out_transfer</span>.<span class="cm-property">merge</span>(<span class="cm-variable">in_transfer</span>, <span class="cm-variable">how</span><span class="cm-operator">=</span><span class="cm-string">'inner'</span>, <span class="cm-variable">on</span><span class="cm-operator">=</span><span class="cm-string">'id'</span>)</span></pre><pre class=" CodeMirror-line " role="presentation"><span role="presentation" style="padding-right: 0.1px;"><span class="cm-variable">balance</span><span class="cm-operator">=</span><span class="cm-variable">balance</span>.<span class="cm-property">loc</span>[:,[<span class="cm-string">'id'</span>, <span class="cm-string">'revenue'</span>,<span class="cm-string">'expenditure'</span>]]</span></pre><pre class=" CodeMirror-line " role="presentation"><span role="presentation" style="padding-right: 0.1px;"><span class="cm-variable">balance</span>[<span class="cm-string">'expenditure'</span>] <span class="cm-operator">=</span> <span class="cm-variable">balance</span>[<span class="cm-string">'expenditure'</span>]<span class="cm-operator">*</span>(<span class="cm-operator">-</span><span class="cm-number">1</span>)</span></pre><pre class=" CodeMirror-line " role="presentation"><span role="presentation" style="padding-right: 0.1px;"><span cm-text="">​</span></span></pre><pre class=" CodeMirror-line " role="presentation"><span role="presentation" style="padding-right: 0.1px;"><span class="cm-variable">balance</span><span class="cm-operator">=</span><span class="cm-variable">balance</span>.<span class="cm-property">sort_values</span>(<span class="cm-variable">by</span><span class="cm-operator">=</span>[<span class="cm-string">'expenditure'</span>])</span></pre><pre class=" CodeMirror-line " role="presentation"><span role="presentation" style="padding-right: 0.1px;"><span class="cm-variable">balance_20</span><span class="cm-operator">=</span><span class="cm-variable">balance</span>.<span class="cm-property">head</span>(<span class="cm-number">20</span>)</span></pre></div></div></div></div></div><div style="position: absolute; height: 33px; width: 1px; border-bottom: 0px solid transparent; top: 266px;"></div><div class="CodeMirror-gutters" style="display: none; height: 299px;"></div></div></div></div></div></div><div class="output_wrapper"><div class="out_prompt_overlay prompt" title="click to scroll output; double click to hide"></div><div class="output"></div><div class="btn btn-default output_collapsed" title="click to expand output" style="display: none;">. . .</div></div></div><div class="cell code_cell rendered unselected" tabindex="2"><div class="input"><div class="prompt_container"><div class="prompt input_prompt"><bdi>In</bdi>&nbsp;[10]:</div><div class="run_this_cell" title="Run this cell"><i class="fa-step-forward fa"></i></div></div><div class="inner_cell"><div class="ctb_hideshow"><div class="celltoolbar"></div></div><div class="input_area" aria-label="Edit code here"><div class="CodeMirror cm-s-ipython"><div style="overflow: hidden; position: relative; width: 3px; height: 0px; top: 5.59375px; left: 4px;"><textarea autocorrect="off" autocapitalize="off" spellcheck="false" tabindex="0" style="position: absolute; bottom: -1em; padding: 0px; width: 1000px; height: 1em; outline: none;"></textarea></div><div class="CodeMirror-vscrollbar" tabindex="-1" cm-not-content="true"><div style="min-width: 1px; height: 0px;"></div></div><div class="CodeMirror-hscrollbar" tabindex="-1" cm-not-content="true"><div style="height: 100%; min-height: 1px; width: 0px;"></div></div><div class="CodeMirror-scrollbar-filler" cm-not-content="true"></div><div class="CodeMirror-gutter-filler" cm-not-content="true"></div><div class="CodeMirror-scroll" tabindex="-1"><div class="CodeMirror-sizer" style="margin-left: 0px; min-width: 83.9844px; margin-bottom: -17px; border-right-width: 33px; min-height: 28px; padding-right: 0px; padding-bottom: 0px;"><div style="position: relative; top: 0px;"><div class="CodeMirror-lines" role="presentation"><div role="presentation" style="position: relative; outline: none;"><div class="CodeMirror-measure"></div><div class="CodeMirror-measure"></div><div style="position: relative; z-index: 1;"></div><div class="CodeMirror-cursors"><div class="CodeMirror-cursor" style="left: 4px; top: 0px; height: 17px;">&nbsp;</div></div><div class="CodeMirror-code" role="presentation"><pre class=" CodeMirror-line " role="presentation"><span role="presentation" style="padding-right: 0.1px;"><span class="cm-variable">balance_20</span></span></pre></div></div></div></div></div><div style="position: absolute; height: 33px; width: 1px; border-bottom: 0px solid transparent; top: 28px;"></div><div class="CodeMirror-gutters" style="display: none; height: 61px;"></div></div></div></div></div></div><div class="output_wrapper"><div class="out_prompt_overlay prompt" title="click to scroll output; double click to hide"></div><div class="output"><div class="output_area"><div class="run_this_cell"></div><div class="prompt output_prompt"><bdi>Out[10]:</bdi></div><div class="output_subarea output_html rendered_html output_result" dir="auto"><div>
<style scoped="">
    .dataframe tbody tr th:only-of-type {
        vertical-align: middle;
    }

    .dataframe tbody tr th {
        vertical-align: top;
    }

    .dataframe thead th {
        text-align: right;
    }
</style>
<table border="1" class="dataframe">
  <thead>
    <tr style="text-align: right;">
      <th></th>
      <th>id</th>
      <th>revenue</th>
      <th>expenditure</th>
    </tr>
  </thead>
  <tbody>
    <tr>
      <th>58</th>
      <td>Chelsea FC</td>
      <td>65500000</td>
      <td>-610000000</td>
    </tr>
    <tr>
      <th>137</th>
      <td>Manchester United</td>
      <td>3000000</td>
      <td>-241000000</td>
    </tr>
    <tr>
      <th>24</th>
      <td>Arsenal FC</td>
      <td>23000000</td>
      <td>-191000000</td>
    </tr>
    <tr>
      <th>223</th>
      <td>West Ham United</td>
      <td>20000000</td>
      <td>-191000000</td>
    </tr>
    <tr>
      <th>144</th>
      <td>Newcastle United</td>
      <td>2000000</td>
      <td>-183000000</td>
    </tr>
    <tr>
      <th>205</th>
      <td>Tottenham Hotspur</td>
      <td>38500000</td>
      <td>-177000000</td>
    </tr>
    <tr>
      <th>146</th>
      <td>Nottingham Forest</td>
      <td>5000000</td>
      <td>-175000000</td>
    </tr>
    <tr>
      <th>224</th>
      <td>Wolverhampton Wanderers</td>
      <td>58000000</td>
      <td>-172000000</td>
    </tr>
    <tr>
      <th>82</th>
      <td>FC Barcelona</td>
      <td>39000000</td>
      <td>-158000000</td>
    </tr>
    <tr>
      <th>136</th>
      <td>Manchester City</td>
      <td>156000000</td>
      <td>-150000000</td>
    </tr>
    <tr>
      <th>153</th>
      <td>Paris Saint-Germain</td>
      <td>56000000</td>
      <td>-147000000</td>
    </tr>
    <tr>
      <th>34</th>
      <td>Bayern Munich</td>
      <td>101000000</td>
      <td>-145000000</td>
    </tr>
    <tr>
      <th>130</th>
      <td>Leeds United</td>
      <td>111500000</td>
      <td>-144000000</td>
    </tr>
    <tr>
      <th>132</th>
      <td>Liverpool FC</td>
      <td>76000000</td>
      <td>-135000000</td>
    </tr>
    <tr>
      <th>188</th>
      <td>Southampton FC</td>
      <td>5000000</td>
      <td>-126000000</td>
    </tr>
    <tr>
      <th>13</th>
      <td>Ajax Amsterdam</td>
      <td>214150000</td>
      <td>-120000000</td>
    </tr>
    <tr>
      <th>150</th>
      <td>Olympique Marseille</td>
      <td>36750000</td>
      <td>-114000000</td>
    </tr>
    <tr>
      <th>176</th>
      <td>SL Benfica</td>
      <td>253300000</td>
      <td>-112000000</td>
    </tr>
    <tr>
      <th>122</th>
      <td>Juventus FC</td>
      <td>105000000</td>
      <td>-104750000</td>
    </tr>
    <tr>
      <th>39</th>
      <td>Borussia Dortmund</td>
      <td>77500000</td>
      <td>-104000000</td>
    </tr>
  </tbody>
</table>
</div></div></div></div><div class="btn btn-default output_collapsed" title="click to expand output" style="display: none;">. . .</div></div></div><div class="cell code_cell rendered unselected" tabindex="2"><div class="input"><div class="prompt_container"><div class="prompt input_prompt"><bdi>In</bdi>&nbsp;[11]:</div><div class="run_this_cell" title="Run this cell"><i class="fa-step-forward fa"></i></div></div><div class="inner_cell"><div class="ctb_hideshow"><div class="celltoolbar"></div></div><div class="input_area" aria-label="Edit code here"><div class="CodeMirror cm-s-ipython"><div style="overflow: hidden; position: relative; width: 3px; height: 0px; top: 5.59375px; left: 4px;"><textarea autocorrect="off" autocapitalize="off" spellcheck="false" tabindex="0" style="position: absolute; bottom: -1em; padding: 0px; width: 1000px; height: 1em; outline: none;"></textarea></div><div class="CodeMirror-vscrollbar" tabindex="-1" cm-not-content="true"><div style="min-width: 1px; height: 0px;"></div></div><div class="CodeMirror-hscrollbar" tabindex="-1" cm-not-content="true"><div style="height: 100%; min-height: 1px; width: 0px;"></div></div><div class="CodeMirror-scrollbar-filler" cm-not-content="true"></div><div class="CodeMirror-gutter-filler" cm-not-content="true"></div><div class="CodeMirror-scroll" tabindex="-1"><div class="CodeMirror-sizer" style="margin-left: 0px; min-width: 515.141px; margin-bottom: -17px; border-right-width: 33px; min-height: 113px; padding-right: 0px; padding-bottom: 0px;"><div style="position: relative; top: 0px;"><div class="CodeMirror-lines" role="presentation"><div role="presentation" style="position: relative; outline: none;"><div class="CodeMirror-measure"></div><div class="CodeMirror-measure"></div><div style="position: relative; z-index: 1;"></div><div class="CodeMirror-cursors"><div class="CodeMirror-cursor" style="left: 4px; top: 0px; height: 17px;">&nbsp;</div></div><div class="CodeMirror-code" role="presentation" style=""><pre class=" CodeMirror-line " role="presentation"><span role="presentation" style="padding-right: 0.1px;"><span class="cm-comment"># plot the bars</span></span></pre><pre class=" CodeMirror-line " role="presentation"><span role="presentation" style="padding-right: 0.1px;"><span class="cm-variable">plt</span>.<span class="cm-property">barh</span>(<span class="cm-variable">balance_20</span>[<span class="cm-string">'id'</span>], <span class="cm-variable">balance_20</span>[<span class="cm-string">'revenue'</span>], <span class="cm-variable">color</span> <span class="cm-operator">=</span> <span class="cm-string">'g'</span>)</span></pre><pre class=" CodeMirror-line " role="presentation"><span role="presentation" style="padding-right: 0.1px;"><span class="cm-variable">plt</span>.<span class="cm-property">barh</span>(<span class="cm-variable">balance_20</span>[<span class="cm-string">'id'</span>], <span class="cm-variable">balance_20</span>[<span class="cm-string">'expenditure'</span>], <span class="cm-variable">color</span> <span class="cm-operator">=</span> <span class="cm-string">'r'</span>)</span></pre><pre class=" CodeMirror-line " role="presentation"><span role="presentation" style="padding-right: 0.1px;"><span class="cm-variable">plt</span>.<span class="cm-property">title</span>(<span class="cm-string">"Back-to-Back Bar Chart"</span>)</span></pre><pre class=" CodeMirror-line " role="presentation"><span role="presentation" style="padding-right: 0.1px;"><span class="cm-variable">plt</span>.<span class="cm-property">yticks</span>(<span class="cm-variable">fontsize</span><span class="cm-operator">=</span><span class="cm-number">8</span>)</span></pre><pre class=" CodeMirror-line " role="presentation"><span role="presentation" style="padding-right: 0.1px;"><span class="cm-variable">plt</span>.<span class="cm-property">show</span>()</span></pre></div></div></div></div></div><div style="position: absolute; height: 33px; width: 1px; border-bottom: 0px solid transparent; top: 113px;"></div><div class="CodeMirror-gutters" style="display: none; height: 146px;"></div></div></div></div></div></div><div class="output_wrapper"><div class="out_prompt_overlay prompt" title="click to unscroll output; double click to hide"></div><div class="output output_scroll"><div class="output_area"><div class="run_this_cell"></div><div class="prompt"></div><div class="output_subarea output_javascript rendered_html" dir="auto"></div></div><div class="output_area"><div class="run_this_cell"></div><div class="prompt"></div><div class="output_subarea output_html rendered_html" dir="auto"><div id="5a269101-3a8a-4033-8709-d5c89d65b368"><div style="display: inline-block; box-sizing: content-box;"><div class="ui-dialog-titlebar ui-widget-header ui-corner-all ui-helper-clearfix"><div class="btn-group inline pull-right"><button class="btn btn-mini btn-primary" title="Stop Interaction"><i class="fa fa-power-off icon-remove icon-large"></i></button></div><div class="ui-dialog-title" style="width: 100%; text-align: center; padding: 3px;">Figure 1</div></div><div tabindex="0" style="border: 1px solid rgb(221, 221, 221); box-sizing: content-box; clear: both; min-height: 1px; min-width: 1px; outline: 0px; overflow: hidden; position: relative; resize: both; z-index: 2; width: 640px; height: 480px; cursor: default;"><canvas class="mpl-canvas" style="box-sizing: content-box; pointer-events: none; position: relative; z-index: 0; width: 640px; height: 480px;" width="640" height="480"></canvas><canvas style="box-sizing: content-box;left: 0;pointer-events: none;position: absolute;top: 0;z-index: 1;" width="640" height="480"></canvas></div><div class="btn-toolbar"><div class="btn-group"><button class="btn btn-default" title="Home"><i class="fa fa fa-home fa-lg"></i></button><button class="btn btn-default" title="Back" disabled="" aria-disabled="true"><i class="fa fa fa-arrow-left fa-lg"></i></button><button class="btn btn-default" title="Forward" disabled="" aria-disabled="true"><i class="fa fa fa-arrow-right fa-lg"></i></button></div><div class="btn-group"><button class="btn btn-default" title="Pan"><i class="fa fa fa-arrows fa-lg"></i></button><button class="btn btn-default" title="Zoom"><i class="fa fa fa-square-o fa-lg"></i></button></div><div class="btn-group"><button class="btn btn-default" title="Download"><i class="fa fa fa-floppy-o fa-lg"></i></button></div><span class="mpl-message pull-right"></span></div></div></div></div></div></div><div class="btn btn-default output_collapsed" title="click to expand output" style="display: none;">. . .</div></div></div><div class="cell code_cell rendered unselected" tabindex="2"><div class="input"><div class="prompt_container"><div class="prompt input_prompt"><bdi>In</bdi>&nbsp;[12]:</div><div class="run_this_cell" title="Run this cell"><i class="fa-step-forward fa"></i></div></div><div class="inner_cell"><div class="ctb_hideshow"><div class="celltoolbar"></div></div><div class="input_area" aria-label="Edit code here"><div class="CodeMirror cm-s-ipython"><div style="overflow: hidden; position: relative; width: 3px; height: 0px; top: 5.59375px; left: 4px;"><textarea autocorrect="off" autocapitalize="off" spellcheck="false" tabindex="0" style="position: absolute; bottom: -1em; padding: 0px; width: 1000px; height: 1em; outline: none;"></textarea></div><div class="CodeMirror-vscrollbar" tabindex="-1" cm-not-content="true"><div style="min-width: 1px; height: 0px;"></div></div><div class="CodeMirror-hscrollbar" tabindex="-1" cm-not-content="true"><div style="height: 100%; min-height: 1px; width: 0px;"></div></div><div class="CodeMirror-scrollbar-filler" cm-not-content="true"></div><div class="CodeMirror-gutter-filler" cm-not-content="true"></div><div class="CodeMirror-scroll" tabindex="-1"><div class="CodeMirror-sizer" style="margin-left: 0px; min-width: 399.641px; margin-bottom: -17px; border-right-width: 33px; min-height: 130px; padding-right: 0px; padding-bottom: 0px;"><div style="position: relative; top: 0px;"><div class="CodeMirror-lines" role="presentation"><div role="presentation" style="position: relative; outline: none;"><div class="CodeMirror-measure"></div><div class="CodeMirror-measure"></div><div style="position: relative; z-index: 1;"></div><div class="CodeMirror-cursors"><div class="CodeMirror-cursor" style="left: 4px; top: 0px; height: 17px;">&nbsp;</div></div><div class="CodeMirror-code" role="presentation" style=""><pre class=" CodeMirror-line " role="presentation"><span role="presentation" style="padding-right: 0.1px;"><span class="cm-comment">#change nation variable</span></span></pre><pre class=" CodeMirror-line " role="presentation"><span role="presentation" style="padding-right: 0.1px;"><span class="cm-variable">lst</span><span class="cm-operator">=</span>[<span class="cm-string">'Italy'</span>,<span class="cm-string">'England'</span>,<span class="cm-string">'France'</span>, <span class="cm-string">'Spain'</span>,<span class="cm-string">'Germany'</span>]</span></pre><pre class=" CodeMirror-line " role="presentation"><span role="presentation" style="padding-right: 0.1px;"><span class="cm-keyword">for</span> <span class="cm-variable">index</span>,<span class="cm-variable">row</span> <span class="cm-keyword">in</span> <span class="cm-variable">df</span>.<span class="cm-property">iterrows</span>():</span></pre><pre class=" CodeMirror-line " role="presentation"><span role="presentation" style="padding-right: 0.1px;">    <span class="cm-keyword">if</span> <span class="cm-variable">row</span>[<span class="cm-string">'country_to'</span>] <span class="cm-keyword">not</span> <span class="cm-keyword">in</span> <span class="cm-variable">lst</span>:</span></pre><pre class=" CodeMirror-line " role="presentation"><span role="presentation" style="padding-right: 0.1px;">        <span class="cm-variable">row</span>[<span class="cm-string">'country_to'</span>]<span class="cm-operator">=</span><span class="cm-string">'Other'</span></span></pre><pre class=" CodeMirror-line " role="presentation"><span role="presentation" style="padding-right: 0.1px;">    <span class="cm-keyword">if</span> <span class="cm-variable">row</span>[<span class="cm-string">'country_from'</span>] <span class="cm-keyword">not</span> <span class="cm-keyword">in</span> <span class="cm-variable">lst</span>:</span></pre><pre class=" CodeMirror-line " role="presentation"><span role="presentation" style="padding-right: 0.1px;">        <span class="cm-variable">row</span>[<span class="cm-string">'country_from'</span>]<span class="cm-operator">=</span><span class="cm-string">'Other'</span></span></pre></div></div></div></div></div><div style="position: absolute; height: 33px; width: 1px; border-bottom: 0px solid transparent; top: 130px;"></div><div class="CodeMirror-gutters" style="display: none; height: 163px;"></div></div></div></div></div></div><div class="output_wrapper"><div class="out_prompt_overlay prompt" title="click to scroll output; double click to hide"></div><div class="output"></div><div class="btn btn-default output_collapsed" title="click to expand output" style="display: none;">. . .</div></div></div><div class="cell code_cell rendered unselected" tabindex="2"><div class="input"><div class="prompt_container"><div class="prompt input_prompt"><bdi>In</bdi>&nbsp;[13]:</div><div class="run_this_cell" title="Run this cell"><i class="fa-step-forward fa"></i></div></div><div class="inner_cell"><div class="ctb_hideshow"><div class="celltoolbar"></div></div><div class="input_area" aria-label="Edit code here"><div class="CodeMirror cm-s-ipython"><div style="overflow: hidden; position: relative; width: 3px; height: 0px; top: 5.59375px; left: 4px;"><textarea autocorrect="off" autocapitalize="off" spellcheck="false" tabindex="0" style="position: absolute; bottom: -1em; padding: 0px; width: 1000px; height: 1em; outline: none;"></textarea></div><div class="CodeMirror-vscrollbar" tabindex="-1" cm-not-content="true" style="bottom: 0px;"><div style="min-width: 1px; height: 0px;"></div></div><div class="CodeMirror-hscrollbar" tabindex="-1" cm-not-content="true"><div style="height: 100%; min-height: 1px; width: 0px;"></div></div><div class="CodeMirror-scrollbar-filler" cm-not-content="true"></div><div class="CodeMirror-gutter-filler" cm-not-content="true"></div><div class="CodeMirror-scroll" tabindex="-1"><div class="CodeMirror-sizer" style="margin-left: 0px; min-width: 522.844px; margin-bottom: -17px; border-right-width: 33px; min-height: 283px; padding-right: 0px; padding-bottom: 0px;"><div style="position: relative; top: 0px;"><div class="CodeMirror-lines" role="presentation"><div role="presentation" style="position: relative; outline: none;"><div class="CodeMirror-measure"></div><div class="CodeMirror-measure"></div><div style="position: relative; z-index: 1;"></div><div class="CodeMirror-cursors"><div class="CodeMirror-cursor" style="left: 4px; top: 0px; height: 17px;">&nbsp;</div></div><div class="CodeMirror-code" role="presentation" style=""><pre class=" CodeMirror-line " role="presentation"><span role="presentation" style="padding-right: 0.1px;"><span class="cm-comment">#data preparation nation two sided barchart</span></span></pre><pre class=" CodeMirror-line " role="presentation"><span role="presentation" style="padding-right: 0.1px;"><span class="cm-variable">in_transfer_n</span><span class="cm-operator">=</span><span class="cm-variable">df</span>.<span class="cm-property">groupby</span>(<span class="cm-variable">by</span><span class="cm-operator">=</span>[<span class="cm-string">"country_to"</span>]).<span class="cm-property">sum</span>([<span class="cm-string">'fee'</span>])</span></pre><pre class=" CodeMirror-line " role="presentation"><span role="presentation" style="padding-right: 0.1px;"><span class="cm-variable">in_transfer_n</span><span class="cm-operator">=</span><span class="cm-variable">in_transfer_n</span>.<span class="cm-property">rename</span>(<span class="cm-variable">columns</span><span class="cm-operator">=</span>{<span class="cm-string">"fee"</span>: <span class="cm-string">"expenditure"</span>})</span></pre><pre class=" CodeMirror-line " role="presentation"><span role="presentation" style="padding-right: 0.1px;"><span class="cm-variable">in_transfer_n</span>[<span class="cm-string">'id'</span>]<span class="cm-operator">=</span><span class="cm-variable">in_transfer_n</span>.<span class="cm-property">index</span></span></pre><pre class=" CodeMirror-line " role="presentation"><span role="presentation" style="padding-right: 0.1px;"><span cm-text="">​</span></span></pre><pre class=" CodeMirror-line " role="presentation"><span role="presentation" style="padding-right: 0.1px;"><span class="cm-variable">out_transfer_n</span><span class="cm-operator">=</span><span class="cm-variable">df</span>.<span class="cm-property">groupby</span>(<span class="cm-variable">by</span><span class="cm-operator">=</span>[<span class="cm-string">"country_from"</span>]).<span class="cm-property">sum</span>([<span class="cm-string">'fee'</span>])</span></pre><pre class=" CodeMirror-line " role="presentation"><span role="presentation" style="padding-right: 0.1px;"><span class="cm-variable">out_transfer_n</span>[<span class="cm-string">'id'</span>]<span class="cm-operator">=</span><span class="cm-variable">out_transfer_n</span>.<span class="cm-property">index</span></span></pre><pre class=" CodeMirror-line " role="presentation"><span role="presentation" style="padding-right: 0.1px;"><span class="cm-variable">out_transfer_n</span><span class="cm-operator">=</span><span class="cm-variable">out_transfer_n</span>.<span class="cm-property">rename</span>(<span class="cm-variable">columns</span><span class="cm-operator">=</span>{<span class="cm-string">"fee"</span>: <span class="cm-string">"revenue"</span>})</span></pre><pre class=" CodeMirror-line " role="presentation"><span role="presentation" style="padding-right: 0.1px;"><span cm-text="">​</span></span></pre><pre class=" CodeMirror-line " role="presentation"><span role="presentation" style="padding-right: 0.1px;"><span class="cm-variable">balance_n</span><span class="cm-operator">=</span><span class="cm-variable">out_transfer_n</span>.<span class="cm-property">merge</span>(<span class="cm-variable">in_transfer_n</span>, <span class="cm-variable">how</span><span class="cm-operator">=</span><span class="cm-string">'inner'</span>, <span class="cm-variable">on</span><span class="cm-operator">=</span><span class="cm-string">'id'</span>)</span></pre><pre class=" CodeMirror-line " role="presentation"><span role="presentation" style="padding-right: 0.1px;"><span class="cm-variable">balance_n</span><span class="cm-operator">=</span><span class="cm-variable">balance_n</span>.<span class="cm-property">loc</span>[:,[<span class="cm-string">'id'</span>, <span class="cm-string">'revenue'</span>,<span class="cm-string">'expenditure'</span>]]</span></pre><pre class=" CodeMirror-line " role="presentation"><span role="presentation" style="padding-right: 0.1px;"><span class="cm-variable">balance_n</span>[<span class="cm-string">'expenditure'</span>] <span class="cm-operator">=</span> <span class="cm-variable">balance_n</span>[<span class="cm-string">'expenditure'</span>]<span class="cm-operator">*</span>(<span class="cm-operator">-</span><span class="cm-number">1</span>)</span></pre><pre class=" CodeMirror-line " role="presentation"><span role="presentation" style="padding-right: 0.1px;"><span cm-text="">​</span></span></pre><pre class=" CodeMirror-line " role="presentation"><span role="presentation" style="padding-right: 0.1px;"><span class="cm-variable">balance_n</span><span class="cm-operator">=</span><span class="cm-variable">balance_n</span>.<span class="cm-property">sort_values</span>(<span class="cm-variable">by</span><span class="cm-operator">=</span>[<span class="cm-string">'expenditure'</span>])</span></pre><pre class=" CodeMirror-line " role="presentation"><span role="presentation" style="padding-right: 0.1px;"><span class="cm-variable">balance_20_n</span><span class="cm-operator">=</span><span class="cm-variable">balance_n</span>.<span class="cm-property">head</span>(<span class="cm-number">10</span>)</span></pre><pre class=" CodeMirror-line " role="presentation"><span role="presentation" style="padding-right: 0.1px;"><span class="cm-variable">balance_20_n</span></span></pre></div></div></div></div></div><div style="position: absolute; height: 33px; width: 1px; border-bottom: 0px solid transparent; top: 283px;"></div><div class="CodeMirror-gutters" style="display: none; height: 316px;"></div></div></div></div></div></div><div class="output_wrapper"><div class="out_prompt_overlay prompt" title="click to scroll output; double click to hide"></div><div class="output"><div class="output_area"><div class="run_this_cell"></div><div class="prompt output_prompt"><bdi>Out[13]:</bdi></div><div class="output_subarea output_html rendered_html output_result" dir="auto"><div>
<style scoped="">
    .dataframe tbody tr th:only-of-type {
        vertical-align: middle;
    }

    .dataframe tbody tr th {
        vertical-align: top;
    }

    .dataframe thead th {
        text-align: right;
    }
</style>
<table border="1" class="dataframe">
  <thead>
    <tr style="text-align: right;">
      <th></th>
      <th>id</th>
      <th>revenue</th>
      <th>expenditure</th>
    </tr>
  </thead>
  <tbody>
    <tr>
      <th>10</th>
      <td>England</td>
      <td>1225500000</td>
      <td>-3108250000</td>
    </tr>
    <tr>
      <th>16</th>
      <td>Italy</td>
      <td>897070000</td>
      <td>-779180000</td>
    </tr>
    <tr>
      <th>11</th>
      <td>France</td>
      <td>680850000</td>
      <td>-604750000</td>
    </tr>
    <tr>
      <th>27</th>
      <td>Spain</td>
      <td>552350000</td>
      <td>-537950000</td>
    </tr>
    <tr>
      <th>12</th>
      <td>Germany</td>
      <td>571300000</td>
      <td>-505700000</td>
    </tr>
    <tr>
      <th>21</th>
      <td>Portugal</td>
      <td>584300000</td>
      <td>-217000000</td>
    </tr>
    <tr>
      <th>19</th>
      <td>Netherlands</td>
      <td>434150000</td>
      <td>-176200000</td>
    </tr>
    <tr>
      <th>3</th>
      <td>Brazil</td>
      <td>189890000</td>
      <td>-116490000</td>
    </tr>
    <tr>
      <th>29</th>
      <td>Turkey</td>
      <td>101850000</td>
      <td>-114670000</td>
    </tr>
    <tr>
      <th>2</th>
      <td>Belgium</td>
      <td>207100000</td>
      <td>-107100000</td>
    </tr>
  </tbody>
</table>
</div></div></div></div><div class="btn btn-default output_collapsed" title="click to expand output" style="display: none;">. . .</div></div></div><div class="cell code_cell rendered unselected" tabindex="2"><div class="input"><div class="prompt_container"><div class="prompt input_prompt"><bdi>In</bdi>&nbsp;[14]:</div><div class="run_this_cell" title="Run this cell"><i class="fa-step-forward fa"></i></div></div><div class="inner_cell"><div class="ctb_hideshow"><div class="celltoolbar"></div></div><div class="input_area" aria-label="Edit code here"><div class="CodeMirror cm-s-ipython"><div style="overflow: hidden; position: relative; width: 3px; height: 0px; top: 5.59375px; left: 4px;"><textarea autocorrect="off" autocapitalize="off" spellcheck="false" tabindex="0" style="position: absolute; bottom: -1em; padding: 0px; width: 1000px; height: 1em; outline: none;"></textarea></div><div class="CodeMirror-vscrollbar" tabindex="-1" cm-not-content="true"><div style="min-width: 1px; height: 0px;"></div></div><div class="CodeMirror-hscrollbar" tabindex="-1" cm-not-content="true"><div style="height: 100%; min-height: 1px; width: 0px;"></div></div><div class="CodeMirror-scrollbar-filler" cm-not-content="true"></div><div class="CodeMirror-gutter-filler" cm-not-content="true"></div><div class="CodeMirror-scroll" tabindex="-1"><div class="CodeMirror-sizer" style="margin-left: 0px; min-width: 545.922px; margin-bottom: -17px; border-right-width: 33px; min-height: 113px; padding-right: 0px; padding-bottom: 0px;"><div style="position: relative; top: 0px;"><div class="CodeMirror-lines" role="presentation"><div role="presentation" style="position: relative; outline: none;"><div class="CodeMirror-measure"></div><div class="CodeMirror-measure"></div><div style="position: relative; z-index: 1;"></div><div class="CodeMirror-cursors"><div class="CodeMirror-cursor" style="left: 4px; top: 0px; height: 17px;">&nbsp;</div></div><div class="CodeMirror-code" role="presentation" style=""><pre class=" CodeMirror-line " role="presentation"><span role="presentation" style="padding-right: 0.1px;"><span class="cm-comment"># plot the bars</span></span></pre><pre class=" CodeMirror-line " role="presentation"><span role="presentation" style="padding-right: 0.1px;"><span class="cm-variable">plt</span>.<span class="cm-property">barh</span>(<span class="cm-variable">balance_20_n</span>[<span class="cm-string">'id'</span>], <span class="cm-variable">balance_20_n</span>[<span class="cm-string">'revenue'</span>], <span class="cm-variable">color</span> <span class="cm-operator">=</span> <span class="cm-string">'g'</span>)</span></pre><pre class=" CodeMirror-line " role="presentation"><span role="presentation" style="padding-right: 0.1px;"><span class="cm-variable">plt</span>.<span class="cm-property">barh</span>(<span class="cm-variable">balance_20_n</span>[<span class="cm-string">'id'</span>], <span class="cm-variable">balance_20_n</span>[<span class="cm-string">'expenditure'</span>], <span class="cm-variable">color</span> <span class="cm-operator">=</span> <span class="cm-string">'r'</span>)</span></pre><pre class=" CodeMirror-line " role="presentation"><span role="presentation" style="padding-right: 0.1px;"><span class="cm-variable">plt</span>.<span class="cm-property">title</span>(<span class="cm-string">"Back-to-Back Bar Chart"</span>)</span></pre><pre class=" CodeMirror-line " role="presentation"><span role="presentation" style="padding-right: 0.1px;"><span class="cm-variable">plt</span>.<span class="cm-property">yticks</span>(<span class="cm-variable">fontsize</span><span class="cm-operator">=</span><span class="cm-number">8</span>)</span></pre><pre class=" CodeMirror-line " role="presentation"><span role="presentation" style="padding-right: 0.1px;"><span class="cm-variable">plt</span>.<span class="cm-property">show</span>()</span></pre></div></div></div></div></div><div style="position: absolute; height: 33px; width: 1px; border-bottom: 0px solid transparent; top: 113px;"></div><div class="CodeMirror-gutters" style="display: none; height: 146px;"></div></div></div></div></div></div><div class="output_wrapper"><div class="out_prompt_overlay prompt" title="click to scroll output; double click to hide"></div><div class="output"></div><div class="btn btn-default output_collapsed" title="click to expand output" style="display: none;">. . .</div></div></div><div class="cell code_cell rendered unselected" tabindex="2"><div class="input"><div class="prompt_container"><div class="prompt input_prompt"><bdi>In</bdi>&nbsp;[15]:</div><div class="run_this_cell" title="Run this cell"><i class="fa-step-forward fa"></i></div></div><div class="inner_cell"><div class="ctb_hideshow"><div class="celltoolbar"></div></div><div class="input_area" aria-label="Edit code here"><div class="CodeMirror cm-s-ipython"><div style="overflow: hidden; position: relative; width: 3px; height: 0px; top: 5.59375px; left: 4px;"><textarea autocorrect="off" autocapitalize="off" spellcheck="false" tabindex="0" style="position: absolute; bottom: -1em; padding: 0px; width: 1000px; height: 1em; outline: none;"></textarea></div><div class="CodeMirror-vscrollbar" tabindex="-1" cm-not-content="true"><div style="min-width: 1px; height: 0px;"></div></div><div class="CodeMirror-hscrollbar" tabindex="-1" cm-not-content="true"><div style="height: 100%; min-height: 1px; width: 0px;"></div></div><div class="CodeMirror-scrollbar-filler" cm-not-content="true"></div><div class="CodeMirror-gutter-filler" cm-not-content="true"></div><div class="CodeMirror-scroll" tabindex="-1"><div class="CodeMirror-sizer" style="margin-left: 0px; min-width: 522.719px; margin-bottom: -17px; border-right-width: 33px; min-height: 79px; padding-right: 0px; padding-bottom: 0px;"><div style="position: relative; top: 0px;"><div class="CodeMirror-lines" role="presentation"><div role="presentation" style="position: relative; outline: none;"><div class="CodeMirror-measure"></div><div class="CodeMirror-measure"></div><div style="position: relative; z-index: 1;"></div><div class="CodeMirror-cursors"><div class="CodeMirror-cursor" style="left: 4px; top: 0px; height: 17px;">&nbsp;</div></div><div class="CodeMirror-code" role="presentation"><pre class=" CodeMirror-line " role="presentation"><span role="presentation" style="padding-right: 0.1px;"><span class="cm-comment">#Sankey chart</span></span></pre><pre class=" CodeMirror-line " role="presentation"><span role="presentation" style="padding-right: 0.1px;"><span cm-text="">​</span></span></pre><pre class=" CodeMirror-line " role="presentation"><span role="presentation" style="padding-right: 0.1px;"><span class="cm-comment"># Import the sankey function from the sankey module within pySankey</span></span></pre><pre class=" CodeMirror-line " role="presentation"><span role="presentation" style="padding-right: 0.1px;"><span class="cm-keyword">from</span> <span class="cm-variable">pySankey</span>.<span class="cm-property">sankey</span> <span class="cm-keyword">import</span> <span class="cm-variable">sankey</span></span></pre></div></div></div></div></div><div style="position: absolute; height: 33px; width: 1px; border-bottom: 0px solid transparent; top: 79px;"></div><div class="CodeMirror-gutters" style="display: none; height: 112px;"></div></div></div></div></div></div><div class="output_wrapper"><div class="out_prompt_overlay prompt" title="click to scroll output; double click to hide"></div><div class="output"><div class="output_area"><div class="run_this_cell"></div><div class="prompt"></div><div class="output_subarea output_text output_error" dir="auto"><pre><span class="ansi-red-intense-fg ansi-bold">---------------------------------------------------------------------------</span>
<span class="ansi-red-intense-fg ansi-bold">ModuleNotFoundError</span>                       Traceback (most recent call last)
Cell <span class="ansi-green-intense-fg ansi-bold">In[15], line 4</span>
<span class="ansi-green-fg">      1</span> <span style="color: rgb(95,135,135)">#Sankey chart</span>
<span class="ansi-green-fg">      2</span> 
<span class="ansi-green-fg">      3</span> <span style="color: rgb(95,135,135)"># Import the sankey function from the sankey module within pySankey</span>
<span class="ansi-green-intense-fg ansi-bold">----&gt; 4</span> <span class="ansi-bold" style="color: rgb(0,135,0)">from</span> <span class="ansi-bold" style="color: rgb(0,0,255)">pySankey</span><span class="ansi-bold" style="color: rgb(0,0,255)">.</span><span class="ansi-bold" style="color: rgb(0,0,255)">sankey</span> <span class="ansi-bold" style="color: rgb(0,135,0)">import</span> sankey

<span class="ansi-red-intense-fg ansi-bold">ModuleNotFoundError</span>: No module named 'pySankey'

</pre></div></div></div><div class="btn btn-default output_collapsed" title="click to expand output" style="display: none;">. . .</div></div></div><div class="cell code_cell rendered unselected" tabindex="2"><div class="input"><div class="prompt_container"><div class="prompt input_prompt"><bdi>In</bdi>&nbsp;[16]:</div><div class="run_this_cell" title="Run this cell"><i class="fa-step-forward fa"></i></div></div><div class="inner_cell"><div class="ctb_hideshow"><div class="celltoolbar"></div></div><div class="input_area" aria-label="Edit code here"><div class="CodeMirror cm-s-ipython"><div style="overflow: hidden; position: relative; width: 3px; height: 0px; top: 5.59375px; left: 4px;"><textarea autocorrect="off" autocapitalize="off" spellcheck="false" tabindex="0" style="position: absolute; bottom: -1em; padding: 0px; width: 1000px; height: 1em; outline: none;"></textarea></div><div class="CodeMirror-vscrollbar" tabindex="-1" cm-not-content="true"><div style="min-width: 1px; height: 0px;"></div></div><div class="CodeMirror-hscrollbar" tabindex="-1" cm-not-content="true"><div style="height: 100%; min-height: 1px; width: 0px;"></div></div><div class="CodeMirror-scrollbar-filler" cm-not-content="true"></div><div class="CodeMirror-gutter-filler" cm-not-content="true"></div><div class="CodeMirror-scroll" tabindex="-1"><div class="CodeMirror-sizer" style="margin-left: 0px; min-width: 415.062px; margin-bottom: -17px; border-right-width: 33px; min-height: 79px; padding-right: 0px; padding-bottom: 0px;"><div style="position: relative; top: 0px;"><div class="CodeMirror-lines" role="presentation"><div role="presentation" style="position: relative; outline: none;"><div class="CodeMirror-measure"></div><div class="CodeMirror-measure"></div><div style="position: relative; z-index: 1;"></div><div class="CodeMirror-cursors"><div class="CodeMirror-cursor" style="left: 4px; top: 0px; height: 17px;">&nbsp;</div></div><div class="CodeMirror-code" role="presentation"><pre class=" CodeMirror-line " role="presentation"><span role="presentation" style="padding-right: 0.1px;"><span class="cm-comment">#Sankey chart data </span></span></pre><pre class=" CodeMirror-line " role="presentation"><span role="presentation" style="padding-right: 0.1px;"><span class="cm-variable">df_sorted</span><span class="cm-operator">=</span><span class="cm-variable">df</span>.<span class="cm-property">sort_values</span>(<span class="cm-variable">by</span><span class="cm-operator">=</span>[<span class="cm-string">'fee'</span>], <span class="cm-variable">ascending</span><span class="cm-operator">=</span><span class="cm-keyword">False</span>)</span></pre><pre class=" CodeMirror-line " role="presentation"><span role="presentation" style="padding-right: 0.1px;"><span class="cm-variable">df_top</span><span class="cm-operator">=</span><span class="cm-variable">df_sorted</span>.<span class="cm-property">head</span>(<span class="cm-number">10</span>)</span></pre><pre class=" CodeMirror-line " role="presentation"><span role="presentation" style="padding-right: 0.1px;"><span class="cm-variable">df_top</span></span></pre></div></div></div></div></div><div style="position: absolute; height: 33px; width: 1px; border-bottom: 0px solid transparent; top: 79px;"></div><div class="CodeMirror-gutters" style="display: none; height: 112px;"></div></div></div></div></div></div><div class="output_wrapper"><div class="out_prompt_overlay prompt" title="click to scroll output; double click to hide"></div><div class="output"><div class="output_area"><div class="run_this_cell"></div><div class="prompt output_prompt"><bdi>Out[16]:</bdi></div><div class="output_subarea output_html rendered_html output_result" dir="auto"><div>
<style scoped="">
    .dataframe tbody tr th:only-of-type {
        vertical-align: middle;
    }

    .dataframe tbody tr th {
        vertical-align: top;
    }

    .dataframe thead th {
        text-align: right;
    }
</style>
<table border="1" class="dataframe">
  <thead>
    <tr style="text-align: right;">
      <th></th>
      <th>Unnamed: 0</th>
      <th>name</th>
      <th>position</th>
      <th>age</th>
      <th>market_value</th>
      <th>country_from</th>
      <th>league_from</th>
      <th>club_from</th>
      <th>country_to</th>
      <th>league_to</th>
      <th>club_to</th>
      <th>fee</th>
    </tr>
  </thead>
  <tbody>
    <tr>
      <th>1230</th>
      <td>1</td>
      <td>Enzo Fernández</td>
      <td>Central Midfield</td>
      <td>22</td>
      <td>55000000</td>
      <td>Portugal</td>
      <td>Liga Portugal</td>
      <td>SL Benfica</td>
      <td>England</td>
      <td>Premier League</td>
      <td>Chelsea FC</td>
      <td>121000000</td>
    </tr>
    <tr>
      <th>1229</th>
      <td>2</td>
      <td>Antony</td>
      <td>Right Winger</td>
      <td>22</td>
      <td>35000000</td>
      <td>Netherlands</td>
      <td>Eredivisie</td>
      <td>Ajax Amsterdam</td>
      <td>England</td>
      <td>Premier League</td>
      <td>Manchester United</td>
      <td>95000000</td>
    </tr>
    <tr>
      <th>1228</th>
      <td>20</td>
      <td>Darwin Núñez</td>
      <td>Centre-Forward</td>
      <td>23</td>
      <td>55000000</td>
      <td>Portugal</td>
      <td>Liga Portugal</td>
      <td>SL Benfica</td>
      <td>England</td>
      <td>Premier League</td>
      <td>Liverpool FC</td>
      <td>80000000</td>
    </tr>
    <tr>
      <th>1227</th>
      <td>4</td>
      <td>Aurélien Tchouameni</td>
      <td>Defensive Midfield</td>
      <td>22</td>
      <td>60000000</td>
      <td>Monaco</td>
      <td>Ligue 1</td>
      <td>AS Monaco</td>
      <td>Spain</td>
      <td>LaLiga</td>
      <td>Real Madrid</td>
      <td>80000000</td>
    </tr>
    <tr>
      <th>1226</th>
      <td>3</td>
      <td>Wesley Fofana</td>
      <td>Centre-Back</td>
      <td>21</td>
      <td>40000000</td>
      <td>England</td>
      <td>Premier League</td>
      <td>Leicester City</td>
      <td>England</td>
      <td>Premier League</td>
      <td>Chelsea FC</td>
      <td>80000000</td>
    </tr>
    <tr>
      <th>1225</th>
      <td>7</td>
      <td>Alexander Isak</td>
      <td>Centre-Forward</td>
      <td>22</td>
      <td>30000000</td>
      <td>Spain</td>
      <td>LaLiga</td>
      <td>Real Sociedad</td>
      <td>England</td>
      <td>Premier League</td>
      <td>Newcastle United</td>
      <td>70000000</td>
    </tr>
    <tr>
      <th>1224</th>
      <td>6</td>
      <td>Mykhaylo Mudryk</td>
      <td>Left Winger</td>
      <td>22</td>
      <td>40000000</td>
      <td>Ukraine</td>
      <td>Premier Liga</td>
      <td>Shakhtar Donetsk</td>
      <td>England</td>
      <td>Premier League</td>
      <td>Chelsea FC</td>
      <td>70000000</td>
    </tr>
    <tr>
      <th>1223</th>
      <td>5</td>
      <td>Casemiro</td>
      <td>Defensive Midfield</td>
      <td>30</td>
      <td>40000000</td>
      <td>Spain</td>
      <td>LaLiga</td>
      <td>Real Madrid</td>
      <td>England</td>
      <td>Premier League</td>
      <td>Manchester United</td>
      <td>70000000</td>
    </tr>
    <tr>
      <th>1222</th>
      <td>8</td>
      <td>Matthijs de Ligt</td>
      <td>Centre-Back</td>
      <td>22</td>
      <td>70000000</td>
      <td>Italy</td>
      <td>Serie A</td>
      <td>Juventus FC</td>
      <td>Germany</td>
      <td>Bundesliga</td>
      <td>Bayern Munich</td>
      <td>67000000</td>
    </tr>
    <tr>
      <th>1221</th>
      <td>13</td>
      <td>Marc Cucurella</td>
      <td>Left-Back</td>
      <td>24</td>
      <td>28000000</td>
      <td>England</td>
      <td>Premier League</td>
      <td>Brighton &amp; Hove Albion</td>
      <td>England</td>
      <td>Premier League</td>
      <td>Chelsea FC</td>
      <td>65000000</td>
    </tr>
  </tbody>
</table>
</div></div></div></div><div class="btn btn-default output_collapsed" title="click to expand output" style="display: none;">. . .</div></div></div><div class="cell code_cell rendered unselected" tabindex="2"><div class="input"><div class="prompt_container"><div class="prompt input_prompt"><bdi>In</bdi>&nbsp;[17]:</div><div class="run_this_cell" title="Run this cell"><i class="fa-step-forward fa"></i></div></div><div class="inner_cell"><div class="ctb_hideshow"><div class="celltoolbar"></div></div><div class="input_area" aria-label="Edit code here"><div class="CodeMirror cm-s-ipython"><div style="overflow: hidden; position: relative; width: 3px; height: 0px; top: 5.59375px; left: 4px;"><textarea autocorrect="off" autocapitalize="off" spellcheck="false" tabindex="0" style="position: absolute; bottom: -1em; padding: 0px; width: 1000px; height: 1em; outline: none;"></textarea></div><div class="CodeMirror-vscrollbar" tabindex="-1" cm-not-content="true" style="bottom: 0px;"><div style="min-width: 1px; height: 0px;"></div></div><div class="CodeMirror-hscrollbar" tabindex="-1" cm-not-content="true"><div style="height: 100%; min-height: 1px; width: 0px;"></div></div><div class="CodeMirror-scrollbar-filler" cm-not-content="true"></div><div class="CodeMirror-gutter-filler" cm-not-content="true"></div><div class="CodeMirror-scroll" tabindex="-1"><div class="CodeMirror-sizer" style="margin-left: 0px; min-width: 584.375px; margin-bottom: -17px; border-right-width: 33px; min-height: 402px; padding-right: 0px; padding-bottom: 0px;"><div style="position: relative; top: 0px;"><div class="CodeMirror-lines" role="presentation"><div role="presentation" style="position: relative; outline: none;"><div class="CodeMirror-measure"></div><div class="CodeMirror-measure"></div><div style="position: relative; z-index: 1;"></div><div class="CodeMirror-cursors"><div class="CodeMirror-cursor" style="left: 4px; top: 0px; height: 17px;">&nbsp;</div></div><div class="CodeMirror-code" role="presentation" style=""><pre class=" CodeMirror-line " role="presentation"><span role="presentation" style="padding-right: 0.1px;"><span class="cm-variable">colorDict</span> <span class="cm-operator">=</span> {</span></pre><pre class=" CodeMirror-line " role="presentation"><span role="presentation" style="padding-right: 0.1px;">    <span class="cm-string">"Bayern Munich"</span>: <span class="cm-string">"#ea2f2f"</span>,</span></pre><pre class=" CodeMirror-line " role="presentation"><span role="presentation" style="padding-right: 0.1px;">    <span class="cm-string">"Newcastle United"</span>: <span class="cm-string">"#bcbcbc"</span>,</span></pre><pre class=" CodeMirror-line " role="presentation"><span role="presentation" style="padding-right: 0.1px;">    <span class="cm-string">"Real Madrid"</span>: <span class="cm-string">"#eeeeee"</span>,</span></pre><pre class=" CodeMirror-line " role="presentation"><span role="presentation" style="padding-right: 0.1px;">    <span class="cm-string">"Liverpool FC"</span>: <span class="cm-string">"#f44336"</span>,</span></pre><pre class=" CodeMirror-line " role="presentation"><span role="presentation" style="padding-right: 0.1px;">    <span class="cm-string">"Manchester United"</span>: <span class="cm-string">"#cc0000"</span>,</span></pre><pre class=" CodeMirror-line " role="presentation"><span role="presentation" style="padding-right: 0.1px;">    <span class="cm-string">"Chelsea FC"</span>:<span class="cm-string">'#0b5394'</span>,</span></pre><pre class=" CodeMirror-line " role="presentation"><span role="presentation" style="padding-right: 0.1px;">    <span class="cm-string">'Enzo Fernández'</span>: <span class="cm-string">"#0b5394"</span>,</span></pre><pre class=" CodeMirror-line " role="presentation"><span role="presentation" style="padding-right: 0.1px;">    <span class="cm-string">'Antony'</span>: <span class="cm-string">"#cc0000"</span>,</span></pre><pre class=" CodeMirror-line " role="presentation"><span role="presentation" style="padding-right: 0.1px;">    <span class="cm-string">'Darwin Núñez'</span>: <span class="cm-string">"#f44336"</span>,</span></pre><pre class=" CodeMirror-line " role="presentation"><span role="presentation" style="padding-right: 0.1px;">    <span class="cm-string">'Aurélien Tchouameni'</span>: <span class="cm-string">"#eeeeee"</span>,</span></pre><pre class=" CodeMirror-line " role="presentation"><span role="presentation" style="padding-right: 0.1px;">   <span class="cm-string">'Wesley Fofana'</span>: <span class="cm-string">"#0b5394"</span>,</span></pre><pre class=" CodeMirror-line " role="presentation"><span role="presentation" style="padding-right: 0.1px;">    <span class="cm-string">'Alexander Isak'</span>: <span class="cm-string">"#bcbcbc"</span>,</span></pre><pre class=" CodeMirror-line " role="presentation"><span role="presentation" style="padding-right: 0.1px;">    <span class="cm-string">'Mykhaylo Mudryk'</span>: <span class="cm-string">"#0b5394"</span>,</span></pre><pre class=" CodeMirror-line " role="presentation"><span role="presentation" style="padding-right: 0.1px;">    <span class="cm-string">'Casemiro'</span>: <span class="cm-string">"#cc0000"</span>,</span></pre><pre class=" CodeMirror-line " role="presentation"><span role="presentation" style="padding-right: 0.1px;">    <span class="cm-string">'Matthijs de Ligt'</span>: <span class="cm-string">"#ea2f2f"</span>,</span></pre><pre class=" CodeMirror-line " role="presentation"><span role="presentation" style="padding-right: 0.1px;">    <span class="cm-string">'Marc Cucurella'</span>: <span class="cm-string">"#0b5394"</span></span></pre><pre class=" CodeMirror-line " role="presentation"><span role="presentation" style="padding-right: 0.1px;">}</span></pre><pre class=" CodeMirror-line " role="presentation"><span role="presentation" style="padding-right: 0.1px;"><span cm-text="">​</span></span></pre><pre class=" CodeMirror-line " role="presentation"><span role="presentation" style="padding-right: 0.1px;"><span cm-text="">​</span></span></pre><pre class=" CodeMirror-line " role="presentation"><span role="presentation" style="padding-right: 0.1px;"><span class="cm-variable">sankey</span>(<span class="cm-variable">df_top</span>[<span class="cm-string">'club_to'</span>], <span class="cm-variable">df_top</span>[<span class="cm-string">"name"</span>], <span class="cm-variable">colorDict</span><span class="cm-operator">=</span><span class="cm-variable">colorDict</span>,  <span class="cm-variable">fontsize</span><span class="cm-operator">=</span><span class="cm-number">8</span>)</span></pre><pre class=" CodeMirror-line " role="presentation"><span role="presentation" style="padding-right: 0.1px;"><span class="cm-comment">#sankey(df_top['club_from'], df_top["name"], fontsize=8)</span></span></pre><pre class=" CodeMirror-line " role="presentation"><span role="presentation" style="padding-right: 0.1px;"><span class="cm-comment">#sankey(df_top['league_to'], df_top["name"], fontsize=8)</span></span></pre></div></div></div></div></div><div style="position: absolute; height: 33px; width: 1px; border-bottom: 0px solid transparent; top: 402px;"></div><div class="CodeMirror-gutters" style="display: none; height: 435px;"></div></div></div></div></div></div><div class="output_wrapper"><div class="out_prompt_overlay prompt" title="click to scroll output; double click to hide"></div><div class="output"><div class="output_area"><div class="run_this_cell"></div><div class="prompt"></div><div class="output_subarea output_text output_error" dir="auto"><pre><span class="ansi-red-intense-fg ansi-bold">---------------------------------------------------------------------------</span>
<span class="ansi-red-intense-fg ansi-bold">NameError</span>                                 Traceback (most recent call last)
Cell <span class="ansi-green-intense-fg ansi-bold">In[17], line 21</span>
<span class="ansi-green-fg">      1</span> colorDict <span style="color: rgb(98,98,98)">=</span> {
<span class="ansi-green-fg">      2</span>     <span style="color: rgb(175,0,0)">"</span><span style="color: rgb(175,0,0)">Bayern Munich</span><span style="color: rgb(175,0,0)">"</span>: <span style="color: rgb(175,0,0)">"</span><span style="color: rgb(175,0,0)">#ea2f2f</span><span style="color: rgb(175,0,0)">"</span>,
<span class="ansi-green-fg">      3</span>     <span style="color: rgb(175,0,0)">"</span><span style="color: rgb(175,0,0)">Newcastle United</span><span style="color: rgb(175,0,0)">"</span>: <span style="color: rgb(175,0,0)">"</span><span style="color: rgb(175,0,0)">#bcbcbc</span><span style="color: rgb(175,0,0)">"</span>,
<span class="ansi-green-intense-fg ansi-bold">   (...)</span>
<span class="ansi-green-fg">     17</span>     <span style="color: rgb(175,0,0)">'</span><span style="color: rgb(175,0,0)">Marc Cucurella</span><span style="color: rgb(175,0,0)">'</span>: <span style="color: rgb(175,0,0)">"</span><span style="color: rgb(175,0,0)">#0b5394</span><span style="color: rgb(175,0,0)">"</span>
<span class="ansi-green-fg">     18</span> }
<span class="ansi-green-intense-fg ansi-bold">---&gt; 21</span> <span class="ansi-yellow-bg">sankey</span>(df_top[<span style="color: rgb(175,0,0)">'</span><span style="color: rgb(175,0,0)">club_to</span><span style="color: rgb(175,0,0)">'</span>], df_top[<span style="color: rgb(175,0,0)">"</span><span style="color: rgb(175,0,0)">name</span><span style="color: rgb(175,0,0)">"</span>], colorDict<span style="color: rgb(98,98,98)">=</span>colorDict,  fontsize<span style="color: rgb(98,98,98)">=</span><span style="color: rgb(98,98,98)">8</span>)

<span class="ansi-red-intense-fg ansi-bold">NameError</span>: name 'sankey' is not defined

</pre></div></div></div><div class="btn btn-default output_collapsed" title="click to expand output" style="display: none;">. . .</div></div></div><div class="cell code_cell rendered unselected" tabindex="2"><div class="input"><div class="prompt_container"><div class="prompt input_prompt"><bdi>In</bdi>&nbsp;[13]:</div><div class="run_this_cell" title="Run this cell"><i class="fa-step-forward fa"></i></div></div><div class="inner_cell"><div class="ctb_hideshow"><div class="celltoolbar"></div></div><div class="input_area" aria-label="Edit code here"><div class="CodeMirror cm-s-ipython"><div style="overflow: hidden; position: relative; width: 3px; height: 0px; top: 5.59375px; left: 4px;"><textarea autocorrect="off" autocapitalize="off" spellcheck="false" tabindex="0" style="position: absolute; bottom: -1em; padding: 0px; width: 1000px; height: 1em; outline: none;"></textarea></div><div class="CodeMirror-vscrollbar" tabindex="-1" cm-not-content="true" style="bottom: 0px;"><div style="min-width: 1px; height: 0px;"></div></div><div class="CodeMirror-hscrollbar" tabindex="-1" cm-not-content="true"><div style="height: 100%; min-height: 1px; width: 0px;"></div></div><div class="CodeMirror-scrollbar-filler" cm-not-content="true"></div><div class="CodeMirror-gutter-filler" cm-not-content="true"></div><div class="CodeMirror-scroll" tabindex="-1"><div class="CodeMirror-sizer" style="margin-left: 0px; min-width: 599.781px; margin-bottom: -17px; border-right-width: 33px; min-height: 283px; padding-right: 0px; padding-bottom: 0px;"><div style="position: relative; top: 0px;"><div class="CodeMirror-lines" role="presentation"><div role="presentation" style="position: relative; outline: none;"><div class="CodeMirror-measure"></div><div class="CodeMirror-measure"></div><div style="position: relative; z-index: 1;"></div><div class="CodeMirror-cursors"><div class="CodeMirror-cursor" style="left: 4px; top: 0px; height: 17px;">&nbsp;</div></div><div class="CodeMirror-code" role="presentation" style=""><pre class=" CodeMirror-line " role="presentation"><span role="presentation" style="padding-right: 0.1px;"><span class="cm-variable">colorDict2</span> <span class="cm-operator">=</span> {</span></pre><pre class=" CodeMirror-line " role="presentation"><span role="presentation" style="padding-right: 0.1px;">    <span class="cm-string">"Bundesliga"</span>: <span class="cm-string">"#c7392e"</span>,</span></pre><pre class=" CodeMirror-line " role="presentation"><span role="presentation" style="padding-right: 0.1px;">    <span class="cm-string">"LaLiga"</span>: <span class="cm-string">"#7e33c5"</span>,</span></pre><pre class=" CodeMirror-line " role="presentation"><span role="presentation" style="padding-right: 0.1px;">    <span class="cm-string">"Premier League"</span>: <span class="cm-string">"#6fa8dc"</span>,</span></pre><pre class=" CodeMirror-line " role="presentation"><span role="presentation" style="padding-right: 0.1px;">    <span class="cm-string">'Enzo Fernández'</span>: <span class="cm-string">"#6fa8dc"</span>,</span></pre><pre class=" CodeMirror-line " role="presentation"><span role="presentation" style="padding-right: 0.1px;">    <span class="cm-string">'Antony'</span>: <span class="cm-string">"#6fa8dc"</span>,</span></pre><pre class=" CodeMirror-line " role="presentation"><span role="presentation" style="padding-right: 0.1px;">    <span class="cm-string">'Darwin Núñez'</span>: <span class="cm-string">"#6fa8dc"</span>,</span></pre><pre class=" CodeMirror-line " role="presentation"><span role="presentation" style="padding-right: 0.1px;">    <span class="cm-string">'Aurélien Tchouameni'</span>: <span class="cm-string">"#7e33c5"</span>,</span></pre><pre class=" CodeMirror-line " role="presentation"><span role="presentation" style="padding-right: 0.1px;">   <span class="cm-string">'Wesley Fofana'</span>: <span class="cm-string">"#6fa8dc"</span>,</span></pre><pre class=" CodeMirror-line " role="presentation"><span role="presentation" style="padding-right: 0.1px;">    <span class="cm-string">'Alexander Isak'</span>: <span class="cm-string">"#6fa8dc"</span>,</span></pre><pre class=" CodeMirror-line " role="presentation"><span role="presentation" style="padding-right: 0.1px;">    <span class="cm-string">'Mykhaylo Mudryk'</span>: <span class="cm-string">"#6fa8dc"</span>,</span></pre><pre class=" CodeMirror-line " role="presentation"><span role="presentation" style="padding-right: 0.1px;">    <span class="cm-string">'Casemiro'</span>: <span class="cm-string">"#6fa8dc"</span>,</span></pre><pre class=" CodeMirror-line " role="presentation"><span role="presentation" style="padding-right: 0.1px;">    <span class="cm-string">'Matthijs de Ligt'</span>: <span class="cm-string">"#c7392e"</span>,</span></pre><pre class=" CodeMirror-line " role="presentation"><span role="presentation" style="padding-right: 0.1px;">    <span class="cm-string">'Marc Cucurella'</span>: <span class="cm-string">"#6fa8dc"</span></span></pre><pre class=" CodeMirror-line " role="presentation"><span role="presentation" style="padding-right: 0.1px;">}</span></pre><pre class=" CodeMirror-line " role="presentation"><span role="presentation" style="padding-right: 0.1px;"><span class="cm-variable">sankey</span>(<span class="cm-variable">df_top</span>[<span class="cm-string">'league_to'</span>], <span class="cm-variable">df_top</span>[<span class="cm-string">"name"</span>], <span class="cm-variable">colorDict</span><span class="cm-operator">=</span><span class="cm-variable">colorDict2</span>, <span class="cm-variable">fontsize</span><span class="cm-operator">=</span><span class="cm-number">8</span>)</span></pre></div></div></div></div></div><div style="position: absolute; height: 33px; width: 1px; border-bottom: 0px solid transparent; top: 283px;"></div><div class="CodeMirror-gutters" style="display: none; height: 316px;"></div></div></div></div></div></div><div class="output_wrapper"><div class="out_prompt_overlay prompt" title="click to expand output; double click to hide output"></div><div class="output"><div class="output_area"><div class="run_this_cell"></div><div class="prompt"></div><div class="output_subarea output_text" dir="auto"><pre>&lt;IPython.core.display.Javascript object&gt;</pre></div></div><div class="output_area"><div class="run_this_cell"></div><div class="prompt"></div><div class="output_subarea output_html rendered_html" dir="auto"><img src="data:image/png;base64,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" width="891"></div></div></div><div class="btn btn-default output_collapsed" title="click to expand output" style="display: none;">. . .</div></div></div><div class="cell code_cell rendered unselected" tabindex="2"><div class="input"><div class="prompt_container"><div class="prompt input_prompt"><bdi>In</bdi>&nbsp;[18]:</div><div class="run_this_cell" title="Run this cell"><i class="fa-step-forward fa"></i></div></div><div class="inner_cell"><div class="ctb_hideshow"><div class="celltoolbar"></div></div><div class="input_area" aria-label="Edit code here"><div class="CodeMirror cm-s-ipython"><div style="overflow: hidden; position: relative; width: 3px; height: 0px; top: 5.59375px; left: 4px;"><textarea autocorrect="off" autocapitalize="off" spellcheck="false" tabindex="0" style="position: absolute; bottom: -1em; padding: 0px; width: 1000px; height: 1em; outline: none;"></textarea></div><div class="CodeMirror-vscrollbar" tabindex="-1" cm-not-content="true"><div style="min-width: 1px; height: 0px;"></div></div><div class="CodeMirror-hscrollbar" tabindex="-1" cm-not-content="true"><div style="height: 100%; min-height: 1px; width: 0px;"></div></div><div class="CodeMirror-scrollbar-filler" cm-not-content="true"></div><div class="CodeMirror-gutter-filler" cm-not-content="true"></div><div class="CodeMirror-scroll" tabindex="-1"><div class="CodeMirror-sizer" style="margin-left: 0px; min-width: 184.094px; margin-bottom: -17px; border-right-width: 33px; min-height: 28px; padding-right: 0px; padding-bottom: 0px;"><div style="position: relative; top: 0px;"><div class="CodeMirror-lines" role="presentation"><div role="presentation" style="position: relative; outline: none;"><div class="CodeMirror-measure"><pre class="CodeMirror-line-like">x</pre></div><div class="CodeMirror-measure"></div><div style="position: relative; z-index: 1;"><div class="CodeMirror-selected" style="position: absolute; left: 4px; top: 0px; width: 177.094px; height: 17px;"></div></div><div class="CodeMirror-cursors" style="visibility: hidden;"></div><div class="CodeMirror-code" role="presentation"><pre class=" CodeMirror-line " role="presentation"><span role="presentation" style="padding-right: 0.1px;"><span class="cm-variable">df</span>[<span class="cm-string">"position"</span>].<span class="cm-property">unique</span>()</span></pre></div></div></div></div></div><div style="position: absolute; height: 33px; width: 1px; border-bottom: 0px solid transparent; top: 28px;"></div><div class="CodeMirror-gutters" style="display: none; height: 61px;"></div></div></div></div></div></div><div class="output_wrapper"><div class="out_prompt_overlay prompt" title="click to scroll output; double click to hide"></div><div class="output"><div class="output_area"><div class="run_this_cell"></div><div class="prompt output_prompt"><bdi>Out[18]:</bdi></div><div class="output_subarea output_text output_result" dir="auto"><pre>array(['Right-Back', 'Central Midfield', 'Centre-Back', 'Second Striker',
       'Left-Back', 'Centre-Forward', 'Left Winger', 'Defensive Midfield',
       'Right Winger', 'Attacking Midfield', 'Goalkeeper',
       'Right Midfield', 'Left Midfield'], dtype=object)</pre></div></div></div><div class="btn btn-default output_collapsed" title="click to expand output" style="display: none;">. . .</div></div></div><div class="cell code_cell rendered unselected" tabindex="2"><div class="input"><div class="prompt_container"><div class="prompt input_prompt"><bdi>In</bdi>&nbsp;[20]:</div><div class="run_this_cell" title="Run this cell"><i class="fa-step-forward fa"></i></div></div><div class="inner_cell"><div class="ctb_hideshow"><div class="celltoolbar"></div></div><div class="input_area" aria-label="Edit code here"><div class="CodeMirror cm-s-ipython"><div style="overflow: hidden; position: relative; width: 3px; height: 0px; top: 22.5938px; left: 412.062px;"><textarea autocorrect="off" autocapitalize="off" spellcheck="false" tabindex="0" style="position: absolute; bottom: -1em; padding: 0px; width: 1000px; height: 1em; outline: none;"></textarea></div><div class="CodeMirror-vscrollbar" tabindex="-1" cm-not-content="true"><div style="min-width: 1px; height: 0px;"></div></div><div class="CodeMirror-hscrollbar" tabindex="-1" cm-not-content="true"><div style="height: 100%; min-height: 1px; width: 0px;"></div></div><div class="CodeMirror-scrollbar-filler" cm-not-content="true"></div><div class="CodeMirror-gutter-filler" cm-not-content="true"></div><div class="CodeMirror-scroll" tabindex="-1"><div class="CodeMirror-sizer" style="margin-left: 0px; min-width: 415.062px; margin-bottom: -17px; border-right-width: 33px; min-height: 62px; padding-right: 0px; padding-bottom: 0px;"><div style="position: relative; top: 0px;"><div class="CodeMirror-lines" role="presentation"><div role="presentation" style="position: relative; outline: none;"><div class="CodeMirror-measure"><pre class="CodeMirror-line-like">x</pre></div><div class="CodeMirror-measure"></div><div style="position: relative; z-index: 1;"><div class="CodeMirror-selected" style="position: absolute; left: 80.9844px; top: 17px; width: 331.078px; height: 17px;"></div></div><div class="CodeMirror-cursors" style=""></div><div class="CodeMirror-code" role="presentation"><pre class=" CodeMirror-line " role="presentation"><span role="presentation" style="padding-right: 0.1px;"><span class="cm-comment"># sort by a specific variable</span></span></pre><pre class=" CodeMirror-line " role="presentation"><span role="presentation" style="padding-right: 0.1px;"><span class="cm-variable">df_sorted</span><span class="cm-operator">=</span><span class="cm-variable">df</span>.<span class="cm-property">sort_values</span>(<span class="cm-variable">by</span><span class="cm-operator">=</span>[<span class="cm-string">'fee'</span>], <span class="cm-variable">ascending</span><span class="cm-operator">=</span><span class="cm-keyword">False</span>)</span></pre><pre class=" CodeMirror-line " role="presentation"><span role="presentation" style="padding-right: 0.1px;"><span class="cm-variable">df_sorted</span></span></pre></div></div></div></div></div><div style="position: absolute; height: 33px; width: 1px; border-bottom: 0px solid transparent; top: 62px;"></div><div class="CodeMirror-gutters" style="display: none; height: 95px;"></div></div></div></div></div></div><div class="output_wrapper"><div class="out_prompt_overlay prompt" title="click to scroll output; double click to hide"></div><div class="output"><div class="output_area"><div class="run_this_cell"></div><div class="prompt output_prompt"><bdi>Out[20]:</bdi></div><div class="output_subarea output_html rendered_html output_result" dir="auto"><div>
<style scoped="">
    .dataframe tbody tr th:only-of-type {
        vertical-align: middle;
    }

    .dataframe tbody tr th {
        vertical-align: top;
    }

    .dataframe thead th {
        text-align: right;
    }
</style>
<table border="1" class="dataframe">
  <thead>
    <tr style="text-align: right;">
      <th></th>
      <th>Unnamed: 0</th>
      <th>name</th>
      <th>position</th>
      <th>age</th>
      <th>market_value</th>
      <th>country_from</th>
      <th>league_from</th>
      <th>club_from</th>
      <th>country_to</th>
      <th>league_to</th>
      <th>club_to</th>
      <th>fee</th>
    </tr>
  </thead>
  <tbody>
    <tr>
      <th>1230</th>
      <td>1</td>
      <td>Enzo Fernández</td>
      <td>Central Midfield</td>
      <td>22</td>
      <td>55000000</td>
      <td>Portugal</td>
      <td>Liga Portugal</td>
      <td>SL Benfica</td>
      <td>England</td>
      <td>Premier League</td>
      <td>Chelsea FC</td>
      <td>121000000</td>
    </tr>
    <tr>
      <th>1229</th>
      <td>2</td>
      <td>Antony</td>
      <td>Right Winger</td>
      <td>22</td>
      <td>35000000</td>
      <td>Netherlands</td>
      <td>Eredivisie</td>
      <td>Ajax Amsterdam</td>
      <td>England</td>
      <td>Premier League</td>
      <td>Manchester United</td>
      <td>95000000</td>
    </tr>
    <tr>
      <th>1228</th>
      <td>20</td>
      <td>Darwin Núñez</td>
      <td>Centre-Forward</td>
      <td>23</td>
      <td>55000000</td>
      <td>Portugal</td>
      <td>Liga Portugal</td>
      <td>SL Benfica</td>
      <td>England</td>
      <td>Premier League</td>
      <td>Liverpool FC</td>
      <td>80000000</td>
    </tr>
    <tr>
      <th>1227</th>
      <td>4</td>
      <td>Aurélien Tchouameni</td>
      <td>Defensive Midfield</td>
      <td>22</td>
      <td>60000000</td>
      <td>Monaco</td>
      <td>Ligue 1</td>
      <td>AS Monaco</td>
      <td>Spain</td>
      <td>LaLiga</td>
      <td>Real Madrid</td>
      <td>80000000</td>
    </tr>
    <tr>
      <th>1226</th>
      <td>3</td>
      <td>Wesley Fofana</td>
      <td>Centre-Back</td>
      <td>21</td>
      <td>40000000</td>
      <td>England</td>
      <td>Premier League</td>
      <td>Leicester City</td>
      <td>England</td>
      <td>Premier League</td>
      <td>Chelsea FC</td>
      <td>80000000</td>
    </tr>
    <tr>
      <th>...</th>
      <td>...</td>
      <td>...</td>
      <td>...</td>
      <td>...</td>
      <td>...</td>
      <td>...</td>
      <td>...</td>
      <td>...</td>
      <td>...</td>
      <td>...</td>
      <td>...</td>
      <td>...</td>
    </tr>
    <tr>
      <th>297</th>
      <td>963</td>
      <td>Jonjoe Kenny</td>
      <td>Right-Back</td>
      <td>25</td>
      <td>4000000</td>
      <td>England</td>
      <td>Premier League</td>
      <td>Everton FC</td>
      <td>Germany</td>
      <td>Bundesliga</td>
      <td>Hertha BSC</td>
      <td>0</td>
    </tr>
    <tr>
      <th>298</th>
      <td>964</td>
      <td>Rhys Williams</td>
      <td>Centre-Back</td>
      <td>21</td>
      <td>4000000</td>
      <td>England</td>
      <td>Premier League</td>
      <td>Liverpool FC</td>
      <td>England</td>
      <td>Championship</td>
      <td>Blackpool FC</td>
      <td>0</td>
    </tr>
    <tr>
      <th>299</th>
      <td>965</td>
      <td>Jordan Larsson</td>
      <td>Right Winger</td>
      <td>25</td>
      <td>4000000</td>
      <td>Germany</td>
      <td>Bundesliga</td>
      <td>FC Schalke 04</td>
      <td>Denmark</td>
      <td>Superligaen</td>
      <td>FC Copenhagen</td>
      <td>0</td>
    </tr>
    <tr>
      <th>300</th>
      <td>966</td>
      <td>Jean-Paul Boëtius</td>
      <td>Attacking Midfield</td>
      <td>28</td>
      <td>4000000</td>
      <td>Germany</td>
      <td>Bundesliga</td>
      <td>1.FSV Mainz 05</td>
      <td>Germany</td>
      <td>Bundesliga</td>
      <td>Hertha BSC</td>
      <td>0</td>
    </tr>
    <tr>
      <th>1249</th>
      <td>1166</td>
      <td>Marcel Ruiz</td>
      <td>Central Midfield</td>
      <td>21</td>
      <td>3000000</td>
      <td>Mexico</td>
      <td>Liga MX Clausura</td>
      <td>Club Tijuana</td>
      <td>Mexico</td>
      <td>Liga MX Clausura</td>
      <td>Deportivo Toluca</td>
      <td>0</td>
    </tr>
  </tbody>
</table>
<p>1250 rows × 12 columns</p>
</div></div></div></div><div class="btn btn-default output_collapsed" title="click to expand output" style="display: none;">. . .</div></div></div><div class="cell code_cell rendered unselected" tabindex="2"><div class="input"><div class="prompt_container"><div class="prompt input_prompt"><bdi>In</bdi>&nbsp;[21]:</div><div class="run_this_cell" title="Run this cell"><i class="fa-step-forward fa"></i></div></div><div class="inner_cell"><div class="ctb_hideshow"><div class="celltoolbar"></div></div><div class="input_area" aria-label="Edit code here"><div class="CodeMirror cm-s-ipython"><div style="overflow: hidden; position: relative; width: 3px; height: 0px; top: 5.59375px; left: 4px;"><textarea autocorrect="off" autocapitalize="off" spellcheck="false" tabindex="0" style="position: absolute; bottom: -1em; padding: 0px; width: 1000px; height: 1em; outline: none;"></textarea></div><div class="CodeMirror-vscrollbar" tabindex="-1" cm-not-content="true"><div style="min-width: 1px; height: 0px;"></div></div><div class="CodeMirror-hscrollbar" tabindex="-1" cm-not-content="true"><div style="height: 100%; min-height: 1px; width: 0px;"></div></div><div class="CodeMirror-scrollbar-filler" cm-not-content="true"></div><div class="CodeMirror-gutter-filler" cm-not-content="true"></div><div class="CodeMirror-scroll" tabindex="-1" draggable="false"><div class="CodeMirror-sizer" style="margin-left: 0px; min-width: 492.047px; margin-bottom: -17px; border-right-width: 33px; min-height: 79px; padding-right: 0px; padding-bottom: 0px;"><div style="position: relative; top: 0px;"><div class="CodeMirror-lines" role="presentation"><div role="presentation" style="position: relative; outline: none;"><div class="CodeMirror-measure"><pre class="CodeMirror-line-like">x</pre></div><div class="CodeMirror-measure"></div><div style="position: relative; z-index: 1;"><div class="CodeMirror-selected" style="position: absolute; left: 4px; top: 0px; width: 76.9844px; height: 17px;"></div></div><div class="CodeMirror-cursors" style="visibility: hidden;"></div><div class="CodeMirror-code" role="presentation"><pre class=" CodeMirror-line " role="presentation"><span role="presentation" style="padding-right: 0.1px;"><span class="cm-variable">goalkeeper</span><span class="cm-operator">=</span><span class="cm-variable">df</span>[<span class="cm-variable">df</span>[<span class="cm-string">"position"</span>]<span class="cm-operator">==</span><span class="cm-string">"Goalkeeper"</span>]</span></pre><pre class=" CodeMirror-line " role="presentation"><span role="presentation" style="padding-right: 0.1px;"><span class="cm-variable">goalkeeper</span><span class="cm-operator">=</span> <span class="cm-variable">goalkeeper</span>.<span class="cm-property">sort_values</span>(<span class="cm-variable">by</span><span class="cm-operator">=</span>[<span class="cm-string">'fee'</span>], <span class="cm-variable">ascending</span><span class="cm-operator">=</span><span class="cm-keyword">False</span>)</span></pre><pre class=" CodeMirror-line " role="presentation"><span role="presentation" style="padding-right: 0.1px;"><span class="cm-variable">goalkeeper_top</span><span class="cm-operator">=</span><span class="cm-variable">goalkeeper</span>.<span class="cm-property">head</span>(<span class="cm-number">1</span>)</span></pre><pre class=" CodeMirror-line " role="presentation"><span role="presentation" style="padding-right: 0.1px;"><span class="cm-variable">goalkeeper_top</span></span></pre></div></div></div></div></div><div style="position: absolute; height: 33px; width: 1px; border-bottom: 0px solid transparent; top: 79px;"></div><div class="CodeMirror-gutters" style="display: none; height: 112px;"></div></div></div></div></div></div><div class="output_wrapper"><div class="out_prompt_overlay prompt" title="click to scroll output; double click to hide"></div><div class="output"><div class="output_area"><div class="run_this_cell"></div><div class="prompt output_prompt"><bdi>Out[21]:</bdi></div><div class="output_subarea output_html rendered_html output_result" dir="auto"><div>
<style scoped="">
    .dataframe tbody tr th:only-of-type {
        vertical-align: middle;
    }

    .dataframe tbody tr th {
        vertical-align: top;
    }

    .dataframe thead th {
        text-align: right;
    }
</style>
<table border="1" class="dataframe">
  <thead>
    <tr style="text-align: right;">
      <th></th>
      <th>Unnamed: 0</th>
      <th>name</th>
      <th>position</th>
      <th>age</th>
      <th>market_value</th>
      <th>country_from</th>
      <th>league_from</th>
      <th>club_from</th>
      <th>country_to</th>
      <th>league_to</th>
      <th>club_to</th>
      <th>fee</th>
    </tr>
  </thead>
  <tbody>
    <tr>
      <th>1108</th>
      <td>247</td>
      <td>Gavin Bazunu</td>
      <td>Goalkeeper</td>
      <td>20</td>
      <td>5000000</td>
      <td>England</td>
      <td>Premier League 2</td>
      <td>Manchester City U21</td>
      <td>England</td>
      <td>Premier League</td>
      <td>Southampton FC</td>
      <td>14000000</td>
    </tr>
  </tbody>
</table>
</div></div></div></div><div class="btn btn-default output_collapsed" title="click to expand output" style="display: none;">. . .</div></div></div><div class="cell code_cell rendered unselected" tabindex="2"><div class="input"><div class="prompt_container"><div class="prompt input_prompt"><bdi>In</bdi>&nbsp;[22]:</div><div class="run_this_cell" title="Run this cell"><i class="fa-step-forward fa"></i></div></div><div class="inner_cell"><div class="ctb_hideshow"><div class="celltoolbar"></div></div><div class="input_area" aria-label="Edit code here"><div class="CodeMirror cm-s-ipython"><div style="overflow: hidden; position: relative; width: 3px; height: 0px; top: 5.59375px; left: 4px;"><textarea autocorrect="off" autocapitalize="off" spellcheck="false" tabindex="0" style="position: absolute; bottom: -1em; padding: 0px; width: 1000px; height: 1em; outline: none;"></textarea></div><div class="CodeMirror-vscrollbar" tabindex="-1" cm-not-content="true"><div style="min-width: 1px; height: 0px;"></div></div><div class="CodeMirror-hscrollbar" tabindex="-1" cm-not-content="true"><div style="height: 100%; min-height: 1px; width: 0px;"></div></div><div class="CodeMirror-scrollbar-filler" cm-not-content="true"></div><div class="CodeMirror-gutter-filler" cm-not-content="true"></div><div class="CodeMirror-scroll" tabindex="-1"><div class="CodeMirror-sizer" style="margin-left: 0px; min-width: 476.641px; margin-bottom: -17px; border-right-width: 33px; min-height: 79px; padding-right: 0px; padding-bottom: 0px;"><div style="position: relative; top: 0px;"><div class="CodeMirror-lines" role="presentation"><div role="presentation" style="position: relative; outline: none;"><div class="CodeMirror-measure"><pre class="CodeMirror-line-like">x</pre></div><div class="CodeMirror-measure"></div><div style="position: relative; z-index: 1;"><div class="CodeMirror-selected" style="position: absolute; left: 4px; top: 0px; width: 613px; height: 17px;"></div><div class="CodeMirror-selected" style="position: absolute; left: 4px; top: 51px; width: 100.078px; height: 17px;"></div><div class="CodeMirror-selected" style="position: absolute; left: 4px; top: 17px; width: 613px; height: 34px;"></div></div><div class="CodeMirror-cursors" style=""></div><div class="CodeMirror-code" role="presentation"><pre class=" CodeMirror-line " role="presentation"><span role="presentation" style="padding-right: 0.1px;"><span class="cm-variable">rightback</span><span class="cm-operator">=</span><span class="cm-variable">df</span>[<span class="cm-variable">df</span>[<span class="cm-string">"position"</span>]<span class="cm-operator">==</span><span class="cm-string">"Right-Back"</span>]</span></pre><pre class=" CodeMirror-line " role="presentation"><span role="presentation" style="padding-right: 0.1px;"><span class="cm-variable">rightback</span><span class="cm-operator">=</span> <span class="cm-variable">rightback</span>.<span class="cm-property">sort_values</span>(<span class="cm-variable">by</span><span class="cm-operator">=</span>[<span class="cm-string">'fee'</span>], <span class="cm-variable">ascending</span><span class="cm-operator">=</span><span class="cm-keyword">False</span>)</span></pre><pre class=" CodeMirror-line " role="presentation"><span role="presentation" style="padding-right: 0.1px;"><span class="cm-variable">rightback_top</span><span class="cm-operator">=</span><span class="cm-variable">rightback</span>.<span class="cm-property">head</span>(<span class="cm-number">1</span>)</span></pre><pre class=" CodeMirror-line " role="presentation"><span role="presentation" style="padding-right: 0.1px;"><span class="cm-variable">rightback_top</span></span></pre></div></div></div></div></div><div style="position: absolute; height: 33px; width: 1px; border-bottom: 0px solid transparent; top: 79px;"></div><div class="CodeMirror-gutters" style="display: none; height: 112px;"></div></div></div></div></div></div><div class="output_wrapper"><div class="out_prompt_overlay prompt" title="click to scroll output; double click to hide"></div><div class="output"><div class="output_area"><div class="run_this_cell"></div><div class="prompt output_prompt"><bdi>Out[22]:</bdi></div><div class="output_subarea output_html rendered_html output_result" dir="auto"><div>
<style scoped="">
    .dataframe tbody tr th:only-of-type {
        vertical-align: middle;
    }

    .dataframe tbody tr th {
        vertical-align: top;
    }

    .dataframe thead th {
        text-align: right;
    }
</style>
<table border="1" class="dataframe">
  <thead>
    <tr style="text-align: right;">
      <th></th>
      <th>Unnamed: 0</th>
      <th>name</th>
      <th>position</th>
      <th>age</th>
      <th>market_value</th>
      <th>country_from</th>
      <th>league_from</th>
      <th>club_from</th>
      <th>country_to</th>
      <th>league_to</th>
      <th>club_to</th>
      <th>fee</th>
    </tr>
  </thead>
  <tbody>
    <tr>
      <th>1184</th>
      <td>66</td>
      <td>Malo Gusto</td>
      <td>Right-Back</td>
      <td>19</td>
      <td>15000000</td>
      <td>France</td>
      <td>Ligue 1</td>
      <td>Olympique Lyon</td>
      <td>England</td>
      <td>Premier League</td>
      <td>Chelsea FC</td>
      <td>30000000</td>
    </tr>
  </tbody>
</table>
</div></div></div></div><div class="btn btn-default output_collapsed" title="click to expand output" style="display: none;">. . .</div></div></div><div class="cell code_cell rendered unselected" tabindex="2"><div class="input"><div class="prompt_container"><div class="prompt input_prompt"><bdi>In</bdi>&nbsp;[24]:</div><div class="run_this_cell" title="Run this cell"><i class="fa-step-forward fa"></i></div></div><div class="inner_cell"><div class="ctb_hideshow"><div class="celltoolbar"></div></div><div class="input_area" aria-label="Edit code here"><div class="CodeMirror cm-s-ipython"><div style="overflow: hidden; position: relative; width: 3px; height: 0px; top: 5.59375px; left: 4px;"><textarea autocorrect="off" autocapitalize="off" spellcheck="false" tabindex="0" style="position: absolute; bottom: -1em; padding: 0px; width: 1000px; height: 1em; outline: none;"></textarea></div><div class="CodeMirror-vscrollbar" tabindex="-1" cm-not-content="true"><div style="min-width: 1px; height: 0px;"></div></div><div class="CodeMirror-hscrollbar" tabindex="-1" cm-not-content="true"><div style="height: 100%; min-height: 1px; width: 0px;"></div></div><div class="CodeMirror-scrollbar-filler" cm-not-content="true"></div><div class="CodeMirror-gutter-filler" cm-not-content="true"></div><div class="CodeMirror-scroll" tabindex="-1"><div class="CodeMirror-sizer" style="margin-left: 0px; min-width: 461.234px; margin-bottom: -17px; border-right-width: 33px; min-height: 79px; padding-right: 0px; padding-bottom: 0px;"><div style="position: relative; top: 0px;"><div class="CodeMirror-lines" role="presentation"><div role="presentation" style="position: relative; outline: none;"><div class="CodeMirror-measure"><pre class="CodeMirror-line-like">x</pre></div><div class="CodeMirror-measure"></div><div style="position: relative; z-index: 1;"><div class="CodeMirror-selected" style="position: absolute; left: 4px; top: 0px; width: 613px; height: 17px;"></div><div class="CodeMirror-selected" style="position: absolute; left: 4px; top: 51px; width: 92.375px; height: 17px;"></div><div class="CodeMirror-selected" style="position: absolute; left: 4px; top: 17px; width: 613px; height: 34px;"></div></div><div class="CodeMirror-cursors" style="visibility: hidden;"></div><div class="CodeMirror-code" role="presentation"><pre class=" CodeMirror-line " role="presentation"><span role="presentation" style="padding-right: 0.1px;"><span class="cm-variable">leftback</span><span class="cm-operator">=</span><span class="cm-variable">df</span>[<span class="cm-variable">df</span>[<span class="cm-string">"position"</span>]<span class="cm-operator">==</span><span class="cm-string">"Left-Back"</span>]</span></pre><pre class=" CodeMirror-line " role="presentation"><span role="presentation" style="padding-right: 0.1px;"><span class="cm-variable">leftback</span><span class="cm-operator">=</span> <span class="cm-variable">leftback</span>.<span class="cm-property">sort_values</span>(<span class="cm-variable">by</span><span class="cm-operator">=</span>[<span class="cm-string">'fee'</span>], <span class="cm-variable">ascending</span><span class="cm-operator">=</span><span class="cm-keyword">False</span>)</span></pre><pre class=" CodeMirror-line " role="presentation"><span role="presentation" style="padding-right: 0.1px;"><span class="cm-variable">leftback_top</span><span class="cm-operator">=</span><span class="cm-variable">leftback</span>.<span class="cm-property">head</span>(<span class="cm-number">1</span>)</span></pre><pre class=" CodeMirror-line " role="presentation"><span role="presentation" style="padding-right: 0.1px;"><span class="cm-variable">leftback_top</span></span></pre></div></div></div></div></div><div style="position: absolute; height: 33px; width: 1px; border-bottom: 0px solid transparent; top: 79px;"></div><div class="CodeMirror-gutters" style="display: none; height: 112px;"></div></div></div></div></div></div><div class="output_wrapper"><div class="out_prompt_overlay prompt" title="click to scroll output; double click to hide"></div><div class="output"><div class="output_area"><div class="run_this_cell"></div><div class="prompt output_prompt"><bdi>Out[24]:</bdi></div><div class="output_subarea output_html rendered_html output_result" dir="auto"><div>
<style scoped="">
    .dataframe tbody tr th:only-of-type {
        vertical-align: middle;
    }

    .dataframe tbody tr th {
        vertical-align: top;
    }

    .dataframe thead th {
        text-align: right;
    }
</style>
<table border="1" class="dataframe">
  <thead>
    <tr style="text-align: right;">
      <th></th>
      <th>Unnamed: 0</th>
      <th>name</th>
      <th>position</th>
      <th>age</th>
      <th>market_value</th>
      <th>country_from</th>
      <th>league_from</th>
      <th>club_from</th>
      <th>country_to</th>
      <th>league_to</th>
      <th>club_to</th>
      <th>fee</th>
    </tr>
  </thead>
  <tbody>
    <tr>
      <th>1221</th>
      <td>13</td>
      <td>Marc Cucurella</td>
      <td>Left-Back</td>
      <td>24</td>
      <td>28000000</td>
      <td>England</td>
      <td>Premier League</td>
      <td>Brighton &amp; Hove Albion</td>
      <td>England</td>
      <td>Premier League</td>
      <td>Chelsea FC</td>
      <td>65000000</td>
    </tr>
  </tbody>
</table>
</div></div></div></div><div class="btn btn-default output_collapsed" title="click to expand output" style="display: none;">. . .</div></div></div><div class="cell code_cell rendered unselected" tabindex="2"><div class="input"><div class="prompt_container"><div class="prompt input_prompt"><bdi>In</bdi>&nbsp;[25]:</div><div class="run_this_cell" title="Run this cell"><i class="fa-step-forward fa"></i></div></div><div class="inner_cell"><div class="ctb_hideshow"><div class="celltoolbar"></div></div><div class="input_area" aria-label="Edit code here"><div class="CodeMirror cm-s-ipython"><div style="overflow: hidden; position: relative; width: 3px; height: 0px; top: 5.59375px; left: 4px;"><textarea autocorrect="off" autocapitalize="off" spellcheck="false" tabindex="0" style="position: absolute; bottom: -1em; padding: 0px; width: 1000px; height: 1em; outline: none;"></textarea></div><div class="CodeMirror-vscrollbar" tabindex="-1" cm-not-content="true"><div style="min-width: 1px; height: 0px;"></div></div><div class="CodeMirror-hscrollbar" tabindex="-1" cm-not-content="true"><div style="height: 100%; min-height: 1px; width: 0px;"></div></div><div class="CodeMirror-scrollbar-filler" cm-not-content="true"></div><div class="CodeMirror-gutter-filler" cm-not-content="true"></div><div class="CodeMirror-scroll" tabindex="-1" draggable="false"><div class="CodeMirror-sizer" style="margin-left: 0px; min-width: 492.047px; margin-bottom: -17px; border-right-width: 33px; min-height: 79px; padding-right: 0px; padding-bottom: 0px;"><div style="position: relative; top: 0px;"><div class="CodeMirror-lines" role="presentation"><div role="presentation" style="position: relative; outline: none;"><div class="CodeMirror-measure"><pre class="CodeMirror-line-like">x</pre></div><div class="CodeMirror-measure"></div><div style="position: relative; z-index: 1;"><div class="CodeMirror-selected" style="position: absolute; left: 4px; top: 0px; width: 613px; height: 17px;"></div><div class="CodeMirror-selected" style="position: absolute; left: 4px; top: 51px; width: 107.766px; height: 17px;"></div><div class="CodeMirror-selected" style="position: absolute; left: 4px; top: 17px; width: 613px; height: 34px;"></div></div><div class="CodeMirror-cursors" style=""></div><div class="CodeMirror-code" role="presentation"><pre class=" CodeMirror-line " role="presentation"><span role="presentation" style="padding-right: 0.1px;"><span class="cm-variable">centreback</span><span class="cm-operator">=</span><span class="cm-variable">df</span>[<span class="cm-variable">df</span>[<span class="cm-string">"position"</span>]<span class="cm-operator">==</span><span class="cm-string">"Centre-Back"</span>]</span></pre><pre class=" CodeMirror-line " role="presentation"><span role="presentation" style="padding-right: 0.1px;"><span class="cm-variable">centreback</span><span class="cm-operator">=</span> <span class="cm-variable">centreback</span>.<span class="cm-property">sort_values</span>(<span class="cm-variable">by</span><span class="cm-operator">=</span>[<span class="cm-string">'fee'</span>], <span class="cm-variable">ascending</span><span class="cm-operator">=</span><span class="cm-keyword">False</span>)</span></pre><pre class=" CodeMirror-line " role="presentation"><span role="presentation" style="padding-right: 0.1px;"><span class="cm-variable">centreback_top</span><span class="cm-operator">=</span><span class="cm-variable">centreback</span>.<span class="cm-property">head</span>(<span class="cm-number">2</span>)</span></pre><pre class=" CodeMirror-line " role="presentation"><span role="presentation" style="padding-right: 0.1px;"><span class="cm-variable">centreback_top</span></span></pre></div></div></div></div></div><div style="position: absolute; height: 33px; width: 1px; border-bottom: 0px solid transparent; top: 79px;"></div><div class="CodeMirror-gutters" style="display: none; height: 112px;"></div></div></div></div></div></div><div class="output_wrapper"><div class="out_prompt_overlay prompt" title="click to scroll output; double click to hide"></div><div class="output"><div class="output_area"><div class="run_this_cell"></div><div class="prompt output_prompt"><bdi>Out[25]:</bdi></div><div class="output_subarea output_html rendered_html output_result" dir="auto"><div>
<style scoped="">
    .dataframe tbody tr th:only-of-type {
        vertical-align: middle;
    }

    .dataframe tbody tr th {
        vertical-align: top;
    }

    .dataframe thead th {
        text-align: right;
    }
</style>
<table border="1" class="dataframe">
  <thead>
    <tr style="text-align: right;">
      <th></th>
      <th>Unnamed: 0</th>
      <th>name</th>
      <th>position</th>
      <th>age</th>
      <th>market_value</th>
      <th>country_from</th>
      <th>league_from</th>
      <th>club_from</th>
      <th>country_to</th>
      <th>league_to</th>
      <th>club_to</th>
      <th>fee</th>
    </tr>
  </thead>
  <tbody>
    <tr>
      <th>1226</th>
      <td>3</td>
      <td>Wesley Fofana</td>
      <td>Centre-Back</td>
      <td>21</td>
      <td>40000000</td>
      <td>England</td>
      <td>Premier League</td>
      <td>Leicester City</td>
      <td>England</td>
      <td>Premier League</td>
      <td>Chelsea FC</td>
      <td>80000000</td>
    </tr>
    <tr>
      <th>1222</th>
      <td>8</td>
      <td>Matthijs de Ligt</td>
      <td>Centre-Back</td>
      <td>22</td>
      <td>70000000</td>
      <td>Italy</td>
      <td>Serie A</td>
      <td>Juventus FC</td>
      <td>Germany</td>
      <td>Bundesliga</td>
      <td>Bayern Munich</td>
      <td>67000000</td>
    </tr>
  </tbody>
</table>
</div></div></div></div><div class="btn btn-default output_collapsed" title="click to expand output" style="display: none;">. . .</div></div></div><div class="cell code_cell rendered unselected" tabindex="2"><div class="input"><div class="prompt_container"><div class="prompt input_prompt"><bdi>In</bdi>&nbsp;[26]:</div><div class="run_this_cell" title="Run this cell"><i class="fa-step-forward fa"></i></div></div><div class="inner_cell"><div class="ctb_hideshow"><div class="celltoolbar"></div></div><div class="input_area" aria-label="Edit code here"><div class="CodeMirror cm-s-ipython"><div style="overflow: hidden; position: relative; width: 3px; height: 0px; top: 5.59375px; left: 4px;"><textarea autocorrect="off" autocapitalize="off" spellcheck="false" tabindex="0" style="position: absolute; bottom: -1em; padding: 0px; width: 1000px; height: 1em; outline: none;"></textarea></div><div class="CodeMirror-vscrollbar" tabindex="-1" cm-not-content="true"><div style="min-width: 1px; height: 0px;"></div></div><div class="CodeMirror-hscrollbar" tabindex="-1" cm-not-content="true"><div style="height: 100%; min-height: 1px; width: 0px;"></div></div><div class="CodeMirror-scrollbar-filler" cm-not-content="true"></div><div class="CodeMirror-gutter-filler" cm-not-content="true"></div><div class="CodeMirror-scroll" tabindex="-1" draggable="false"><div class="CodeMirror-sizer" style="margin-left: 0px; min-width: 599.797px; margin-bottom: -17px; border-right-width: 33px; min-height: 79px; padding-right: 0px; padding-bottom: 0px;"><div style="position: relative; top: 0px;"><div class="CodeMirror-lines" role="presentation"><div role="presentation" style="position: relative; outline: none;"><div class="CodeMirror-measure"><pre class="CodeMirror-line-like">x</pre></div><div class="CodeMirror-measure"></div><div style="position: relative; z-index: 1;"><div class="CodeMirror-selected" style="position: absolute; left: 4px; top: 0px; width: 613px; height: 17px;"></div><div class="CodeMirror-selected" style="position: absolute; left: 4px; top: 51px; width: 161.656px; height: 17px;"></div><div class="CodeMirror-selected" style="position: absolute; left: 4px; top: 17px; width: 613px; height: 34px;"></div></div><div class="CodeMirror-cursors" style=""></div><div class="CodeMirror-code" role="presentation"><pre class=" CodeMirror-line " role="presentation"><span role="presentation" style="padding-right: 0.1px;"><span class="cm-variable">defensivemidfield</span><span class="cm-operator">=</span><span class="cm-variable">df</span>[<span class="cm-variable">df</span>[<span class="cm-string">"position"</span>]<span class="cm-operator">==</span><span class="cm-string">"Defensive Midfield"</span>]</span></pre><pre class=" CodeMirror-line " role="presentation"><span role="presentation" style="padding-right: 0.1px;"><span class="cm-variable">defensivemidfield</span><span class="cm-operator">=</span> <span class="cm-variable">defensivemidfield</span>.<span class="cm-property">sort_values</span>(<span class="cm-variable">by</span><span class="cm-operator">=</span>[<span class="cm-string">'fee'</span>], <span class="cm-variable">ascending</span><span class="cm-operator">=</span><span class="cm-keyword">False</span>)</span></pre><pre class=" CodeMirror-line " role="presentation"><span role="presentation" style="padding-right: 0.1px;"><span class="cm-variable">defensivemidfield_top</span><span class="cm-operator">=</span><span class="cm-variable">defensivemidfield</span>.<span class="cm-property">head</span>(<span class="cm-number">1</span>)</span></pre><pre class=" CodeMirror-line " role="presentation"><span role="presentation" style="padding-right: 0.1px;"><span class="cm-variable">defensivemidfield_top</span></span></pre></div></div></div></div></div><div style="position: absolute; height: 33px; width: 1px; border-bottom: 0px solid transparent; top: 79px;"></div><div class="CodeMirror-gutters" style="display: none; height: 112px;"></div></div></div></div></div></div><div class="output_wrapper"><div class="out_prompt_overlay prompt" title="click to scroll output; double click to hide"></div><div class="output"><div class="output_area"><div class="run_this_cell"></div><div class="prompt output_prompt"><bdi>Out[26]:</bdi></div><div class="output_subarea output_html rendered_html output_result" dir="auto"><div>
<style scoped="">
    .dataframe tbody tr th:only-of-type {
        vertical-align: middle;
    }

    .dataframe tbody tr th {
        vertical-align: top;
    }

    .dataframe thead th {
        text-align: right;
    }
</style>
<table border="1" class="dataframe">
  <thead>
    <tr style="text-align: right;">
      <th></th>
      <th>Unnamed: 0</th>
      <th>name</th>
      <th>position</th>
      <th>age</th>
      <th>market_value</th>
      <th>country_from</th>
      <th>league_from</th>
      <th>club_from</th>
      <th>country_to</th>
      <th>league_to</th>
      <th>club_to</th>
      <th>fee</th>
    </tr>
  </thead>
  <tbody>
    <tr>
      <th>1227</th>
      <td>4</td>
      <td>Aurélien Tchouameni</td>
      <td>Defensive Midfield</td>
      <td>22</td>
      <td>60000000</td>
      <td>Monaco</td>
      <td>Ligue 1</td>
      <td>AS Monaco</td>
      <td>Spain</td>
      <td>LaLiga</td>
      <td>Real Madrid</td>
      <td>80000000</td>
    </tr>
  </tbody>
</table>
</div></div></div></div><div class="btn btn-default output_collapsed" title="click to expand output" style="display: none;">. . .</div></div></div><div class="cell code_cell rendered unselected" tabindex="2"><div class="input"><div class="prompt_container"><div class="prompt input_prompt"><bdi>In</bdi>&nbsp;[27]:</div><div class="run_this_cell" title="Run this cell"><i class="fa-step-forward fa"></i></div></div><div class="inner_cell"><div class="ctb_hideshow"><div class="celltoolbar"></div></div><div class="input_area" aria-label="Edit code here"><div class="CodeMirror cm-s-ipython"><div style="overflow: hidden; position: relative; width: 3px; height: 0px; top: 5.59375px; left: 4px;"><textarea autocorrect="off" autocapitalize="off" spellcheck="false" tabindex="0" style="position: absolute; bottom: -1em; padding: 0px; width: 1000px; height: 1em; outline: none;"></textarea></div><div class="CodeMirror-vscrollbar" tabindex="-1" cm-not-content="true"><div style="min-width: 1px; height: 0px;"></div></div><div class="CodeMirror-hscrollbar" tabindex="-1" cm-not-content="true"><div style="height: 100%; min-height: 1px; width: 0px;"></div></div><div class="CodeMirror-scrollbar-filler" cm-not-content="true"></div><div class="CodeMirror-gutter-filler" cm-not-content="true"></div><div class="CodeMirror-scroll" tabindex="-1"><div class="CodeMirror-sizer" style="margin-left: 0px; min-width: 569.016px; margin-bottom: -17px; border-right-width: 33px; min-height: 79px; padding-right: 0px; padding-bottom: 0px;"><div style="position: relative; top: 0px;"><div class="CodeMirror-lines" role="presentation"><div role="presentation" style="position: relative; outline: none;"><div class="CodeMirror-measure"><pre class="CodeMirror-line-like">x</pre></div><div class="CodeMirror-measure"></div><div style="position: relative; z-index: 1;"><div class="CodeMirror-selected" style="position: absolute; left: 4px; top: 0px; width: 613px; height: 17px;"></div><div class="CodeMirror-selected" style="position: absolute; left: 4px; top: 51px; width: 146.25px; height: 17px;"></div><div class="CodeMirror-selected" style="position: absolute; left: 4px; top: 17px; width: 613px; height: 34px;"></div></div><div class="CodeMirror-cursors" style=""></div><div class="CodeMirror-code" role="presentation"><pre class=" CodeMirror-line " role="presentation"><span role="presentation" style="padding-right: 0.1px;"><span class="cm-variable">centralmidfield</span><span class="cm-operator">=</span><span class="cm-variable">df</span>[<span class="cm-variable">df</span>[<span class="cm-string">"position"</span>]<span class="cm-operator">==</span><span class="cm-string">"Central Midfield"</span>]</span></pre><pre class=" CodeMirror-line " role="presentation"><span role="presentation" style="padding-right: 0.1px;"><span class="cm-variable">centralmidfield</span><span class="cm-operator">=</span> <span class="cm-variable">centralmidfield</span>.<span class="cm-property">sort_values</span>(<span class="cm-variable">by</span><span class="cm-operator">=</span>[<span class="cm-string">'fee'</span>], <span class="cm-variable">ascending</span><span class="cm-operator">=</span><span class="cm-keyword">False</span>)</span></pre><pre class=" CodeMirror-line " role="presentation"><span role="presentation" style="padding-right: 0.1px;"><span class="cm-variable">centralmidfield_top</span><span class="cm-operator">=</span><span class="cm-variable">centralmidfield</span>.<span class="cm-property">head</span>(<span class="cm-number">2</span>)</span></pre><pre class=" CodeMirror-line " role="presentation"><span role="presentation" style="padding-right: 0.1px;"><span class="cm-variable">centralmidfield_top</span></span></pre></div></div></div></div></div><div style="position: absolute; height: 33px; width: 1px; border-bottom: 0px solid transparent; top: 79px;"></div><div class="CodeMirror-gutters" style="display: none; height: 112px;"></div></div></div></div></div></div><div class="output_wrapper"><div class="out_prompt_overlay prompt" title="click to scroll output; double click to hide"></div><div class="output"><div class="output_area"><div class="run_this_cell"></div><div class="prompt output_prompt"><bdi>Out[27]:</bdi></div><div class="output_subarea output_html rendered_html output_result" dir="auto"><div>
<style scoped="">
    .dataframe tbody tr th:only-of-type {
        vertical-align: middle;
    }

    .dataframe tbody tr th {
        vertical-align: top;
    }

    .dataframe thead th {
        text-align: right;
    }
</style>
<table border="1" class="dataframe">
  <thead>
    <tr style="text-align: right;">
      <th></th>
      <th>Unnamed: 0</th>
      <th>name</th>
      <th>position</th>
      <th>age</th>
      <th>market_value</th>
      <th>country_from</th>
      <th>league_from</th>
      <th>club_from</th>
      <th>country_to</th>
      <th>league_to</th>
      <th>club_to</th>
      <th>fee</th>
    </tr>
  </thead>
  <tbody>
    <tr>
      <th>1230</th>
      <td>1</td>
      <td>Enzo Fernández</td>
      <td>Central Midfield</td>
      <td>22</td>
      <td>55000000</td>
      <td>Portugal</td>
      <td>Liga Portugal</td>
      <td>SL Benfica</td>
      <td>England</td>
      <td>Premier League</td>
      <td>Chelsea FC</td>
      <td>121000000</td>
    </tr>
    <tr>
      <th>1211</th>
      <td>30</td>
      <td>Matheus Nunes</td>
      <td>Central Midfield</td>
      <td>23</td>
      <td>35000000</td>
      <td>Portugal</td>
      <td>Liga Portugal</td>
      <td>Sporting CP</td>
      <td>England</td>
      <td>Premier League</td>
      <td>Wolverhampton Wanderers</td>
      <td>45000000</td>
    </tr>
  </tbody>
</table>
</div></div></div></div><div class="btn btn-default output_collapsed" title="click to expand output" style="display: none;">. . .</div></div></div><div class="cell code_cell rendered unselected" tabindex="2"><div class="input"><div class="prompt_container"><div class="prompt input_prompt"><bdi>In</bdi>&nbsp;[29]:</div><div class="run_this_cell" title="Run this cell"><i class="fa-step-forward fa"></i></div></div><div class="inner_cell"><div class="ctb_hideshow"><div class="celltoolbar"></div></div><div class="input_area" aria-label="Edit code here"><div class="CodeMirror cm-s-ipython"><div style="overflow: hidden; position: relative; width: 3px; height: 0px; top: 5.59375px; left: 4px;"><textarea autocorrect="off" autocapitalize="off" spellcheck="false" tabindex="0" style="position: absolute; bottom: -1em; padding: 0px; width: 1000px; height: 1em; outline: none;"></textarea></div><div class="CodeMirror-vscrollbar" tabindex="-1" cm-not-content="true"><div style="min-width: 1px; height: 0px;"></div></div><div class="CodeMirror-hscrollbar" tabindex="-1" cm-not-content="true"><div style="height: 100%; min-height: 1px; width: 0px;"></div></div><div class="CodeMirror-scrollbar-filler" cm-not-content="true"></div><div class="CodeMirror-gutter-filler" cm-not-content="true"></div><div class="CodeMirror-scroll" tabindex="-1"><div class="CodeMirror-sizer" style="margin-left: 0px; min-width: 461.234px; margin-bottom: -17px; border-right-width: 33px; min-height: 79px; padding-right: 0px; padding-bottom: 0px;"><div style="position: relative; top: 0px;"><div class="CodeMirror-lines" role="presentation"><div role="presentation" style="position: relative; outline: none;"><div class="CodeMirror-measure"><pre class="CodeMirror-line-like">x</pre></div><div class="CodeMirror-measure"></div><div style="position: relative; z-index: 1;"><div class="CodeMirror-selected" style="position: absolute; left: 4px; top: 0px; width: 613px; height: 17px;"></div><div class="CodeMirror-selected" style="position: absolute; left: 4px; top: 51px; width: 92.375px; height: 17px;"></div><div class="CodeMirror-selected" style="position: absolute; left: 4px; top: 17px; width: 613px; height: 34px;"></div></div><div class="CodeMirror-cursors" style=""></div><div class="CodeMirror-code" role="presentation"><pre class=" CodeMirror-line " role="presentation"><span role="presentation" style="padding-right: 0.1px;"><span class="cm-variable">leftwing</span><span class="cm-operator">=</span><span class="cm-variable">df</span>[<span class="cm-variable">df</span>[<span class="cm-string">"position"</span>]<span class="cm-operator">==</span><span class="cm-string">"Left Winger"</span>]</span></pre><pre class=" CodeMirror-line " role="presentation"><span role="presentation" style="padding-right: 0.1px;"><span class="cm-variable">leftwing</span><span class="cm-operator">=</span> <span class="cm-variable">leftwing</span>.<span class="cm-property">sort_values</span>(<span class="cm-variable">by</span><span class="cm-operator">=</span>[<span class="cm-string">'fee'</span>], <span class="cm-variable">ascending</span><span class="cm-operator">=</span><span class="cm-keyword">False</span>)</span></pre><pre class=" CodeMirror-line " role="presentation"><span role="presentation" style="padding-right: 0.1px;"><span class="cm-variable">leftwing_top</span><span class="cm-operator">=</span><span class="cm-variable">leftwing</span>.<span class="cm-property">head</span>(<span class="cm-number">1</span>)</span></pre><pre class=" CodeMirror-line " role="presentation"><span role="presentation" style="padding-right: 0.1px;"><span class="cm-variable">leftwing_top</span></span></pre></div></div></div></div></div><div style="position: absolute; height: 33px; width: 1px; border-bottom: 0px solid transparent; top: 79px;"></div><div class="CodeMirror-gutters" style="display: none; height: 112px;"></div></div></div></div></div></div><div class="output_wrapper"><div class="out_prompt_overlay prompt" title="click to scroll output; double click to hide"></div><div class="output"><div class="output_area"><div class="run_this_cell"></div><div class="prompt output_prompt"><bdi>Out[29]:</bdi></div><div class="output_subarea output_html rendered_html output_result" dir="auto"><div>
<style scoped="">
    .dataframe tbody tr th:only-of-type {
        vertical-align: middle;
    }

    .dataframe tbody tr th {
        vertical-align: top;
    }

    .dataframe thead th {
        text-align: right;
    }
</style>
<table border="1" class="dataframe">
  <thead>
    <tr style="text-align: right;">
      <th></th>
      <th>Unnamed: 0</th>
      <th>name</th>
      <th>position</th>
      <th>age</th>
      <th>market_value</th>
      <th>country_from</th>
      <th>league_from</th>
      <th>club_from</th>
      <th>country_to</th>
      <th>league_to</th>
      <th>club_to</th>
      <th>fee</th>
    </tr>
  </thead>
  <tbody>
    <tr>
      <th>1224</th>
      <td>6</td>
      <td>Mykhaylo Mudryk</td>
      <td>Left Winger</td>
      <td>22</td>
      <td>40000000</td>
      <td>Ukraine</td>
      <td>Premier Liga</td>
      <td>Shakhtar Donetsk</td>
      <td>England</td>
      <td>Premier League</td>
      <td>Chelsea FC</td>
      <td>70000000</td>
    </tr>
  </tbody>
</table>
</div></div></div></div><div class="btn btn-default output_collapsed" title="click to expand output" style="display: none;">. . .</div></div></div><div class="cell code_cell rendered unselected" tabindex="2"><div class="input"><div class="prompt_container"><div class="prompt input_prompt"><bdi>In</bdi>&nbsp;[30]:</div><div class="run_this_cell" title="Run this cell"><i class="fa-step-forward fa"></i></div></div><div class="inner_cell"><div class="ctb_hideshow"><div class="celltoolbar"></div></div><div class="input_area" aria-label="Edit code here"><div class="CodeMirror cm-s-ipython"><div style="overflow: hidden; position: relative; width: 3px; height: 0px; top: 5.59375px; left: 4px;"><textarea autocorrect="off" autocapitalize="off" spellcheck="false" tabindex="0" style="position: absolute; bottom: -1em; padding: 0px; width: 1000px; height: 1em; outline: none;"></textarea></div><div class="CodeMirror-vscrollbar" tabindex="-1" cm-not-content="true"><div style="min-width: 1px; height: 0px;"></div></div><div class="CodeMirror-hscrollbar" tabindex="-1" cm-not-content="true"><div style="height: 100%; min-height: 1px; width: 0px;"></div></div><div class="CodeMirror-scrollbar-filler" cm-not-content="true"></div><div class="CodeMirror-gutter-filler" cm-not-content="true"></div><div class="CodeMirror-scroll" tabindex="-1"><div class="CodeMirror-sizer" style="margin-left: 0px; min-width: 476.641px; margin-bottom: -17px; border-right-width: 33px; min-height: 79px; padding-right: 0px; padding-bottom: 0px;"><div style="position: relative; top: 0px;"><div class="CodeMirror-lines" role="presentation"><div role="presentation" style="position: relative; outline: none;"><div class="CodeMirror-measure"><pre class="CodeMirror-line-like">x</pre></div><div class="CodeMirror-measure"></div><div style="position: relative; z-index: 1;"><div class="CodeMirror-selected" style="position: absolute; left: 4px; top: 0px; width: 613px; height: 17px;"></div><div class="CodeMirror-selected" style="position: absolute; left: 4px; top: 51px; width: 100.078px; height: 17px;"></div><div class="CodeMirror-selected" style="position: absolute; left: 4px; top: 17px; width: 613px; height: 34px;"></div></div><div class="CodeMirror-cursors" style="visibility: hidden;"></div><div class="CodeMirror-code" role="presentation"><pre class=" CodeMirror-line " role="presentation"><span role="presentation" style="padding-right: 0.1px;"><span class="cm-variable">rightwing</span><span class="cm-operator">=</span><span class="cm-variable">df</span>[<span class="cm-variable">df</span>[<span class="cm-string">"position"</span>]<span class="cm-operator">==</span><span class="cm-string">"Right Winger"</span>]</span></pre><pre class=" CodeMirror-line " role="presentation"><span role="presentation" style="padding-right: 0.1px;"><span class="cm-variable">rightwing</span><span class="cm-operator">=</span> <span class="cm-variable">rightwing</span>.<span class="cm-property">sort_values</span>(<span class="cm-variable">by</span><span class="cm-operator">=</span>[<span class="cm-string">'fee'</span>], <span class="cm-variable">ascending</span><span class="cm-operator">=</span><span class="cm-keyword">False</span>)</span></pre><pre class=" CodeMirror-line " role="presentation"><span role="presentation" style="padding-right: 0.1px;"><span class="cm-variable">rightwing_top</span><span class="cm-operator">=</span><span class="cm-variable">rightwing</span>.<span class="cm-property">head</span>(<span class="cm-number">1</span>)</span></pre><pre class=" CodeMirror-line " role="presentation"><span role="presentation" style="padding-right: 0.1px;"><span class="cm-variable">rightwing_top</span></span></pre></div></div></div></div></div><div style="position: absolute; height: 33px; width: 1px; border-bottom: 0px solid transparent; top: 79px;"></div><div class="CodeMirror-gutters" style="display: none; height: 112px;"></div></div></div></div></div></div><div class="output_wrapper"><div class="out_prompt_overlay prompt" title="click to scroll output; double click to hide"></div><div class="output"><div class="output_area"><div class="run_this_cell"></div><div class="prompt output_prompt"><bdi>Out[30]:</bdi></div><div class="output_subarea output_html rendered_html output_result" dir="auto"><div>
<style scoped="">
    .dataframe tbody tr th:only-of-type {
        vertical-align: middle;
    }

    .dataframe tbody tr th {
        vertical-align: top;
    }

    .dataframe thead th {
        text-align: right;
    }
</style>
<table border="1" class="dataframe">
  <thead>
    <tr style="text-align: right;">
      <th></th>
      <th>Unnamed: 0</th>
      <th>name</th>
      <th>position</th>
      <th>age</th>
      <th>market_value</th>
      <th>country_from</th>
      <th>league_from</th>
      <th>club_from</th>
      <th>country_to</th>
      <th>league_to</th>
      <th>club_to</th>
      <th>fee</th>
    </tr>
  </thead>
  <tbody>
    <tr>
      <th>1229</th>
      <td>2</td>
      <td>Antony</td>
      <td>Right Winger</td>
      <td>22</td>
      <td>35000000</td>
      <td>Netherlands</td>
      <td>Eredivisie</td>
      <td>Ajax Amsterdam</td>
      <td>England</td>
      <td>Premier League</td>
      <td>Manchester United</td>
      <td>95000000</td>
    </tr>
  </tbody>
</table>
</div></div></div></div><div class="btn btn-default output_collapsed" title="click to expand output" style="display: none;">. . .</div></div></div><div class="cell code_cell rendered unselected" tabindex="2"><div class="input"><div class="prompt_container"><div class="prompt input_prompt"><bdi>In</bdi>&nbsp;[31]:</div><div class="run_this_cell" title="Run this cell"><i class="fa-step-forward fa"></i></div></div><div class="inner_cell"><div class="ctb_hideshow"><div class="celltoolbar"></div></div><div class="input_area" aria-label="Edit code here"><div class="CodeMirror cm-s-ipython"><div style="overflow: hidden; position: relative; width: 3px; height: 0px; top: 5.59375px; left: 373.547px;"><textarea autocorrect="off" autocapitalize="off" spellcheck="false" tabindex="0" style="position: absolute; bottom: -1em; padding: 0px; width: 1000px; height: 1em; outline: none;"></textarea></div><div class="CodeMirror-vscrollbar" tabindex="-1" cm-not-content="true"><div style="min-width: 1px; height: 0px;"></div></div><div class="CodeMirror-hscrollbar" tabindex="-1" cm-not-content="true"><div style="height: 100%; min-height: 1px; width: 0px;"></div></div><div class="CodeMirror-scrollbar-filler" cm-not-content="true"></div><div class="CodeMirror-gutter-filler" cm-not-content="true"></div><div class="CodeMirror-scroll" tabindex="-1"><div class="CodeMirror-sizer" style="margin-left: 0px; min-width: 538.234px; margin-bottom: -17px; border-right-width: 33px; min-height: 79px; padding-right: 0px; padding-bottom: 0px;"><div style="position: relative; top: 0px;"><div class="CodeMirror-lines" role="presentation"><div role="presentation" style="position: relative; outline: none;"><div class="CodeMirror-measure"><pre class="CodeMirror-line-like">x</pre></div><div class="CodeMirror-measure"></div><div style="position: relative; z-index: 1;"></div><div class="CodeMirror-cursors" style="visibility: hidden;"><div class="CodeMirror-cursor" style="left: 373.547px; top: 0px; height: 17px;">&nbsp;</div></div><div class="CodeMirror-code" role="presentation"><pre class=" CodeMirror-line " role="presentation"><span role="presentation" style="padding-right: 0.1px;"><span class="cm-variable">centreforward</span><span class="cm-operator">=</span><span class="cm-variable">df</span>[<span class="cm-variable">df</span>[<span class="cm-string">"position"</span>]<span class="cm-operator">==</span><span class="cm-string">"Centre-Forward"</span>]</span></pre><pre class=" CodeMirror-line " role="presentation"><span role="presentation" style="padding-right: 0.1px;"><span class="cm-variable">centreforward</span><span class="cm-operator">=</span> <span class="cm-variable">centreforward</span>.<span class="cm-property">sort_values</span>(<span class="cm-variable">by</span><span class="cm-operator">=</span>[<span class="cm-string">'fee'</span>], <span class="cm-variable">ascending</span><span class="cm-operator">=</span><span class="cm-keyword">False</span>)</span></pre><pre class=" CodeMirror-line " role="presentation"><span role="presentation" style="padding-right: 0.1px;"><span class="cm-variable">centreforward_top</span><span class="cm-operator">=</span><span class="cm-variable">centreforward</span>.<span class="cm-property">head</span>(<span class="cm-number">1</span>)</span></pre><pre class=" CodeMirror-line " role="presentation"><span role="presentation" style="padding-right: 0.1px;"><span class="cm-variable">centreforward_top</span></span></pre></div></div></div></div></div><div style="position: absolute; height: 33px; width: 1px; border-bottom: 0px solid transparent; top: 79px;"></div><div class="CodeMirror-gutters" style="display: none; height: 112px;"></div></div></div></div></div></div><div class="output_wrapper"><div class="out_prompt_overlay prompt" title="click to scroll output; double click to hide"></div><div class="output"><div class="output_area"><div class="run_this_cell"></div><div class="prompt output_prompt"><bdi>Out[31]:</bdi></div><div class="output_subarea output_html rendered_html output_result" dir="auto"><div>
<style scoped="">
    .dataframe tbody tr th:only-of-type {
        vertical-align: middle;
    }

    .dataframe tbody tr th {
        vertical-align: top;
    }

    .dataframe thead th {
        text-align: right;
    }
</style>
<table border="1" class="dataframe">
  <thead>
    <tr style="text-align: right;">
      <th></th>
      <th>Unnamed: 0</th>
      <th>name</th>
      <th>position</th>
      <th>age</th>
      <th>market_value</th>
      <th>country_from</th>
      <th>league_from</th>
      <th>club_from</th>
      <th>country_to</th>
      <th>league_to</th>
      <th>club_to</th>
      <th>fee</th>
    </tr>
  </thead>
  <tbody>
    <tr>
      <th>1228</th>
      <td>20</td>
      <td>Darwin Núñez</td>
      <td>Centre-Forward</td>
      <td>23</td>
      <td>55000000</td>
      <td>Portugal</td>
      <td>Liga Portugal</td>
      <td>SL Benfica</td>
      <td>England</td>
      <td>Premier League</td>
      <td>Liverpool FC</td>
      <td>80000000</td>
    </tr>
  </tbody>
</table>
</div></div></div></div><div class="btn btn-default output_collapsed" title="click to expand output" style="display: none;">. . .</div></div></div><div class="cell code_cell rendered unselected" tabindex="2"><div class="input"><div class="prompt_container"><div class="prompt input_prompt"><bdi>In</bdi>&nbsp;[33]:</div><div class="run_this_cell" title="Run this cell"><i class="fa-step-forward fa"></i></div></div><div class="inner_cell"><div class="ctb_hideshow"><div class="celltoolbar"></div></div><div class="input_area" aria-label="Edit code here"><div class="CodeMirror cm-s-ipython"><div style="overflow: hidden; position: relative; width: 3px; height: 0px; top: 56.5938px; left: 73.2812px;"><textarea autocorrect="off" autocapitalize="off" spellcheck="false" tabindex="0" style="position: absolute; bottom: -1em; padding: 0px; width: 1000px; height: 1em; outline: none;"></textarea></div><div class="CodeMirror-vscrollbar" tabindex="-1" cm-not-content="true"><div style="min-width: 1px; height: 0px;"></div></div><div class="CodeMirror-hscrollbar" tabindex="-1" cm-not-content="true" style="right: 0px; left: 0px; display: block;"><div style="height: 100%; min-height: 1px; width: 885px;"></div></div><div class="CodeMirror-scrollbar-filler" cm-not-content="true"></div><div class="CodeMirror-gutter-filler" cm-not-content="true"></div><div class="CodeMirror-scroll" tabindex="-1"><div class="CodeMirror-sizer" style="margin-left: 0px; min-width: 884.609px; margin-bottom: -17px; border-right-width: 33px; min-height: 79px; padding-right: 0px; padding-bottom: 17px;"><div style="position: relative; top: 0px;"><div class="CodeMirror-lines" role="presentation"><div role="presentation" style="position: relative; outline: none;"><div class="CodeMirror-measure"></div><div class="CodeMirror-measure"></div><div style="position: relative; z-index: 1;"></div><div class="CodeMirror-cursors" style="visibility: hidden;"><div class="CodeMirror-cursor" style="left: 73.2812px; top: 51px; height: 17px;">&nbsp;</div></div><div class="CodeMirror-code" role="presentation"><pre class=" CodeMirror-line " role="presentation"><span role="presentation" style="padding-right: 0.1px;"><span class="cm-variable">frame</span><span class="cm-operator">=</span>[<span class="cm-variable">goalkeeper_top</span>, <span class="cm-variable">rightback_top</span>, <span class="cm-variable">leftback_top</span>,</span></pre><pre class=" CodeMirror-line " role="presentation"><span role="presentation" style="padding-right: 0.1px;">       <span class="cm-variable">centreback_top</span>, <span class="cm-variable">defensivemidfield_top</span>, <span class="cm-variable">centralmidfield_top</span>, <span class="cm-variable">leftwing_top</span>, <span class="cm-variable">rightwing_top</span>, <span class="cm-variable">centreforward_top</span>]</span></pre><pre class=" CodeMirror-line " role="presentation"><span role="presentation" style="padding-right: 0.1px;"><span class="cm-variable">top11_fee</span><span class="cm-operator">=</span> <span class="cm-variable">pd</span>.<span class="cm-property">concat</span>(<span class="cm-variable">frame</span>)</span></pre><pre class=" CodeMirror-line " role="presentation"><span role="presentation" style="padding-right: 0.1px;"><span class="cm-variable">top11_fee</span></span></pre></div></div></div></div></div><div style="position: absolute; height: 33px; width: 1px; border-bottom: 17px solid transparent; top: 79px;"></div><div class="CodeMirror-gutters" style="display: none; height: 129px;"></div></div></div></div></div></div><div class="output_wrapper"><div class="out_prompt_overlay prompt" title="click to scroll output; double click to hide"></div><div class="output"><div class="output_area"><div class="run_this_cell"></div><div class="prompt output_prompt"><bdi>Out[33]:</bdi></div><div class="output_subarea output_html rendered_html output_result" dir="auto"><div>
<style scoped="">
    .dataframe tbody tr th:only-of-type {
        vertical-align: middle;
    }

    .dataframe tbody tr th {
        vertical-align: top;
    }

    .dataframe thead th {
        text-align: right;
    }
</style>
<table border="1" class="dataframe">
  <thead>
    <tr style="text-align: right;">
      <th></th>
      <th>Unnamed: 0</th>
      <th>name</th>
      <th>position</th>
      <th>age</th>
      <th>market_value</th>
      <th>country_from</th>
      <th>league_from</th>
      <th>club_from</th>
      <th>country_to</th>
      <th>league_to</th>
      <th>club_to</th>
      <th>fee</th>
    </tr>
  </thead>
  <tbody>
    <tr>
      <th>1108</th>
      <td>247</td>
      <td>Gavin Bazunu</td>
      <td>Goalkeeper</td>
      <td>20</td>
      <td>5000000</td>
      <td>England</td>
      <td>Premier League 2</td>
      <td>Manchester City U21</td>
      <td>England</td>
      <td>Premier League</td>
      <td>Southampton FC</td>
      <td>14000000</td>
    </tr>
    <tr>
      <th>1184</th>
      <td>66</td>
      <td>Malo Gusto</td>
      <td>Right-Back</td>
      <td>19</td>
      <td>15000000</td>
      <td>France</td>
      <td>Ligue 1</td>
      <td>Olympique Lyon</td>
      <td>England</td>
      <td>Premier League</td>
      <td>Chelsea FC</td>
      <td>30000000</td>
    </tr>
    <tr>
      <th>1221</th>
      <td>13</td>
      <td>Marc Cucurella</td>
      <td>Left-Back</td>
      <td>24</td>
      <td>28000000</td>
      <td>England</td>
      <td>Premier League</td>
      <td>Brighton &amp; Hove Albion</td>
      <td>England</td>
      <td>Premier League</td>
      <td>Chelsea FC</td>
      <td>65000000</td>
    </tr>
    <tr>
      <th>1226</th>
      <td>3</td>
      <td>Wesley Fofana</td>
      <td>Centre-Back</td>
      <td>21</td>
      <td>40000000</td>
      <td>England</td>
      <td>Premier League</td>
      <td>Leicester City</td>
      <td>England</td>
      <td>Premier League</td>
      <td>Chelsea FC</td>
      <td>80000000</td>
    </tr>
    <tr>
      <th>1222</th>
      <td>8</td>
      <td>Matthijs de Ligt</td>
      <td>Centre-Back</td>
      <td>22</td>
      <td>70000000</td>
      <td>Italy</td>
      <td>Serie A</td>
      <td>Juventus FC</td>
      <td>Germany</td>
      <td>Bundesliga</td>
      <td>Bayern Munich</td>
      <td>67000000</td>
    </tr>
    <tr>
      <th>1227</th>
      <td>4</td>
      <td>Aurélien Tchouameni</td>
      <td>Defensive Midfield</td>
      <td>22</td>
      <td>60000000</td>
      <td>Monaco</td>
      <td>Ligue 1</td>
      <td>AS Monaco</td>
      <td>Spain</td>
      <td>LaLiga</td>
      <td>Real Madrid</td>
      <td>80000000</td>
    </tr>
    <tr>
      <th>1230</th>
      <td>1</td>
      <td>Enzo Fernández</td>
      <td>Central Midfield</td>
      <td>22</td>
      <td>55000000</td>
      <td>Portugal</td>
      <td>Liga Portugal</td>
      <td>SL Benfica</td>
      <td>England</td>
      <td>Premier League</td>
      <td>Chelsea FC</td>
      <td>121000000</td>
    </tr>
    <tr>
      <th>1211</th>
      <td>30</td>
      <td>Matheus Nunes</td>
      <td>Central Midfield</td>
      <td>23</td>
      <td>35000000</td>
      <td>Portugal</td>
      <td>Liga Portugal</td>
      <td>Sporting CP</td>
      <td>England</td>
      <td>Premier League</td>
      <td>Wolverhampton Wanderers</td>
      <td>45000000</td>
    </tr>
    <tr>
      <th>1224</th>
      <td>6</td>
      <td>Mykhaylo Mudryk</td>
      <td>Left Winger</td>
      <td>22</td>
      <td>40000000</td>
      <td>Ukraine</td>
      <td>Premier Liga</td>
      <td>Shakhtar Donetsk</td>
      <td>England</td>
      <td>Premier League</td>
      <td>Chelsea FC</td>
      <td>70000000</td>
    </tr>
    <tr>
      <th>1229</th>
      <td>2</td>
      <td>Antony</td>
      <td>Right Winger</td>
      <td>22</td>
      <td>35000000</td>
      <td>Netherlands</td>
      <td>Eredivisie</td>
      <td>Ajax Amsterdam</td>
      <td>England</td>
      <td>Premier League</td>
      <td>Manchester United</td>
      <td>95000000</td>
    </tr>
    <tr>
      <th>1228</th>
      <td>20</td>
      <td>Darwin Núñez</td>
      <td>Centre-Forward</td>
      <td>23</td>
      <td>55000000</td>
      <td>Portugal</td>
      <td>Liga Portugal</td>
      <td>SL Benfica</td>
      <td>England</td>
      <td>Premier League</td>
      <td>Liverpool FC</td>
      <td>80000000</td>
    </tr>
  </tbody>
</table>
</div></div></div></div><div class="btn btn-default output_collapsed" title="click to expand output" style="display: none;">. . .</div></div></div><div class="cell code_cell rendered unselected" tabindex="2"><div class="input"><div class="prompt_container"><div class="prompt input_prompt"><bdi>In</bdi>&nbsp;[58]:</div><div class="run_this_cell" title="Run this cell"><i class="fa-step-forward fa"></i></div></div><div class="inner_cell"><div class="ctb_hideshow"><div class="celltoolbar"></div></div><div class="input_area" aria-label="Edit code here"><div class="CodeMirror cm-s-ipython"><div style="overflow: hidden; position: relative; width: 3px; height: 0px; top: 90.5938px; left: 204.156px;"><textarea autocorrect="off" autocapitalize="off" spellcheck="false" tabindex="0" style="position: absolute; bottom: -1em; padding: 0px; width: 1000px; height: 1em; outline: none;"></textarea></div><div class="CodeMirror-vscrollbar" tabindex="-1" cm-not-content="true"><div style="min-width: 1px; height: 0px;"></div></div><div class="CodeMirror-hscrollbar" tabindex="-1" cm-not-content="true" style="display: block; right: 0px; left: 0px;"><div style="height: 100%; min-height: 1px; width: 723px;"></div></div><div class="CodeMirror-scrollbar-filler" cm-not-content="true"></div><div class="CodeMirror-gutter-filler" cm-not-content="true"></div><div class="CodeMirror-scroll" tabindex="-1" draggable="false"><div class="CodeMirror-sizer" style="margin-left: 0px; min-width: 723px; margin-bottom: -17px; border-right-width: 33px; min-height: 113px; padding-right: 0px; padding-bottom: 17px;"><div style="position: relative; top: 0px;"><div class="CodeMirror-lines" role="presentation"><div role="presentation" style="position: relative; outline: none;"><div class="CodeMirror-measure"><pre class="CodeMirror-line-like"><span>xxxxxxxxxx</span></pre></div><div class="CodeMirror-measure"></div><div style="position: relative; z-index: 1;"></div><div class="CodeMirror-cursors" style=""><div class="CodeMirror-cursor" style="left: 204.156px; top: 85px; height: 17px;">&nbsp;</div></div><div class="CodeMirror-code" role="presentation" style=""><pre class=" CodeMirror-line " role="presentation"><span role="presentation" style="padding-right: 0.1px;"><span class="cm-variable">lineup_11_x</span><span class="cm-operator">=</span>[<span class="cm-number">8</span>, <span class="cm-number">40</span>, <span class="cm-number">40</span>, <span class="cm-number">30</span>, <span class="cm-number">30</span>, <span class="cm-number">55</span>, <span class="cm-number">65</span>, <span class="cm-number">65</span>, <span class="cm-number">90</span>, <span class="cm-number">90</span>, <span class="cm-number">100</span> ]</span></pre><pre class=" CodeMirror-line " role="presentation"><span role="presentation" style="padding-right: 0.1px;"><span class="cm-variable">lineup_11_y</span><span class="cm-operator">=</span>[<span class="cm-number">40</span>, <span class="cm-number">70</span>, <span class="cm-number">10</span>, <span class="cm-number">30</span>, <span class="cm-number">50</span> , <span class="cm-number">40</span>, <span class="cm-number">55</span>, <span class="cm-number">25</span>, <span class="cm-number">10</span>, <span class="cm-number">70</span>, <span class="cm-number">40</span> ]</span></pre><pre class=" CodeMirror-line " role="presentation"><span role="presentation" style="padding-right: 0.1px;"><span class="cm-variable">colors</span><span class="cm-operator">=</span>[<span class="cm-string">"yellow"</span>,<span class="cm-string">"blue"</span>,<span class="cm-string">"blue"</span>, <span class="cm-string">"blue"</span>, <span class="cm-string">"blue"</span>, <span class="cm-string">"red"</span>,<span class="cm-string">"red"</span>,<span class="cm-string">"red"</span>,<span class="cm-string">"purple"</span>,<span class="cm-string">"purple"</span>,<span class="cm-string">"purple"</span>]</span></pre><pre class=" CodeMirror-line " role="presentation"><span role="presentation" style="padding-right: 0.1px;"><span class="cm-variable">top11_fee</span>[<span class="cm-string">"x"</span>]<span class="cm-operator">=</span> <span class="cm-variable">lineup_11_x</span></span></pre><pre class=" CodeMirror-line " role="presentation"><span role="presentation" style="padding-right: 0.1px;"><span class="cm-variable">top11_fee</span>[<span class="cm-string">"y"</span>]<span class="cm-operator">=</span> <span class="cm-variable">lineup_11_y</span></span></pre><pre class=" CodeMirror-line " role="presentation"><span role="presentation" style="padding-right: 0.1px;"><span class="cm-variable">top11_fee</span>[<span class="cm-string">"colors"</span>]<span class="cm-operator">=</span><span class="cm-variable">colors</span></span></pre></div></div></div></div></div><div style="position: absolute; height: 33px; width: 1px; border-bottom: 17px solid transparent; top: 113px;"></div><div class="CodeMirror-gutters" style="display: none; height: 163px;"></div></div></div></div></div></div><div class="output_wrapper"><div class="out_prompt_overlay prompt" title="click to scroll output; double click to hide"></div><div class="output"></div><div class="btn btn-default output_collapsed" title="click to expand output" style="display: none;">. . .</div></div></div><div class="cell code_cell rendered unselected" tabindex="2"><div class="input"><div class="prompt_container"><div class="prompt input_prompt"><bdi>In</bdi>&nbsp;[80]:</div><div class="run_this_cell" title="Run this cell"><i class="fa-step-forward fa"></i></div></div><div class="inner_cell"><div class="ctb_hideshow"><div class="celltoolbar"></div></div><div class="input_area" aria-label="Edit code here"><div class="CodeMirror cm-s-ipython"><div style="overflow: hidden; position: relative; width: 3px; height: 0px; top: 158.594px; left: 473.656px;"><textarea autocorrect="off" autocapitalize="off" spellcheck="false" tabindex="0" style="position: absolute; bottom: -1em; padding: 0px; width: 1000px; height: 1em; outline: none;"></textarea></div><div class="CodeMirror-vscrollbar" tabindex="-1" cm-not-content="true"><div style="min-width: 1px; height: 0px;"></div></div><div class="CodeMirror-hscrollbar" tabindex="-1" cm-not-content="true" style="right: 0px; left: 0px; display: block;"><div style="height: 100%; min-height: 1px; width: 1016px;"></div></div><div class="CodeMirror-scrollbar-filler" cm-not-content="true"></div><div class="CodeMirror-gutter-filler" cm-not-content="true"></div><div class="CodeMirror-scroll" tabindex="-1" draggable="false"><div class="CodeMirror-sizer" style="margin-left: 0px; min-width: 1015.64px; margin-bottom: -17px; border-right-width: 33px; min-height: 232px; padding-right: 0px; padding-bottom: 17px;"><div style="position: relative; top: 0px;"><div class="CodeMirror-lines" role="presentation"><div role="presentation" style="position: relative; outline: none;"><div class="CodeMirror-measure"><pre class="CodeMirror-line-like">x</pre></div><div class="CodeMirror-measure"></div><div style="position: relative; z-index: 1;"></div><div class="CodeMirror-cursors" style="visibility: hidden;"><div class="CodeMirror-cursor" style="left: 473.656px; top: 153px; height: 17px;">&nbsp;</div></div><div class="CodeMirror-code" role="presentation" style=""><pre class=" CodeMirror-line " role="presentation"><span role="presentation" style="padding-right: 0.1px;"><span class="cm-keyword">from</span> <span class="cm-variable">mplsoccer</span> <span class="cm-keyword">import</span> <span class="cm-variable">Pitch</span></span></pre><pre class=" CodeMirror-line " role="presentation"><span role="presentation" style="padding-right: 0.1px;"><span class="cm-keyword">import</span> <span class="cm-variable">matplotlib</span>.<span class="cm-property">pyplot</span> <span class="cm-keyword">as</span> <span class="cm-variable">plt</span></span></pre><pre class=" CodeMirror-line " role="presentation"><span role="presentation" style="padding-right: 0.1px;"><span class="cm-variable">pitch</span> <span class="cm-operator">=</span> <span class="cm-variable">Pitch</span>(<span class="cm-variable">pitch_color</span><span class="cm-operator">=</span><span class="cm-string">'grass'</span>, <span class="cm-variable">line_color</span><span class="cm-operator">=</span><span class="cm-string">'white'</span>, <span class="cm-variable">stripe</span><span class="cm-operator">=</span><span class="cm-keyword">True</span>)</span></pre><pre class=" CodeMirror-line " role="presentation"><span role="presentation" style="padding-right: 0.1px;"><span cm-text="">​</span></span></pre><pre class=" CodeMirror-line " role="presentation"><span role="presentation" style="padding-right: 0.1px;"><span cm-text="">​</span></span></pre><pre class=" CodeMirror-line " role="presentation"><span role="presentation" style="padding-right: 0.1px;"><span class="cm-variable">fig</span>, <span class="cm-variable">ax</span> <span class="cm-operator">=</span> <span class="cm-variable">pitch</span>.<span class="cm-property">draw</span>()</span></pre><pre class=" CodeMirror-line " role="presentation"><span role="presentation" style="padding-right: 0.1px;"><span class="cm-variable">point</span><span class="cm-operator">=</span><span class="cm-variable">pitch</span>.<span class="cm-property">scatter</span>(<span class="cm-variable">x</span><span class="cm-operator">=</span><span class="cm-variable">top11_fee</span>.<span class="cm-property">x</span>,<span class="cm-variable">y</span><span class="cm-operator">=</span><span class="cm-variable">top11_fee</span>.<span class="cm-property">y</span>,<span class="cm-variable">color</span><span class="cm-operator">=</span><span class="cm-variable">top11_fee</span>.<span class="cm-property">colors</span>, <span class="cm-variable">label</span><span class="cm-operator">=</span><span class="cm-variable">top11_fee</span>.<span class="cm-property">name</span>, <span class="cm-variable">ax</span><span class="cm-operator">=</span><span class="cm-variable">ax</span>, <span class="cm-variable">s</span><span class="cm-operator">=</span><span class="cm-number">125</span>) <span class="cm-comment"># plotting single point</span></span></pre><pre class=" CodeMirror-line " role="presentation"><span role="presentation" style="padding-right: 0.1px;"><span cm-text="">​</span></span></pre><pre class=" CodeMirror-line " role="presentation"><span role="presentation" style="padding-right: 0.1px;"><span class="cm-keyword">for</span> <span class="cm-variable">index</span>, <span class="cm-variable">row</span> <span class="cm-keyword">in</span> <span class="cm-variable">top11_fee</span>.<span class="cm-property">iterrows</span>():</span></pre><pre class=" CodeMirror-line " role="presentation"><span role="presentation" style="padding-right: 0.1px;">    <span class="cm-variable">pitch</span>.<span class="cm-property">annotate</span>(<span class="cm-variable">row</span>[<span class="cm-string">"name"</span>], <span class="cm-variable">xy</span><span class="cm-operator">=</span>(<span class="cm-variable">row</span>.<span class="cm-property">x</span>, <span class="cm-variable">row</span>.<span class="cm-property">y</span><span class="cm-operator">-</span><span class="cm-number">3</span>), <span class="cm-variable">c</span><span class="cm-operator">=</span><span class="cm-string">'black'</span>, <span class="cm-variable">va</span><span class="cm-operator">=</span><span class="cm-string">'center'</span>,</span></pre><pre class=" CodeMirror-line " role="presentation"><span role="presentation" style="padding-right: 0.1px;">                   <span class="cm-variable">ha</span><span class="cm-operator">=</span><span class="cm-string">'center'</span>, <span class="cm-variable">size</span><span class="cm-operator">=</span><span class="cm-number">10</span>, <span class="cm-variable">weight</span><span class="cm-operator">=</span><span class="cm-string">'bold'</span>, <span class="cm-variable">ax</span><span class="cm-operator">=</span><span class="cm-variable">ax</span>)</span></pre><pre class=" CodeMirror-line " role="presentation"><span role="presentation" style="padding-right: 0.1px;">    </span></pre><pre class=" CodeMirror-line " role="presentation"><span role="presentation" style="padding-right: 0.1px;"><span class="cm-variable">plt</span>.<span class="cm-property">show</span>()</span></pre></div></div></div></div></div><div style="position: absolute; height: 33px; width: 1px; border-bottom: 17px solid transparent; top: 232px;"></div><div class="CodeMirror-gutters" style="display: none; height: 282px;"></div></div></div></div></div></div><div class="output_wrapper"><div class="out_prompt_overlay prompt" title="click to scroll output; double click to hide"></div><div class="output"><div class="output_area"><div class="run_this_cell"></div><div class="prompt"></div><div class="output_subarea output_javascript rendered_html" dir="auto"></div></div><div class="output_area"><div class="run_this_cell"></div><div class="prompt"></div><div class="output_subarea output_html rendered_html" dir="auto"><div id="3f71847c-23b4-4929-9afd-143c7eaaa974"><div style="display: inline-block; box-sizing: content-box;"><div class="ui-dialog-titlebar ui-widget-header ui-corner-all ui-helper-clearfix"><div class="btn-group inline pull-right"><button class="btn btn-mini btn-primary" title="Stop Interaction"><i class="fa fa-power-off icon-remove icon-large"></i></button></div><div class="ui-dialog-title" style="width: 100%; text-align: center; padding: 3px;">Figure 2</div></div><div tabindex="0" style="border: 1px solid rgb(221, 221, 221); box-sizing: content-box; clear: both; min-height: 1px; min-width: 1px; outline: 0px; overflow: hidden; position: relative; resize: both; z-index: 2; width: 640px; height: 480px; cursor: default;"><canvas class="mpl-canvas" style="box-sizing: content-box; pointer-events: none; position: relative; z-index: 0; width: 640px; height: 480px;" width="640" height="480"></canvas><canvas style="box-sizing: content-box;left: 0;pointer-events: none;position: absolute;top: 0;z-index: 1;" width="640" height="480"></canvas></div><div class="btn-toolbar"><div class="btn-group"><button class="btn btn-default" title="Home"><i class="fa fa fa-home fa-lg"></i></button><button class="btn btn-default" title="Back" disabled="" aria-disabled="true"><i class="fa fa fa-arrow-left fa-lg"></i></button><button class="btn btn-default" title="Forward" disabled="" aria-disabled="true"><i class="fa fa fa-arrow-right fa-lg"></i></button></div><div class="btn-group"><button class="btn btn-default" title="Pan"><i class="fa fa fa-arrows fa-lg"></i></button><button class="btn btn-default" title="Zoom"><i class="fa fa fa-square-o fa-lg"></i></button></div><div class="btn-group"><button class="btn btn-default" title="Download"><i class="fa fa fa-floppy-o fa-lg"></i></button></div><span class="mpl-message pull-right">x=8.5 y=8.6
[-0.4]</span></div></div></div></div></div></div><div class="btn btn-default output_collapsed" title="click to expand output" style="display: none;">. . .</div></div></div><div class="cell code_cell unrendered selected" tabindex="2"><div class="input"><div class="prompt_container"><div class="prompt input_prompt"><bdi>In</bdi>&nbsp;[&nbsp;]:</div><div class="run_this_cell" title="Run this cell"><i class="fa-step-forward fa"></i></div></div><div class="inner_cell"><div class="ctb_hideshow"><div class="celltoolbar"></div></div><div class="input_area" aria-label="Edit code here"><div class="CodeMirror cm-s-ipython"><div style="overflow: hidden; position: relative; width: 3px; height: 0px; top: 5.59375px; left: 4px;"><textarea autocorrect="off" autocapitalize="off" spellcheck="false" tabindex="0" style="position: absolute; bottom: -1em; padding: 0px; width: 1000px; height: 1em; outline: none;"></textarea></div><div class="CodeMirror-vscrollbar" tabindex="-1" cm-not-content="true"><div style="min-width: 1px; height: 0px;"></div></div><div class="CodeMirror-hscrollbar" tabindex="-1" cm-not-content="true"><div style="height: 100%; min-height: 1px; width: 0px;"></div></div><div class="CodeMirror-scrollbar-filler" cm-not-content="true"></div><div class="CodeMirror-gutter-filler" cm-not-content="true"></div><div class="CodeMirror-scroll" tabindex="-1"><div class="CodeMirror-sizer" style="margin-left: 0px; min-width: 7px; margin-bottom: -17px; border-right-width: 33px; min-height: 28px; padding-right: 0px; padding-bottom: 0px;"><div style="position: relative; top: 0px;"><div class="CodeMirror-lines" role="presentation"><div role="presentation" style="position: relative; outline: none;"><div class="CodeMirror-measure"></div><div class="CodeMirror-measure"></div><div style="position: relative; z-index: 1;"></div><div class="CodeMirror-cursors" style="visibility: hidden;"><div class="CodeMirror-cursor" style="left: 4px; top: 0px; height: 17px;">&nbsp;</div></div><div class="CodeMirror-code" role="presentation"><pre class=" CodeMirror-line " role="presentation"><span role="presentation" style="padding-right: 0.1px;"><span cm-text="">​</span></span></pre></div></div></div></div></div><div style="position: absolute; height: 33px; width: 1px; border-bottom: 0px solid transparent; top: 28px;"></div><div class="CodeMirror-gutters" style="display: none; height: 61px;"></div></div></div></div></div></div><div class="output_wrapper"><div class="out_prompt_overlay prompt" title="click to expand output; double click to hide output"></div><div class="output"></div><div class="btn btn-default output_collapsed" title="click to expand output" style="display: none;">. . .</div></div></div></div><div class="end_space"></div></div>
        <div id="tooltip" class="ipython_tooltip" style="display:none"><div class="tooltipbuttons"><a href="http://localhost:8890/notebooks/Desktop/Data%20visualisation%20lessons/Data%20Visualization%20Project/DataViz%20Matteo/data_viz/plots.ipynb#" role="button" class="ui-button"><span class="ui-icon ui-icon-close">Close</span></a><a href="http://localhost:8890/notebooks/Desktop/Data%20visualisation%20lessons/Data%20Visualization%20Project/DataViz%20Matteo/data_viz/plots.ipynb#" role="button" class="ui-button" id="expanbutton" title="Grow the tooltip vertically (press shift-tab twice)"><span class="ui-icon ui-icon-plus">Expand</span></a><a href="http://localhost:8890/notebooks/Desktop/Data%20visualisation%20lessons/Data%20Visualization%20Project/DataViz%20Matteo/data_viz/plots.ipynb#" role="button" class="ui-button" title="show the current docstring in pager (press shift-tab 4 times)"><span class="ui-icon ui-icon-arrowstop-l-n">Open in Pager</span></a><a href="http://localhost:8890/notebooks/Desktop/Data%20visualisation%20lessons/Data%20Visualization%20Project/DataViz%20Matteo/data_viz/plots.ipynb#" role="button" class="ui-button" title="Tooltip will linger for 10 seconds while you type" style="display: none;"><span class="ui-icon ui-icon-clock">Close</span></a></div><div class="pretooltiparrow"></div><div class="tooltiptext smalltooltip"></div></div>
    </div>
</div>



</div>



<div id="pager" class="ui-resizable">
    <div id="pager-contents">
        <div id="pager-container" class="container"></div>
    </div>
    <div id="pager-button-area"><a role="button" title="Open the pager in an external window" class="ui-button"><span class="ui-icon ui-icon-extlink"></span></a><a role="button" title="Close the pager" class="ui-button"><span class="ui-icon ui-icon-close"></span></a></div>
<div class="ui-resizable-handle ui-resizable-n" style="z-index: 90;"></div></div>






<script type="text/javascript">
    sys_info = {"notebook_version": "6.5.2", "notebook_path": "C:\\Users\\ElDorado601\\anaconda3\\envs\\datavis\\Lib\\site-packages\\notebook", "commit_source": "", "commit_hash": "", "sys_version": "3.8.16 (default, Jan 17 2023, 22:25:28) [MSC v.1916 64 bit (AMD64)]", "sys_executable": "C:\\Users\\ElDorado601\\anaconda3\\envs\\datavis\\python.exe", "sys_platform": "win32", "platform": "Windows-10-10.0.19045-SP0", "os_name": "nt", "default_encoding": "utf-8"};
</script>

<script src="./plots_files/encoding.js.download" charset="utf-8"></script>

<script src="./plots_files/main.min.js.download" type="text/javascript" charset="utf-8"></script>



<script type="text/javascript">
  function _remove_token_from_url() {
    if (window.location.search.length <= 1) {
      return;
    }
    var search_parameters = window.location.search.slice(1).split('&');
    for (var i = 0; i < search_parameters.length; i++) {
      if (search_parameters[i].split('=')[0] === 'token') {
        // remote token from search parameters
        search_parameters.splice(i, 1);
        var new_search = '';
        if (search_parameters.length) {
          new_search = '?' + search_parameters.join('&');
        }
        var new_url = window.location.origin + 
                      window.location.pathname + 
                      new_search + 
                      window.location.hash;
        window.history.replaceState({}, "", new_url);
        return;
      }
    }
  }
  _remove_token_from_url();
</script>


<div style="position: absolute; width: 0px; height: 0px; overflow: hidden; padding: 0px; border: 0px; margin: 0px;"><div id="MathJax_Font_Test" style="position: absolute; visibility: hidden; top: 0px; left: 0px; width: auto; min-width: 0px; max-width: none; padding: 0px; border: 0px; margin: 0px; white-space: nowrap; text-align: left; text-indent: 0px; text-transform: none; line-height: normal; letter-spacing: normal; word-spacing: normal; font-size: 40px; font-weight: normal; font-style: normal;"></div></div></body></html>