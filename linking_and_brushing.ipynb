{
 "cells": [
  {
   "cell_type": "code",
   "execution_count": 1,
   "id": "8a624886",
   "metadata": {},
   "outputs": [],
   "source": [
    "import pandas as pd "
   ]
  },
  {
   "cell_type": "code",
   "execution_count": 2,
   "id": "ab94bf4c",
   "metadata": {},
   "outputs": [],
   "source": [
    "from dash import Dash, dcc, html\n",
    "from dash.dependencies import Input, Output\n",
    "import plotly.express as px\n",
    "import visdcc\n",
    "import plotly.graph_objects as go"
   ]
  },
  {
   "cell_type": "code",
   "execution_count": 3,
   "id": "00d2bc24",
   "metadata": {},
   "outputs": [
    {
     "ename": "NameError",
     "evalue": "name 'df' is not defined",
     "output_type": "error",
     "traceback": [
      "\u001b[1;31m---------------------------------------------------------------------------\u001b[0m",
      "\u001b[1;31mNameError\u001b[0m                                 Traceback (most recent call last)",
      "\u001b[1;32m~\\AppData\\Local\\Temp\\ipykernel_4740\\4256149259.py\u001b[0m in \u001b[0;36m<module>\u001b[1;34m\u001b[0m\n\u001b[1;32m----> 1\u001b[1;33m \u001b[0mleague_year\u001b[0m\u001b[1;33m=\u001b[0m\u001b[0mdf\u001b[0m\u001b[1;33m.\u001b[0m\u001b[0mgroupby\u001b[0m\u001b[1;33m(\u001b[0m\u001b[1;33m[\u001b[0m\u001b[1;34m'league_to'\u001b[0m\u001b[1;33m,\u001b[0m \u001b[1;34m'year'\u001b[0m\u001b[1;33m]\u001b[0m\u001b[1;33m,\u001b[0m \u001b[0mas_index\u001b[0m\u001b[1;33m=\u001b[0m\u001b[1;32mFalse\u001b[0m\u001b[1;33m)\u001b[0m\u001b[1;33m[\u001b[0m\u001b[1;34m'fee'\u001b[0m\u001b[1;33m]\u001b[0m\u001b[1;33m.\u001b[0m\u001b[0msum\u001b[0m\u001b[1;33m(\u001b[0m\u001b[1;33m)\u001b[0m\u001b[1;33m\u001b[0m\u001b[1;33m\u001b[0m\u001b[0m\n\u001b[0m\u001b[0;32m      2\u001b[0m \u001b[0mpremier\u001b[0m\u001b[1;33m=\u001b[0m\u001b[0mleague_year\u001b[0m\u001b[1;33m[\u001b[0m\u001b[0mleague_year\u001b[0m\u001b[1;33m[\u001b[0m\u001b[1;34m'league_to'\u001b[0m\u001b[1;33m]\u001b[0m\u001b[1;33m==\u001b[0m\u001b[1;34m\"Premier League\"\u001b[0m\u001b[1;33m]\u001b[0m\u001b[1;33m\u001b[0m\u001b[1;33m\u001b[0m\u001b[0m\n\u001b[0;32m      3\u001b[0m \u001b[0mserieA\u001b[0m\u001b[1;33m=\u001b[0m\u001b[0mleague_year\u001b[0m\u001b[1;33m[\u001b[0m\u001b[0mleague_year\u001b[0m\u001b[1;33m[\u001b[0m\u001b[1;34m'league_to'\u001b[0m\u001b[1;33m]\u001b[0m\u001b[1;33m==\u001b[0m\u001b[1;34m\"Serie A\"\u001b[0m\u001b[1;33m]\u001b[0m\u001b[1;33m\u001b[0m\u001b[1;33m\u001b[0m\u001b[0m\n\u001b[0;32m      4\u001b[0m \u001b[0mbundesliga\u001b[0m\u001b[1;33m=\u001b[0m\u001b[0mleague_year\u001b[0m\u001b[1;33m[\u001b[0m\u001b[0mleague_year\u001b[0m\u001b[1;33m[\u001b[0m\u001b[1;34m'league_to'\u001b[0m\u001b[1;33m]\u001b[0m\u001b[1;33m==\u001b[0m\u001b[1;34m\"Bundesliga\"\u001b[0m\u001b[1;33m]\u001b[0m\u001b[1;33m\u001b[0m\u001b[1;33m\u001b[0m\u001b[0m\n\u001b[0;32m      5\u001b[0m \u001b[0mlaliga\u001b[0m\u001b[1;33m=\u001b[0m\u001b[0mleague_year\u001b[0m\u001b[1;33m[\u001b[0m\u001b[0mleague_year\u001b[0m\u001b[1;33m[\u001b[0m\u001b[1;34m'league_to'\u001b[0m\u001b[1;33m]\u001b[0m\u001b[1;33m==\u001b[0m\u001b[1;34m\"LaLiga\"\u001b[0m\u001b[1;33m]\u001b[0m\u001b[1;33m\u001b[0m\u001b[1;33m\u001b[0m\u001b[0m\n",
      "\u001b[1;31mNameError\u001b[0m: name 'df' is not defined"
     ]
    }
   ],
   "source": [
    "league_year=df.groupby(['league_to', 'year'], as_index=False)['fee'].sum()\n",
    "premier=league_year[league_year['league_to']==\"Premier League\"]\n",
    "serieA=league_year[league_year['league_to']==\"Serie A\"]\n",
    "bundesliga=league_year[league_year['league_to']==\"Bundesliga\"]\n",
    "laliga=league_year[league_year['league_to']==\"LaLiga\"]\n",
    "ligue1=league_year[league_year['league_to']==\"Ligue 1\"]\n",
    "others=league_year[league_year['league_to']==\"Others\"]"
   ]
  },
  {
   "cell_type": "code",
   "execution_count": null,
   "id": "2c1a7214",
   "metadata": {},
   "outputs": [
    {
     "name": "stdout",
     "output_type": "stream",
     "text": [
      "Dash is running on http://127.0.0.1:8050/\n",
      "\n",
      " * Serving Flask app '__main__'\n",
      " * Debug mode: off\n"
     ]
    },
    {
     "name": "stderr",
     "output_type": "stream",
     "text": [
      "WARNING: This is a development server. Do not use it in a production deployment. Use a production WSGI server instead.\n",
      " * Running on http://127.0.0.1:8050\n",
      "Press CTRL+C to quit\n",
      "127.0.0.1 - - [24/Apr/2023 17:46:41] \"GET / HTTP/1.1\" 200 -\n",
      "127.0.0.1 - - [24/Apr/2023 17:46:41] \"GET /_dash-dependencies HTTP/1.1\" 200 -\n",
      "127.0.0.1 - - [24/Apr/2023 17:46:41] \"GET /_dash-layout HTTP/1.1\" 200 -\n",
      "127.0.0.1 - - [24/Apr/2023 17:46:42] \"GET /_dash-component-suites/dash/dcc/async-graph.js HTTP/1.1\" 304 -\n",
      "127.0.0.1 - - [24/Apr/2023 17:46:42] \"GET /_dash-component-suites/dash/dcc/async-plotlyjs.js HTTP/1.1\" 304 -\n",
      "127.0.0.1 - - [24/Apr/2023 17:46:42] \"POST /_dash-update-component HTTP/1.1\" 200 -\n",
      "127.0.0.1 - - [24/Apr/2023 17:46:42] \"POST /_dash-update-component HTTP/1.1\" 200 -\n",
      "127.0.0.1 - - [24/Apr/2023 17:46:44] \"POST /_dash-update-component HTTP/1.1\" 200 -\n",
      "127.0.0.1 - - [24/Apr/2023 17:46:44] \"POST /_dash-update-component HTTP/1.1\" 200 -\n",
      "127.0.0.1 - - [24/Apr/2023 17:46:45] \"POST /_dash-update-component HTTP/1.1\" 200 -\n",
      "127.0.0.1 - - [24/Apr/2023 17:46:45] \"POST /_dash-update-component HTTP/1.1\" 200 -\n",
      "127.0.0.1 - - [24/Apr/2023 17:46:46] \"POST /_dash-update-component HTTP/1.1\" 200 -\n",
      "127.0.0.1 - - [24/Apr/2023 17:46:46] \"POST /_dash-update-component HTTP/1.1\" 200 -\n",
      "127.0.0.1 - - [24/Apr/2023 17:46:46] \"POST /_dash-update-component HTTP/1.1\" 200 -\n",
      "127.0.0.1 - - [24/Apr/2023 17:46:46] \"POST /_dash-update-component HTTP/1.1\" 200 -\n",
      "127.0.0.1 - - [24/Apr/2023 17:46:46] \"POST /_dash-update-component HTTP/1.1\" 200 -\n"
     ]
    }
   ],
   "source": [
    "app = Dash(__name__)\n",
    "server=app.server',
    "\n",
    "df=pd.read_csv('transfer_window.csv', sep=',')\n",
    "league_year=df.groupby(['league_to', 'year'], as_index=False)['fee'].sum()\n",
    "premier=league_year[league_year['league_to']==\"Premier League\"]\n",
    "serieA=league_year[league_year['league_to']==\"Serie A\"]\n",
    "bundesliga=league_year[league_year['league_to']==\"Bundesliga\"]\n",
    "laliga=league_year[league_year['league_to']==\"LaLiga\"]\n",
    "ligue1=league_year[league_year['league_to']==\"Ligue 1\"]\n",
    "others=league_year[league_year['league_to']==\"Others\"]\n",
    "\n",
    "\n",
    "app.layout = html.Div(className='row',style={'display': 'flex',  'fontSize': 14}, children=[\n",
    "        html.Div([\n",
    "        dcc.Graph(id = 'bar_plot')\n",
    "        ],  style={'border': 'solid red', 'width':'100%'},\n",
    "        className='two columns'),\n",
    "        html.Div([\n",
    "        dcc.Graph(id = 'pie_chart')],style={'border': 'solid red', 'width':'100%'},className='two columns')])\n",
    "    \n",
    "    \n",
    "@app.callback(Output(component_id='bar_plot', component_property= 'figure'),\n",
    "             Input(component_id='bar_plot', component_property='selectedData'))\n",
    "\n",
    "def graph_update(selectedData):\n",
    "    fig_stacked_bar = go.Figure(data= [go.Bar(name='Premier League',x=premier[\"year\"], y=premier[\"fee\"], marker_color='#031b5e'),\n",
    "                      go.Bar(name='Serie A',x=serieA[\"year\"], y=serieA[\"fee\"], marker_color='#25AA0A'),\n",
    "                      go.Bar(name='Bundesliga',x=bundesliga[\"year\"], y=bundesliga[\"fee\"], marker_color='#ca0302'),\n",
    "                      go.Bar(name='LaLiga',x=laliga[\"year\"], y=laliga[\"fee\"], marker_color='#E16B19'),\n",
    "                      go.Bar(name='Ligue 1',x=ligue1[\"year\"], y=ligue1[\"fee\"], marker_color='#7e33c5'),\n",
    "                      go.Bar(name='Others',x=others[\"year\"], y=others[\"fee\"], marker_color='lightgrey')])\n",
    "\n",
    "    fig_stacked_bar.update_layout(barmode='stack')\n",
    "    \n",
    "\n",
    "    return fig_stacked_bar\n",
    "\n",
    "\n",
    "@app.callback(\n",
    "    Output(component_id='pie_chart', component_property='figure'),\n",
    "    Input(component_id='bar_plot', component_property='hoverData'),\n",
    "    Input(component_id='bar_plot', component_property='clickData'),\n",
    "    Input(component_id='bar_plot', component_property='selectedData'))\n",
    "\n",
    "def update_side_graph(hov_data, clk_data, slct_data):\n",
    "    \n",
    "    if clk_data is None:\n",
    "        fig_pie=px.pie(values=[760,2974], names=['zero', 'non-zero'], title='Percentage of zero transfers', \n",
    "                       color_discrete_map = 'viridis')\n",
    "\n",
    "        fig_pie.update_traces(hoverinfo = 'label+percent', textfont_size = 20,\n",
    "                  textinfo = 'label+percent', pull = [0.1, 0, 0.2, 0, 0, 0])\n",
    "\n",
    "        return fig_pie\n",
    "    \n",
    "    else:\n",
    "        #print(clk_data['points'][0]['x'])\n",
    "        #print(clk_data)\n",
    "        # print(f'click data: {clk_data}')\n",
    "        # print(f'selected data: {slct_data}')\n",
    "        year=clk_data['points'][0]['x']\n",
    "        \n",
    "        df2=df[df['year']==year]\n",
    "        tot=len(df2)\n",
    "        zero=len(df2[df2['fee']==0])\n",
    "        \n",
    "        fig_pie=px.pie(values=[zero,tot-zero], names=['zero', 'non-zero'], title=f'Percentage of zero transfers in {year}', \n",
    "                       color_discrete_map = 'viridis')\n",
    "\n",
    "        fig_pie.update_traces(hoverinfo = 'label+percent', textfont_size = 20,\n",
    "                  textinfo = 'label+percent', pull = [0.1, 0, 0.2, 0, 0, 0])\n",
    "\n",
    "\n",
    "        return fig_pie\n",
    "\n",
    "\n",
    "if __name__ == '__main__': \n",
    "    app.run_server()"
   ]
  },
  {
   "cell_type": "code",
   "execution_count": null,
   "id": "5f8e1637",
   "metadata": {},
   "outputs": [],
   "source": []
  }
 ],
 "metadata": {
  "kernelspec": {
   "display_name": "Python 3 (ipykernel)",
   "language": "python",
   "name": "python3"
  },
  "language_info": {
   "codemirror_mode": {
    "name": "ipython",
    "version": 3
   },
   "file_extension": ".py",
   "mimetype": "text/x-python",
   "name": "python",
   "nbconvert_exporter": "python",
   "pygments_lexer": "ipython3",
   "version": "3.9.13"
  }
 },
 "nbformat": 4,
 "nbformat_minor": 5
}
