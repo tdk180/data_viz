{
 "cells": [
  {
   "cell_type": "markdown",
   "id": "6ac11bbb",
   "metadata": {},
   "source": [
    "## Code explained \n",
    "\n"
   ]
  },
  {
   "cell_type": "markdown",
   "id": "3c224b8c",
   "metadata": {},
   "source": [
    " ### Dataset Scraping And Cleaning\n",
    " \n",
    "For our project we decided to scrape data of european football transfermarket from the specialized site called Transfermakt. At first we thought to scrape data about last transfers, but at the end we decided to scrape multiple years in order to perform also time analysis, taking into consideration the pandemic effect.\n",
    "So, our dataset contains the top 625 transfers for player market value (assessed by transfermarkt) for years from 2018 to 2023. The code for the scraping however it is not present in this part since it would make everything more difficult. We will provide another file in which it is present the scraping code and the correspondent explanation."
   ]
  },
  {
   "cell_type": "markdown",
   "id": "7f69a985",
   "metadata": {},
   "source": [
    "Below we import the scraped datasets, one per each year, and we show the data cleaning process. It is important to highlight that before proceeding in the next steps we added in excel the year to each row of the datasets. It was much easier and fast to do it as soon as we visualised the datasets for the first time."
   ]
  },
  {
   "cell_type": "code",
   "execution_count": 330,
   "id": "5c46683d",
   "metadata": {},
   "outputs": [],
   "source": [
    "import pandas as pd "
   ]
  },
  {
   "cell_type": "code",
   "execution_count": 331,
   "id": "8413e899",
   "metadata": {},
   "outputs": [
    {
     "data": {
      "text/html": [
       "<div>\n",
       "<style scoped>\n",
       "    .dataframe tbody tr th:only-of-type {\n",
       "        vertical-align: middle;\n",
       "    }\n",
       "\n",
       "    .dataframe tbody tr th {\n",
       "        vertical-align: top;\n",
       "    }\n",
       "\n",
       "    .dataframe thead th {\n",
       "        text-align: right;\n",
       "    }\n",
       "</style>\n",
       "<table border=\"1\" class=\"dataframe\">\n",
       "  <thead>\n",
       "    <tr style=\"text-align: right;\">\n",
       "      <th></th>\n",
       "      <th>name</th>\n",
       "      <th>position</th>\n",
       "      <th>age</th>\n",
       "      <th>market_value</th>\n",
       "      <th>country_from</th>\n",
       "      <th>league_from</th>\n",
       "      <th>club_from</th>\n",
       "      <th>country_to</th>\n",
       "      <th>league_to</th>\n",
       "      <th>club_to</th>\n",
       "      <th>fee</th>\n",
       "      <th>year</th>\n",
       "    </tr>\n",
       "  </thead>\n",
       "  <tbody>\n",
       "    <tr>\n",
       "      <th>0</th>\n",
       "      <td>Kylian Mbappé</td>\n",
       "      <td>Centre-Forward</td>\n",
       "      <td>19</td>\n",
       "      <td>120000000</td>\n",
       "      <td>Monaco</td>\n",
       "      <td>Ligue 1</td>\n",
       "      <td>AS Monaco</td>\n",
       "      <td>France</td>\n",
       "      <td>Ligue 1</td>\n",
       "      <td>Paris Saint-Germain</td>\n",
       "      <td>180000000</td>\n",
       "      <td>2018</td>\n",
       "    </tr>\n",
       "    <tr>\n",
       "      <th>1</th>\n",
       "      <td>Cristiano Ronaldo</td>\n",
       "      <td>Centre-Forward</td>\n",
       "      <td>33</td>\n",
       "      <td>100000000</td>\n",
       "      <td>Spain</td>\n",
       "      <td>LaLiga</td>\n",
       "      <td>Real Madrid</td>\n",
       "      <td>Italy</td>\n",
       "      <td>Serie A</td>\n",
       "      <td>Juventus FC</td>\n",
       "      <td>117000000</td>\n",
       "      <td>2018</td>\n",
       "    </tr>\n",
       "    <tr>\n",
       "      <th>2</th>\n",
       "      <td>Kepa Arrizabalaga</td>\n",
       "      <td>Goalkeeper</td>\n",
       "      <td>23</td>\n",
       "      <td>20000000</td>\n",
       "      <td>Spain</td>\n",
       "      <td>LaLiga</td>\n",
       "      <td>Athletic Bilbao</td>\n",
       "      <td>England</td>\n",
       "      <td>Premier League</td>\n",
       "      <td>Chelsea FC</td>\n",
       "      <td>80000000</td>\n",
       "      <td>2018</td>\n",
       "    </tr>\n",
       "    <tr>\n",
       "      <th>3</th>\n",
       "      <td>Thomas Lemar</td>\n",
       "      <td>Attacking Midfield</td>\n",
       "      <td>22</td>\n",
       "      <td>65000000</td>\n",
       "      <td>Monaco</td>\n",
       "      <td>Ligue 1</td>\n",
       "      <td>AS Monaco</td>\n",
       "      <td>Spain</td>\n",
       "      <td>LaLiga</td>\n",
       "      <td>Atlético de Madrid</td>\n",
       "      <td>72000000</td>\n",
       "      <td>2018</td>\n",
       "    </tr>\n",
       "    <tr>\n",
       "      <th>4</th>\n",
       "      <td>Riyad Mahrez</td>\n",
       "      <td>Right Winger</td>\n",
       "      <td>27</td>\n",
       "      <td>50000000</td>\n",
       "      <td>England</td>\n",
       "      <td>Premier League</td>\n",
       "      <td>Leicester City</td>\n",
       "      <td>England</td>\n",
       "      <td>Premier League</td>\n",
       "      <td>Manchester City</td>\n",
       "      <td>67000000</td>\n",
       "      <td>2018</td>\n",
       "    </tr>\n",
       "    <tr>\n",
       "      <th>...</th>\n",
       "      <td>...</td>\n",
       "      <td>...</td>\n",
       "      <td>...</td>\n",
       "      <td>...</td>\n",
       "      <td>...</td>\n",
       "      <td>...</td>\n",
       "      <td>...</td>\n",
       "      <td>...</td>\n",
       "      <td>...</td>\n",
       "      <td>...</td>\n",
       "      <td>...</td>\n",
       "      <td>...</td>\n",
       "    </tr>\n",
       "    <tr>\n",
       "      <th>2970</th>\n",
       "      <td>Pedro Raul</td>\n",
       "      <td>Centre-Forward</td>\n",
       "      <td>26</td>\n",
       "      <td>6000000</td>\n",
       "      <td>Japan</td>\n",
       "      <td>J1 League</td>\n",
       "      <td>Kashiwa Reysol</td>\n",
       "      <td>Brazil</td>\n",
       "      <td>Carioca - Taça Guanabara</td>\n",
       "      <td>Clube de Regatas Vasco da Gama</td>\n",
       "      <td>1000000</td>\n",
       "      <td>2022</td>\n",
       "    </tr>\n",
       "    <tr>\n",
       "      <th>2971</th>\n",
       "      <td>Daniel Wass</td>\n",
       "      <td>Right-Back</td>\n",
       "      <td>33</td>\n",
       "      <td>6000000</td>\n",
       "      <td>Spain</td>\n",
       "      <td>LaLiga</td>\n",
       "      <td>Atlético de Madrid</td>\n",
       "      <td>Denmark</td>\n",
       "      <td>Superligaen</td>\n",
       "      <td>Bröndby IF</td>\n",
       "      <td>1000000</td>\n",
       "      <td>2022</td>\n",
       "    </tr>\n",
       "    <tr>\n",
       "      <th>2972</th>\n",
       "      <td>Amadou Diawara</td>\n",
       "      <td>Defensive Midfield</td>\n",
       "      <td>25</td>\n",
       "      <td>6000000</td>\n",
       "      <td>Italy</td>\n",
       "      <td>Serie A</td>\n",
       "      <td>AS Roma</td>\n",
       "      <td>Belgium</td>\n",
       "      <td>Jupiler Pro League</td>\n",
       "      <td>RSC Anderlecht</td>\n",
       "      <td>1000000</td>\n",
       "      <td>2022</td>\n",
       "    </tr>\n",
       "    <tr>\n",
       "      <th>2973</th>\n",
       "      <td>Marc Bartra</td>\n",
       "      <td>Centre-Back</td>\n",
       "      <td>31</td>\n",
       "      <td>6000000</td>\n",
       "      <td>Spain</td>\n",
       "      <td>LaLiga</td>\n",
       "      <td>Real Betis Balompié</td>\n",
       "      <td>Turkey</td>\n",
       "      <td>Süper Lig</td>\n",
       "      <td>Trabzonspor</td>\n",
       "      <td>1000000</td>\n",
       "      <td>2022</td>\n",
       "    </tr>\n",
       "    <tr>\n",
       "      <th>2974</th>\n",
       "      <td>Lorenzo Lucca</td>\n",
       "      <td>Centre-Forward</td>\n",
       "      <td>21</td>\n",
       "      <td>6000000</td>\n",
       "      <td>Italy</td>\n",
       "      <td>Serie B</td>\n",
       "      <td>Pisa Sporting Club</td>\n",
       "      <td>Netherlands</td>\n",
       "      <td>Eredivisie</td>\n",
       "      <td>Ajax Amsterdam</td>\n",
       "      <td>1000000</td>\n",
       "      <td>2022</td>\n",
       "    </tr>\n",
       "  </tbody>\n",
       "</table>\n",
       "<p>2975 rows × 12 columns</p>\n",
       "</div>"
      ],
      "text/plain": [
       "                   name            position age market_value country_from  \\\n",
       "0         Kylian Mbappé      Centre-Forward  19    120000000       Monaco   \n",
       "1     Cristiano Ronaldo      Centre-Forward  33    100000000        Spain   \n",
       "2     Kepa Arrizabalaga          Goalkeeper  23     20000000        Spain   \n",
       "3          Thomas Lemar  Attacking Midfield  22     65000000       Monaco   \n",
       "4          Riyad Mahrez        Right Winger  27     50000000      England   \n",
       "...                 ...                 ...  ..          ...          ...   \n",
       "2970         Pedro Raul      Centre-Forward  26      6000000        Japan   \n",
       "2971        Daniel Wass          Right-Back  33      6000000        Spain   \n",
       "2972     Amadou Diawara  Defensive Midfield  25      6000000        Italy   \n",
       "2973        Marc Bartra         Centre-Back  31      6000000        Spain   \n",
       "2974      Lorenzo Lucca      Centre-Forward  21      6000000        Italy   \n",
       "\n",
       "         league_from            club_from   country_to  \\\n",
       "0            Ligue 1            AS Monaco       France   \n",
       "1             LaLiga          Real Madrid        Italy   \n",
       "2             LaLiga      Athletic Bilbao      England   \n",
       "3            Ligue 1            AS Monaco        Spain   \n",
       "4     Premier League       Leicester City      England   \n",
       "...              ...                  ...          ...   \n",
       "2970       J1 League       Kashiwa Reysol       Brazil   \n",
       "2971          LaLiga   Atlético de Madrid      Denmark   \n",
       "2972         Serie A              AS Roma      Belgium   \n",
       "2973          LaLiga  Real Betis Balompié       Turkey   \n",
       "2974         Serie B   Pisa Sporting Club  Netherlands   \n",
       "\n",
       "                     league_to                         club_to        fee  \\\n",
       "0                      Ligue 1             Paris Saint-Germain  180000000   \n",
       "1                      Serie A                     Juventus FC  117000000   \n",
       "2               Premier League                      Chelsea FC   80000000   \n",
       "3                       LaLiga              Atlético de Madrid   72000000   \n",
       "4               Premier League                 Manchester City   67000000   \n",
       "...                        ...                             ...        ...   \n",
       "2970  Carioca - Taça Guanabara  Clube de Regatas Vasco da Gama    1000000   \n",
       "2971               Superligaen                      Bröndby IF    1000000   \n",
       "2972        Jupiler Pro League                  RSC Anderlecht    1000000   \n",
       "2973                 Süper Lig                     Trabzonspor    1000000   \n",
       "2974                Eredivisie                  Ajax Amsterdam    1000000   \n",
       "\n",
       "      year  \n",
       "0     2018  \n",
       "1     2018  \n",
       "2     2018  \n",
       "3     2018  \n",
       "4     2018  \n",
       "...    ...  \n",
       "2970  2022  \n",
       "2971  2022  \n",
       "2972  2022  \n",
       "2973  2022  \n",
       "2974  2022  \n",
       "\n",
       "[2975 rows x 12 columns]"
      ]
     },
     "execution_count": 331,
     "metadata": {},
     "output_type": "execute_result"
    }
   ],
   "source": [
    "df1=pd.read_csv('transfer_window2018.csv', sep=',')\n",
    "df2=pd.read_csv('transfer_window2019.csv', sep=',')\n",
    "df3=pd.read_csv('transfer_window2020.csv', sep=',')\n",
    "df4=pd.read_csv('transfer_window2021.csv', sep=',')\n",
    "df5=pd.read_csv('transfer_window2022.csv', sep=',')\n",
    "\n",
    "# we create a list with all the 5 datasets\n",
    "frames=[df1,df2,df3,df4,df5]\n",
    "     \n",
    "# we concatenate the dataframes inside the list in order to make a unique dataframe\n",
    "df=pd.concat(frames)\n",
    "# we create a new column with the new index\n",
    "df.reset_index(inplace=True)\n",
    "# we create a new column with the new index\n",
    "df= df.iloc[: , 2:]\n",
    "df"
   ]
  },
  {
   "cell_type": "code",
   "execution_count": 332,
   "id": "18547e6a",
   "metadata": {},
   "outputs": [
    {
     "data": {
      "text/html": [
       "<div>\n",
       "<style scoped>\n",
       "    .dataframe tbody tr th:only-of-type {\n",
       "        vertical-align: middle;\n",
       "    }\n",
       "\n",
       "    .dataframe tbody tr th {\n",
       "        vertical-align: top;\n",
       "    }\n",
       "\n",
       "    .dataframe thead th {\n",
       "        text-align: right;\n",
       "    }\n",
       "</style>\n",
       "<table border=\"1\" class=\"dataframe\">\n",
       "  <thead>\n",
       "    <tr style=\"text-align: right;\">\n",
       "      <th></th>\n",
       "      <th>name</th>\n",
       "      <th>position</th>\n",
       "      <th>age</th>\n",
       "      <th>market_value</th>\n",
       "      <th>country_from</th>\n",
       "      <th>league_from</th>\n",
       "      <th>club_from</th>\n",
       "      <th>country_to</th>\n",
       "      <th>league_to</th>\n",
       "      <th>club_to</th>\n",
       "      <th>fee</th>\n",
       "      <th>year</th>\n",
       "    </tr>\n",
       "  </thead>\n",
       "  <tbody>\n",
       "    <tr>\n",
       "      <th>0</th>\n",
       "      <td>Kylian Mbappé</td>\n",
       "      <td>Centre-Forward</td>\n",
       "      <td>19</td>\n",
       "      <td>120000000</td>\n",
       "      <td>Monaco</td>\n",
       "      <td>Ligue 1</td>\n",
       "      <td>AS Monaco</td>\n",
       "      <td>France</td>\n",
       "      <td>Ligue 1</td>\n",
       "      <td>Paris Saint-Germain</td>\n",
       "      <td>180000000</td>\n",
       "      <td>2018</td>\n",
       "    </tr>\n",
       "    <tr>\n",
       "      <th>1</th>\n",
       "      <td>Cristiano Ronaldo</td>\n",
       "      <td>Centre-Forward</td>\n",
       "      <td>33</td>\n",
       "      <td>100000000</td>\n",
       "      <td>Spain</td>\n",
       "      <td>LaLiga</td>\n",
       "      <td>Real Madrid</td>\n",
       "      <td>Italy</td>\n",
       "      <td>Serie A</td>\n",
       "      <td>Juventus FC</td>\n",
       "      <td>117000000</td>\n",
       "      <td>2018</td>\n",
       "    </tr>\n",
       "    <tr>\n",
       "      <th>2</th>\n",
       "      <td>Kepa Arrizabalaga</td>\n",
       "      <td>Goalkeeper</td>\n",
       "      <td>23</td>\n",
       "      <td>20000000</td>\n",
       "      <td>Spain</td>\n",
       "      <td>LaLiga</td>\n",
       "      <td>Athletic Bilbao</td>\n",
       "      <td>England</td>\n",
       "      <td>Premier League</td>\n",
       "      <td>Chelsea FC</td>\n",
       "      <td>80000000</td>\n",
       "      <td>2018</td>\n",
       "    </tr>\n",
       "    <tr>\n",
       "      <th>3</th>\n",
       "      <td>Thomas Lemar</td>\n",
       "      <td>Attacking Midfield</td>\n",
       "      <td>22</td>\n",
       "      <td>65000000</td>\n",
       "      <td>Monaco</td>\n",
       "      <td>Ligue 1</td>\n",
       "      <td>AS Monaco</td>\n",
       "      <td>Spain</td>\n",
       "      <td>LaLiga</td>\n",
       "      <td>Atlético de Madrid</td>\n",
       "      <td>72000000</td>\n",
       "      <td>2018</td>\n",
       "    </tr>\n",
       "    <tr>\n",
       "      <th>4</th>\n",
       "      <td>Riyad Mahrez</td>\n",
       "      <td>Right Winger</td>\n",
       "      <td>27</td>\n",
       "      <td>50000000</td>\n",
       "      <td>England</td>\n",
       "      <td>Premier League</td>\n",
       "      <td>Leicester City</td>\n",
       "      <td>England</td>\n",
       "      <td>Premier League</td>\n",
       "      <td>Manchester City</td>\n",
       "      <td>67000000</td>\n",
       "      <td>2018</td>\n",
       "    </tr>\n",
       "  </tbody>\n",
       "</table>\n",
       "</div>"
      ],
      "text/plain": [
       "                name            position age market_value country_from  \\\n",
       "0      Kylian Mbappé      Centre-Forward  19    120000000       Monaco   \n",
       "1  Cristiano Ronaldo      Centre-Forward  33    100000000        Spain   \n",
       "2  Kepa Arrizabalaga          Goalkeeper  23     20000000        Spain   \n",
       "3       Thomas Lemar  Attacking Midfield  22     65000000       Monaco   \n",
       "4       Riyad Mahrez        Right Winger  27     50000000      England   \n",
       "\n",
       "      league_from        club_from country_to       league_to  \\\n",
       "0         Ligue 1        AS Monaco     France         Ligue 1   \n",
       "1          LaLiga      Real Madrid      Italy         Serie A   \n",
       "2          LaLiga  Athletic Bilbao    England  Premier League   \n",
       "3         Ligue 1        AS Monaco      Spain          LaLiga   \n",
       "4  Premier League   Leicester City    England  Premier League   \n",
       "\n",
       "               club_to        fee  year  \n",
       "0  Paris Saint-Germain  180000000  2018  \n",
       "1          Juventus FC  117000000  2018  \n",
       "2           Chelsea FC   80000000  2018  \n",
       "3   Atlético de Madrid   72000000  2018  \n",
       "4      Manchester City   67000000  2018  "
      ]
     },
     "execution_count": 332,
     "metadata": {},
     "output_type": "execute_result"
    }
   ],
   "source": [
    "# we drop the row 144 because the player corresponding to this row is dead some of the data contains symbols\n",
    "df = df.drop(index=df.iloc[144].name)\n",
    "# here we show the first few rows of the final dataset \n",
    "df.head()"
   ]
  },
  {
   "cell_type": "markdown",
   "id": "dc49bd74",
   "metadata": {},
   "source": [
    "Next we will create a new column containing the general role for each player."
   ]
  },
  {
   "cell_type": "code",
   "execution_count": 333,
   "id": "5222da24",
   "metadata": {},
   "outputs": [],
   "source": [
    "# we create an empty list to append the role of each player\n",
    "# practically we will go through each row and we will append the general role.\n",
    "# At the end we will just take the list with all the general positions and we will add it to the dataframe.\n",
    "general_position=[]\n",
    "\n",
    "# we specify to which general position the specific positions belong\n",
    "defense=['Right-Back','Left-Back','Centre-Back']\n",
    "midfield=['Central Midfield','Defensive Midfield','Right Midfield','Left Midfield','Attacking Midfield']\n",
    "attack=['Second Striker','Centre-Forward','Left Winger','Right Winger']\n",
    "\n",
    "# we create a for loop that iterates through alle the rows \n",
    "for index, row in df.iterrows():\n",
    "    # we access the specific position and we assign that it to 'value'\n",
    "    value = row['position']\n",
    "\n",
    "    # we go through the different lists, if the value is not in one of them it means that the player must be a goalkeeper\n",
    "    if value in defense:\n",
    "        value='Defense'\n",
    "    if value in midfield:\n",
    "        value='Midfield' \n",
    "    if value in attack:\n",
    "        value='Attack'\n",
    "    if value=='Goalkeeper':\n",
    "        pass\n",
    "    general_position.append(value)\n",
    "\n",
    "# we create a new column 'General_Position' amd we fill it with the values in the list general_position \n",
    "df['General_Position']=general_position\n",
    "#df\n"
   ]
  },
  {
   "cell_type": "markdown",
   "id": "7d6349f1",
   "metadata": {},
   "source": [
    "### Dataset description\n",
    " Below it is present a brief description for each variable to understand what it represents:\n",
    " \n",
    "- **name** : name and surname of the player;\n",
    " \n",
    "- **position**: specific position of the player, with 13 possible values: GOALKEEPER, RIGHT-BACK, CENTRE-BACK, LEFT-BACK, RIGHT MIDFIELD, CENTRAL MIDFIELD, LEFT MIDFIELD, DEFENSIVE MIDFIELD, ATTACKING MIDFIELD, SECOND STRIKER, LEFT WINGER, RIGHT WINGER, CENTRE- FORWARD;\n",
    "\n",
    "- **age**: age of the player, measured in years;\n",
    "\n",
    "- **market_value**: market value of the player, measured in euros.\n",
    "\n",
    "- **country_from**: country of the club which sold the player.\n",
    "\n",
    "- **league_from**: league of the club which sold the player.\n",
    "\n",
    "- **club_from**: club which sold the player.\n",
    "\n",
    "- **country_to**: country of the club which bought the player.\n",
    "\n",
    "- **league_to**: league of the club which bought the player.\n",
    "\n",
    "- **club_to**: club which bought the player.\n",
    "\n",
    "- **fee**: the amount of money payed for the trasfer the player, measured in euros.\n",
    "\n",
    "- **year**: year of the transfer, with 5 possible values: 2018, 2019, 2020, 2021, 2022, 2023.\n",
    "\n",
    "The following column will be added in the next part of the code:\n",
    "\n",
    "- **General_Position**: general position of the player, with 4 possible values: GOALKEEPER, DEFENSE, MIDFIELD, ATTACK.\n",
    " "
   ]
  },
  {
   "cell_type": "markdown",
   "id": "e43e7565",
   "metadata": {},
   "source": [
    "Since we want to focus the attention of the top 5 ligues of the world and we do not really care about all the other little leagues we reassign the league_from values of the players that have a league different from the top 5 into 'Others'."
   ]
  },
  {
   "cell_type": "code",
   "execution_count": 334,
   "id": "0f3cc821",
   "metadata": {},
   "outputs": [],
   "source": [
    "# we create a list with the name of the 5 top leagues for which we want to keep the name\n",
    "lst=['Premier League', 'Ligue 1','Bundesliga','Serie A', \"LaLiga\"]\n",
    "# we create a new list to append all the names as done before\n",
    "league_from=[]\n",
    "for index,row in df.iterrows():\n",
    "    if row['league_from'] not in lst:\n",
    "       league_from.append('Others')\n",
    "    else:\n",
    "       league_from.append(row['league_from']) \n",
    "\n",
    "# we overwrite the values of league_from with now 'Others' instead of the name of a minor league\n",
    "df['league_from']=league_from\n",
    "#df\n"
   ]
  },
  {
   "cell_type": "markdown",
   "id": "d5b121f0",
   "metadata": {},
   "source": [
    "We do the same also for league_to."
   ]
  },
  {
   "cell_type": "code",
   "execution_count": 335,
   "id": "52c5776b",
   "metadata": {},
   "outputs": [],
   "source": [
    "league_to=[]\n",
    "for index,row in df.iterrows():\n",
    "    if row['league_to'] not in lst:\n",
    "       league_to.append('Others')\n",
    "    else:\n",
    "       league_to.append(row['league_to']) \n",
    "\n",
    "    \n",
    "df['league_to']=league_to\n"
   ]
  },
  {
   "cell_type": "markdown",
   "id": "899c77b9",
   "metadata": {},
   "source": [
    "In the next lines of code we will replace on the right the wrong values present in the datasets with the correct ones, which are the ones on the right insight the function 'replace(left,right)'."
   ]
  },
  {
   "cell_type": "code",
   "execution_count": 336,
   "id": "9e553a4b",
   "metadata": {},
   "outputs": [
    {
     "name": "stderr",
     "output_type": "stream",
     "text": [
      "C:\\Users\\ElDorado601\\AppData\\Local\\Temp\\ipykernel_17916\\4287807619.py:4: FutureWarning:\n",
      "\n",
      "The default value of regex will change from True to False in a future version. In addition, single character regular expressions will *not* be treated as literal strings when regex=True.\n",
      "\n"
     ]
    }
   ],
   "source": [
    "df['fee'] = df['fee'].str.replace('k','000')\n",
    "df['fee'] = df['fee'].str.replace('free transfer','0')\n",
    "df['fee'] = df['fee'].str.replace('loan transfer','0')\n",
    "df['fee'] = df['fee'].str.replace('?','0')"
   ]
  },
  {
   "cell_type": "markdown",
   "id": "23eaae01",
   "metadata": {},
   "source": [
    "For this variable there were some problems in the format for the year 2021, therefore it was necessary to convert the whole clomn into string and then it was possible to apply the tranformations. Othersie, ti would have cancelled the values."
   ]
  },
  {
   "cell_type": "code",
   "execution_count": 337,
   "id": "d8e2f6b1",
   "metadata": {},
   "outputs": [],
   "source": [
    "df[\"market_value\"]=df[\"market_value\"].astype(str)\n",
    "df['market_value'] = df['market_value'].str.replace('k','000')"
   ]
  },
  {
   "cell_type": "markdown",
   "id": "66a0808d",
   "metadata": {},
   "source": [
    "Here we tranform the type of fee and agent from string into integer."
   ]
  },
  {
   "cell_type": "code",
   "execution_count": 338,
   "id": "c6072ac7",
   "metadata": {},
   "outputs": [],
   "source": [
    "df['fee']=df['fee'].astype('int')\n",
    "df['age']=df['age'].astype('int')"
   ]
  },
  {
   "cell_type": "markdown",
   "id": "c64d6042",
   "metadata": {},
   "source": [
    "Since for some players for the market value was present '-' to indicate a null value, we replace '-' with the market value of the same player. It seemed the best way to imputate."
   ]
  },
  {
   "cell_type": "code",
   "execution_count": 339,
   "id": "b303d323",
   "metadata": {},
   "outputs": [],
   "source": [
    "# we iterate over each row to find the ones with '-' and replace it with the the player 'fee'\n",
    "for idx, row in df.iterrows():\n",
    "    if row['market_value'] == '-':\n",
    "        df.loc[idx, 'market_value'] = row['fee']"
   ]
  },
  {
   "cell_type": "markdown",
   "id": "01316130",
   "metadata": {},
   "source": [
    "We just check for null values and duplicates"
   ]
  },
  {
   "cell_type": "code",
   "execution_count": 340,
   "id": "65729049",
   "metadata": {
    "scrolled": true
   },
   "outputs": [
    {
     "name": "stdout",
     "output_type": "stream",
     "text": [
      "NaNs:\n"
     ]
    },
    {
     "data": {
      "text/plain": [
       "name                0\n",
       "position            0\n",
       "age                 0\n",
       "market_value        0\n",
       "country_from        0\n",
       "league_from         0\n",
       "club_from           0\n",
       "country_to          0\n",
       "league_to           0\n",
       "club_to             0\n",
       "fee                 0\n",
       "year                0\n",
       "General_Position    0\n",
       "dtype: int64"
      ]
     },
     "metadata": {},
     "output_type": "display_data"
    },
    {
     "name": "stdout",
     "output_type": "stream",
     "text": [
      "\n",
      "\n",
      "Duplicates:\n"
     ]
    },
    {
     "data": {
      "text/plain": [
       "20"
      ]
     },
     "metadata": {},
     "output_type": "display_data"
    }
   ],
   "source": [
    "print(\"NaNs:\")\n",
    "display(df.isnull().sum())\n",
    "print(\"\\n\\nDuplicates:\")\n",
    "display(df.duplicated().sum())"
   ]
  },
  {
   "cell_type": "markdown",
   "id": "dd8d6e19",
   "metadata": {},
   "source": [
    "Finally we drop the 20 duplicates we have."
   ]
  },
  {
   "cell_type": "code",
   "execution_count": 341,
   "id": "5915e977",
   "metadata": {},
   "outputs": [
    {
     "data": {
      "text/html": [
       "<div>\n",
       "<style scoped>\n",
       "    .dataframe tbody tr th:only-of-type {\n",
       "        vertical-align: middle;\n",
       "    }\n",
       "\n",
       "    .dataframe tbody tr th {\n",
       "        vertical-align: top;\n",
       "    }\n",
       "\n",
       "    .dataframe thead th {\n",
       "        text-align: right;\n",
       "    }\n",
       "</style>\n",
       "<table border=\"1\" class=\"dataframe\">\n",
       "  <thead>\n",
       "    <tr style=\"text-align: right;\">\n",
       "      <th></th>\n",
       "      <th>index</th>\n",
       "      <th>name</th>\n",
       "      <th>position</th>\n",
       "      <th>age</th>\n",
       "      <th>market_value</th>\n",
       "      <th>country_from</th>\n",
       "      <th>league_from</th>\n",
       "      <th>club_from</th>\n",
       "      <th>country_to</th>\n",
       "      <th>league_to</th>\n",
       "      <th>club_to</th>\n",
       "      <th>fee</th>\n",
       "      <th>year</th>\n",
       "      <th>General_Position</th>\n",
       "    </tr>\n",
       "  </thead>\n",
       "  <tbody>\n",
       "    <tr>\n",
       "      <th>0</th>\n",
       "      <td>0</td>\n",
       "      <td>Kylian Mbappé</td>\n",
       "      <td>Centre-Forward</td>\n",
       "      <td>19</td>\n",
       "      <td>120000000</td>\n",
       "      <td>Monaco</td>\n",
       "      <td>Ligue 1</td>\n",
       "      <td>AS Monaco</td>\n",
       "      <td>France</td>\n",
       "      <td>Ligue 1</td>\n",
       "      <td>Paris Saint-Germain</td>\n",
       "      <td>180000000</td>\n",
       "      <td>2018</td>\n",
       "      <td>Attack</td>\n",
       "    </tr>\n",
       "    <tr>\n",
       "      <th>1</th>\n",
       "      <td>1</td>\n",
       "      <td>Cristiano Ronaldo</td>\n",
       "      <td>Centre-Forward</td>\n",
       "      <td>33</td>\n",
       "      <td>100000000</td>\n",
       "      <td>Spain</td>\n",
       "      <td>LaLiga</td>\n",
       "      <td>Real Madrid</td>\n",
       "      <td>Italy</td>\n",
       "      <td>Serie A</td>\n",
       "      <td>Juventus FC</td>\n",
       "      <td>117000000</td>\n",
       "      <td>2018</td>\n",
       "      <td>Attack</td>\n",
       "    </tr>\n",
       "    <tr>\n",
       "      <th>2</th>\n",
       "      <td>2</td>\n",
       "      <td>Kepa Arrizabalaga</td>\n",
       "      <td>Goalkeeper</td>\n",
       "      <td>23</td>\n",
       "      <td>20000000</td>\n",
       "      <td>Spain</td>\n",
       "      <td>LaLiga</td>\n",
       "      <td>Athletic Bilbao</td>\n",
       "      <td>England</td>\n",
       "      <td>Premier League</td>\n",
       "      <td>Chelsea FC</td>\n",
       "      <td>80000000</td>\n",
       "      <td>2018</td>\n",
       "      <td>Goalkeeper</td>\n",
       "    </tr>\n",
       "    <tr>\n",
       "      <th>3</th>\n",
       "      <td>3</td>\n",
       "      <td>Thomas Lemar</td>\n",
       "      <td>Attacking Midfield</td>\n",
       "      <td>22</td>\n",
       "      <td>65000000</td>\n",
       "      <td>Monaco</td>\n",
       "      <td>Ligue 1</td>\n",
       "      <td>AS Monaco</td>\n",
       "      <td>Spain</td>\n",
       "      <td>LaLiga</td>\n",
       "      <td>Atlético de Madrid</td>\n",
       "      <td>72000000</td>\n",
       "      <td>2018</td>\n",
       "      <td>Midfield</td>\n",
       "    </tr>\n",
       "    <tr>\n",
       "      <th>4</th>\n",
       "      <td>4</td>\n",
       "      <td>Riyad Mahrez</td>\n",
       "      <td>Right Winger</td>\n",
       "      <td>27</td>\n",
       "      <td>50000000</td>\n",
       "      <td>England</td>\n",
       "      <td>Premier League</td>\n",
       "      <td>Leicester City</td>\n",
       "      <td>England</td>\n",
       "      <td>Premier League</td>\n",
       "      <td>Manchester City</td>\n",
       "      <td>67000000</td>\n",
       "      <td>2018</td>\n",
       "      <td>Attack</td>\n",
       "    </tr>\n",
       "    <tr>\n",
       "      <th>...</th>\n",
       "      <td>...</td>\n",
       "      <td>...</td>\n",
       "      <td>...</td>\n",
       "      <td>...</td>\n",
       "      <td>...</td>\n",
       "      <td>...</td>\n",
       "      <td>...</td>\n",
       "      <td>...</td>\n",
       "      <td>...</td>\n",
       "      <td>...</td>\n",
       "      <td>...</td>\n",
       "      <td>...</td>\n",
       "      <td>...</td>\n",
       "      <td>...</td>\n",
       "    </tr>\n",
       "    <tr>\n",
       "      <th>2949</th>\n",
       "      <td>2970</td>\n",
       "      <td>Pedro Raul</td>\n",
       "      <td>Centre-Forward</td>\n",
       "      <td>26</td>\n",
       "      <td>6000000</td>\n",
       "      <td>Japan</td>\n",
       "      <td>Others</td>\n",
       "      <td>Kashiwa Reysol</td>\n",
       "      <td>Brazil</td>\n",
       "      <td>Others</td>\n",
       "      <td>Clube de Regatas Vasco da Gama</td>\n",
       "      <td>1000000</td>\n",
       "      <td>2022</td>\n",
       "      <td>Attack</td>\n",
       "    </tr>\n",
       "    <tr>\n",
       "      <th>2950</th>\n",
       "      <td>2971</td>\n",
       "      <td>Daniel Wass</td>\n",
       "      <td>Right-Back</td>\n",
       "      <td>33</td>\n",
       "      <td>6000000</td>\n",
       "      <td>Spain</td>\n",
       "      <td>LaLiga</td>\n",
       "      <td>Atlético de Madrid</td>\n",
       "      <td>Denmark</td>\n",
       "      <td>Others</td>\n",
       "      <td>Bröndby IF</td>\n",
       "      <td>1000000</td>\n",
       "      <td>2022</td>\n",
       "      <td>Defense</td>\n",
       "    </tr>\n",
       "    <tr>\n",
       "      <th>2951</th>\n",
       "      <td>2972</td>\n",
       "      <td>Amadou Diawara</td>\n",
       "      <td>Defensive Midfield</td>\n",
       "      <td>25</td>\n",
       "      <td>6000000</td>\n",
       "      <td>Italy</td>\n",
       "      <td>Serie A</td>\n",
       "      <td>AS Roma</td>\n",
       "      <td>Belgium</td>\n",
       "      <td>Others</td>\n",
       "      <td>RSC Anderlecht</td>\n",
       "      <td>1000000</td>\n",
       "      <td>2022</td>\n",
       "      <td>Midfield</td>\n",
       "    </tr>\n",
       "    <tr>\n",
       "      <th>2952</th>\n",
       "      <td>2973</td>\n",
       "      <td>Marc Bartra</td>\n",
       "      <td>Centre-Back</td>\n",
       "      <td>31</td>\n",
       "      <td>6000000</td>\n",
       "      <td>Spain</td>\n",
       "      <td>LaLiga</td>\n",
       "      <td>Real Betis Balompié</td>\n",
       "      <td>Turkey</td>\n",
       "      <td>Others</td>\n",
       "      <td>Trabzonspor</td>\n",
       "      <td>1000000</td>\n",
       "      <td>2022</td>\n",
       "      <td>Defense</td>\n",
       "    </tr>\n",
       "    <tr>\n",
       "      <th>2953</th>\n",
       "      <td>2974</td>\n",
       "      <td>Lorenzo Lucca</td>\n",
       "      <td>Centre-Forward</td>\n",
       "      <td>21</td>\n",
       "      <td>6000000</td>\n",
       "      <td>Italy</td>\n",
       "      <td>Others</td>\n",
       "      <td>Pisa Sporting Club</td>\n",
       "      <td>Netherlands</td>\n",
       "      <td>Others</td>\n",
       "      <td>Ajax Amsterdam</td>\n",
       "      <td>1000000</td>\n",
       "      <td>2022</td>\n",
       "      <td>Attack</td>\n",
       "    </tr>\n",
       "  </tbody>\n",
       "</table>\n",
       "<p>2954 rows × 14 columns</p>\n",
       "</div>"
      ],
      "text/plain": [
       "      index               name            position  age market_value  \\\n",
       "0         0      Kylian Mbappé      Centre-Forward   19    120000000   \n",
       "1         1  Cristiano Ronaldo      Centre-Forward   33    100000000   \n",
       "2         2  Kepa Arrizabalaga          Goalkeeper   23     20000000   \n",
       "3         3       Thomas Lemar  Attacking Midfield   22     65000000   \n",
       "4         4       Riyad Mahrez        Right Winger   27     50000000   \n",
       "...     ...                ...                 ...  ...          ...   \n",
       "2949   2970         Pedro Raul      Centre-Forward   26      6000000   \n",
       "2950   2971        Daniel Wass          Right-Back   33      6000000   \n",
       "2951   2972     Amadou Diawara  Defensive Midfield   25      6000000   \n",
       "2952   2973        Marc Bartra         Centre-Back   31      6000000   \n",
       "2953   2974      Lorenzo Lucca      Centre-Forward   21      6000000   \n",
       "\n",
       "     country_from     league_from            club_from   country_to  \\\n",
       "0          Monaco         Ligue 1            AS Monaco       France   \n",
       "1           Spain          LaLiga          Real Madrid        Italy   \n",
       "2           Spain          LaLiga      Athletic Bilbao      England   \n",
       "3          Monaco         Ligue 1            AS Monaco        Spain   \n",
       "4         England  Premier League       Leicester City      England   \n",
       "...           ...             ...                  ...          ...   \n",
       "2949        Japan          Others       Kashiwa Reysol       Brazil   \n",
       "2950        Spain          LaLiga   Atlético de Madrid      Denmark   \n",
       "2951        Italy         Serie A              AS Roma      Belgium   \n",
       "2952        Spain          LaLiga  Real Betis Balompié       Turkey   \n",
       "2953        Italy          Others   Pisa Sporting Club  Netherlands   \n",
       "\n",
       "           league_to                         club_to        fee  year  \\\n",
       "0            Ligue 1             Paris Saint-Germain  180000000  2018   \n",
       "1            Serie A                     Juventus FC  117000000  2018   \n",
       "2     Premier League                      Chelsea FC   80000000  2018   \n",
       "3             LaLiga              Atlético de Madrid   72000000  2018   \n",
       "4     Premier League                 Manchester City   67000000  2018   \n",
       "...              ...                             ...        ...   ...   \n",
       "2949          Others  Clube de Regatas Vasco da Gama    1000000  2022   \n",
       "2950          Others                      Bröndby IF    1000000  2022   \n",
       "2951          Others                  RSC Anderlecht    1000000  2022   \n",
       "2952          Others                     Trabzonspor    1000000  2022   \n",
       "2953          Others                  Ajax Amsterdam    1000000  2022   \n",
       "\n",
       "     General_Position  \n",
       "0              Attack  \n",
       "1              Attack  \n",
       "2          Goalkeeper  \n",
       "3            Midfield  \n",
       "4              Attack  \n",
       "...               ...  \n",
       "2949           Attack  \n",
       "2950          Defense  \n",
       "2951         Midfield  \n",
       "2952          Defense  \n",
       "2953           Attack  \n",
       "\n",
       "[2954 rows x 14 columns]"
      ]
     },
     "execution_count": 341,
     "metadata": {},
     "output_type": "execute_result"
    }
   ],
   "source": [
    "df=df.drop_duplicates()\n",
    "# we create a new column with the new index\n",
    "df.reset_index(inplace=True)\n",
    "# we create a new dataframe to eliminate the double index\n",
    "df"
   ]
  },
  {
   "cell_type": "code",
   "execution_count": 342,
   "id": "8e101d31",
   "metadata": {},
   "outputs": [
    {
     "name": "stdout",
     "output_type": "stream",
     "text": [
      "NaNs:\n"
     ]
    },
    {
     "data": {
      "text/plain": [
       "index               0\n",
       "name                0\n",
       "position            0\n",
       "age                 0\n",
       "market_value        0\n",
       "country_from        0\n",
       "league_from         0\n",
       "club_from           0\n",
       "country_to          0\n",
       "league_to           0\n",
       "club_to             0\n",
       "fee                 0\n",
       "year                0\n",
       "General_Position    0\n",
       "dtype: int64"
      ]
     },
     "metadata": {},
     "output_type": "display_data"
    },
    {
     "name": "stdout",
     "output_type": "stream",
     "text": [
      "\n",
      "\n",
      "Duplicates:\n"
     ]
    },
    {
     "data": {
      "text/plain": [
       "0"
      ]
     },
     "metadata": {},
     "output_type": "display_data"
    }
   ],
   "source": [
    "print(\"NaNs:\")\n",
    "display(df.isnull().sum())\n",
    "print(\"\\n\\nDuplicates:\")\n",
    "display(df.duplicated().sum())"
   ]
  },
  {
   "cell_type": "markdown",
   "id": "ed849baa",
   "metadata": {},
   "source": [
    "Then, we convert and save df into a csv file to be used again and again for the analyses"
   ]
  },
  {
   "cell_type": "code",
   "execution_count": 343,
   "id": "3590a73d",
   "metadata": {},
   "outputs": [
    {
     "data": {
      "text/html": [
       "<div>\n",
       "<style scoped>\n",
       "    .dataframe tbody tr th:only-of-type {\n",
       "        vertical-align: middle;\n",
       "    }\n",
       "\n",
       "    .dataframe tbody tr th {\n",
       "        vertical-align: top;\n",
       "    }\n",
       "\n",
       "    .dataframe thead th {\n",
       "        text-align: right;\n",
       "    }\n",
       "</style>\n",
       "<table border=\"1\" class=\"dataframe\">\n",
       "  <thead>\n",
       "    <tr style=\"text-align: right;\">\n",
       "      <th></th>\n",
       "      <th>name</th>\n",
       "      <th>position</th>\n",
       "      <th>age</th>\n",
       "      <th>market_value</th>\n",
       "      <th>country_from</th>\n",
       "      <th>league_from</th>\n",
       "      <th>club_from</th>\n",
       "      <th>country_to</th>\n",
       "      <th>league_to</th>\n",
       "      <th>club_to</th>\n",
       "      <th>fee</th>\n",
       "      <th>year</th>\n",
       "      <th>General_Position</th>\n",
       "    </tr>\n",
       "  </thead>\n",
       "  <tbody>\n",
       "    <tr>\n",
       "      <th>0</th>\n",
       "      <td>Kylian Mbappé</td>\n",
       "      <td>Centre-Forward</td>\n",
       "      <td>19</td>\n",
       "      <td>120000000</td>\n",
       "      <td>Monaco</td>\n",
       "      <td>Ligue 1</td>\n",
       "      <td>AS Monaco</td>\n",
       "      <td>France</td>\n",
       "      <td>Ligue 1</td>\n",
       "      <td>Paris Saint-Germain</td>\n",
       "      <td>180000000</td>\n",
       "      <td>2018</td>\n",
       "      <td>Attack</td>\n",
       "    </tr>\n",
       "    <tr>\n",
       "      <th>1</th>\n",
       "      <td>Cristiano Ronaldo</td>\n",
       "      <td>Centre-Forward</td>\n",
       "      <td>33</td>\n",
       "      <td>100000000</td>\n",
       "      <td>Spain</td>\n",
       "      <td>LaLiga</td>\n",
       "      <td>Real Madrid</td>\n",
       "      <td>Italy</td>\n",
       "      <td>Serie A</td>\n",
       "      <td>Juventus FC</td>\n",
       "      <td>117000000</td>\n",
       "      <td>2018</td>\n",
       "      <td>Attack</td>\n",
       "    </tr>\n",
       "    <tr>\n",
       "      <th>2</th>\n",
       "      <td>Kepa Arrizabalaga</td>\n",
       "      <td>Goalkeeper</td>\n",
       "      <td>23</td>\n",
       "      <td>20000000</td>\n",
       "      <td>Spain</td>\n",
       "      <td>LaLiga</td>\n",
       "      <td>Athletic Bilbao</td>\n",
       "      <td>England</td>\n",
       "      <td>Premier League</td>\n",
       "      <td>Chelsea FC</td>\n",
       "      <td>80000000</td>\n",
       "      <td>2018</td>\n",
       "      <td>Goalkeeper</td>\n",
       "    </tr>\n",
       "    <tr>\n",
       "      <th>3</th>\n",
       "      <td>Thomas Lemar</td>\n",
       "      <td>Attacking Midfield</td>\n",
       "      <td>22</td>\n",
       "      <td>65000000</td>\n",
       "      <td>Monaco</td>\n",
       "      <td>Ligue 1</td>\n",
       "      <td>AS Monaco</td>\n",
       "      <td>Spain</td>\n",
       "      <td>LaLiga</td>\n",
       "      <td>Atlético de Madrid</td>\n",
       "      <td>72000000</td>\n",
       "      <td>2018</td>\n",
       "      <td>Midfield</td>\n",
       "    </tr>\n",
       "    <tr>\n",
       "      <th>4</th>\n",
       "      <td>Riyad Mahrez</td>\n",
       "      <td>Right Winger</td>\n",
       "      <td>27</td>\n",
       "      <td>50000000</td>\n",
       "      <td>England</td>\n",
       "      <td>Premier League</td>\n",
       "      <td>Leicester City</td>\n",
       "      <td>England</td>\n",
       "      <td>Premier League</td>\n",
       "      <td>Manchester City</td>\n",
       "      <td>67000000</td>\n",
       "      <td>2018</td>\n",
       "      <td>Attack</td>\n",
       "    </tr>\n",
       "    <tr>\n",
       "      <th>...</th>\n",
       "      <td>...</td>\n",
       "      <td>...</td>\n",
       "      <td>...</td>\n",
       "      <td>...</td>\n",
       "      <td>...</td>\n",
       "      <td>...</td>\n",
       "      <td>...</td>\n",
       "      <td>...</td>\n",
       "      <td>...</td>\n",
       "      <td>...</td>\n",
       "      <td>...</td>\n",
       "      <td>...</td>\n",
       "      <td>...</td>\n",
       "    </tr>\n",
       "    <tr>\n",
       "      <th>2949</th>\n",
       "      <td>Pedro Raul</td>\n",
       "      <td>Centre-Forward</td>\n",
       "      <td>26</td>\n",
       "      <td>6000000</td>\n",
       "      <td>Japan</td>\n",
       "      <td>Others</td>\n",
       "      <td>Kashiwa Reysol</td>\n",
       "      <td>Brazil</td>\n",
       "      <td>Others</td>\n",
       "      <td>Clube de Regatas Vasco da Gama</td>\n",
       "      <td>1000000</td>\n",
       "      <td>2022</td>\n",
       "      <td>Attack</td>\n",
       "    </tr>\n",
       "    <tr>\n",
       "      <th>2950</th>\n",
       "      <td>Daniel Wass</td>\n",
       "      <td>Right-Back</td>\n",
       "      <td>33</td>\n",
       "      <td>6000000</td>\n",
       "      <td>Spain</td>\n",
       "      <td>LaLiga</td>\n",
       "      <td>Atlético de Madrid</td>\n",
       "      <td>Denmark</td>\n",
       "      <td>Others</td>\n",
       "      <td>Bröndby IF</td>\n",
       "      <td>1000000</td>\n",
       "      <td>2022</td>\n",
       "      <td>Defense</td>\n",
       "    </tr>\n",
       "    <tr>\n",
       "      <th>2951</th>\n",
       "      <td>Amadou Diawara</td>\n",
       "      <td>Defensive Midfield</td>\n",
       "      <td>25</td>\n",
       "      <td>6000000</td>\n",
       "      <td>Italy</td>\n",
       "      <td>Serie A</td>\n",
       "      <td>AS Roma</td>\n",
       "      <td>Belgium</td>\n",
       "      <td>Others</td>\n",
       "      <td>RSC Anderlecht</td>\n",
       "      <td>1000000</td>\n",
       "      <td>2022</td>\n",
       "      <td>Midfield</td>\n",
       "    </tr>\n",
       "    <tr>\n",
       "      <th>2952</th>\n",
       "      <td>Marc Bartra</td>\n",
       "      <td>Centre-Back</td>\n",
       "      <td>31</td>\n",
       "      <td>6000000</td>\n",
       "      <td>Spain</td>\n",
       "      <td>LaLiga</td>\n",
       "      <td>Real Betis Balompié</td>\n",
       "      <td>Turkey</td>\n",
       "      <td>Others</td>\n",
       "      <td>Trabzonspor</td>\n",
       "      <td>1000000</td>\n",
       "      <td>2022</td>\n",
       "      <td>Defense</td>\n",
       "    </tr>\n",
       "    <tr>\n",
       "      <th>2953</th>\n",
       "      <td>Lorenzo Lucca</td>\n",
       "      <td>Centre-Forward</td>\n",
       "      <td>21</td>\n",
       "      <td>6000000</td>\n",
       "      <td>Italy</td>\n",
       "      <td>Others</td>\n",
       "      <td>Pisa Sporting Club</td>\n",
       "      <td>Netherlands</td>\n",
       "      <td>Others</td>\n",
       "      <td>Ajax Amsterdam</td>\n",
       "      <td>1000000</td>\n",
       "      <td>2022</td>\n",
       "      <td>Attack</td>\n",
       "    </tr>\n",
       "  </tbody>\n",
       "</table>\n",
       "<p>2954 rows × 13 columns</p>\n",
       "</div>"
      ],
      "text/plain": [
       "                   name            position  age market_value country_from  \\\n",
       "0         Kylian Mbappé      Centre-Forward   19    120000000       Monaco   \n",
       "1     Cristiano Ronaldo      Centre-Forward   33    100000000        Spain   \n",
       "2     Kepa Arrizabalaga          Goalkeeper   23     20000000        Spain   \n",
       "3          Thomas Lemar  Attacking Midfield   22     65000000       Monaco   \n",
       "4          Riyad Mahrez        Right Winger   27     50000000      England   \n",
       "...                 ...                 ...  ...          ...          ...   \n",
       "2949         Pedro Raul      Centre-Forward   26      6000000        Japan   \n",
       "2950        Daniel Wass          Right-Back   33      6000000        Spain   \n",
       "2951     Amadou Diawara  Defensive Midfield   25      6000000        Italy   \n",
       "2952        Marc Bartra         Centre-Back   31      6000000        Spain   \n",
       "2953      Lorenzo Lucca      Centre-Forward   21      6000000        Italy   \n",
       "\n",
       "         league_from            club_from   country_to       league_to  \\\n",
       "0            Ligue 1            AS Monaco       France         Ligue 1   \n",
       "1             LaLiga          Real Madrid        Italy         Serie A   \n",
       "2             LaLiga      Athletic Bilbao      England  Premier League   \n",
       "3            Ligue 1            AS Monaco        Spain          LaLiga   \n",
       "4     Premier League       Leicester City      England  Premier League   \n",
       "...              ...                  ...          ...             ...   \n",
       "2949          Others       Kashiwa Reysol       Brazil          Others   \n",
       "2950          LaLiga   Atlético de Madrid      Denmark          Others   \n",
       "2951         Serie A              AS Roma      Belgium          Others   \n",
       "2952          LaLiga  Real Betis Balompié       Turkey          Others   \n",
       "2953          Others   Pisa Sporting Club  Netherlands          Others   \n",
       "\n",
       "                             club_to        fee  year General_Position  \n",
       "0                Paris Saint-Germain  180000000  2018           Attack  \n",
       "1                        Juventus FC  117000000  2018           Attack  \n",
       "2                         Chelsea FC   80000000  2018       Goalkeeper  \n",
       "3                 Atlético de Madrid   72000000  2018         Midfield  \n",
       "4                    Manchester City   67000000  2018           Attack  \n",
       "...                              ...        ...   ...              ...  \n",
       "2949  Clube de Regatas Vasco da Gama    1000000  2022           Attack  \n",
       "2950                      Bröndby IF    1000000  2022          Defense  \n",
       "2951                  RSC Anderlecht    1000000  2022         Midfield  \n",
       "2952                     Trabzonspor    1000000  2022          Defense  \n",
       "2953                  Ajax Amsterdam    1000000  2022           Attack  \n",
       "\n",
       "[2954 rows x 13 columns]"
      ]
     },
     "execution_count": 343,
     "metadata": {},
     "output_type": "execute_result"
    }
   ],
   "source": [
    "# we drop the old index\n",
    "df= df.iloc[: , 1:]\n",
    "df"
   ]
  },
  {
   "cell_type": "code",
   "execution_count": 344,
   "id": "85569986",
   "metadata": {},
   "outputs": [],
   "source": [
    "df.to_csv('transfer_window.csv')"
   ]
  },
  {
   "cell_type": "markdown",
   "id": "9bb3b509",
   "metadata": {},
   "source": [
    "It is important to notice that once the dataset will be reimported it iwll present a double index, the first of the orinal dataset and the one from the import."
   ]
  },
  {
   "cell_type": "markdown",
   "id": "9b77f1d0",
   "metadata": {},
   "source": [
    "### Exploratory Analysis and our story\n",
    "\n",
    "The first thing we want to know is how much each different league has spent and earned from the transfermaket. So, our first visualization will be a two barchart grouped by league. Furthermore, to provide an easier association between color of the bars and corresponding League we assign each color according to the color present in the logo of the League, or in case of multiple colors to the color that is usually associated to it.\n",
    "These are the list of leagues and the corresponding codified color:\n",
    "- Premier League = \"#031b5e\"\n",
    "- Serie A='#25AA0A'\n",
    "- LaLiga=\"#E16B19\"\n",
    "- Ligue 1='#7e33c5'\n",
    "- Bundesliga=\"#ca0302\"\n",
    "- Others='lightgrey'"
   ]
  },
  {
   "cell_type": "code",
   "execution_count": 345,
   "id": "a05e3a5a",
   "metadata": {},
   "outputs": [
    {
     "data": {
      "application/vnd.plotly.v1+json": {
       "config": {
        "plotlyServerURL": "https://plot.ly"
       },
       "data": [
        {
         "marker": {
          "color": [
           "#031b5e",
           "#25AA0A",
           "lightgrey",
           "#E16B19",
           "#7e33c5",
           "#ca0302"
          ]
         },
         "type": "bar",
         "x": [
          "Premier League",
          "Serie A",
          "Others",
          "LaLiga",
          "Ligue 1",
          "Bundesliga"
         ],
         "y": [
          9342200000,
          4480549000,
          4165662000,
          3445030000,
          2609960000,
          2583870000
         ]
        }
       ],
       "layout": {
        "template": {
         "data": {
          "bar": [
           {
            "error_x": {
             "color": "#2a3f5f"
            },
            "error_y": {
             "color": "#2a3f5f"
            },
            "marker": {
             "line": {
              "color": "#E5ECF6",
              "width": 0.5
             },
             "pattern": {
              "fillmode": "overlay",
              "size": 10,
              "solidity": 0.2
             }
            },
            "type": "bar"
           }
          ],
          "barpolar": [
           {
            "marker": {
             "line": {
              "color": "#E5ECF6",
              "width": 0.5
             },
             "pattern": {
              "fillmode": "overlay",
              "size": 10,
              "solidity": 0.2
             }
            },
            "type": "barpolar"
           }
          ],
          "carpet": [
           {
            "aaxis": {
             "endlinecolor": "#2a3f5f",
             "gridcolor": "white",
             "linecolor": "white",
             "minorgridcolor": "white",
             "startlinecolor": "#2a3f5f"
            },
            "baxis": {
             "endlinecolor": "#2a3f5f",
             "gridcolor": "white",
             "linecolor": "white",
             "minorgridcolor": "white",
             "startlinecolor": "#2a3f5f"
            },
            "type": "carpet"
           }
          ],
          "choropleth": [
           {
            "colorbar": {
             "outlinewidth": 0,
             "ticks": ""
            },
            "type": "choropleth"
           }
          ],
          "contour": [
           {
            "colorbar": {
             "outlinewidth": 0,
             "ticks": ""
            },
            "colorscale": [
             [
              0,
              "#0d0887"
             ],
             [
              0.1111111111111111,
              "#46039f"
             ],
             [
              0.2222222222222222,
              "#7201a8"
             ],
             [
              0.3333333333333333,
              "#9c179e"
             ],
             [
              0.4444444444444444,
              "#bd3786"
             ],
             [
              0.5555555555555556,
              "#d8576b"
             ],
             [
              0.6666666666666666,
              "#ed7953"
             ],
             [
              0.7777777777777778,
              "#fb9f3a"
             ],
             [
              0.8888888888888888,
              "#fdca26"
             ],
             [
              1,
              "#f0f921"
             ]
            ],
            "type": "contour"
           }
          ],
          "contourcarpet": [
           {
            "colorbar": {
             "outlinewidth": 0,
             "ticks": ""
            },
            "type": "contourcarpet"
           }
          ],
          "heatmap": [
           {
            "colorbar": {
             "outlinewidth": 0,
             "ticks": ""
            },
            "colorscale": [
             [
              0,
              "#0d0887"
             ],
             [
              0.1111111111111111,
              "#46039f"
             ],
             [
              0.2222222222222222,
              "#7201a8"
             ],
             [
              0.3333333333333333,
              "#9c179e"
             ],
             [
              0.4444444444444444,
              "#bd3786"
             ],
             [
              0.5555555555555556,
              "#d8576b"
             ],
             [
              0.6666666666666666,
              "#ed7953"
             ],
             [
              0.7777777777777778,
              "#fb9f3a"
             ],
             [
              0.8888888888888888,
              "#fdca26"
             ],
             [
              1,
              "#f0f921"
             ]
            ],
            "type": "heatmap"
           }
          ],
          "heatmapgl": [
           {
            "colorbar": {
             "outlinewidth": 0,
             "ticks": ""
            },
            "colorscale": [
             [
              0,
              "#0d0887"
             ],
             [
              0.1111111111111111,
              "#46039f"
             ],
             [
              0.2222222222222222,
              "#7201a8"
             ],
             [
              0.3333333333333333,
              "#9c179e"
             ],
             [
              0.4444444444444444,
              "#bd3786"
             ],
             [
              0.5555555555555556,
              "#d8576b"
             ],
             [
              0.6666666666666666,
              "#ed7953"
             ],
             [
              0.7777777777777778,
              "#fb9f3a"
             ],
             [
              0.8888888888888888,
              "#fdca26"
             ],
             [
              1,
              "#f0f921"
             ]
            ],
            "type": "heatmapgl"
           }
          ],
          "histogram": [
           {
            "marker": {
             "pattern": {
              "fillmode": "overlay",
              "size": 10,
              "solidity": 0.2
             }
            },
            "type": "histogram"
           }
          ],
          "histogram2d": [
           {
            "colorbar": {
             "outlinewidth": 0,
             "ticks": ""
            },
            "colorscale": [
             [
              0,
              "#0d0887"
             ],
             [
              0.1111111111111111,
              "#46039f"
             ],
             [
              0.2222222222222222,
              "#7201a8"
             ],
             [
              0.3333333333333333,
              "#9c179e"
             ],
             [
              0.4444444444444444,
              "#bd3786"
             ],
             [
              0.5555555555555556,
              "#d8576b"
             ],
             [
              0.6666666666666666,
              "#ed7953"
             ],
             [
              0.7777777777777778,
              "#fb9f3a"
             ],
             [
              0.8888888888888888,
              "#fdca26"
             ],
             [
              1,
              "#f0f921"
             ]
            ],
            "type": "histogram2d"
           }
          ],
          "histogram2dcontour": [
           {
            "colorbar": {
             "outlinewidth": 0,
             "ticks": ""
            },
            "colorscale": [
             [
              0,
              "#0d0887"
             ],
             [
              0.1111111111111111,
              "#46039f"
             ],
             [
              0.2222222222222222,
              "#7201a8"
             ],
             [
              0.3333333333333333,
              "#9c179e"
             ],
             [
              0.4444444444444444,
              "#bd3786"
             ],
             [
              0.5555555555555556,
              "#d8576b"
             ],
             [
              0.6666666666666666,
              "#ed7953"
             ],
             [
              0.7777777777777778,
              "#fb9f3a"
             ],
             [
              0.8888888888888888,
              "#fdca26"
             ],
             [
              1,
              "#f0f921"
             ]
            ],
            "type": "histogram2dcontour"
           }
          ],
          "mesh3d": [
           {
            "colorbar": {
             "outlinewidth": 0,
             "ticks": ""
            },
            "type": "mesh3d"
           }
          ],
          "parcoords": [
           {
            "line": {
             "colorbar": {
              "outlinewidth": 0,
              "ticks": ""
             }
            },
            "type": "parcoords"
           }
          ],
          "pie": [
           {
            "automargin": true,
            "type": "pie"
           }
          ],
          "scatter": [
           {
            "fillpattern": {
             "fillmode": "overlay",
             "size": 10,
             "solidity": 0.2
            },
            "type": "scatter"
           }
          ],
          "scatter3d": [
           {
            "line": {
             "colorbar": {
              "outlinewidth": 0,
              "ticks": ""
             }
            },
            "marker": {
             "colorbar": {
              "outlinewidth": 0,
              "ticks": ""
             }
            },
            "type": "scatter3d"
           }
          ],
          "scattercarpet": [
           {
            "marker": {
             "colorbar": {
              "outlinewidth": 0,
              "ticks": ""
             }
            },
            "type": "scattercarpet"
           }
          ],
          "scattergeo": [
           {
            "marker": {
             "colorbar": {
              "outlinewidth": 0,
              "ticks": ""
             }
            },
            "type": "scattergeo"
           }
          ],
          "scattergl": [
           {
            "marker": {
             "colorbar": {
              "outlinewidth": 0,
              "ticks": ""
             }
            },
            "type": "scattergl"
           }
          ],
          "scattermapbox": [
           {
            "marker": {
             "colorbar": {
              "outlinewidth": 0,
              "ticks": ""
             }
            },
            "type": "scattermapbox"
           }
          ],
          "scatterpolar": [
           {
            "marker": {
             "colorbar": {
              "outlinewidth": 0,
              "ticks": ""
             }
            },
            "type": "scatterpolar"
           }
          ],
          "scatterpolargl": [
           {
            "marker": {
             "colorbar": {
              "outlinewidth": 0,
              "ticks": ""
             }
            },
            "type": "scatterpolargl"
           }
          ],
          "scatterternary": [
           {
            "marker": {
             "colorbar": {
              "outlinewidth": 0,
              "ticks": ""
             }
            },
            "type": "scatterternary"
           }
          ],
          "surface": [
           {
            "colorbar": {
             "outlinewidth": 0,
             "ticks": ""
            },
            "colorscale": [
             [
              0,
              "#0d0887"
             ],
             [
              0.1111111111111111,
              "#46039f"
             ],
             [
              0.2222222222222222,
              "#7201a8"
             ],
             [
              0.3333333333333333,
              "#9c179e"
             ],
             [
              0.4444444444444444,
              "#bd3786"
             ],
             [
              0.5555555555555556,
              "#d8576b"
             ],
             [
              0.6666666666666666,
              "#ed7953"
             ],
             [
              0.7777777777777778,
              "#fb9f3a"
             ],
             [
              0.8888888888888888,
              "#fdca26"
             ],
             [
              1,
              "#f0f921"
             ]
            ],
            "type": "surface"
           }
          ],
          "table": [
           {
            "cells": {
             "fill": {
              "color": "#EBF0F8"
             },
             "line": {
              "color": "white"
             }
            },
            "header": {
             "fill": {
              "color": "#C8D4E3"
             },
             "line": {
              "color": "white"
             }
            },
            "type": "table"
           }
          ]
         },
         "layout": {
          "annotationdefaults": {
           "arrowcolor": "#2a3f5f",
           "arrowhead": 0,
           "arrowwidth": 1
          },
          "autotypenumbers": "strict",
          "coloraxis": {
           "colorbar": {
            "outlinewidth": 0,
            "ticks": ""
           }
          },
          "colorscale": {
           "diverging": [
            [
             0,
             "#8e0152"
            ],
            [
             0.1,
             "#c51b7d"
            ],
            [
             0.2,
             "#de77ae"
            ],
            [
             0.3,
             "#f1b6da"
            ],
            [
             0.4,
             "#fde0ef"
            ],
            [
             0.5,
             "#f7f7f7"
            ],
            [
             0.6,
             "#e6f5d0"
            ],
            [
             0.7,
             "#b8e186"
            ],
            [
             0.8,
             "#7fbc41"
            ],
            [
             0.9,
             "#4d9221"
            ],
            [
             1,
             "#276419"
            ]
           ],
           "sequential": [
            [
             0,
             "#0d0887"
            ],
            [
             0.1111111111111111,
             "#46039f"
            ],
            [
             0.2222222222222222,
             "#7201a8"
            ],
            [
             0.3333333333333333,
             "#9c179e"
            ],
            [
             0.4444444444444444,
             "#bd3786"
            ],
            [
             0.5555555555555556,
             "#d8576b"
            ],
            [
             0.6666666666666666,
             "#ed7953"
            ],
            [
             0.7777777777777778,
             "#fb9f3a"
            ],
            [
             0.8888888888888888,
             "#fdca26"
            ],
            [
             1,
             "#f0f921"
            ]
           ],
           "sequentialminus": [
            [
             0,
             "#0d0887"
            ],
            [
             0.1111111111111111,
             "#46039f"
            ],
            [
             0.2222222222222222,
             "#7201a8"
            ],
            [
             0.3333333333333333,
             "#9c179e"
            ],
            [
             0.4444444444444444,
             "#bd3786"
            ],
            [
             0.5555555555555556,
             "#d8576b"
            ],
            [
             0.6666666666666666,
             "#ed7953"
            ],
            [
             0.7777777777777778,
             "#fb9f3a"
            ],
            [
             0.8888888888888888,
             "#fdca26"
            ],
            [
             1,
             "#f0f921"
            ]
           ]
          },
          "colorway": [
           "#636efa",
           "#EF553B",
           "#00cc96",
           "#ab63fa",
           "#FFA15A",
           "#19d3f3",
           "#FF6692",
           "#B6E880",
           "#FF97FF",
           "#FECB52"
          ],
          "font": {
           "color": "#2a3f5f"
          },
          "geo": {
           "bgcolor": "white",
           "lakecolor": "white",
           "landcolor": "#E5ECF6",
           "showlakes": true,
           "showland": true,
           "subunitcolor": "white"
          },
          "hoverlabel": {
           "align": "left"
          },
          "hovermode": "closest",
          "mapbox": {
           "style": "light"
          },
          "paper_bgcolor": "white",
          "plot_bgcolor": "#E5ECF6",
          "polar": {
           "angularaxis": {
            "gridcolor": "white",
            "linecolor": "white",
            "ticks": ""
           },
           "bgcolor": "#E5ECF6",
           "radialaxis": {
            "gridcolor": "white",
            "linecolor": "white",
            "ticks": ""
           }
          },
          "scene": {
           "xaxis": {
            "backgroundcolor": "#E5ECF6",
            "gridcolor": "white",
            "gridwidth": 2,
            "linecolor": "white",
            "showbackground": true,
            "ticks": "",
            "zerolinecolor": "white"
           },
           "yaxis": {
            "backgroundcolor": "#E5ECF6",
            "gridcolor": "white",
            "gridwidth": 2,
            "linecolor": "white",
            "showbackground": true,
            "ticks": "",
            "zerolinecolor": "white"
           },
           "zaxis": {
            "backgroundcolor": "#E5ECF6",
            "gridcolor": "white",
            "gridwidth": 2,
            "linecolor": "white",
            "showbackground": true,
            "ticks": "",
            "zerolinecolor": "white"
           }
          },
          "shapedefaults": {
           "line": {
            "color": "#2a3f5f"
           }
          },
          "ternary": {
           "aaxis": {
            "gridcolor": "white",
            "linecolor": "white",
            "ticks": ""
           },
           "baxis": {
            "gridcolor": "white",
            "linecolor": "white",
            "ticks": ""
           },
           "bgcolor": "#E5ECF6",
           "caxis": {
            "gridcolor": "white",
            "linecolor": "white",
            "ticks": ""
           }
          },
          "title": {
           "x": 0.05
          },
          "xaxis": {
           "automargin": true,
           "gridcolor": "white",
           "linecolor": "white",
           "ticks": "",
           "title": {
            "standoff": 15
           },
           "zerolinecolor": "white",
           "zerolinewidth": 2
          },
          "yaxis": {
           "automargin": true,
           "gridcolor": "white",
           "linecolor": "white",
           "ticks": "",
           "title": {
            "standoff": 15
           },
           "zerolinecolor": "white",
           "zerolinewidth": 2
          }
         }
        }
       }
      },
      "text/html": [
       "<div>                            <div id=\"af9ad6a0-a6a0-451d-845e-143f1eb5960b\" class=\"plotly-graph-div\" style=\"height:525px; width:100%;\"></div>            <script type=\"text/javascript\">                require([\"plotly\"], function(Plotly) {                    window.PLOTLYENV=window.PLOTLYENV || {};                                    if (document.getElementById(\"af9ad6a0-a6a0-451d-845e-143f1eb5960b\")) {                    Plotly.newPlot(                        \"af9ad6a0-a6a0-451d-845e-143f1eb5960b\",                        [{\"marker\":{\"color\":[\"#031b5e\",\"#25AA0A\",\"lightgrey\",\"#E16B19\",\"#7e33c5\",\"#ca0302\"]},\"x\":[\"Premier League\",\"Serie A\",\"Others\",\"LaLiga\",\"Ligue 1\",\"Bundesliga\"],\"y\":[9342200000.0,4480549000.0,4165662000.0,3445030000.0,2609960000.0,2583870000.0],\"type\":\"bar\"}],                        {\"template\":{\"data\":{\"histogram2dcontour\":[{\"type\":\"histogram2dcontour\",\"colorbar\":{\"outlinewidth\":0,\"ticks\":\"\"},\"colorscale\":[[0.0,\"#0d0887\"],[0.1111111111111111,\"#46039f\"],[0.2222222222222222,\"#7201a8\"],[0.3333333333333333,\"#9c179e\"],[0.4444444444444444,\"#bd3786\"],[0.5555555555555556,\"#d8576b\"],[0.6666666666666666,\"#ed7953\"],[0.7777777777777778,\"#fb9f3a\"],[0.8888888888888888,\"#fdca26\"],[1.0,\"#f0f921\"]]}],\"choropleth\":[{\"type\":\"choropleth\",\"colorbar\":{\"outlinewidth\":0,\"ticks\":\"\"}}],\"histogram2d\":[{\"type\":\"histogram2d\",\"colorbar\":{\"outlinewidth\":0,\"ticks\":\"\"},\"colorscale\":[[0.0,\"#0d0887\"],[0.1111111111111111,\"#46039f\"],[0.2222222222222222,\"#7201a8\"],[0.3333333333333333,\"#9c179e\"],[0.4444444444444444,\"#bd3786\"],[0.5555555555555556,\"#d8576b\"],[0.6666666666666666,\"#ed7953\"],[0.7777777777777778,\"#fb9f3a\"],[0.8888888888888888,\"#fdca26\"],[1.0,\"#f0f921\"]]}],\"heatmap\":[{\"type\":\"heatmap\",\"colorbar\":{\"outlinewidth\":0,\"ticks\":\"\"},\"colorscale\":[[0.0,\"#0d0887\"],[0.1111111111111111,\"#46039f\"],[0.2222222222222222,\"#7201a8\"],[0.3333333333333333,\"#9c179e\"],[0.4444444444444444,\"#bd3786\"],[0.5555555555555556,\"#d8576b\"],[0.6666666666666666,\"#ed7953\"],[0.7777777777777778,\"#fb9f3a\"],[0.8888888888888888,\"#fdca26\"],[1.0,\"#f0f921\"]]}],\"heatmapgl\":[{\"type\":\"heatmapgl\",\"colorbar\":{\"outlinewidth\":0,\"ticks\":\"\"},\"colorscale\":[[0.0,\"#0d0887\"],[0.1111111111111111,\"#46039f\"],[0.2222222222222222,\"#7201a8\"],[0.3333333333333333,\"#9c179e\"],[0.4444444444444444,\"#bd3786\"],[0.5555555555555556,\"#d8576b\"],[0.6666666666666666,\"#ed7953\"],[0.7777777777777778,\"#fb9f3a\"],[0.8888888888888888,\"#fdca26\"],[1.0,\"#f0f921\"]]}],\"contourcarpet\":[{\"type\":\"contourcarpet\",\"colorbar\":{\"outlinewidth\":0,\"ticks\":\"\"}}],\"contour\":[{\"type\":\"contour\",\"colorbar\":{\"outlinewidth\":0,\"ticks\":\"\"},\"colorscale\":[[0.0,\"#0d0887\"],[0.1111111111111111,\"#46039f\"],[0.2222222222222222,\"#7201a8\"],[0.3333333333333333,\"#9c179e\"],[0.4444444444444444,\"#bd3786\"],[0.5555555555555556,\"#d8576b\"],[0.6666666666666666,\"#ed7953\"],[0.7777777777777778,\"#fb9f3a\"],[0.8888888888888888,\"#fdca26\"],[1.0,\"#f0f921\"]]}],\"surface\":[{\"type\":\"surface\",\"colorbar\":{\"outlinewidth\":0,\"ticks\":\"\"},\"colorscale\":[[0.0,\"#0d0887\"],[0.1111111111111111,\"#46039f\"],[0.2222222222222222,\"#7201a8\"],[0.3333333333333333,\"#9c179e\"],[0.4444444444444444,\"#bd3786\"],[0.5555555555555556,\"#d8576b\"],[0.6666666666666666,\"#ed7953\"],[0.7777777777777778,\"#fb9f3a\"],[0.8888888888888888,\"#fdca26\"],[1.0,\"#f0f921\"]]}],\"mesh3d\":[{\"type\":\"mesh3d\",\"colorbar\":{\"outlinewidth\":0,\"ticks\":\"\"}}],\"scatter\":[{\"fillpattern\":{\"fillmode\":\"overlay\",\"size\":10,\"solidity\":0.2},\"type\":\"scatter\"}],\"parcoords\":[{\"type\":\"parcoords\",\"line\":{\"colorbar\":{\"outlinewidth\":0,\"ticks\":\"\"}}}],\"scatterpolargl\":[{\"type\":\"scatterpolargl\",\"marker\":{\"colorbar\":{\"outlinewidth\":0,\"ticks\":\"\"}}}],\"bar\":[{\"error_x\":{\"color\":\"#2a3f5f\"},\"error_y\":{\"color\":\"#2a3f5f\"},\"marker\":{\"line\":{\"color\":\"#E5ECF6\",\"width\":0.5},\"pattern\":{\"fillmode\":\"overlay\",\"size\":10,\"solidity\":0.2}},\"type\":\"bar\"}],\"scattergeo\":[{\"type\":\"scattergeo\",\"marker\":{\"colorbar\":{\"outlinewidth\":0,\"ticks\":\"\"}}}],\"scatterpolar\":[{\"type\":\"scatterpolar\",\"marker\":{\"colorbar\":{\"outlinewidth\":0,\"ticks\":\"\"}}}],\"histogram\":[{\"marker\":{\"pattern\":{\"fillmode\":\"overlay\",\"size\":10,\"solidity\":0.2}},\"type\":\"histogram\"}],\"scattergl\":[{\"type\":\"scattergl\",\"marker\":{\"colorbar\":{\"outlinewidth\":0,\"ticks\":\"\"}}}],\"scatter3d\":[{\"type\":\"scatter3d\",\"line\":{\"colorbar\":{\"outlinewidth\":0,\"ticks\":\"\"}},\"marker\":{\"colorbar\":{\"outlinewidth\":0,\"ticks\":\"\"}}}],\"scattermapbox\":[{\"type\":\"scattermapbox\",\"marker\":{\"colorbar\":{\"outlinewidth\":0,\"ticks\":\"\"}}}],\"scatterternary\":[{\"type\":\"scatterternary\",\"marker\":{\"colorbar\":{\"outlinewidth\":0,\"ticks\":\"\"}}}],\"scattercarpet\":[{\"type\":\"scattercarpet\",\"marker\":{\"colorbar\":{\"outlinewidth\":0,\"ticks\":\"\"}}}],\"carpet\":[{\"aaxis\":{\"endlinecolor\":\"#2a3f5f\",\"gridcolor\":\"white\",\"linecolor\":\"white\",\"minorgridcolor\":\"white\",\"startlinecolor\":\"#2a3f5f\"},\"baxis\":{\"endlinecolor\":\"#2a3f5f\",\"gridcolor\":\"white\",\"linecolor\":\"white\",\"minorgridcolor\":\"white\",\"startlinecolor\":\"#2a3f5f\"},\"type\":\"carpet\"}],\"table\":[{\"cells\":{\"fill\":{\"color\":\"#EBF0F8\"},\"line\":{\"color\":\"white\"}},\"header\":{\"fill\":{\"color\":\"#C8D4E3\"},\"line\":{\"color\":\"white\"}},\"type\":\"table\"}],\"barpolar\":[{\"marker\":{\"line\":{\"color\":\"#E5ECF6\",\"width\":0.5},\"pattern\":{\"fillmode\":\"overlay\",\"size\":10,\"solidity\":0.2}},\"type\":\"barpolar\"}],\"pie\":[{\"automargin\":true,\"type\":\"pie\"}]},\"layout\":{\"autotypenumbers\":\"strict\",\"colorway\":[\"#636efa\",\"#EF553B\",\"#00cc96\",\"#ab63fa\",\"#FFA15A\",\"#19d3f3\",\"#FF6692\",\"#B6E880\",\"#FF97FF\",\"#FECB52\"],\"font\":{\"color\":\"#2a3f5f\"},\"hovermode\":\"closest\",\"hoverlabel\":{\"align\":\"left\"},\"paper_bgcolor\":\"white\",\"plot_bgcolor\":\"#E5ECF6\",\"polar\":{\"bgcolor\":\"#E5ECF6\",\"angularaxis\":{\"gridcolor\":\"white\",\"linecolor\":\"white\",\"ticks\":\"\"},\"radialaxis\":{\"gridcolor\":\"white\",\"linecolor\":\"white\",\"ticks\":\"\"}},\"ternary\":{\"bgcolor\":\"#E5ECF6\",\"aaxis\":{\"gridcolor\":\"white\",\"linecolor\":\"white\",\"ticks\":\"\"},\"baxis\":{\"gridcolor\":\"white\",\"linecolor\":\"white\",\"ticks\":\"\"},\"caxis\":{\"gridcolor\":\"white\",\"linecolor\":\"white\",\"ticks\":\"\"}},\"coloraxis\":{\"colorbar\":{\"outlinewidth\":0,\"ticks\":\"\"}},\"colorscale\":{\"sequential\":[[0.0,\"#0d0887\"],[0.1111111111111111,\"#46039f\"],[0.2222222222222222,\"#7201a8\"],[0.3333333333333333,\"#9c179e\"],[0.4444444444444444,\"#bd3786\"],[0.5555555555555556,\"#d8576b\"],[0.6666666666666666,\"#ed7953\"],[0.7777777777777778,\"#fb9f3a\"],[0.8888888888888888,\"#fdca26\"],[1.0,\"#f0f921\"]],\"sequentialminus\":[[0.0,\"#0d0887\"],[0.1111111111111111,\"#46039f\"],[0.2222222222222222,\"#7201a8\"],[0.3333333333333333,\"#9c179e\"],[0.4444444444444444,\"#bd3786\"],[0.5555555555555556,\"#d8576b\"],[0.6666666666666666,\"#ed7953\"],[0.7777777777777778,\"#fb9f3a\"],[0.8888888888888888,\"#fdca26\"],[1.0,\"#f0f921\"]],\"diverging\":[[0,\"#8e0152\"],[0.1,\"#c51b7d\"],[0.2,\"#de77ae\"],[0.3,\"#f1b6da\"],[0.4,\"#fde0ef\"],[0.5,\"#f7f7f7\"],[0.6,\"#e6f5d0\"],[0.7,\"#b8e186\"],[0.8,\"#7fbc41\"],[0.9,\"#4d9221\"],[1,\"#276419\"]]},\"xaxis\":{\"gridcolor\":\"white\",\"linecolor\":\"white\",\"ticks\":\"\",\"title\":{\"standoff\":15},\"zerolinecolor\":\"white\",\"automargin\":true,\"zerolinewidth\":2},\"yaxis\":{\"gridcolor\":\"white\",\"linecolor\":\"white\",\"ticks\":\"\",\"title\":{\"standoff\":15},\"zerolinecolor\":\"white\",\"automargin\":true,\"zerolinewidth\":2},\"scene\":{\"xaxis\":{\"backgroundcolor\":\"#E5ECF6\",\"gridcolor\":\"white\",\"linecolor\":\"white\",\"showbackground\":true,\"ticks\":\"\",\"zerolinecolor\":\"white\",\"gridwidth\":2},\"yaxis\":{\"backgroundcolor\":\"#E5ECF6\",\"gridcolor\":\"white\",\"linecolor\":\"white\",\"showbackground\":true,\"ticks\":\"\",\"zerolinecolor\":\"white\",\"gridwidth\":2},\"zaxis\":{\"backgroundcolor\":\"#E5ECF6\",\"gridcolor\":\"white\",\"linecolor\":\"white\",\"showbackground\":true,\"ticks\":\"\",\"zerolinecolor\":\"white\",\"gridwidth\":2}},\"shapedefaults\":{\"line\":{\"color\":\"#2a3f5f\"}},\"annotationdefaults\":{\"arrowcolor\":\"#2a3f5f\",\"arrowhead\":0,\"arrowwidth\":1},\"geo\":{\"bgcolor\":\"white\",\"landcolor\":\"#E5ECF6\",\"subunitcolor\":\"white\",\"showland\":true,\"showlakes\":true,\"lakecolor\":\"white\"},\"title\":{\"x\":0.05},\"mapbox\":{\"style\":\"light\"}}}},                        {\"responsive\": true}                    ).then(function(){\n",
       "                            \n",
       "var gd = document.getElementById('af9ad6a0-a6a0-451d-845e-143f1eb5960b');\n",
       "var x = new MutationObserver(function (mutations, observer) {{\n",
       "        var display = window.getComputedStyle(gd).display;\n",
       "        if (!display || display === 'none') {{\n",
       "            console.log([gd, 'removed!']);\n",
       "            Plotly.purge(gd);\n",
       "            observer.disconnect();\n",
       "        }}\n",
       "}});\n",
       "\n",
       "// Listen for the removal of the full notebook cells\n",
       "var notebookContainer = gd.closest('#notebook-container');\n",
       "if (notebookContainer) {{\n",
       "    x.observe(notebookContainer, {childList: true});\n",
       "}}\n",
       "\n",
       "// Listen for the clearing of the current output cell\n",
       "var outputEl = gd.closest('.output');\n",
       "if (outputEl) {{\n",
       "    x.observe(outputEl, {childList: true});\n",
       "}}\n",
       "\n",
       "                        })                };                });            </script>        </div>"
      ]
     },
     "metadata": {},
     "output_type": "display_data"
    }
   ],
   "source": [
    "# groupby league_to and calculate the summation of the fee for each\n",
    "league=df.groupby('league_to', as_index=False)['fee'].sum()\n",
    "# rearrenge in ascending order for fee spent\n",
    "league=league.sort_values(by=['fee'], ascending=False)\n",
    "\n",
    "import plotly.express as px\n",
    "import plotly.graph_objects as go\n",
    "\n",
    "# we create the list with the colors of each league to macth the corresponding bar of the chart.\n",
    "# This is the corresponding order:\n",
    "#  Premier League, Serie A,   Others,     LaLiga,    Ligue 1,  Bundesliga\n",
    "color=[\"#031b5e\",'#25AA0A', 'lightgrey', \"#E16B19\", '#7e33c5',\"#ca0302\" ]\n",
    "\n",
    "\n",
    "fig = go.Figure(data= [go.Bar(x=league[\"league_to\"], y=league[\"fee\"], marker_color=color)])\n",
    "fig.show()"
   ]
  },
  {
   "cell_type": "code",
   "execution_count": 346,
   "id": "641026d4",
   "metadata": {},
   "outputs": [
    {
     "data": {
      "application/vnd.plotly.v1+json": {
       "config": {
        "plotlyServerURL": "https://plot.ly"
       },
       "data": [
        {
         "marker": {
          "color": [
           "lightgrey",
           "#25AA0A",
           "#031b5e",
           "#7e33c5",
           "#E16B19",
           "#ca0302"
          ]
         },
         "type": "bar",
         "x": [
          "Others",
          "Serie A",
          "Premier League",
          "Ligue 1",
          "LaLiga",
          "Bundesliga"
         ],
         "y": [
          9342200000,
          4480549000,
          4165662000,
          3445030000,
          2609960000,
          2583870000
         ]
        }
       ],
       "layout": {
        "template": {
         "data": {
          "bar": [
           {
            "error_x": {
             "color": "#2a3f5f"
            },
            "error_y": {
             "color": "#2a3f5f"
            },
            "marker": {
             "line": {
              "color": "#E5ECF6",
              "width": 0.5
             },
             "pattern": {
              "fillmode": "overlay",
              "size": 10,
              "solidity": 0.2
             }
            },
            "type": "bar"
           }
          ],
          "barpolar": [
           {
            "marker": {
             "line": {
              "color": "#E5ECF6",
              "width": 0.5
             },
             "pattern": {
              "fillmode": "overlay",
              "size": 10,
              "solidity": 0.2
             }
            },
            "type": "barpolar"
           }
          ],
          "carpet": [
           {
            "aaxis": {
             "endlinecolor": "#2a3f5f",
             "gridcolor": "white",
             "linecolor": "white",
             "minorgridcolor": "white",
             "startlinecolor": "#2a3f5f"
            },
            "baxis": {
             "endlinecolor": "#2a3f5f",
             "gridcolor": "white",
             "linecolor": "white",
             "minorgridcolor": "white",
             "startlinecolor": "#2a3f5f"
            },
            "type": "carpet"
           }
          ],
          "choropleth": [
           {
            "colorbar": {
             "outlinewidth": 0,
             "ticks": ""
            },
            "type": "choropleth"
           }
          ],
          "contour": [
           {
            "colorbar": {
             "outlinewidth": 0,
             "ticks": ""
            },
            "colorscale": [
             [
              0,
              "#0d0887"
             ],
             [
              0.1111111111111111,
              "#46039f"
             ],
             [
              0.2222222222222222,
              "#7201a8"
             ],
             [
              0.3333333333333333,
              "#9c179e"
             ],
             [
              0.4444444444444444,
              "#bd3786"
             ],
             [
              0.5555555555555556,
              "#d8576b"
             ],
             [
              0.6666666666666666,
              "#ed7953"
             ],
             [
              0.7777777777777778,
              "#fb9f3a"
             ],
             [
              0.8888888888888888,
              "#fdca26"
             ],
             [
              1,
              "#f0f921"
             ]
            ],
            "type": "contour"
           }
          ],
          "contourcarpet": [
           {
            "colorbar": {
             "outlinewidth": 0,
             "ticks": ""
            },
            "type": "contourcarpet"
           }
          ],
          "heatmap": [
           {
            "colorbar": {
             "outlinewidth": 0,
             "ticks": ""
            },
            "colorscale": [
             [
              0,
              "#0d0887"
             ],
             [
              0.1111111111111111,
              "#46039f"
             ],
             [
              0.2222222222222222,
              "#7201a8"
             ],
             [
              0.3333333333333333,
              "#9c179e"
             ],
             [
              0.4444444444444444,
              "#bd3786"
             ],
             [
              0.5555555555555556,
              "#d8576b"
             ],
             [
              0.6666666666666666,
              "#ed7953"
             ],
             [
              0.7777777777777778,
              "#fb9f3a"
             ],
             [
              0.8888888888888888,
              "#fdca26"
             ],
             [
              1,
              "#f0f921"
             ]
            ],
            "type": "heatmap"
           }
          ],
          "heatmapgl": [
           {
            "colorbar": {
             "outlinewidth": 0,
             "ticks": ""
            },
            "colorscale": [
             [
              0,
              "#0d0887"
             ],
             [
              0.1111111111111111,
              "#46039f"
             ],
             [
              0.2222222222222222,
              "#7201a8"
             ],
             [
              0.3333333333333333,
              "#9c179e"
             ],
             [
              0.4444444444444444,
              "#bd3786"
             ],
             [
              0.5555555555555556,
              "#d8576b"
             ],
             [
              0.6666666666666666,
              "#ed7953"
             ],
             [
              0.7777777777777778,
              "#fb9f3a"
             ],
             [
              0.8888888888888888,
              "#fdca26"
             ],
             [
              1,
              "#f0f921"
             ]
            ],
            "type": "heatmapgl"
           }
          ],
          "histogram": [
           {
            "marker": {
             "pattern": {
              "fillmode": "overlay",
              "size": 10,
              "solidity": 0.2
             }
            },
            "type": "histogram"
           }
          ],
          "histogram2d": [
           {
            "colorbar": {
             "outlinewidth": 0,
             "ticks": ""
            },
            "colorscale": [
             [
              0,
              "#0d0887"
             ],
             [
              0.1111111111111111,
              "#46039f"
             ],
             [
              0.2222222222222222,
              "#7201a8"
             ],
             [
              0.3333333333333333,
              "#9c179e"
             ],
             [
              0.4444444444444444,
              "#bd3786"
             ],
             [
              0.5555555555555556,
              "#d8576b"
             ],
             [
              0.6666666666666666,
              "#ed7953"
             ],
             [
              0.7777777777777778,
              "#fb9f3a"
             ],
             [
              0.8888888888888888,
              "#fdca26"
             ],
             [
              1,
              "#f0f921"
             ]
            ],
            "type": "histogram2d"
           }
          ],
          "histogram2dcontour": [
           {
            "colorbar": {
             "outlinewidth": 0,
             "ticks": ""
            },
            "colorscale": [
             [
              0,
              "#0d0887"
             ],
             [
              0.1111111111111111,
              "#46039f"
             ],
             [
              0.2222222222222222,
              "#7201a8"
             ],
             [
              0.3333333333333333,
              "#9c179e"
             ],
             [
              0.4444444444444444,
              "#bd3786"
             ],
             [
              0.5555555555555556,
              "#d8576b"
             ],
             [
              0.6666666666666666,
              "#ed7953"
             ],
             [
              0.7777777777777778,
              "#fb9f3a"
             ],
             [
              0.8888888888888888,
              "#fdca26"
             ],
             [
              1,
              "#f0f921"
             ]
            ],
            "type": "histogram2dcontour"
           }
          ],
          "mesh3d": [
           {
            "colorbar": {
             "outlinewidth": 0,
             "ticks": ""
            },
            "type": "mesh3d"
           }
          ],
          "parcoords": [
           {
            "line": {
             "colorbar": {
              "outlinewidth": 0,
              "ticks": ""
             }
            },
            "type": "parcoords"
           }
          ],
          "pie": [
           {
            "automargin": true,
            "type": "pie"
           }
          ],
          "scatter": [
           {
            "fillpattern": {
             "fillmode": "overlay",
             "size": 10,
             "solidity": 0.2
            },
            "type": "scatter"
           }
          ],
          "scatter3d": [
           {
            "line": {
             "colorbar": {
              "outlinewidth": 0,
              "ticks": ""
             }
            },
            "marker": {
             "colorbar": {
              "outlinewidth": 0,
              "ticks": ""
             }
            },
            "type": "scatter3d"
           }
          ],
          "scattercarpet": [
           {
            "marker": {
             "colorbar": {
              "outlinewidth": 0,
              "ticks": ""
             }
            },
            "type": "scattercarpet"
           }
          ],
          "scattergeo": [
           {
            "marker": {
             "colorbar": {
              "outlinewidth": 0,
              "ticks": ""
             }
            },
            "type": "scattergeo"
           }
          ],
          "scattergl": [
           {
            "marker": {
             "colorbar": {
              "outlinewidth": 0,
              "ticks": ""
             }
            },
            "type": "scattergl"
           }
          ],
          "scattermapbox": [
           {
            "marker": {
             "colorbar": {
              "outlinewidth": 0,
              "ticks": ""
             }
            },
            "type": "scattermapbox"
           }
          ],
          "scatterpolar": [
           {
            "marker": {
             "colorbar": {
              "outlinewidth": 0,
              "ticks": ""
             }
            },
            "type": "scatterpolar"
           }
          ],
          "scatterpolargl": [
           {
            "marker": {
             "colorbar": {
              "outlinewidth": 0,
              "ticks": ""
             }
            },
            "type": "scatterpolargl"
           }
          ],
          "scatterternary": [
           {
            "marker": {
             "colorbar": {
              "outlinewidth": 0,
              "ticks": ""
             }
            },
            "type": "scatterternary"
           }
          ],
          "surface": [
           {
            "colorbar": {
             "outlinewidth": 0,
             "ticks": ""
            },
            "colorscale": [
             [
              0,
              "#0d0887"
             ],
             [
              0.1111111111111111,
              "#46039f"
             ],
             [
              0.2222222222222222,
              "#7201a8"
             ],
             [
              0.3333333333333333,
              "#9c179e"
             ],
             [
              0.4444444444444444,
              "#bd3786"
             ],
             [
              0.5555555555555556,
              "#d8576b"
             ],
             [
              0.6666666666666666,
              "#ed7953"
             ],
             [
              0.7777777777777778,
              "#fb9f3a"
             ],
             [
              0.8888888888888888,
              "#fdca26"
             ],
             [
              1,
              "#f0f921"
             ]
            ],
            "type": "surface"
           }
          ],
          "table": [
           {
            "cells": {
             "fill": {
              "color": "#EBF0F8"
             },
             "line": {
              "color": "white"
             }
            },
            "header": {
             "fill": {
              "color": "#C8D4E3"
             },
             "line": {
              "color": "white"
             }
            },
            "type": "table"
           }
          ]
         },
         "layout": {
          "annotationdefaults": {
           "arrowcolor": "#2a3f5f",
           "arrowhead": 0,
           "arrowwidth": 1
          },
          "autotypenumbers": "strict",
          "coloraxis": {
           "colorbar": {
            "outlinewidth": 0,
            "ticks": ""
           }
          },
          "colorscale": {
           "diverging": [
            [
             0,
             "#8e0152"
            ],
            [
             0.1,
             "#c51b7d"
            ],
            [
             0.2,
             "#de77ae"
            ],
            [
             0.3,
             "#f1b6da"
            ],
            [
             0.4,
             "#fde0ef"
            ],
            [
             0.5,
             "#f7f7f7"
            ],
            [
             0.6,
             "#e6f5d0"
            ],
            [
             0.7,
             "#b8e186"
            ],
            [
             0.8,
             "#7fbc41"
            ],
            [
             0.9,
             "#4d9221"
            ],
            [
             1,
             "#276419"
            ]
           ],
           "sequential": [
            [
             0,
             "#0d0887"
            ],
            [
             0.1111111111111111,
             "#46039f"
            ],
            [
             0.2222222222222222,
             "#7201a8"
            ],
            [
             0.3333333333333333,
             "#9c179e"
            ],
            [
             0.4444444444444444,
             "#bd3786"
            ],
            [
             0.5555555555555556,
             "#d8576b"
            ],
            [
             0.6666666666666666,
             "#ed7953"
            ],
            [
             0.7777777777777778,
             "#fb9f3a"
            ],
            [
             0.8888888888888888,
             "#fdca26"
            ],
            [
             1,
             "#f0f921"
            ]
           ],
           "sequentialminus": [
            [
             0,
             "#0d0887"
            ],
            [
             0.1111111111111111,
             "#46039f"
            ],
            [
             0.2222222222222222,
             "#7201a8"
            ],
            [
             0.3333333333333333,
             "#9c179e"
            ],
            [
             0.4444444444444444,
             "#bd3786"
            ],
            [
             0.5555555555555556,
             "#d8576b"
            ],
            [
             0.6666666666666666,
             "#ed7953"
            ],
            [
             0.7777777777777778,
             "#fb9f3a"
            ],
            [
             0.8888888888888888,
             "#fdca26"
            ],
            [
             1,
             "#f0f921"
            ]
           ]
          },
          "colorway": [
           "#636efa",
           "#EF553B",
           "#00cc96",
           "#ab63fa",
           "#FFA15A",
           "#19d3f3",
           "#FF6692",
           "#B6E880",
           "#FF97FF",
           "#FECB52"
          ],
          "font": {
           "color": "#2a3f5f"
          },
          "geo": {
           "bgcolor": "white",
           "lakecolor": "white",
           "landcolor": "#E5ECF6",
           "showlakes": true,
           "showland": true,
           "subunitcolor": "white"
          },
          "hoverlabel": {
           "align": "left"
          },
          "hovermode": "closest",
          "mapbox": {
           "style": "light"
          },
          "paper_bgcolor": "white",
          "plot_bgcolor": "#E5ECF6",
          "polar": {
           "angularaxis": {
            "gridcolor": "white",
            "linecolor": "white",
            "ticks": ""
           },
           "bgcolor": "#E5ECF6",
           "radialaxis": {
            "gridcolor": "white",
            "linecolor": "white",
            "ticks": ""
           }
          },
          "scene": {
           "xaxis": {
            "backgroundcolor": "#E5ECF6",
            "gridcolor": "white",
            "gridwidth": 2,
            "linecolor": "white",
            "showbackground": true,
            "ticks": "",
            "zerolinecolor": "white"
           },
           "yaxis": {
            "backgroundcolor": "#E5ECF6",
            "gridcolor": "white",
            "gridwidth": 2,
            "linecolor": "white",
            "showbackground": true,
            "ticks": "",
            "zerolinecolor": "white"
           },
           "zaxis": {
            "backgroundcolor": "#E5ECF6",
            "gridcolor": "white",
            "gridwidth": 2,
            "linecolor": "white",
            "showbackground": true,
            "ticks": "",
            "zerolinecolor": "white"
           }
          },
          "shapedefaults": {
           "line": {
            "color": "#2a3f5f"
           }
          },
          "ternary": {
           "aaxis": {
            "gridcolor": "white",
            "linecolor": "white",
            "ticks": ""
           },
           "baxis": {
            "gridcolor": "white",
            "linecolor": "white",
            "ticks": ""
           },
           "bgcolor": "#E5ECF6",
           "caxis": {
            "gridcolor": "white",
            "linecolor": "white",
            "ticks": ""
           }
          },
          "title": {
           "x": 0.05
          },
          "xaxis": {
           "automargin": true,
           "gridcolor": "white",
           "linecolor": "white",
           "ticks": "",
           "title": {
            "standoff": 15
           },
           "zerolinecolor": "white",
           "zerolinewidth": 2
          },
          "yaxis": {
           "automargin": true,
           "gridcolor": "white",
           "linecolor": "white",
           "ticks": "",
           "title": {
            "standoff": 15
           },
           "zerolinecolor": "white",
           "zerolinewidth": 2
          }
         }
        }
       }
      },
      "text/html": [
       "<div>                            <div id=\"29eb18fb-8dcc-41b9-b557-4a22f63dd324\" class=\"plotly-graph-div\" style=\"height:525px; width:100%;\"></div>            <script type=\"text/javascript\">                require([\"plotly\"], function(Plotly) {                    window.PLOTLYENV=window.PLOTLYENV || {};                                    if (document.getElementById(\"29eb18fb-8dcc-41b9-b557-4a22f63dd324\")) {                    Plotly.newPlot(                        \"29eb18fb-8dcc-41b9-b557-4a22f63dd324\",                        [{\"marker\":{\"color\":[\"lightgrey\",\"#25AA0A\",\"#031b5e\",\"#7e33c5\",\"#E16B19\",\"#ca0302\"]},\"x\":[\"Others\",\"Serie A\",\"Premier League\",\"Ligue 1\",\"LaLiga\",\"Bundesliga\"],\"y\":[9342200000.0,4480549000.0,4165662000.0,3445030000.0,2609960000.0,2583870000.0],\"type\":\"bar\"}],                        {\"template\":{\"data\":{\"histogram2dcontour\":[{\"type\":\"histogram2dcontour\",\"colorbar\":{\"outlinewidth\":0,\"ticks\":\"\"},\"colorscale\":[[0.0,\"#0d0887\"],[0.1111111111111111,\"#46039f\"],[0.2222222222222222,\"#7201a8\"],[0.3333333333333333,\"#9c179e\"],[0.4444444444444444,\"#bd3786\"],[0.5555555555555556,\"#d8576b\"],[0.6666666666666666,\"#ed7953\"],[0.7777777777777778,\"#fb9f3a\"],[0.8888888888888888,\"#fdca26\"],[1.0,\"#f0f921\"]]}],\"choropleth\":[{\"type\":\"choropleth\",\"colorbar\":{\"outlinewidth\":0,\"ticks\":\"\"}}],\"histogram2d\":[{\"type\":\"histogram2d\",\"colorbar\":{\"outlinewidth\":0,\"ticks\":\"\"},\"colorscale\":[[0.0,\"#0d0887\"],[0.1111111111111111,\"#46039f\"],[0.2222222222222222,\"#7201a8\"],[0.3333333333333333,\"#9c179e\"],[0.4444444444444444,\"#bd3786\"],[0.5555555555555556,\"#d8576b\"],[0.6666666666666666,\"#ed7953\"],[0.7777777777777778,\"#fb9f3a\"],[0.8888888888888888,\"#fdca26\"],[1.0,\"#f0f921\"]]}],\"heatmap\":[{\"type\":\"heatmap\",\"colorbar\":{\"outlinewidth\":0,\"ticks\":\"\"},\"colorscale\":[[0.0,\"#0d0887\"],[0.1111111111111111,\"#46039f\"],[0.2222222222222222,\"#7201a8\"],[0.3333333333333333,\"#9c179e\"],[0.4444444444444444,\"#bd3786\"],[0.5555555555555556,\"#d8576b\"],[0.6666666666666666,\"#ed7953\"],[0.7777777777777778,\"#fb9f3a\"],[0.8888888888888888,\"#fdca26\"],[1.0,\"#f0f921\"]]}],\"heatmapgl\":[{\"type\":\"heatmapgl\",\"colorbar\":{\"outlinewidth\":0,\"ticks\":\"\"},\"colorscale\":[[0.0,\"#0d0887\"],[0.1111111111111111,\"#46039f\"],[0.2222222222222222,\"#7201a8\"],[0.3333333333333333,\"#9c179e\"],[0.4444444444444444,\"#bd3786\"],[0.5555555555555556,\"#d8576b\"],[0.6666666666666666,\"#ed7953\"],[0.7777777777777778,\"#fb9f3a\"],[0.8888888888888888,\"#fdca26\"],[1.0,\"#f0f921\"]]}],\"contourcarpet\":[{\"type\":\"contourcarpet\",\"colorbar\":{\"outlinewidth\":0,\"ticks\":\"\"}}],\"contour\":[{\"type\":\"contour\",\"colorbar\":{\"outlinewidth\":0,\"ticks\":\"\"},\"colorscale\":[[0.0,\"#0d0887\"],[0.1111111111111111,\"#46039f\"],[0.2222222222222222,\"#7201a8\"],[0.3333333333333333,\"#9c179e\"],[0.4444444444444444,\"#bd3786\"],[0.5555555555555556,\"#d8576b\"],[0.6666666666666666,\"#ed7953\"],[0.7777777777777778,\"#fb9f3a\"],[0.8888888888888888,\"#fdca26\"],[1.0,\"#f0f921\"]]}],\"surface\":[{\"type\":\"surface\",\"colorbar\":{\"outlinewidth\":0,\"ticks\":\"\"},\"colorscale\":[[0.0,\"#0d0887\"],[0.1111111111111111,\"#46039f\"],[0.2222222222222222,\"#7201a8\"],[0.3333333333333333,\"#9c179e\"],[0.4444444444444444,\"#bd3786\"],[0.5555555555555556,\"#d8576b\"],[0.6666666666666666,\"#ed7953\"],[0.7777777777777778,\"#fb9f3a\"],[0.8888888888888888,\"#fdca26\"],[1.0,\"#f0f921\"]]}],\"mesh3d\":[{\"type\":\"mesh3d\",\"colorbar\":{\"outlinewidth\":0,\"ticks\":\"\"}}],\"scatter\":[{\"fillpattern\":{\"fillmode\":\"overlay\",\"size\":10,\"solidity\":0.2},\"type\":\"scatter\"}],\"parcoords\":[{\"type\":\"parcoords\",\"line\":{\"colorbar\":{\"outlinewidth\":0,\"ticks\":\"\"}}}],\"scatterpolargl\":[{\"type\":\"scatterpolargl\",\"marker\":{\"colorbar\":{\"outlinewidth\":0,\"ticks\":\"\"}}}],\"bar\":[{\"error_x\":{\"color\":\"#2a3f5f\"},\"error_y\":{\"color\":\"#2a3f5f\"},\"marker\":{\"line\":{\"color\":\"#E5ECF6\",\"width\":0.5},\"pattern\":{\"fillmode\":\"overlay\",\"size\":10,\"solidity\":0.2}},\"type\":\"bar\"}],\"scattergeo\":[{\"type\":\"scattergeo\",\"marker\":{\"colorbar\":{\"outlinewidth\":0,\"ticks\":\"\"}}}],\"scatterpolar\":[{\"type\":\"scatterpolar\",\"marker\":{\"colorbar\":{\"outlinewidth\":0,\"ticks\":\"\"}}}],\"histogram\":[{\"marker\":{\"pattern\":{\"fillmode\":\"overlay\",\"size\":10,\"solidity\":0.2}},\"type\":\"histogram\"}],\"scattergl\":[{\"type\":\"scattergl\",\"marker\":{\"colorbar\":{\"outlinewidth\":0,\"ticks\":\"\"}}}],\"scatter3d\":[{\"type\":\"scatter3d\",\"line\":{\"colorbar\":{\"outlinewidth\":0,\"ticks\":\"\"}},\"marker\":{\"colorbar\":{\"outlinewidth\":0,\"ticks\":\"\"}}}],\"scattermapbox\":[{\"type\":\"scattermapbox\",\"marker\":{\"colorbar\":{\"outlinewidth\":0,\"ticks\":\"\"}}}],\"scatterternary\":[{\"type\":\"scatterternary\",\"marker\":{\"colorbar\":{\"outlinewidth\":0,\"ticks\":\"\"}}}],\"scattercarpet\":[{\"type\":\"scattercarpet\",\"marker\":{\"colorbar\":{\"outlinewidth\":0,\"ticks\":\"\"}}}],\"carpet\":[{\"aaxis\":{\"endlinecolor\":\"#2a3f5f\",\"gridcolor\":\"white\",\"linecolor\":\"white\",\"minorgridcolor\":\"white\",\"startlinecolor\":\"#2a3f5f\"},\"baxis\":{\"endlinecolor\":\"#2a3f5f\",\"gridcolor\":\"white\",\"linecolor\":\"white\",\"minorgridcolor\":\"white\",\"startlinecolor\":\"#2a3f5f\"},\"type\":\"carpet\"}],\"table\":[{\"cells\":{\"fill\":{\"color\":\"#EBF0F8\"},\"line\":{\"color\":\"white\"}},\"header\":{\"fill\":{\"color\":\"#C8D4E3\"},\"line\":{\"color\":\"white\"}},\"type\":\"table\"}],\"barpolar\":[{\"marker\":{\"line\":{\"color\":\"#E5ECF6\",\"width\":0.5},\"pattern\":{\"fillmode\":\"overlay\",\"size\":10,\"solidity\":0.2}},\"type\":\"barpolar\"}],\"pie\":[{\"automargin\":true,\"type\":\"pie\"}]},\"layout\":{\"autotypenumbers\":\"strict\",\"colorway\":[\"#636efa\",\"#EF553B\",\"#00cc96\",\"#ab63fa\",\"#FFA15A\",\"#19d3f3\",\"#FF6692\",\"#B6E880\",\"#FF97FF\",\"#FECB52\"],\"font\":{\"color\":\"#2a3f5f\"},\"hovermode\":\"closest\",\"hoverlabel\":{\"align\":\"left\"},\"paper_bgcolor\":\"white\",\"plot_bgcolor\":\"#E5ECF6\",\"polar\":{\"bgcolor\":\"#E5ECF6\",\"angularaxis\":{\"gridcolor\":\"white\",\"linecolor\":\"white\",\"ticks\":\"\"},\"radialaxis\":{\"gridcolor\":\"white\",\"linecolor\":\"white\",\"ticks\":\"\"}},\"ternary\":{\"bgcolor\":\"#E5ECF6\",\"aaxis\":{\"gridcolor\":\"white\",\"linecolor\":\"white\",\"ticks\":\"\"},\"baxis\":{\"gridcolor\":\"white\",\"linecolor\":\"white\",\"ticks\":\"\"},\"caxis\":{\"gridcolor\":\"white\",\"linecolor\":\"white\",\"ticks\":\"\"}},\"coloraxis\":{\"colorbar\":{\"outlinewidth\":0,\"ticks\":\"\"}},\"colorscale\":{\"sequential\":[[0.0,\"#0d0887\"],[0.1111111111111111,\"#46039f\"],[0.2222222222222222,\"#7201a8\"],[0.3333333333333333,\"#9c179e\"],[0.4444444444444444,\"#bd3786\"],[0.5555555555555556,\"#d8576b\"],[0.6666666666666666,\"#ed7953\"],[0.7777777777777778,\"#fb9f3a\"],[0.8888888888888888,\"#fdca26\"],[1.0,\"#f0f921\"]],\"sequentialminus\":[[0.0,\"#0d0887\"],[0.1111111111111111,\"#46039f\"],[0.2222222222222222,\"#7201a8\"],[0.3333333333333333,\"#9c179e\"],[0.4444444444444444,\"#bd3786\"],[0.5555555555555556,\"#d8576b\"],[0.6666666666666666,\"#ed7953\"],[0.7777777777777778,\"#fb9f3a\"],[0.8888888888888888,\"#fdca26\"],[1.0,\"#f0f921\"]],\"diverging\":[[0,\"#8e0152\"],[0.1,\"#c51b7d\"],[0.2,\"#de77ae\"],[0.3,\"#f1b6da\"],[0.4,\"#fde0ef\"],[0.5,\"#f7f7f7\"],[0.6,\"#e6f5d0\"],[0.7,\"#b8e186\"],[0.8,\"#7fbc41\"],[0.9,\"#4d9221\"],[1,\"#276419\"]]},\"xaxis\":{\"gridcolor\":\"white\",\"linecolor\":\"white\",\"ticks\":\"\",\"title\":{\"standoff\":15},\"zerolinecolor\":\"white\",\"automargin\":true,\"zerolinewidth\":2},\"yaxis\":{\"gridcolor\":\"white\",\"linecolor\":\"white\",\"ticks\":\"\",\"title\":{\"standoff\":15},\"zerolinecolor\":\"white\",\"automargin\":true,\"zerolinewidth\":2},\"scene\":{\"xaxis\":{\"backgroundcolor\":\"#E5ECF6\",\"gridcolor\":\"white\",\"linecolor\":\"white\",\"showbackground\":true,\"ticks\":\"\",\"zerolinecolor\":\"white\",\"gridwidth\":2},\"yaxis\":{\"backgroundcolor\":\"#E5ECF6\",\"gridcolor\":\"white\",\"linecolor\":\"white\",\"showbackground\":true,\"ticks\":\"\",\"zerolinecolor\":\"white\",\"gridwidth\":2},\"zaxis\":{\"backgroundcolor\":\"#E5ECF6\",\"gridcolor\":\"white\",\"linecolor\":\"white\",\"showbackground\":true,\"ticks\":\"\",\"zerolinecolor\":\"white\",\"gridwidth\":2}},\"shapedefaults\":{\"line\":{\"color\":\"#2a3f5f\"}},\"annotationdefaults\":{\"arrowcolor\":\"#2a3f5f\",\"arrowhead\":0,\"arrowwidth\":1},\"geo\":{\"bgcolor\":\"white\",\"landcolor\":\"#E5ECF6\",\"subunitcolor\":\"white\",\"showland\":true,\"showlakes\":true,\"lakecolor\":\"white\"},\"title\":{\"x\":0.05},\"mapbox\":{\"style\":\"light\"}}}},                        {\"responsive\": true}                    ).then(function(){\n",
       "                            \n",
       "var gd = document.getElementById('29eb18fb-8dcc-41b9-b557-4a22f63dd324');\n",
       "var x = new MutationObserver(function (mutations, observer) {{\n",
       "        var display = window.getComputedStyle(gd).display;\n",
       "        if (!display || display === 'none') {{\n",
       "            console.log([gd, 'removed!']);\n",
       "            Plotly.purge(gd);\n",
       "            observer.disconnect();\n",
       "        }}\n",
       "}});\n",
       "\n",
       "// Listen for the removal of the full notebook cells\n",
       "var notebookContainer = gd.closest('#notebook-container');\n",
       "if (notebookContainer) {{\n",
       "    x.observe(notebookContainer, {childList: true});\n",
       "}}\n",
       "\n",
       "// Listen for the clearing of the current output cell\n",
       "var outputEl = gd.closest('.output');\n",
       "if (outputEl) {{\n",
       "    x.observe(outputEl, {childList: true});\n",
       "}}\n",
       "\n",
       "                        })                };                });            </script>        </div>"
      ]
     },
     "metadata": {},
     "output_type": "display_data"
    }
   ],
   "source": [
    "# leagues with ascending order of fee earnt\n",
    "league_from=df.groupby('league_from', as_index=False)['fee'].sum()\n",
    "# rearrenge in ascending order for fee spent\n",
    "league_from=league_from.sort_values(by=['fee'], ascending=False)\n",
    "\n",
    "# Again, we create the list with the colors of each league to macth the corresponding bar of the chart.\n",
    "# This is the corresponding order:\n",
    "#        Others,    Serie A, Premier League, Ligue 1, LaLiga,  Bundesliga\n",
    "color2=['lightgrey','#25AA0A',\"#031b5e\", '#7e33c5', '#E16B19', \"#ca0302\" ]\n",
    "\n",
    "fig = go.Figure(data= [go.Bar(x=league_from[\"league_from\"], y=league[\"fee\"], marker_color=color2)])\n",
    "fig.show()"
   ]
  },
  {
   "cell_type": "markdown",
   "id": "591d3aa1",
   "metadata": {},
   "source": [
    "The next thing we want to visualize is the top 20 club for expenditures and we plot it together with their revenues"
   ]
  },
  {
   "cell_type": "code",
   "execution_count": 347,
   "id": "25737539",
   "metadata": {},
   "outputs": [],
   "source": [
    "#data preparation club two sided barchart\n",
    "\n",
    "# we create 2 temporary dataframe containing only the money spent and earnt of the 20 teams with highest spending\n",
    "\n",
    "# club_to corresponds to the club that paid for the player\n",
    "# so we grouby club_to and we calculate the summation for each club of the expenditures\n",
    "in_transfer=df.groupby(by=[\"club_to\"]).sum(['fee'])\n",
    "# rename fee into expenditure\n",
    "in_transfer=in_transfer.rename(columns={\"fee\": \"expenditure\"})\n",
    "# we assign the id of the player the new index of the dataframe\n",
    "in_transfer['id']=in_transfer.index\n",
    "\n",
    "# same of above, but for the earnings of each club\n",
    "out_transfer=df.groupby(by=[\"club_from\"]).sum(['fee'])\n",
    "out_transfer['id']=out_transfer.index\n",
    "out_transfer=out_transfer.rename(columns={\"fee\": \"revenue\"})\n",
    "\n",
    "# here we create a new dataset through an inner join on 'id' for the two df we made \n",
    "balance=out_transfer.merge(in_transfer, how='inner', on='id')\n",
    "# we specify the names of the columns\n",
    "balance=balance.loc[:,['id', 'revenue','expenditure']]\n",
    "# we tranform all the values of expenditure in negative in order to plot them later\n",
    "balance['expenditure'] = balance['expenditure']*(-1)\n",
    "\n",
    "# we ordered by expenditure the whole dataframe\n",
    "balance=balance.sort_values(by=['expenditure'])\n",
    "# we create a new dataset with only the 20 teams wiht highest expenditure\n",
    "balance_20=balance.head(20)"
   ]
  },
  {
   "cell_type": "code",
   "execution_count": 348,
   "id": "a9107ad7",
   "metadata": {},
   "outputs": [
    {
     "data": {
      "image/png": "[encoded data removed]",
      "text/plain": [
       "<Figure size 640x480 with 1 Axes>"
      ]
     },
     "metadata": {},
     "output_type": "display_data"
    }
   ],
   "source": [
    "# plot the bars\n",
    "import matplotlib.pyplot as plt\n",
    "\n",
    "plt.barh(balance_20['id'], balance_20['revenue'], color = 'g')\n",
    "plt.barh(balance_20['id'], balance_20['expenditure'], color = 'r')\n",
    "plt.title(\"Back-to-Back Bar Chart\")\n",
    "plt.yticks(fontsize=8)\n",
    "plt.show()"
   ]
  },
  {
   "cell_type": "markdown",
   "id": "e1dd4e2c",
   "metadata": {},
   "source": [
    "The last representation of this part concerns the top transfers for fee among these years plotted together with the respective \n",
    "league in a sankey diagram.\n"
   ]
  },
  {
   "cell_type": "code",
   "execution_count": 349,
   "id": "d6d20c90",
   "metadata": {},
   "outputs": [],
   "source": [
    "# Import the sankey function from the sankey module within pySankey\n",
    "# !pip install pySankey\n",
    "from pySankey.sankey import sankey"
   ]
  },
  {
   "cell_type": "code",
   "execution_count": 350,
   "id": "f7540bcc",
   "metadata": {},
   "outputs": [
    {
     "data": {
      "text/html": [
       "<div>\n",
       "<style scoped>\n",
       "    .dataframe tbody tr th:only-of-type {\n",
       "        vertical-align: middle;\n",
       "    }\n",
       "\n",
       "    .dataframe tbody tr th {\n",
       "        vertical-align: top;\n",
       "    }\n",
       "\n",
       "    .dataframe thead th {\n",
       "        text-align: right;\n",
       "    }\n",
       "</style>\n",
       "<table border=\"1\" class=\"dataframe\">\n",
       "  <thead>\n",
       "    <tr style=\"text-align: right;\">\n",
       "      <th></th>\n",
       "      <th>name</th>\n",
       "      <th>position</th>\n",
       "      <th>age</th>\n",
       "      <th>market_value</th>\n",
       "      <th>country_from</th>\n",
       "      <th>league_from</th>\n",
       "      <th>club_from</th>\n",
       "      <th>country_to</th>\n",
       "      <th>league_to</th>\n",
       "      <th>club_to</th>\n",
       "      <th>fee</th>\n",
       "      <th>year</th>\n",
       "      <th>General_Position</th>\n",
       "    </tr>\n",
       "  </thead>\n",
       "  <tbody>\n",
       "    <tr>\n",
       "      <th>0</th>\n",
       "      <td>Kylian Mbappé</td>\n",
       "      <td>Centre-Forward</td>\n",
       "      <td>19</td>\n",
       "      <td>120000000</td>\n",
       "      <td>Monaco</td>\n",
       "      <td>Ligue 1</td>\n",
       "      <td>AS Monaco</td>\n",
       "      <td>France</td>\n",
       "      <td>Ligue 1</td>\n",
       "      <td>Paris Saint-Germain</td>\n",
       "      <td>180000000</td>\n",
       "      <td>2018</td>\n",
       "      <td>Attack</td>\n",
       "    </tr>\n",
       "    <tr>\n",
       "      <th>1</th>\n",
       "      <td>Cristiano Ronaldo</td>\n",
       "      <td>Centre-Forward</td>\n",
       "      <td>33</td>\n",
       "      <td>100000000</td>\n",
       "      <td>Spain</td>\n",
       "      <td>LaLiga</td>\n",
       "      <td>Real Madrid</td>\n",
       "      <td>Italy</td>\n",
       "      <td>Serie A</td>\n",
       "      <td>Juventus FC</td>\n",
       "      <td>117000000</td>\n",
       "      <td>2018</td>\n",
       "      <td>Attack</td>\n",
       "    </tr>\n",
       "    <tr>\n",
       "      <th>2</th>\n",
       "      <td>Kepa Arrizabalaga</td>\n",
       "      <td>Goalkeeper</td>\n",
       "      <td>23</td>\n",
       "      <td>20000000</td>\n",
       "      <td>Spain</td>\n",
       "      <td>LaLiga</td>\n",
       "      <td>Athletic Bilbao</td>\n",
       "      <td>England</td>\n",
       "      <td>Premier League</td>\n",
       "      <td>Chelsea FC</td>\n",
       "      <td>80000000</td>\n",
       "      <td>2018</td>\n",
       "      <td>Goalkeeper</td>\n",
       "    </tr>\n",
       "    <tr>\n",
       "      <th>3</th>\n",
       "      <td>Thomas Lemar</td>\n",
       "      <td>Attacking Midfield</td>\n",
       "      <td>22</td>\n",
       "      <td>65000000</td>\n",
       "      <td>Monaco</td>\n",
       "      <td>Ligue 1</td>\n",
       "      <td>AS Monaco</td>\n",
       "      <td>Spain</td>\n",
       "      <td>LaLiga</td>\n",
       "      <td>Atlético de Madrid</td>\n",
       "      <td>72000000</td>\n",
       "      <td>2018</td>\n",
       "      <td>Midfield</td>\n",
       "    </tr>\n",
       "    <tr>\n",
       "      <th>4</th>\n",
       "      <td>Riyad Mahrez</td>\n",
       "      <td>Right Winger</td>\n",
       "      <td>27</td>\n",
       "      <td>50000000</td>\n",
       "      <td>England</td>\n",
       "      <td>Premier League</td>\n",
       "      <td>Leicester City</td>\n",
       "      <td>England</td>\n",
       "      <td>Premier League</td>\n",
       "      <td>Manchester City</td>\n",
       "      <td>67000000</td>\n",
       "      <td>2018</td>\n",
       "      <td>Attack</td>\n",
       "    </tr>\n",
       "    <tr>\n",
       "      <th>...</th>\n",
       "      <td>...</td>\n",
       "      <td>...</td>\n",
       "      <td>...</td>\n",
       "      <td>...</td>\n",
       "      <td>...</td>\n",
       "      <td>...</td>\n",
       "      <td>...</td>\n",
       "      <td>...</td>\n",
       "      <td>...</td>\n",
       "      <td>...</td>\n",
       "      <td>...</td>\n",
       "      <td>...</td>\n",
       "      <td>...</td>\n",
       "    </tr>\n",
       "    <tr>\n",
       "      <th>2949</th>\n",
       "      <td>Pedro Raul</td>\n",
       "      <td>Centre-Forward</td>\n",
       "      <td>26</td>\n",
       "      <td>6000000</td>\n",
       "      <td>Japan</td>\n",
       "      <td>Others</td>\n",
       "      <td>Kashiwa Reysol</td>\n",
       "      <td>Brazil</td>\n",
       "      <td>Others</td>\n",
       "      <td>Clube de Regatas Vasco da Gama</td>\n",
       "      <td>1000000</td>\n",
       "      <td>2022</td>\n",
       "      <td>Attack</td>\n",
       "    </tr>\n",
       "    <tr>\n",
       "      <th>2950</th>\n",
       "      <td>Daniel Wass</td>\n",
       "      <td>Right-Back</td>\n",
       "      <td>33</td>\n",
       "      <td>6000000</td>\n",
       "      <td>Spain</td>\n",
       "      <td>LaLiga</td>\n",
       "      <td>Atlético de Madrid</td>\n",
       "      <td>Denmark</td>\n",
       "      <td>Others</td>\n",
       "      <td>Bröndby IF</td>\n",
       "      <td>1000000</td>\n",
       "      <td>2022</td>\n",
       "      <td>Defense</td>\n",
       "    </tr>\n",
       "    <tr>\n",
       "      <th>2951</th>\n",
       "      <td>Amadou Diawara</td>\n",
       "      <td>Defensive Midfield</td>\n",
       "      <td>25</td>\n",
       "      <td>6000000</td>\n",
       "      <td>Italy</td>\n",
       "      <td>Serie A</td>\n",
       "      <td>AS Roma</td>\n",
       "      <td>Belgium</td>\n",
       "      <td>Others</td>\n",
       "      <td>RSC Anderlecht</td>\n",
       "      <td>1000000</td>\n",
       "      <td>2022</td>\n",
       "      <td>Midfield</td>\n",
       "    </tr>\n",
       "    <tr>\n",
       "      <th>2952</th>\n",
       "      <td>Marc Bartra</td>\n",
       "      <td>Centre-Back</td>\n",
       "      <td>31</td>\n",
       "      <td>6000000</td>\n",
       "      <td>Spain</td>\n",
       "      <td>LaLiga</td>\n",
       "      <td>Real Betis Balompié</td>\n",
       "      <td>Turkey</td>\n",
       "      <td>Others</td>\n",
       "      <td>Trabzonspor</td>\n",
       "      <td>1000000</td>\n",
       "      <td>2022</td>\n",
       "      <td>Defense</td>\n",
       "    </tr>\n",
       "    <tr>\n",
       "      <th>2953</th>\n",
       "      <td>Lorenzo Lucca</td>\n",
       "      <td>Centre-Forward</td>\n",
       "      <td>21</td>\n",
       "      <td>6000000</td>\n",
       "      <td>Italy</td>\n",
       "      <td>Others</td>\n",
       "      <td>Pisa Sporting Club</td>\n",
       "      <td>Netherlands</td>\n",
       "      <td>Others</td>\n",
       "      <td>Ajax Amsterdam</td>\n",
       "      <td>1000000</td>\n",
       "      <td>2022</td>\n",
       "      <td>Attack</td>\n",
       "    </tr>\n",
       "  </tbody>\n",
       "</table>\n",
       "<p>2954 rows × 13 columns</p>\n",
       "</div>"
      ],
      "text/plain": [
       "                   name            position  age market_value country_from  \\\n",
       "0         Kylian Mbappé      Centre-Forward   19    120000000       Monaco   \n",
       "1     Cristiano Ronaldo      Centre-Forward   33    100000000        Spain   \n",
       "2     Kepa Arrizabalaga          Goalkeeper   23     20000000        Spain   \n",
       "3          Thomas Lemar  Attacking Midfield   22     65000000       Monaco   \n",
       "4          Riyad Mahrez        Right Winger   27     50000000      England   \n",
       "...                 ...                 ...  ...          ...          ...   \n",
       "2949         Pedro Raul      Centre-Forward   26      6000000        Japan   \n",
       "2950        Daniel Wass          Right-Back   33      6000000        Spain   \n",
       "2951     Amadou Diawara  Defensive Midfield   25      6000000        Italy   \n",
       "2952        Marc Bartra         Centre-Back   31      6000000        Spain   \n",
       "2953      Lorenzo Lucca      Centre-Forward   21      6000000        Italy   \n",
       "\n",
       "         league_from            club_from   country_to       league_to  \\\n",
       "0            Ligue 1            AS Monaco       France         Ligue 1   \n",
       "1             LaLiga          Real Madrid        Italy         Serie A   \n",
       "2             LaLiga      Athletic Bilbao      England  Premier League   \n",
       "3            Ligue 1            AS Monaco        Spain          LaLiga   \n",
       "4     Premier League       Leicester City      England  Premier League   \n",
       "...              ...                  ...          ...             ...   \n",
       "2949          Others       Kashiwa Reysol       Brazil          Others   \n",
       "2950          LaLiga   Atlético de Madrid      Denmark          Others   \n",
       "2951         Serie A              AS Roma      Belgium          Others   \n",
       "2952          LaLiga  Real Betis Balompié       Turkey          Others   \n",
       "2953          Others   Pisa Sporting Club  Netherlands          Others   \n",
       "\n",
       "                             club_to        fee  year General_Position  \n",
       "0                Paris Saint-Germain  180000000  2018           Attack  \n",
       "1                        Juventus FC  117000000  2018           Attack  \n",
       "2                         Chelsea FC   80000000  2018       Goalkeeper  \n",
       "3                 Atlético de Madrid   72000000  2018         Midfield  \n",
       "4                    Manchester City   67000000  2018           Attack  \n",
       "...                              ...        ...   ...              ...  \n",
       "2949  Clube de Regatas Vasco da Gama    1000000  2022           Attack  \n",
       "2950                      Bröndby IF    1000000  2022          Defense  \n",
       "2951                  RSC Anderlecht    1000000  2022         Midfield  \n",
       "2952                     Trabzonspor    1000000  2022          Defense  \n",
       "2953                  Ajax Amsterdam    1000000  2022           Attack  \n",
       "\n",
       "[2954 rows x 13 columns]"
      ]
     },
     "execution_count": 350,
     "metadata": {},
     "output_type": "execute_result"
    }
   ],
   "source": [
    "df"
   ]
  },
  {
   "cell_type": "code",
   "execution_count": 351,
   "id": "a4b8708c",
   "metadata": {},
   "outputs": [],
   "source": [
    "# we create a new datafram that is just df but sorted for highest fee\n",
    "df_sorted=df.sort_values(by=['fee'], ascending=False)\n",
    "# we create a new dataset with only the first 30 rows of the former dataset, which are the 30 most paid players\n",
    "df_top=df_sorted.head(30)"
   ]
  },
  {
   "cell_type": "code",
   "execution_count": 352,
   "id": "fef82ccc",
   "metadata": {},
   "outputs": [],
   "source": [
    "#create a color dictionary for both leagues and players making match the colors\n",
    "league_color={\n",
    "    \"Bundesliga\": \"#ca0302\",\n",
    "    \"LaLiga\": \"#E16B19\",\n",
    "    \"Premier League\": \"#031b5e\",\n",
    "    \"Serie A\":'#25AA0A',\n",
    "    'Ligue 1':'#7e33c5'\n",
    "    }\n",
    "\n",
    "# add to the dataframe a column containing the color of the player according to the league in which he went\n",
    "for index,row in df_top.iterrows():\n",
    "    league=row['league_to']\n",
    "    color=league_color[league]\n",
    "    key=row['name']\n",
    "    league_color[key]=color"
   ]
  },
  {
   "cell_type": "code",
   "execution_count": 353,
   "id": "70a40c55",
   "metadata": {},
   "outputs": [
    {
     "data": {
      "image/png": "[encoded data removed]",
      "text/plain": [
       "<Figure size 600x600 with 1 Axes>"
      ]
     },
     "metadata": {},
     "output_type": "display_data"
    }
   ],
   "source": [
    "# here we plot the sankey graph showing in which league each of the top 30 players went\n",
    "sankey(df_top['league_to'], df_top[\"name\"], colorDict=league_color, fontsize=8)"
   ]
  },
  {
   "cell_type": "markdown",
   "id": "dca50e51",
   "metadata": {},
   "source": [
    "### Covid Effect - Interactive Chart\n",
    "\n",
    "In order to get covid drawbacks on the european market we decided to investigate two aspects: the first one is quite intuitive and it consists in looking at the total expenditures for league during the years; the second, instead, regards the zero fee transfers. The pandemic had huge consequences in terms of revenues.\n",
    "\n",
    "To do it we have implemented a dashboard featuring 2 different connected charts: a stacked bar chart representing the amount of money spent by year by each league, and a pie chart showing the ratio between players paid and taken at zero. The two graphs are connected through linking and brushing and selecting a bar of the barchart the pie chart will automatically show the ratio of the year of the bar selected."
   ]
  },
  {
   "cell_type": "code",
   "execution_count": 354,
   "id": "b6e9d474",
   "metadata": {},
   "outputs": [],
   "source": [
    "# here we import all the packages needed for the realisation of the dash \n",
    "import pandas as pd \n",
    "from dash import Dash, dcc, html\n",
    "from dash.dependencies import Input, Output\n",
    "import plotly.express as px\n",
    "import visdcc\n",
    "import plotly.graph_objects as go"
   ]
  },
  {
   "cell_type": "code",
   "execution_count": 397,
   "id": "d6674c6f",
   "metadata": {},
   "outputs": [
    {
     "name": "stdout",
     "output_type": "stream",
     "text": [
      "Dash is running on http://127.0.0.1:127/\n",
      "\n",
      " * Serving Flask app \"__main__\" (lazy loading)\n",
      " * Environment: production\n",
      "\u001b[31m   WARNING: This is a development server. Do not use it in a production deployment.\u001b[0m\n",
      "\u001b[2m   Use a production WSGI server instead.\u001b[0m\n",
      " * Debug mode: off\n"
     ]
    },
    {
     "name": "stderr",
     "output_type": "stream",
     "text": [
      " * Running on http://127.0.0.1:127/ (Press CTRL+C to quit)\n",
      "127.0.0.1 - - [06/May/2023 16:16:34] \"GET / HTTP/1.1\" 200 -\n",
      "127.0.0.1 - - [06/May/2023 16:16:35] \"GET /_dash-layout HTTP/1.1\" 200 -\n",
      "127.0.0.1 - - [06/May/2023 16:16:35] \"GET /_dash-dependencies HTTP/1.1\" 200 -\n",
      "127.0.0.1 - - [06/May/2023 16:16:35] \"GET /_favicon.ico?v=2.9.2 HTTP/1.1\" 200 -\n",
      "127.0.0.1 - - [06/May/2023 16:16:35] \"GET /_dash-component-suites/dash/dcc/async-graph.js HTTP/1.1\" 200 -\n",
      "127.0.0.1 - - [06/May/2023 16:16:35] \"GET /_dash-component-suites/dash/dcc/async-plotlyjs.js HTTP/1.1\" 200 -\n",
      "127.0.0.1 - - [06/May/2023 16:16:35] \"POST /_dash-update-component HTTP/1.1\" 200 -\n",
      "127.0.0.1 - - [06/May/2023 16:16:35] \"POST /_dash-update-component HTTP/1.1\" 200 -\n",
      "127.0.0.1 - - [06/May/2023 16:16:35] \"POST /_dash-update-component HTTP/1.1\" 200 -\n"
     ]
    }
   ],
   "source": [
    "# we initialize the dash\n",
    "app = Dash(__name__)\n",
    "\n",
    "# DATA PROCESSING\n",
    "\n",
    "# first we create a new dataframe that groups the orignal dataset for league and year and we\n",
    "# calculate the total expenditures made by each league.\n",
    "league_year=df.groupby(['league_to', 'year'], as_index=False)['fee'].sum()\n",
    "\n",
    "# Then, we create a dataset for each of the leagues we have plus one for the 'Others'\n",
    "premier=league_year[league_year['league_to']==\"Premier League\"]\n",
    "serieA=league_year[league_year['league_to']==\"Serie A\"]\n",
    "bundesliga=league_year[league_year['league_to']==\"Bundesliga\"]\n",
    "laliga=league_year[league_year['league_to']==\"LaLiga\"]\n",
    "ligue1=league_year[league_year['league_to']==\"Ligue 1\"]\n",
    "others=league_year[league_year['league_to']==\"Others\"]\n",
    "\n",
    "################################################################################################################################\n",
    "\n",
    "# DASH LAYOUT \n",
    "\n",
    "# Here we create the layout to show the charts on the dashboard\n",
    "\n",
    "# the layout foresees one row with two different columns, in one will be shown te barchart and in the other the pie chart.\n",
    "app.layout = html.Div(className='row',style={'display': 'flex',  'fontSize': 14}, children=[\n",
    "        html.Div([\n",
    "        dcc.Graph(id = 'bar_plot')\n",
    "        ],  style={'width':'100%'},\n",
    "        className='two columns'),\n",
    "        html.Div([\n",
    "        dcc.Graph(id = 'pie_chart')],style={'width':'100%'},className='two columns')])\n",
    "\n",
    "################################################################################################################################\n",
    "\n",
    "# CALLBACKS\n",
    "\n",
    "# In the first callback we create function to create the barchart\n",
    "    \n",
    "@app.callback(Output(component_id='bar_plot', component_property= 'figure'),\n",
    "             Input(component_id='bar_plot', component_property='selectedData'))\n",
    "\n",
    "def graph_update(selectedData):\n",
    "    fig_stacked_bar = go.Figure(data= [go.Bar(name='Premier League',x=premier[\"year\"], y=premier[\"fee\"], marker_color='#031b5e'),\n",
    "                      go.Bar(name='Serie A',x=serieA[\"year\"], y=serieA[\"fee\"], marker_color='#25AA0A'),\n",
    "                      go.Bar(name='Bundesliga',x=bundesliga[\"year\"], y=bundesliga[\"fee\"], marker_color='#ca0302'),\n",
    "                      go.Bar(name='LaLiga',x=laliga[\"year\"], y=laliga[\"fee\"], marker_color='#E16B19'),\n",
    "                      go.Bar(name='Ligue 1',x=ligue1[\"year\"], y=ligue1[\"fee\"], marker_color='#7e33c5'),\n",
    "                      go.Bar(name='Others',x=others[\"year\"], y=others[\"fee\"], marker_color='lightgrey')])\n",
    "\n",
    "    fig_stacked_bar.update_layout(barmode='stack')\n",
    "    \n",
    "\n",
    "    return fig_stacked_bar\n",
    "\n",
    "# In the second callback we create the function to create the pie chart\n",
    "@app.callback(\n",
    "    Output(component_id='pie_chart', component_property='figure'),\n",
    "    Input(component_id='bar_plot', component_property='hoverData'),\n",
    "    Input(component_id='bar_plot', component_property='clickData'),\n",
    "    Input(component_id='bar_plot', component_property='selectedData'))\n",
    "\n",
    "def update_side_graph(hov_data, clk_data, slct_data):\n",
    "    \n",
    "    if clk_data is None:\n",
    "        # we set the value shown when nothing is clicked\n",
    "        fig_pie=px.pie(values=[760,2974], names=['zero', 'non-zero'], title='Percentage of zero transfers', \n",
    "                       color_discrete_map = 'viridis')\n",
    "        # we specify the features that must be shown when hoovering on the different parts of the pie chart\n",
    "        fig_pie.update_traces(hoverinfo = 'label+percent', textfont_size = 20,\n",
    "                  textinfo = 'label+percent', pull = [0.1, 0, 0.2, 0, 0, 0])\n",
    "\n",
    "        return fig_pie\n",
    "    \n",
    "    else:\n",
    "        # here instead what happens when a bar is selected\n",
    "        \n",
    "        #print(clk_data['points'][0]['x'])\n",
    "        #print(clk_data)\n",
    "        # print(f'click data: {clk_data}')\n",
    "        # print(f'selected data: {slct_data}')\n",
    "        \n",
    "        year=clk_data['points'][0]['x']\n",
    "        \n",
    "        df2=df[df['year']==year]\n",
    "        tot=len(df2)\n",
    "        zero=len(df2[df2['fee']==0])\n",
    "        \n",
    "        fig_pie=px.pie(values=[zero,tot-zero], names=['zero', 'non-zero'], title=f'Percentage of zero transfers in {year}', \n",
    "                       color_discrete_map = 'viridis')\n",
    "\n",
    "        fig_pie.update_traces(hoverinfo = 'label+percent', textfont_size = 20,\n",
    "                  textinfo = 'label+percent', pull = [0.1, 0, 0.2, 0, 0, 0])\n",
    "\n",
    "\n",
    "        return fig_pie\n",
    "\n",
    "\n",
    "if __name__ == '__main__': \n",
    "    app.run_server(port=127)"
   ]
  },
  {
   "cell_type": "markdown",
   "id": "88a9509b",
   "metadata": {},
   "source": [
    "### Premier League interactions"
   ]
  },
  {
   "cell_type": "markdown",
   "id": "abde7073",
   "metadata": {},
   "source": [
    "In the next part we wanted to deepen our study through network analyses and map visualizations. \n",
    "\n",
    "The first visualization is a cloropleth map, which through colors manages to clearly show from where the clubs of Premier League buy their players. The color gradient is associated, in fact, to the number of players that Premier League bought from each of the colored countries. The grey ones did not sell any players to Premier Leagues during the time frame 2018 to 2022.\n",
    "We thought also about doing a flow map instead of this, however it would have been less understandable how many transfers would have been from the Premier League towards the Premier League. Through cloropleth graph this instead is very clear."
   ]
  },
  {
   "cell_type": "code",
   "execution_count": 383,
   "id": "5fe58a6a",
   "metadata": {},
   "outputs": [],
   "source": [
    "import pycountry\n",
    "\n",
    "# we create a dictionary where we will store the new rows of the datasets that will be updated with more values we \n",
    "# will create in the next lines \n",
    "d={}\n",
    "\n",
    "# we create an empty dictionary that will be populated with all countries name codified according to alpha_3 type.\n",
    "# this is necessary because later we will use this code to match the name of the countries in our dataset with the\n",
    "# ones of the library that will localise them on the map\n",
    "countries = {}\n",
    "\n",
    "# we iterate for each country in the pycountry library to populate the dictionary\n",
    "for country in pycountry.countries:\n",
    "    countries[country.name] = country.alpha_3\n",
    "\n",
    "# for each row of our dataset \n",
    "for index,row in df.iterrows():\n",
    "    # we extract the value of country_to of the row and we assign it to this temporary variable\n",
    "    country_to=row['country_to']\n",
    "    # we assign the alpha_3 code of the country to the country of each specific row\n",
    "    # Since in our dataset UK is codified as 'England' and in the library it UK codified as 'United Kingdom' we set that\n",
    "    # if there is no match for the name of the country it automatically assigned'GBR'. This is becuse all the other names\n",
    "    # of the country matches and therefore, the only optios is that the player belong to UK.\n",
    "    code_to = countries.get(country_to ,'GBR')\n",
    "    # we add a new column per each row containing the alpha_3 name of the country\n",
    "    row['code_to']=code_to\n",
    "    # we do the same process for country_from \n",
    "    country_from=row['country_from']\n",
    "    code_from = countries.get(country_from ,'GBR')\n",
    "    row['code_from']=code_from\n",
    "    # we populate d to later convert it in the dataset for the chart\n",
    "    d[index]=row\n",
    "\n",
    "# we convert the dictioary in a dataframe \n",
    "df=pd.DataFrame.from_dict(d, orient='index')\n",
    "# we isolate for the players that goes in Premier League\n",
    "premier_league = df[df['league_to']=='Premier League']\n",
    "# we create a dataframe grouped by the code of the country and which counts the number of players going in Premier League\n",
    "color_map=df.groupby(['code_from'])['age'].count().reset_index(name=\"count\")\n"
   ]
  },
  {
   "cell_type": "code",
   "execution_count": 394,
   "id": "23f2abec",
   "metadata": {},
   "outputs": [
    {
     "data": {
      "application/vnd.plotly.v1+json": {
       "config": {
        "plotlyServerURL": "https://plot.ly"
       },
       "data": [
        {
         "coloraxis": "coloraxis",
         "geo": "geo",
         "hovertemplate": "code_from=%{location}<br>count=%{z}<extra></extra>",
         "locations": [
          "ARE",
          "ARG",
          "AUT",
          "BEL",
          "BRA",
          "CAN",
          "CHE",
          "CHN",
          "COL",
          "DEU",
          "DNK",
          "ECU",
          "EGY",
          "ESP",
          "FRA",
          "GBR",
          "GEO",
          "GRC",
          "HRV",
          "ISR",
          "ITA",
          "JPN",
          "MAR",
          "MCO",
          "MEX",
          "NLD",
          "NOR",
          "PER",
          "POL",
          "PRT",
          "PRY",
          "QAT",
          "ROU",
          "SAU",
          "SRB",
          "SVK",
          "SWE",
          "TUR",
          "UKR",
          "URY",
          "USA"
         ],
         "name": "",
         "type": "choropleth",
         "z": [
          2,
          63,
          29,
          76,
          102,
          7,
          25,
          25,
          6,
          272,
          25,
          1,
          3,
          331,
          303,
          734,
          1,
          13,
          17,
          2,
          474,
          3,
          1,
          47,
          50,
          77,
          5,
          1,
          7,
          130,
          2,
          5,
          4,
          9,
          4,
          1,
          3,
          37,
          20,
          10,
          27
         ]
        }
       ],
       "layout": {
        "autosize": true,
        "coloraxis": {
         "colorbar": {
          "title": {
           "text": "count"
          }
         },
         "colorscale": [
          [
           0,
           "#f0f921"
          ],
          [
           0.1111111111111111,
           "#fdca26"
          ],
          [
           0.2222222222222222,
           "#fb9f3a"
          ],
          [
           0.3333333333333333,
           "#ed7953"
          ],
          [
           0.4444444444444444,
           "#d8576b"
          ],
          [
           0.5555555555555556,
           "#bd3786"
          ],
          [
           0.6666666666666666,
           "#9c179e"
          ],
          [
           0.7777777777777778,
           "#7201a8"
          ],
          [
           0.8888888888888888,
           "#46039f"
          ],
          [
           1,
           "#0d0887"
          ]
         ]
        },
        "geo": {
         "center": {},
         "domain": {
          "x": [
           0,
           1
          ],
          "y": [
           0,
           1
          ]
         }
        },
        "legend": {
         "tracegroupgap": 0
        },
        "margin": {
         "b": 0,
         "l": 0,
         "r": 0,
         "t": 0
        },
        "showlegend": false,
        "template": {
         "data": {
          "bar": [
           {
            "error_x": {
             "color": "#2a3f5f"
            },
            "error_y": {
             "color": "#2a3f5f"
            },
            "marker": {
             "line": {
              "color": "#E5ECF6",
              "width": 0.5
             },
             "pattern": {
              "fillmode": "overlay",
              "size": 10,
              "solidity": 0.2
             }
            },
            "type": "bar"
           }
          ],
          "barpolar": [
           {
            "marker": {
             "line": {
              "color": "#E5ECF6",
              "width": 0.5
             },
             "pattern": {
              "fillmode": "overlay",
              "size": 10,
              "solidity": 0.2
             }
            },
            "type": "barpolar"
           }
          ],
          "carpet": [
           {
            "aaxis": {
             "endlinecolor": "#2a3f5f",
             "gridcolor": "white",
             "linecolor": "white",
             "minorgridcolor": "white",
             "startlinecolor": "#2a3f5f"
            },
            "baxis": {
             "endlinecolor": "#2a3f5f",
             "gridcolor": "white",
             "linecolor": "white",
             "minorgridcolor": "white",
             "startlinecolor": "#2a3f5f"
            },
            "type": "carpet"
           }
          ],
          "choropleth": [
           {
            "colorbar": {
             "outlinewidth": 0,
             "ticks": ""
            },
            "type": "choropleth"
           }
          ],
          "contour": [
           {
            "colorbar": {
             "outlinewidth": 0,
             "ticks": ""
            },
            "colorscale": [
             [
              0,
              "#0d0887"
             ],
             [
              0.1111111111111111,
              "#46039f"
             ],
             [
              0.2222222222222222,
              "#7201a8"
             ],
             [
              0.3333333333333333,
              "#9c179e"
             ],
             [
              0.4444444444444444,
              "#bd3786"
             ],
             [
              0.5555555555555556,
              "#d8576b"
             ],
             [
              0.6666666666666666,
              "#ed7953"
             ],
             [
              0.7777777777777778,
              "#fb9f3a"
             ],
             [
              0.8888888888888888,
              "#fdca26"
             ],
             [
              1,
              "#f0f921"
             ]
            ],
            "type": "contour"
           }
          ],
          "contourcarpet": [
           {
            "colorbar": {
             "outlinewidth": 0,
             "ticks": ""
            },
            "type": "contourcarpet"
           }
          ],
          "heatmap": [
           {
            "colorbar": {
             "outlinewidth": 0,
             "ticks": ""
            },
            "colorscale": [
             [
              0,
              "#0d0887"
             ],
             [
              0.1111111111111111,
              "#46039f"
             ],
             [
              0.2222222222222222,
              "#7201a8"
             ],
             [
              0.3333333333333333,
              "#9c179e"
             ],
             [
              0.4444444444444444,
              "#bd3786"
             ],
             [
              0.5555555555555556,
              "#d8576b"
             ],
             [
              0.6666666666666666,
              "#ed7953"
             ],
             [
              0.7777777777777778,
              "#fb9f3a"
             ],
             [
              0.8888888888888888,
              "#fdca26"
             ],
             [
              1,
              "#f0f921"
             ]
            ],
            "type": "heatmap"
           }
          ],
          "heatmapgl": [
           {
            "colorbar": {
             "outlinewidth": 0,
             "ticks": ""
            },
            "colorscale": [
             [
              0,
              "#0d0887"
             ],
             [
              0.1111111111111111,
              "#46039f"
             ],
             [
              0.2222222222222222,
              "#7201a8"
             ],
             [
              0.3333333333333333,
              "#9c179e"
             ],
             [
              0.4444444444444444,
              "#bd3786"
             ],
             [
              0.5555555555555556,
              "#d8576b"
             ],
             [
              0.6666666666666666,
              "#ed7953"
             ],
             [
              0.7777777777777778,
              "#fb9f3a"
             ],
             [
              0.8888888888888888,
              "#fdca26"
             ],
             [
              1,
              "#f0f921"
             ]
            ],
            "type": "heatmapgl"
           }
          ],
          "histogram": [
           {
            "marker": {
             "pattern": {
              "fillmode": "overlay",
              "size": 10,
              "solidity": 0.2
             }
            },
            "type": "histogram"
           }
          ],
          "histogram2d": [
           {
            "colorbar": {
             "outlinewidth": 0,
             "ticks": ""
            },
            "colorscale": [
             [
              0,
              "#0d0887"
             ],
             [
              0.1111111111111111,
              "#46039f"
             ],
             [
              0.2222222222222222,
              "#7201a8"
             ],
             [
              0.3333333333333333,
              "#9c179e"
             ],
             [
              0.4444444444444444,
              "#bd3786"
             ],
             [
              0.5555555555555556,
              "#d8576b"
             ],
             [
              0.6666666666666666,
              "#ed7953"
             ],
             [
              0.7777777777777778,
              "#fb9f3a"
             ],
             [
              0.8888888888888888,
              "#fdca26"
             ],
             [
              1,
              "#f0f921"
             ]
            ],
            "type": "histogram2d"
           }
          ],
          "histogram2dcontour": [
           {
            "colorbar": {
             "outlinewidth": 0,
             "ticks": ""
            },
            "colorscale": [
             [
              0,
              "#0d0887"
             ],
             [
              0.1111111111111111,
              "#46039f"
             ],
             [
              0.2222222222222222,
              "#7201a8"
             ],
             [
              0.3333333333333333,
              "#9c179e"
             ],
             [
              0.4444444444444444,
              "#bd3786"
             ],
             [
              0.5555555555555556,
              "#d8576b"
             ],
             [
              0.6666666666666666,
              "#ed7953"
             ],
             [
              0.7777777777777778,
              "#fb9f3a"
             ],
             [
              0.8888888888888888,
              "#fdca26"
             ],
             [
              1,
              "#f0f921"
             ]
            ],
            "type": "histogram2dcontour"
           }
          ],
          "mesh3d": [
           {
            "colorbar": {
             "outlinewidth": 0,
             "ticks": ""
            },
            "type": "mesh3d"
           }
          ],
          "parcoords": [
           {
            "line": {
             "colorbar": {
              "outlinewidth": 0,
              "ticks": ""
             }
            },
            "type": "parcoords"
           }
          ],
          "pie": [
           {
            "automargin": true,
            "type": "pie"
           }
          ],
          "scatter": [
           {
            "fillpattern": {
             "fillmode": "overlay",
             "size": 10,
             "solidity": 0.2
            },
            "type": "scatter"
           }
          ],
          "scatter3d": [
           {
            "line": {
             "colorbar": {
              "outlinewidth": 0,
              "ticks": ""
             }
            },
            "marker": {
             "colorbar": {
              "outlinewidth": 0,
              "ticks": ""
             }
            },
            "type": "scatter3d"
           }
          ],
          "scattercarpet": [
           {
            "marker": {
             "colorbar": {
              "outlinewidth": 0,
              "ticks": ""
             }
            },
            "type": "scattercarpet"
           }
          ],
          "scattergeo": [
           {
            "marker": {
             "colorbar": {
              "outlinewidth": 0,
              "ticks": ""
             }
            },
            "type": "scattergeo"
           }
          ],
          "scattergl": [
           {
            "marker": {
             "colorbar": {
              "outlinewidth": 0,
              "ticks": ""
             }
            },
            "type": "scattergl"
           }
          ],
          "scattermapbox": [
           {
            "marker": {
             "colorbar": {
              "outlinewidth": 0,
              "ticks": ""
             }
            },
            "type": "scattermapbox"
           }
          ],
          "scatterpolar": [
           {
            "marker": {
             "colorbar": {
              "outlinewidth": 0,
              "ticks": ""
             }
            },
            "type": "scatterpolar"
           }
          ],
          "scatterpolargl": [
           {
            "marker": {
             "colorbar": {
              "outlinewidth": 0,
              "ticks": ""
             }
            },
            "type": "scatterpolargl"
           }
          ],
          "scatterternary": [
           {
            "marker": {
             "colorbar": {
              "outlinewidth": 0,
              "ticks": ""
             }
            },
            "type": "scatterternary"
           }
          ],
          "surface": [
           {
            "colorbar": {
             "outlinewidth": 0,
             "ticks": ""
            },
            "colorscale": [
             [
              0,
              "#0d0887"
             ],
             [
              0.1111111111111111,
              "#46039f"
             ],
             [
              0.2222222222222222,
              "#7201a8"
             ],
             [
              0.3333333333333333,
              "#9c179e"
             ],
             [
              0.4444444444444444,
              "#bd3786"
             ],
             [
              0.5555555555555556,
              "#d8576b"
             ],
             [
              0.6666666666666666,
              "#ed7953"
             ],
             [
              0.7777777777777778,
              "#fb9f3a"
             ],
             [
              0.8888888888888888,
              "#fdca26"
             ],
             [
              1,
              "#f0f921"
             ]
            ],
            "type": "surface"
           }
          ],
          "table": [
           {
            "cells": {
             "fill": {
              "color": "#EBF0F8"
             },
             "line": {
              "color": "white"
             }
            },
            "header": {
             "fill": {
              "color": "#C8D4E3"
             },
             "line": {
              "color": "white"
             }
            },
            "type": "table"
           }
          ]
         },
         "layout": {
          "annotationdefaults": {
           "arrowcolor": "#2a3f5f",
           "arrowhead": 0,
           "arrowwidth": 1
          },
          "autotypenumbers": "strict",
          "coloraxis": {
           "colorbar": {
            "outlinewidth": 0,
            "ticks": ""
           }
          },
          "colorscale": {
           "diverging": [
            [
             0,
             "#8e0152"
            ],
            [
             0.1,
             "#c51b7d"
            ],
            [
             0.2,
             "#de77ae"
            ],
            [
             0.3,
             "#f1b6da"
            ],
            [
             0.4,
             "#fde0ef"
            ],
            [
             0.5,
             "#f7f7f7"
            ],
            [
             0.6,
             "#e6f5d0"
            ],
            [
             0.7,
             "#b8e186"
            ],
            [
             0.8,
             "#7fbc41"
            ],
            [
             0.9,
             "#4d9221"
            ],
            [
             1,
             "#276419"
            ]
           ],
           "sequential": [
            [
             0,
             "#0d0887"
            ],
            [
             0.1111111111111111,
             "#46039f"
            ],
            [
             0.2222222222222222,
             "#7201a8"
            ],
            [
             0.3333333333333333,
             "#9c179e"
            ],
            [
             0.4444444444444444,
             "#bd3786"
            ],
            [
             0.5555555555555556,
             "#d8576b"
            ],
            [
             0.6666666666666666,
             "#ed7953"
            ],
            [
             0.7777777777777778,
             "#fb9f3a"
            ],
            [
             0.8888888888888888,
             "#fdca26"
            ],
            [
             1,
             "#f0f921"
            ]
           ],
           "sequentialminus": [
            [
             0,
             "#0d0887"
            ],
            [
             0.1111111111111111,
             "#46039f"
            ],
            [
             0.2222222222222222,
             "#7201a8"
            ],
            [
             0.3333333333333333,
             "#9c179e"
            ],
            [
             0.4444444444444444,
             "#bd3786"
            ],
            [
             0.5555555555555556,
             "#d8576b"
            ],
            [
             0.6666666666666666,
             "#ed7953"
            ],
            [
             0.7777777777777778,
             "#fb9f3a"
            ],
            [
             0.8888888888888888,
             "#fdca26"
            ],
            [
             1,
             "#f0f921"
            ]
           ]
          },
          "colorway": [
           "#636efa",
           "#EF553B",
           "#00cc96",
           "#ab63fa",
           "#FFA15A",
           "#19d3f3",
           "#FF6692",
           "#B6E880",
           "#FF97FF",
           "#FECB52"
          ],
          "font": {
           "color": "#2a3f5f"
          },
          "geo": {
           "bgcolor": "white",
           "lakecolor": "white",
           "landcolor": "#E5ECF6",
           "showlakes": true,
           "showland": true,
           "subunitcolor": "white"
          },
          "hoverlabel": {
           "align": "left"
          },
          "hovermode": "closest",
          "mapbox": {
           "style": "light"
          },
          "paper_bgcolor": "white",
          "plot_bgcolor": "#E5ECF6",
          "polar": {
           "angularaxis": {
            "gridcolor": "white",
            "linecolor": "white",
            "ticks": ""
           },
           "bgcolor": "#E5ECF6",
           "radialaxis": {
            "gridcolor": "white",
            "linecolor": "white",
            "ticks": ""
           }
          },
          "scene": {
           "xaxis": {
            "backgroundcolor": "#E5ECF6",
            "gridcolor": "white",
            "gridwidth": 2,
            "linecolor": "white",
            "showbackground": true,
            "ticks": "",
            "zerolinecolor": "white"
           },
           "yaxis": {
            "backgroundcolor": "#E5ECF6",
            "gridcolor": "white",
            "gridwidth": 2,
            "linecolor": "white",
            "showbackground": true,
            "ticks": "",
            "zerolinecolor": "white"
           },
           "zaxis": {
            "backgroundcolor": "#E5ECF6",
            "gridcolor": "white",
            "gridwidth": 2,
            "linecolor": "white",
            "showbackground": true,
            "ticks": "",
            "zerolinecolor": "white"
           }
          },
          "shapedefaults": {
           "line": {
            "color": "#2a3f5f"
           }
          },
          "ternary": {
           "aaxis": {
            "gridcolor": "white",
            "linecolor": "white",
            "ticks": ""
           },
           "baxis": {
            "gridcolor": "white",
            "linecolor": "white",
            "ticks": ""
           },
           "bgcolor": "#E5ECF6",
           "caxis": {
            "gridcolor": "white",
            "linecolor": "white",
            "ticks": ""
           }
          },
          "title": {
           "x": 0.05
          },
          "xaxis": {
           "automargin": true,
           "gridcolor": "white",
           "linecolor": "white",
           "ticks": "",
           "title": {
            "standoff": 15
           },
           "zerolinecolor": "white",
           "zerolinewidth": 2
          },
          "yaxis": {
           "automargin": true,
           "gridcolor": "white",
           "linecolor": "white",
           "ticks": "",
           "title": {
            "standoff": 15
           },
           "zerolinecolor": "white",
           "zerolinewidth": 2
          }
         }
        }
       }
      },
      "text/html": [
       "<div>                            <div id=\"ad6d9165-9eac-4b8f-82cd-cb07eaa82c14\" class=\"plotly-graph-div\" style=\"height:525px; width:100%;\"></div>            <script type=\"text/javascript\">                require([\"plotly\"], function(Plotly) {                    window.PLOTLYENV=window.PLOTLYENV || {};                                    if (document.getElementById(\"ad6d9165-9eac-4b8f-82cd-cb07eaa82c14\")) {                    Plotly.newPlot(                        \"ad6d9165-9eac-4b8f-82cd-cb07eaa82c14\",                        [{\"coloraxis\":\"coloraxis\",\"geo\":\"geo\",\"hovertemplate\":\"code_from=%{location}<br>count=%{z}<extra></extra>\",\"locations\":[\"ARE\",\"ARG\",\"AUT\",\"BEL\",\"BRA\",\"CAN\",\"CHE\",\"CHN\",\"COL\",\"DEU\",\"DNK\",\"ECU\",\"EGY\",\"ESP\",\"FRA\",\"GBR\",\"GEO\",\"GRC\",\"HRV\",\"ISR\",\"ITA\",\"JPN\",\"MAR\",\"MCO\",\"MEX\",\"NLD\",\"NOR\",\"PER\",\"POL\",\"PRT\",\"PRY\",\"QAT\",\"ROU\",\"SAU\",\"SRB\",\"SVK\",\"SWE\",\"TUR\",\"UKR\",\"URY\",\"USA\"],\"name\":\"\",\"z\":[2,63,29,76,102,7,25,25,6,272,25,1,3,331,303,734,1,13,17,2,474,3,1,47,50,77,5,1,7,130,2,5,4,9,4,1,3,37,20,10,27],\"type\":\"choropleth\"}],                        {\"template\":{\"data\":{\"histogram2dcontour\":[{\"type\":\"histogram2dcontour\",\"colorbar\":{\"outlinewidth\":0,\"ticks\":\"\"},\"colorscale\":[[0.0,\"#0d0887\"],[0.1111111111111111,\"#46039f\"],[0.2222222222222222,\"#7201a8\"],[0.3333333333333333,\"#9c179e\"],[0.4444444444444444,\"#bd3786\"],[0.5555555555555556,\"#d8576b\"],[0.6666666666666666,\"#ed7953\"],[0.7777777777777778,\"#fb9f3a\"],[0.8888888888888888,\"#fdca26\"],[1.0,\"#f0f921\"]]}],\"choropleth\":[{\"type\":\"choropleth\",\"colorbar\":{\"outlinewidth\":0,\"ticks\":\"\"}}],\"histogram2d\":[{\"type\":\"histogram2d\",\"colorbar\":{\"outlinewidth\":0,\"ticks\":\"\"},\"colorscale\":[[0.0,\"#0d0887\"],[0.1111111111111111,\"#46039f\"],[0.2222222222222222,\"#7201a8\"],[0.3333333333333333,\"#9c179e\"],[0.4444444444444444,\"#bd3786\"],[0.5555555555555556,\"#d8576b\"],[0.6666666666666666,\"#ed7953\"],[0.7777777777777778,\"#fb9f3a\"],[0.8888888888888888,\"#fdca26\"],[1.0,\"#f0f921\"]]}],\"heatmap\":[{\"type\":\"heatmap\",\"colorbar\":{\"outlinewidth\":0,\"ticks\":\"\"},\"colorscale\":[[0.0,\"#0d0887\"],[0.1111111111111111,\"#46039f\"],[0.2222222222222222,\"#7201a8\"],[0.3333333333333333,\"#9c179e\"],[0.4444444444444444,\"#bd3786\"],[0.5555555555555556,\"#d8576b\"],[0.6666666666666666,\"#ed7953\"],[0.7777777777777778,\"#fb9f3a\"],[0.8888888888888888,\"#fdca26\"],[1.0,\"#f0f921\"]]}],\"heatmapgl\":[{\"type\":\"heatmapgl\",\"colorbar\":{\"outlinewidth\":0,\"ticks\":\"\"},\"colorscale\":[[0.0,\"#0d0887\"],[0.1111111111111111,\"#46039f\"],[0.2222222222222222,\"#7201a8\"],[0.3333333333333333,\"#9c179e\"],[0.4444444444444444,\"#bd3786\"],[0.5555555555555556,\"#d8576b\"],[0.6666666666666666,\"#ed7953\"],[0.7777777777777778,\"#fb9f3a\"],[0.8888888888888888,\"#fdca26\"],[1.0,\"#f0f921\"]]}],\"contourcarpet\":[{\"type\":\"contourcarpet\",\"colorbar\":{\"outlinewidth\":0,\"ticks\":\"\"}}],\"contour\":[{\"type\":\"contour\",\"colorbar\":{\"outlinewidth\":0,\"ticks\":\"\"},\"colorscale\":[[0.0,\"#0d0887\"],[0.1111111111111111,\"#46039f\"],[0.2222222222222222,\"#7201a8\"],[0.3333333333333333,\"#9c179e\"],[0.4444444444444444,\"#bd3786\"],[0.5555555555555556,\"#d8576b\"],[0.6666666666666666,\"#ed7953\"],[0.7777777777777778,\"#fb9f3a\"],[0.8888888888888888,\"#fdca26\"],[1.0,\"#f0f921\"]]}],\"surface\":[{\"type\":\"surface\",\"colorbar\":{\"outlinewidth\":0,\"ticks\":\"\"},\"colorscale\":[[0.0,\"#0d0887\"],[0.1111111111111111,\"#46039f\"],[0.2222222222222222,\"#7201a8\"],[0.3333333333333333,\"#9c179e\"],[0.4444444444444444,\"#bd3786\"],[0.5555555555555556,\"#d8576b\"],[0.6666666666666666,\"#ed7953\"],[0.7777777777777778,\"#fb9f3a\"],[0.8888888888888888,\"#fdca26\"],[1.0,\"#f0f921\"]]}],\"mesh3d\":[{\"type\":\"mesh3d\",\"colorbar\":{\"outlinewidth\":0,\"ticks\":\"\"}}],\"scatter\":[{\"fillpattern\":{\"fillmode\":\"overlay\",\"size\":10,\"solidity\":0.2},\"type\":\"scatter\"}],\"parcoords\":[{\"type\":\"parcoords\",\"line\":{\"colorbar\":{\"outlinewidth\":0,\"ticks\":\"\"}}}],\"scatterpolargl\":[{\"type\":\"scatterpolargl\",\"marker\":{\"colorbar\":{\"outlinewidth\":0,\"ticks\":\"\"}}}],\"bar\":[{\"error_x\":{\"color\":\"#2a3f5f\"},\"error_y\":{\"color\":\"#2a3f5f\"},\"marker\":{\"line\":{\"color\":\"#E5ECF6\",\"width\":0.5},\"pattern\":{\"fillmode\":\"overlay\",\"size\":10,\"solidity\":0.2}},\"type\":\"bar\"}],\"scattergeo\":[{\"type\":\"scattergeo\",\"marker\":{\"colorbar\":{\"outlinewidth\":0,\"ticks\":\"\"}}}],\"scatterpolar\":[{\"type\":\"scatterpolar\",\"marker\":{\"colorbar\":{\"outlinewidth\":0,\"ticks\":\"\"}}}],\"histogram\":[{\"marker\":{\"pattern\":{\"fillmode\":\"overlay\",\"size\":10,\"solidity\":0.2}},\"type\":\"histogram\"}],\"scattergl\":[{\"type\":\"scattergl\",\"marker\":{\"colorbar\":{\"outlinewidth\":0,\"ticks\":\"\"}}}],\"scatter3d\":[{\"type\":\"scatter3d\",\"line\":{\"colorbar\":{\"outlinewidth\":0,\"ticks\":\"\"}},\"marker\":{\"colorbar\":{\"outlinewidth\":0,\"ticks\":\"\"}}}],\"scattermapbox\":[{\"type\":\"scattermapbox\",\"marker\":{\"colorbar\":{\"outlinewidth\":0,\"ticks\":\"\"}}}],\"scatterternary\":[{\"type\":\"scatterternary\",\"marker\":{\"colorbar\":{\"outlinewidth\":0,\"ticks\":\"\"}}}],\"scattercarpet\":[{\"type\":\"scattercarpet\",\"marker\":{\"colorbar\":{\"outlinewidth\":0,\"ticks\":\"\"}}}],\"carpet\":[{\"aaxis\":{\"endlinecolor\":\"#2a3f5f\",\"gridcolor\":\"white\",\"linecolor\":\"white\",\"minorgridcolor\":\"white\",\"startlinecolor\":\"#2a3f5f\"},\"baxis\":{\"endlinecolor\":\"#2a3f5f\",\"gridcolor\":\"white\",\"linecolor\":\"white\",\"minorgridcolor\":\"white\",\"startlinecolor\":\"#2a3f5f\"},\"type\":\"carpet\"}],\"table\":[{\"cells\":{\"fill\":{\"color\":\"#EBF0F8\"},\"line\":{\"color\":\"white\"}},\"header\":{\"fill\":{\"color\":\"#C8D4E3\"},\"line\":{\"color\":\"white\"}},\"type\":\"table\"}],\"barpolar\":[{\"marker\":{\"line\":{\"color\":\"#E5ECF6\",\"width\":0.5},\"pattern\":{\"fillmode\":\"overlay\",\"size\":10,\"solidity\":0.2}},\"type\":\"barpolar\"}],\"pie\":[{\"automargin\":true,\"type\":\"pie\"}]},\"layout\":{\"autotypenumbers\":\"strict\",\"colorway\":[\"#636efa\",\"#EF553B\",\"#00cc96\",\"#ab63fa\",\"#FFA15A\",\"#19d3f3\",\"#FF6692\",\"#B6E880\",\"#FF97FF\",\"#FECB52\"],\"font\":{\"color\":\"#2a3f5f\"},\"hovermode\":\"closest\",\"hoverlabel\":{\"align\":\"left\"},\"paper_bgcolor\":\"white\",\"plot_bgcolor\":\"#E5ECF6\",\"polar\":{\"bgcolor\":\"#E5ECF6\",\"angularaxis\":{\"gridcolor\":\"white\",\"linecolor\":\"white\",\"ticks\":\"\"},\"radialaxis\":{\"gridcolor\":\"white\",\"linecolor\":\"white\",\"ticks\":\"\"}},\"ternary\":{\"bgcolor\":\"#E5ECF6\",\"aaxis\":{\"gridcolor\":\"white\",\"linecolor\":\"white\",\"ticks\":\"\"},\"baxis\":{\"gridcolor\":\"white\",\"linecolor\":\"white\",\"ticks\":\"\"},\"caxis\":{\"gridcolor\":\"white\",\"linecolor\":\"white\",\"ticks\":\"\"}},\"coloraxis\":{\"colorbar\":{\"outlinewidth\":0,\"ticks\":\"\"}},\"colorscale\":{\"sequential\":[[0.0,\"#0d0887\"],[0.1111111111111111,\"#46039f\"],[0.2222222222222222,\"#7201a8\"],[0.3333333333333333,\"#9c179e\"],[0.4444444444444444,\"#bd3786\"],[0.5555555555555556,\"#d8576b\"],[0.6666666666666666,\"#ed7953\"],[0.7777777777777778,\"#fb9f3a\"],[0.8888888888888888,\"#fdca26\"],[1.0,\"#f0f921\"]],\"sequentialminus\":[[0.0,\"#0d0887\"],[0.1111111111111111,\"#46039f\"],[0.2222222222222222,\"#7201a8\"],[0.3333333333333333,\"#9c179e\"],[0.4444444444444444,\"#bd3786\"],[0.5555555555555556,\"#d8576b\"],[0.6666666666666666,\"#ed7953\"],[0.7777777777777778,\"#fb9f3a\"],[0.8888888888888888,\"#fdca26\"],[1.0,\"#f0f921\"]],\"diverging\":[[0,\"#8e0152\"],[0.1,\"#c51b7d\"],[0.2,\"#de77ae\"],[0.3,\"#f1b6da\"],[0.4,\"#fde0ef\"],[0.5,\"#f7f7f7\"],[0.6,\"#e6f5d0\"],[0.7,\"#b8e186\"],[0.8,\"#7fbc41\"],[0.9,\"#4d9221\"],[1,\"#276419\"]]},\"xaxis\":{\"gridcolor\":\"white\",\"linecolor\":\"white\",\"ticks\":\"\",\"title\":{\"standoff\":15},\"zerolinecolor\":\"white\",\"automargin\":true,\"zerolinewidth\":2},\"yaxis\":{\"gridcolor\":\"white\",\"linecolor\":\"white\",\"ticks\":\"\",\"title\":{\"standoff\":15},\"zerolinecolor\":\"white\",\"automargin\":true,\"zerolinewidth\":2},\"scene\":{\"xaxis\":{\"backgroundcolor\":\"#E5ECF6\",\"gridcolor\":\"white\",\"linecolor\":\"white\",\"showbackground\":true,\"ticks\":\"\",\"zerolinecolor\":\"white\",\"gridwidth\":2},\"yaxis\":{\"backgroundcolor\":\"#E5ECF6\",\"gridcolor\":\"white\",\"linecolor\":\"white\",\"showbackground\":true,\"ticks\":\"\",\"zerolinecolor\":\"white\",\"gridwidth\":2},\"zaxis\":{\"backgroundcolor\":\"#E5ECF6\",\"gridcolor\":\"white\",\"linecolor\":\"white\",\"showbackground\":true,\"ticks\":\"\",\"zerolinecolor\":\"white\",\"gridwidth\":2}},\"shapedefaults\":{\"line\":{\"color\":\"#2a3f5f\"}},\"annotationdefaults\":{\"arrowcolor\":\"#2a3f5f\",\"arrowhead\":0,\"arrowwidth\":1},\"geo\":{\"bgcolor\":\"white\",\"landcolor\":\"#E5ECF6\",\"subunitcolor\":\"white\",\"showland\":true,\"showlakes\":true,\"lakecolor\":\"white\"},\"title\":{\"x\":0.05},\"mapbox\":{\"style\":\"light\"}}},\"geo\":{\"domain\":{\"x\":[0.0,1.0],\"y\":[0.0,1.0]},\"center\":{}},\"coloraxis\":{\"colorbar\":{\"title\":{\"text\":\"count\"}},\"colorscale\":[[0.0,\"#f0f921\"],[0.1111111111111111,\"#fdca26\"],[0.2222222222222222,\"#fb9f3a\"],[0.3333333333333333,\"#ed7953\"],[0.4444444444444444,\"#d8576b\"],[0.5555555555555556,\"#bd3786\"],[0.6666666666666666,\"#9c179e\"],[0.7777777777777778,\"#7201a8\"],[0.8888888888888888,\"#46039f\"],[1.0,\"#0d0887\"]]},\"legend\":{\"tracegroupgap\":0},\"margin\":{\"t\":0,\"l\":0,\"r\":0,\"b\":0},\"autosize\":true,\"showlegend\":false},                        {\"responsive\": true}                    ).then(function(){\n",
       "                            \n",
       "var gd = document.getElementById('ad6d9165-9eac-4b8f-82cd-cb07eaa82c14');\n",
       "var x = new MutationObserver(function (mutations, observer) {{\n",
       "        var display = window.getComputedStyle(gd).display;\n",
       "        if (!display || display === 'none') {{\n",
       "            console.log([gd, 'removed!']);\n",
       "            Plotly.purge(gd);\n",
       "            observer.disconnect();\n",
       "        }}\n",
       "}});\n",
       "\n",
       "// Listen for the removal of the full notebook cells\n",
       "var notebookContainer = gd.closest('#notebook-container');\n",
       "if (notebookContainer) {{\n",
       "    x.observe(notebookContainer, {childList: true});\n",
       "}}\n",
       "\n",
       "// Listen for the clearing of the current output cell\n",
       "var outputEl = gd.closest('.output');\n",
       "if (outputEl) {{\n",
       "    x.observe(outputEl, {childList: true});\n",
       "}}\n",
       "\n",
       "                        })                };                });            </script>        </div>"
      ]
     },
     "metadata": {},
     "output_type": "display_data"
    }
   ],
   "source": [
    "# here we invert the gradient scale in order to have lighter color for small count of players from a country,\n",
    "# and intense color for am high count \n",
    "color_continuous_scale=px.colors.sequential.Plasma[::-1]\n",
    "\n",
    "fig = px.choropleth(color_map, locations=\"code_from\",\n",
    "                    color='count', \n",
    "                    color_continuous_scale=color_continuous_scale)\n",
    "fig.update_layout(autosize=True)\n",
    "fig.update_layout(\n",
    "    margin=dict(l=0, r=0, t=0, b=0),showlegend=False)\n",
    "fig.show()\n",
    "fig.write_html(\"raph5.html\")"
   ]
  },
  {
   "cell_type": "markdown",
   "id": "ee8f6eda",
   "metadata": {},
   "source": [
    "# Interactive Graph Visualization - Cytoscape"
   ]
  },
  {
   "cell_type": "code",
   "execution_count": 400,
   "id": "290f61e2",
   "metadata": {},
   "outputs": [],
   "source": [
    "import plotly.express as px\n",
    "from plotly.subplots import make_subplots\n",
    "import pandas as pd\n",
    "import dash\n",
    "import dash_cytoscape as cyto\n",
    "from jupyter_dash import JupyterDash\n",
    "# Load extra layouts\n",
    "cyto.load_extra_layouts()\n",
    "import json\n",
    "from dash import dcc, html, ctx\n",
    "# Note that older versions of Dash need to import dcc and html in a different way.\n",
    "# If you have an older version of Dash, please comment this import and uncomment the following two lines of code\n",
    "#import dash_core_components as dcc\n",
    "#import dash_html_components as html\n",
    "from dash.dependencies import Input, Output\n",
    "import networkx as nx\n"
   ]
  },
  {
   "cell_type": "code",
   "execution_count": 419,
   "id": "1c0a7533",
   "metadata": {},
   "outputs": [],
   "source": [
    "df=pd.read_csv('transfer_window.csv', sep=',')"
   ]
  },
  {
   "cell_type": "code",
   "execution_count": 420,
   "id": "ad3cae98",
   "metadata": {},
   "outputs": [
    {
     "data": {
      "text/html": [
       "<div>\n",
       "<style scoped>\n",
       "    .dataframe tbody tr th:only-of-type {\n",
       "        vertical-align: middle;\n",
       "    }\n",
       "\n",
       "    .dataframe tbody tr th {\n",
       "        vertical-align: top;\n",
       "    }\n",
       "\n",
       "    .dataframe thead th {\n",
       "        text-align: right;\n",
       "    }\n",
       "</style>\n",
       "<table border=\"1\" class=\"dataframe\">\n",
       "  <thead>\n",
       "    <tr style=\"text-align: right;\">\n",
       "      <th></th>\n",
       "      <th>Unnamed: 0</th>\n",
       "      <th>name</th>\n",
       "      <th>position</th>\n",
       "      <th>age</th>\n",
       "      <th>market_value</th>\n",
       "      <th>country_from</th>\n",
       "      <th>league_from</th>\n",
       "      <th>from</th>\n",
       "      <th>country_to</th>\n",
       "      <th>league_to</th>\n",
       "      <th>to</th>\n",
       "      <th>fee</th>\n",
       "      <th>year</th>\n",
       "      <th>General_Position</th>\n",
       "    </tr>\n",
       "  </thead>\n",
       "  <tbody>\n",
       "    <tr>\n",
       "      <th>2332</th>\n",
       "      <td>2332</td>\n",
       "      <td>Erling Haaland</td>\n",
       "      <td>Centre-Forward</td>\n",
       "      <td>21</td>\n",
       "      <td>150000000</td>\n",
       "      <td>Germany</td>\n",
       "      <td>Bundesliga</td>\n",
       "      <td>Borussia Dortmund</td>\n",
       "      <td>England</td>\n",
       "      <td>Premier League</td>\n",
       "      <td>Manchester City</td>\n",
       "      <td>60000000</td>\n",
       "      <td>2022</td>\n",
       "      <td>Attack</td>\n",
       "    </tr>\n",
       "    <tr>\n",
       "      <th>1859</th>\n",
       "      <td>1859</td>\n",
       "      <td>Romelu Lukaku</td>\n",
       "      <td>Centre-Forward</td>\n",
       "      <td>28</td>\n",
       "      <td>100000000</td>\n",
       "      <td>Italy</td>\n",
       "      <td>Serie A</td>\n",
       "      <td>Inter Milan</td>\n",
       "      <td>England</td>\n",
       "      <td>Premier League</td>\n",
       "      <td>Chelsea FC</td>\n",
       "      <td>113000000</td>\n",
       "      <td>2021</td>\n",
       "      <td>Attack</td>\n",
       "    </tr>\n",
       "    <tr>\n",
       "      <th>1860</th>\n",
       "      <td>1860</td>\n",
       "      <td>Jadon Sancho</td>\n",
       "      <td>Left Winger</td>\n",
       "      <td>21</td>\n",
       "      <td>100000000</td>\n",
       "      <td>Germany</td>\n",
       "      <td>Bundesliga</td>\n",
       "      <td>Borussia Dortmund</td>\n",
       "      <td>England</td>\n",
       "      <td>Premier League</td>\n",
       "      <td>Manchester United</td>\n",
       "      <td>85000000</td>\n",
       "      <td>2021</td>\n",
       "      <td>Attack</td>\n",
       "    </tr>\n",
       "    <tr>\n",
       "      <th>1233</th>\n",
       "      <td>1233</td>\n",
       "      <td>Kai Havertz</td>\n",
       "      <td>Attacking Midfield</td>\n",
       "      <td>21</td>\n",
       "      <td>81000000</td>\n",
       "      <td>Germany</td>\n",
       "      <td>Bundesliga</td>\n",
       "      <td>Bayer 04 Leverkusen</td>\n",
       "      <td>England</td>\n",
       "      <td>Premier League</td>\n",
       "      <td>Chelsea FC</td>\n",
       "      <td>80000000</td>\n",
       "      <td>2020</td>\n",
       "      <td>Midfield</td>\n",
       "    </tr>\n",
       "    <tr>\n",
       "      <th>625</th>\n",
       "      <td>625</td>\n",
       "      <td>Rodri</td>\n",
       "      <td>Defensive Midfield</td>\n",
       "      <td>23</td>\n",
       "      <td>80000000</td>\n",
       "      <td>Spain</td>\n",
       "      <td>LaLiga</td>\n",
       "      <td>Atlético de Madrid</td>\n",
       "      <td>England</td>\n",
       "      <td>Premier League</td>\n",
       "      <td>Manchester City</td>\n",
       "      <td>70000000</td>\n",
       "      <td>2019</td>\n",
       "      <td>Midfield</td>\n",
       "    </tr>\n",
       "    <tr>\n",
       "      <th>...</th>\n",
       "      <td>...</td>\n",
       "      <td>...</td>\n",
       "      <td>...</td>\n",
       "      <td>...</td>\n",
       "      <td>...</td>\n",
       "      <td>...</td>\n",
       "      <td>...</td>\n",
       "      <td>...</td>\n",
       "      <td>...</td>\n",
       "      <td>...</td>\n",
       "      <td>...</td>\n",
       "      <td>...</td>\n",
       "      <td>...</td>\n",
       "      <td>...</td>\n",
       "    </tr>\n",
       "    <tr>\n",
       "      <th>1246</th>\n",
       "      <td>1246</td>\n",
       "      <td>Nathan Aké</td>\n",
       "      <td>Centre-Back</td>\n",
       "      <td>25</td>\n",
       "      <td>28000000</td>\n",
       "      <td>England</td>\n",
       "      <td>Others</td>\n",
       "      <td>AFC Bournemouth</td>\n",
       "      <td>England</td>\n",
       "      <td>Premier League</td>\n",
       "      <td>Manchester City</td>\n",
       "      <td>45000000</td>\n",
       "      <td>2020</td>\n",
       "      <td>Defense</td>\n",
       "    </tr>\n",
       "    <tr>\n",
       "      <th>701</th>\n",
       "      <td>701</td>\n",
       "      <td>Patrick Cutrone</td>\n",
       "      <td>Centre-Forward</td>\n",
       "      <td>21</td>\n",
       "      <td>28000000</td>\n",
       "      <td>Italy</td>\n",
       "      <td>Serie A</td>\n",
       "      <td>AC Milan</td>\n",
       "      <td>England</td>\n",
       "      <td>Premier League</td>\n",
       "      <td>Wolverhampton Wanderers</td>\n",
       "      <td>18000000</td>\n",
       "      <td>2019</td>\n",
       "      <td>Attack</td>\n",
       "    </tr>\n",
       "    <tr>\n",
       "      <th>2408</th>\n",
       "      <td>2408</td>\n",
       "      <td>Leander Dendoncker</td>\n",
       "      <td>Defensive Midfield</td>\n",
       "      <td>27</td>\n",
       "      <td>28000000</td>\n",
       "      <td>England</td>\n",
       "      <td>Premier League</td>\n",
       "      <td>Wolverhampton Wanderers</td>\n",
       "      <td>England</td>\n",
       "      <td>Premier League</td>\n",
       "      <td>Aston Villa</td>\n",
       "      <td>15000000</td>\n",
       "      <td>2022</td>\n",
       "      <td>Midfield</td>\n",
       "    </tr>\n",
       "    <tr>\n",
       "      <th>1277</th>\n",
       "      <td>1277</td>\n",
       "      <td>Gareth Bale</td>\n",
       "      <td>Right Winger</td>\n",
       "      <td>31</td>\n",
       "      <td>28000000</td>\n",
       "      <td>Spain</td>\n",
       "      <td>LaLiga</td>\n",
       "      <td>Real Madrid</td>\n",
       "      <td>England</td>\n",
       "      <td>Premier League</td>\n",
       "      <td>Tottenham Hotspur</td>\n",
       "      <td>0</td>\n",
       "      <td>2020</td>\n",
       "      <td>Attack</td>\n",
       "    </tr>\n",
       "    <tr>\n",
       "      <th>1912</th>\n",
       "      <td>1912</td>\n",
       "      <td>Boubakary Soumaré</td>\n",
       "      <td>Defensive Midfield</td>\n",
       "      <td>22</td>\n",
       "      <td>28000000</td>\n",
       "      <td>France</td>\n",
       "      <td>Ligue 1</td>\n",
       "      <td>LOSC Lille</td>\n",
       "      <td>England</td>\n",
       "      <td>Premier League</td>\n",
       "      <td>Leicester City</td>\n",
       "      <td>20000000</td>\n",
       "      <td>2021</td>\n",
       "      <td>Midfield</td>\n",
       "    </tr>\n",
       "  </tbody>\n",
       "</table>\n",
       "<p>100 rows × 14 columns</p>\n",
       "</div>"
      ],
      "text/plain": [
       "      Unnamed: 0                name            position  age  market_value  \\\n",
       "2332        2332      Erling Haaland      Centre-Forward   21     150000000   \n",
       "1859        1859       Romelu Lukaku      Centre-Forward   28     100000000   \n",
       "1860        1860        Jadon Sancho         Left Winger   21     100000000   \n",
       "1233        1233         Kai Havertz  Attacking Midfield   21      81000000   \n",
       "625          625               Rodri  Defensive Midfield   23      80000000   \n",
       "...          ...                 ...                 ...  ...           ...   \n",
       "1246        1246          Nathan Aké         Centre-Back   25      28000000   \n",
       "701          701     Patrick Cutrone      Centre-Forward   21      28000000   \n",
       "2408        2408  Leander Dendoncker  Defensive Midfield   27      28000000   \n",
       "1277        1277         Gareth Bale        Right Winger   31      28000000   \n",
       "1912        1912   Boubakary Soumaré  Defensive Midfield   22      28000000   \n",
       "\n",
       "     country_from     league_from                     from country_to  \\\n",
       "2332      Germany      Bundesliga        Borussia Dortmund    England   \n",
       "1859        Italy         Serie A              Inter Milan    England   \n",
       "1860      Germany      Bundesliga        Borussia Dortmund    England   \n",
       "1233      Germany      Bundesliga      Bayer 04 Leverkusen    England   \n",
       "625         Spain          LaLiga       Atlético de Madrid    England   \n",
       "...           ...             ...                      ...        ...   \n",
       "1246      England          Others          AFC Bournemouth    England   \n",
       "701         Italy         Serie A                 AC Milan    England   \n",
       "2408      England  Premier League  Wolverhampton Wanderers    England   \n",
       "1277        Spain          LaLiga              Real Madrid    England   \n",
       "1912       France         Ligue 1               LOSC Lille    England   \n",
       "\n",
       "           league_to                       to        fee  year  \\\n",
       "2332  Premier League          Manchester City   60000000  2022   \n",
       "1859  Premier League               Chelsea FC  113000000  2021   \n",
       "1860  Premier League        Manchester United   85000000  2021   \n",
       "1233  Premier League               Chelsea FC   80000000  2020   \n",
       "625   Premier League          Manchester City   70000000  2019   \n",
       "...              ...                      ...        ...   ...   \n",
       "1246  Premier League          Manchester City   45000000  2020   \n",
       "701   Premier League  Wolverhampton Wanderers   18000000  2019   \n",
       "2408  Premier League              Aston Villa   15000000  2022   \n",
       "1277  Premier League        Tottenham Hotspur          0  2020   \n",
       "1912  Premier League           Leicester City   20000000  2021   \n",
       "\n",
       "     General_Position  \n",
       "2332           Attack  \n",
       "1859           Attack  \n",
       "1860           Attack  \n",
       "1233         Midfield  \n",
       "625          Midfield  \n",
       "...               ...  \n",
       "1246          Defense  \n",
       "701            Attack  \n",
       "2408         Midfield  \n",
       "1277           Attack  \n",
       "1912         Midfield  \n",
       "\n",
       "[100 rows x 14 columns]"
      ]
     },
     "execution_count": 420,
     "metadata": {},
     "output_type": "execute_result"
    }
   ],
   "source": [
    "# here we rename the columns club_form and club_to\n",
    "df=df.rename(columns={\"club_from\": \"from\", \"club_to\": \"to\"})\n",
    "\n",
    "# then, se downsize it to only the players that went to Premier League\n",
    "df=df[df['league_to']==\"Premier League\"]\n",
    "\n",
    "# then we sort for ascending market value\n",
    "df=df.sort_values(by=['market_value'], ascending=False)\n",
    "\n",
    "# and we select just the first 100\n",
    "df=df.head(100)\n",
    "df"
   ]
  },
  {
   "cell_type": "code",
   "execution_count": 427,
   "id": "6fece174",
   "metadata": {},
   "outputs": [],
   "source": [
    "# we create a dictionary containing the name of the club and the league to which it belongs\n",
    "# we will use this information later for the classes in cytoscape\n",
    "league_from={}\n",
    "for index,row in df.iterrows():\n",
    "    if row['from'] not in league_from.keys():\n",
    "        league_from[row['from']]=row['league_from']\n",
    "\n",
    "for index,row in df.iterrows():\n",
    "    if row['to'] not in league_from.keys():\n",
    "        league_from[row['to']]=row['league_to']\n",
    "        \n",
    "#league_from"
   ]
  },
  {
   "cell_type": "code",
   "execution_count": 417,
   "id": "259c0cd7",
   "metadata": {},
   "outputs": [],
   "source": [
    "# We create the graph specifying from which club to which club the player goes. It is in this regard that later will come handy\n",
    "# the dictionary made above, to associate from which league to which league the player went.\n",
    "G=nx.from_pandas_edgelist(df, source='from', target='to')\n",
    "\n",
    "# we import and use the community louvain algorithm to cluster our nodes together\n",
    "from community import community_louvain\n",
    "part=community_louvain.best_partition(G)\n",
    "# part\n",
    "# max(part.values())+1"
   ]
  },
  {
   "cell_type": "code",
   "execution_count": 418,
   "id": "25586bd6",
   "metadata": {},
   "outputs": [
    {
     "data": {
      "text/plain": [
       "{'data': [],\n",
       " 'directed': False,\n",
       " 'multigraph': False,\n",
       " 'elements': {'nodes': [{'data': {'league_from': 'Bundesliga',\n",
       "     'community': 2,\n",
       "     'id': 'Borussia Dortmund',\n",
       "     'value': 'Borussia Dortmund',\n",
       "     'name': 'Borussia Dortmund'}},\n",
       "   {'data': {'league_from': 'Premier League',\n",
       "     'community': 1,\n",
       "     'id': 'Manchester City',\n",
       "     'value': 'Manchester City',\n",
       "     'name': 'Manchester City'}},\n",
       "   {'data': {'league_from': 'Serie A',\n",
       "     'community': 2,\n",
       "     'id': 'Inter Milan',\n",
       "     'value': 'Inter Milan',\n",
       "     'name': 'Inter Milan'}},\n",
       "   {'data': {'league_from': 'Premier League',\n",
       "     'community': 2,\n",
       "     'id': 'Chelsea FC',\n",
       "     'value': 'Chelsea FC',\n",
       "     'name': 'Chelsea FC'}},\n",
       "   {'data': {'league_from': 'Premier League',\n",
       "     'community': 2,\n",
       "     'id': 'Manchester United',\n",
       "     'value': 'Manchester United',\n",
       "     'name': 'Manchester United'}},\n",
       "   {'data': {'league_from': 'Bundesliga',\n",
       "     'community': 0,\n",
       "     'id': 'Bayer 04 Leverkusen',\n",
       "     'value': 'Bayer 04 Leverkusen',\n",
       "     'name': 'Bayer 04 Leverkusen'}},\n",
       "   {'data': {'league_from': 'LaLiga',\n",
       "     'community': 6,\n",
       "     'id': 'Atlético de Madrid',\n",
       "     'value': 'Atlético de Madrid',\n",
       "     'name': 'Atlético de Madrid'}},\n",
       "   {'data': {'league_from': 'LaLiga',\n",
       "     'community': 2,\n",
       "     'id': 'Real Madrid',\n",
       "     'value': 'Real Madrid',\n",
       "     'name': 'Real Madrid'}},\n",
       "   {'data': {'league_from': 'Bundesliga',\n",
       "     'community': 4,\n",
       "     'id': 'RB Leipzig',\n",
       "     'value': 'RB Leipzig',\n",
       "     'name': 'RB Leipzig'}},\n",
       "   {'data': {'league_from': 'Premier League',\n",
       "     'community': 4,\n",
       "     'id': 'Liverpool FC',\n",
       "     'value': 'Liverpool FC',\n",
       "     'name': 'Liverpool FC'}},\n",
       "   {'data': {'league_from': 'Ligue 1',\n",
       "     'community': 2,\n",
       "     'id': 'LOSC Lille',\n",
       "     'value': 'LOSC Lille',\n",
       "     'name': 'LOSC Lille'}},\n",
       "   {'data': {'league_from': 'Premier League',\n",
       "     'community': 6,\n",
       "     'id': 'Arsenal FC',\n",
       "     'value': 'Arsenal FC',\n",
       "     'name': 'Arsenal FC'}},\n",
       "   {'data': {'league_from': 'Ligue 1',\n",
       "     'community': 5,\n",
       "     'id': 'Olympique Lyon',\n",
       "     'value': 'Olympique Lyon',\n",
       "     'name': 'Olympique Lyon'}},\n",
       "   {'data': {'league_from': 'Premier League',\n",
       "     'community': 0,\n",
       "     'id': 'Tottenham Hotspur',\n",
       "     'value': 'Tottenham Hotspur',\n",
       "     'name': 'Tottenham Hotspur'}},\n",
       "   {'data': {'league_from': 'Premier League',\n",
       "     'community': 0,\n",
       "     'id': 'Aston Villa',\n",
       "     'value': 'Aston Villa',\n",
       "     'name': 'Aston Villa'}},\n",
       "   {'data': {'league_from': 'Others',\n",
       "     'community': 1,\n",
       "     'id': 'Sporting CP',\n",
       "     'value': 'Sporting CP',\n",
       "     'name': 'Sporting CP'}},\n",
       "   {'data': {'league_from': 'Others',\n",
       "     'community': 4,\n",
       "     'id': 'PSV Eindhoven',\n",
       "     'value': 'PSV Eindhoven',\n",
       "     'name': 'PSV Eindhoven'}},\n",
       "   {'data': {'league_from': 'Serie A',\n",
       "     'community': 4,\n",
       "     'id': 'AS Roma',\n",
       "     'value': 'AS Roma',\n",
       "     'name': 'AS Roma'}},\n",
       "   {'data': {'league_from': 'Others',\n",
       "     'community': 1,\n",
       "     'id': 'SL Benfica',\n",
       "     'value': 'SL Benfica',\n",
       "     'name': 'SL Benfica'}},\n",
       "   {'data': {'league_from': 'Serie A',\n",
       "     'community': 0,\n",
       "     'id': 'Juventus FC',\n",
       "     'value': 'Juventus FC',\n",
       "     'name': 'Juventus FC'}},\n",
       "   {'data': {'league_from': 'Premier League',\n",
       "     'community': 1,\n",
       "     'id': 'Leeds United',\n",
       "     'value': 'Leeds United',\n",
       "     'name': 'Leeds United'}},\n",
       "   {'data': {'league_from': 'Premier League',\n",
       "     'community': 2,\n",
       "     'id': 'Leicester City',\n",
       "     'value': 'Leicester City',\n",
       "     'name': 'Leicester City'}},\n",
       "   {'data': {'league_from': 'Serie A',\n",
       "     'community': 2,\n",
       "     'id': 'SSC Napoli',\n",
       "     'value': 'SSC Napoli',\n",
       "     'name': 'SSC Napoli'}},\n",
       "   {'data': {'league_from': 'LaLiga',\n",
       "     'community': 0,\n",
       "     'id': 'Real Betis Balompié',\n",
       "     'value': 'Real Betis Balompié',\n",
       "     'name': 'Real Betis Balompié'}},\n",
       "   {'data': {'league_from': 'Serie A',\n",
       "     'community': 0,\n",
       "     'id': 'Atalanta BC',\n",
       "     'value': 'Atalanta BC',\n",
       "     'name': 'Atalanta BC'}},\n",
       "   {'data': {'league_from': 'Premier League',\n",
       "     'community': 0,\n",
       "     'id': 'Everton FC',\n",
       "     'value': 'Everton FC',\n",
       "     'name': 'Everton FC'}},\n",
       "   {'data': {'league_from': 'Bundesliga',\n",
       "     'community': 4,\n",
       "     'id': 'Bayern Munich',\n",
       "     'value': 'Bayern Munich',\n",
       "     'name': 'Bayern Munich'}},\n",
       "   {'data': {'league_from': 'LaLiga',\n",
       "     'community': 1,\n",
       "     'id': 'Valencia CF',\n",
       "     'value': 'Valencia CF',\n",
       "     'name': 'Valencia CF'}},\n",
       "   {'data': {'league_from': 'Ligue 1',\n",
       "     'community': 2,\n",
       "     'id': 'AS Monaco',\n",
       "     'value': 'AS Monaco',\n",
       "     'name': 'AS Monaco'}},\n",
       "   {'data': {'league_from': 'Others',\n",
       "     'community': 2,\n",
       "     'id': 'Ajax Amsterdam',\n",
       "     'value': 'Ajax Amsterdam',\n",
       "     'name': 'Ajax Amsterdam'}},\n",
       "   {'data': {'league_from': 'Others',\n",
       "     'community': 4,\n",
       "     'id': 'FC Porto',\n",
       "     'value': 'FC Porto',\n",
       "     'name': 'FC Porto'}},\n",
       "   {'data': {'league_from': 'LaLiga',\n",
       "     'community': 1,\n",
       "     'id': 'FC Barcelona',\n",
       "     'value': 'FC Barcelona',\n",
       "     'name': 'FC Barcelona'}},\n",
       "   {'data': {'league_from': 'Premier League',\n",
       "     'community': 1,\n",
       "     'id': 'Wolverhampton Wanderers',\n",
       "     'value': 'Wolverhampton Wanderers',\n",
       "     'name': 'Wolverhampton Wanderers'}},\n",
       "   {'data': {'league_from': 'Bundesliga',\n",
       "     'community': 5,\n",
       "     'id': 'Eintracht Frankfurt',\n",
       "     'value': 'Eintracht Frankfurt',\n",
       "     'name': 'Eintracht Frankfurt'}},\n",
       "   {'data': {'league_from': 'Premier League',\n",
       "     'community': 5,\n",
       "     'id': 'West Ham United',\n",
       "     'value': 'West Ham United',\n",
       "     'name': 'West Ham United'}},\n",
       "   {'data': {'league_from': 'Others',\n",
       "     'community': 2,\n",
       "     'id': 'Shakhtar Donetsk',\n",
       "     'value': 'Shakhtar Donetsk',\n",
       "     'name': 'Shakhtar Donetsk'}},\n",
       "   {'data': {'league_from': 'LaLiga',\n",
       "     'community': 0,\n",
       "     'id': 'Sevilla FC',\n",
       "     'value': 'Sevilla FC',\n",
       "     'name': 'Sevilla FC'}},\n",
       "   {'data': {'league_from': 'Premier League',\n",
       "     'community': 5,\n",
       "     'id': 'Newcastle United',\n",
       "     'value': 'Newcastle United',\n",
       "     'name': 'Newcastle United'}},\n",
       "   {'data': {'league_from': 'Premier League',\n",
       "     'community': 2,\n",
       "     'id': 'Crystal Palace',\n",
       "     'value': 'Crystal Palace',\n",
       "     'name': 'Crystal Palace'}},\n",
       "   {'data': {'league_from': 'Bundesliga',\n",
       "     'community': 5,\n",
       "     'id': 'TSG 1899 Hoffenheim',\n",
       "     'value': 'TSG 1899 Hoffenheim',\n",
       "     'name': 'TSG 1899 Hoffenheim'}},\n",
       "   {'data': {'league_from': 'Premier League',\n",
       "     'community': 0,\n",
       "     'id': 'Norwich City',\n",
       "     'value': 'Norwich City',\n",
       "     'name': 'Norwich City'}},\n",
       "   {'data': {'league_from': 'Others',\n",
       "     'community': 0,\n",
       "     'id': 'Fulham FC',\n",
       "     'value': 'Fulham FC',\n",
       "     'name': 'Fulham FC'}},\n",
       "   {'data': {'league_from': 'LaLiga',\n",
       "     'community': 0,\n",
       "     'id': 'Villarreal CF',\n",
       "     'value': 'Villarreal CF',\n",
       "     'name': 'Villarreal CF'}},\n",
       "   {'data': {'league_from': 'Premier League',\n",
       "     'community': 6,\n",
       "     'id': 'Brighton & Hove Albion',\n",
       "     'value': 'Brighton & Hove Albion',\n",
       "     'name': 'Brighton & Hove Albion'}},\n",
       "   {'data': {'league_from': 'Others',\n",
       "     'community': 5,\n",
       "     'id': 'CSKA Moscow',\n",
       "     'value': 'CSKA Moscow',\n",
       "     'name': 'CSKA Moscow'}},\n",
       "   {'data': {'league_from': 'Ligue 1',\n",
       "     'community': 0,\n",
       "     'id': 'OGC Nice',\n",
       "     'value': 'OGC Nice',\n",
       "     'name': 'OGC Nice'}},\n",
       "   {'data': {'league_from': 'LaLiga',\n",
       "     'community': 5,\n",
       "     'id': 'Real Sociedad',\n",
       "     'value': 'Real Sociedad',\n",
       "     'name': 'Real Sociedad'}},\n",
       "   {'data': {'league_from': 'Serie A',\n",
       "     'community': 5,\n",
       "     'id': 'US Sassuolo',\n",
       "     'value': 'US Sassuolo',\n",
       "     'name': 'US Sassuolo'}},\n",
       "   {'data': {'league_from': 'Serie A',\n",
       "     'community': 5,\n",
       "     'id': 'SS Lazio',\n",
       "     'value': 'SS Lazio',\n",
       "     'name': 'SS Lazio'}},\n",
       "   {'data': {'league_from': 'Premier League',\n",
       "     'community': 6,\n",
       "     'id': 'Nottingham Forest',\n",
       "     'value': 'Nottingham Forest',\n",
       "     'name': 'Nottingham Forest'}},\n",
       "   {'data': {'league_from': 'Serie A',\n",
       "     'community': 6,\n",
       "     'id': 'UC Sampdoria',\n",
       "     'value': 'UC Sampdoria',\n",
       "     'name': 'UC Sampdoria'}},\n",
       "   {'data': {'league_from': 'Ligue 1',\n",
       "     'community': 3,\n",
       "     'id': 'Stade Rennais FC',\n",
       "     'value': 'Stade Rennais FC',\n",
       "     'name': 'Stade Rennais FC'}},\n",
       "   {'data': {'league_from': 'Premier League',\n",
       "     'community': 3,\n",
       "     'id': 'Watford FC',\n",
       "     'value': 'Watford FC',\n",
       "     'name': 'Watford FC'}},\n",
       "   {'data': {'league_from': 'Others',\n",
       "     'community': 1,\n",
       "     'id': 'AFC Bournemouth',\n",
       "     'value': 'AFC Bournemouth',\n",
       "     'name': 'AFC Bournemouth'}},\n",
       "   {'data': {'league_from': 'Serie A',\n",
       "     'community': 1,\n",
       "     'id': 'AC Milan',\n",
       "     'value': 'AC Milan',\n",
       "     'name': 'AC Milan'}}],\n",
       "  'edges': [{'data': {'source': 'Borussia Dortmund',\n",
       "     'target': 'Manchester City'}},\n",
       "   {'data': {'source': 'Borussia Dortmund', 'target': 'Manchester United'}},\n",
       "   {'data': {'source': 'Borussia Dortmund', 'target': 'Chelsea FC'}},\n",
       "   {'data': {'source': 'Manchester City', 'target': 'Atlético de Madrid'}},\n",
       "   {'data': {'source': 'Manchester City', 'target': 'Chelsea FC'}},\n",
       "   {'data': {'source': 'Manchester City', 'target': 'Aston Villa'}},\n",
       "   {'data': {'source': 'Manchester City', 'target': 'Juventus FC'}},\n",
       "   {'data': {'source': 'Manchester City', 'target': 'Leeds United'}},\n",
       "   {'data': {'source': 'Manchester City', 'target': 'Leicester City'}},\n",
       "   {'data': {'source': 'Manchester City', 'target': 'Arsenal FC'}},\n",
       "   {'data': {'source': 'Manchester City', 'target': 'Valencia CF'}},\n",
       "   {'data': {'source': 'Manchester City', 'target': 'SL Benfica'}},\n",
       "   {'data': {'source': 'Manchester City', 'target': 'AFC Bournemouth'}},\n",
       "   {'data': {'source': 'Inter Milan', 'target': 'Chelsea FC'}},\n",
       "   {'data': {'source': 'Chelsea FC', 'target': 'Bayer 04 Leverkusen'}},\n",
       "   {'data': {'source': 'Chelsea FC', 'target': 'RB Leipzig'}},\n",
       "   {'data': {'source': 'Chelsea FC', 'target': 'SL Benfica'}},\n",
       "   {'data': {'source': 'Chelsea FC', 'target': 'Juventus FC'}},\n",
       "   {'data': {'source': 'Chelsea FC', 'target': 'Atlético de Madrid'}},\n",
       "   {'data': {'source': 'Chelsea FC', 'target': 'SSC Napoli'}},\n",
       "   {'data': {'source': 'Chelsea FC', 'target': 'Ajax Amsterdam'}},\n",
       "   {'data': {'source': 'Chelsea FC', 'target': 'Leicester City'}},\n",
       "   {'data': {'source': 'Chelsea FC', 'target': 'Shakhtar Donetsk'}},\n",
       "   {'data': {'source': 'Chelsea FC', 'target': 'AS Monaco'}},\n",
       "   {'data': {'source': 'Chelsea FC', 'target': 'Arsenal FC'}},\n",
       "   {'data': {'source': 'Chelsea FC', 'target': 'Real Madrid'}},\n",
       "   {'data': {'source': 'Chelsea FC', 'target': 'West Ham United'}},\n",
       "   {'data': {'source': 'Chelsea FC', 'target': 'Crystal Palace'}},\n",
       "   {'data': {'source': 'Manchester United', 'target': 'Real Madrid'}},\n",
       "   {'data': {'source': 'Manchester United', 'target': 'Sporting CP'}},\n",
       "   {'data': {'source': 'Manchester United', 'target': 'Leicester City'}},\n",
       "   {'data': {'source': 'Manchester United', 'target': 'Juventus FC'}},\n",
       "   {'data': {'source': 'Manchester United', 'target': 'Ajax Amsterdam'}},\n",
       "   {'data': {'source': 'Manchester United', 'target': 'FC Porto'}},\n",
       "   {'data': {'source': 'Manchester United', 'target': 'Crystal Palace'}},\n",
       "   {'data': {'source': 'Manchester United', 'target': 'Shakhtar Donetsk'}},\n",
       "   {'data': {'source': 'Bayer 04 Leverkusen', 'target': 'Aston Villa'}},\n",
       "   {'data': {'source': 'Atlético de Madrid', 'target': 'Arsenal FC'}},\n",
       "   {'data': {'source': 'Atlético de Madrid', 'target': 'Nottingham Forest'}},\n",
       "   {'data': {'source': 'Real Madrid', 'target': 'Arsenal FC'}},\n",
       "   {'data': {'source': 'Real Madrid', 'target': 'Everton FC'}},\n",
       "   {'data': {'source': 'Real Madrid', 'target': 'Tottenham Hotspur'}},\n",
       "   {'data': {'source': 'RB Leipzig', 'target': 'Liverpool FC'}},\n",
       "   {'data': {'source': 'Liverpool FC', 'target': 'PSV Eindhoven'}},\n",
       "   {'data': {'source': 'Liverpool FC', 'target': 'AS Roma'}},\n",
       "   {'data': {'source': 'Liverpool FC', 'target': 'SL Benfica'}},\n",
       "   {'data': {'source': 'Liverpool FC', 'target': 'Bayern Munich'}},\n",
       "   {'data': {'source': 'Liverpool FC', 'target': 'AS Monaco'}},\n",
       "   {'data': {'source': 'Liverpool FC', 'target': 'FC Porto'}},\n",
       "   {'data': {'source': 'LOSC Lille', 'target': 'Arsenal FC'}},\n",
       "   {'data': {'source': 'LOSC Lille', 'target': 'Newcastle United'}},\n",
       "   {'data': {'source': 'LOSC Lille', 'target': 'Leicester City'}},\n",
       "   {'data': {'source': 'Arsenal FC', 'target': 'UC Sampdoria'}},\n",
       "   {'data': {'source': 'Arsenal FC', 'target': 'Brighton & Hove Albion'}},\n",
       "   {'data': {'source': 'Olympique Lyon', 'target': 'Tottenham Hotspur'}},\n",
       "   {'data': {'source': 'Olympique Lyon', 'target': 'West Ham United'}},\n",
       "   {'data': {'source': 'Olympique Lyon', 'target': 'Newcastle United'}},\n",
       "   {'data': {'source': 'Tottenham Hotspur', 'target': 'Real Betis Balompié'}},\n",
       "   {'data': {'source': 'Tottenham Hotspur', 'target': 'Atalanta BC'}},\n",
       "   {'data': {'source': 'Tottenham Hotspur', 'target': 'Everton FC'}},\n",
       "   {'data': {'source': 'Tottenham Hotspur', 'target': 'PSV Eindhoven'}},\n",
       "   {'data': {'source': 'Tottenham Hotspur', 'target': 'Fulham FC'}},\n",
       "   {'data': {'source': 'Tottenham Hotspur', 'target': 'Villarreal CF'}},\n",
       "   {'data': {'source': 'Tottenham Hotspur',\n",
       "     'target': 'Brighton & Hove Albion'}},\n",
       "   {'data': {'source': 'Tottenham Hotspur', 'target': 'Juventus FC'}},\n",
       "   {'data': {'source': 'Tottenham Hotspur', 'target': 'Sevilla FC'}},\n",
       "   {'data': {'source': 'Aston Villa', 'target': 'Sevilla FC'}},\n",
       "   {'data': {'source': 'Aston Villa', 'target': 'Norwich City'}},\n",
       "   {'data': {'source': 'Aston Villa', 'target': 'Everton FC'}},\n",
       "   {'data': {'source': 'Aston Villa', 'target': 'Wolverhampton Wanderers'}},\n",
       "   {'data': {'source': 'Sporting CP', 'target': 'Wolverhampton Wanderers'}},\n",
       "   {'data': {'source': 'SL Benfica', 'target': 'Wolverhampton Wanderers'}},\n",
       "   {'data': {'source': 'Juventus FC', 'target': 'Everton FC'}},\n",
       "   {'data': {'source': 'Leeds United', 'target': 'Valencia CF'}},\n",
       "   {'data': {'source': 'Leicester City', 'target': 'AS Monaco'}},\n",
       "   {'data': {'source': 'Everton FC', 'target': 'Newcastle United'}},\n",
       "   {'data': {'source': 'Valencia CF', 'target': 'Wolverhampton Wanderers'}},\n",
       "   {'data': {'source': 'FC Barcelona', 'target': 'Wolverhampton Wanderers'}},\n",
       "   {'data': {'source': 'Wolverhampton Wanderers', 'target': 'AC Milan'}},\n",
       "   {'data': {'source': 'Eintracht Frankfurt', 'target': 'West Ham United'}},\n",
       "   {'data': {'source': 'West Ham United', 'target': 'CSKA Moscow'}},\n",
       "   {'data': {'source': 'West Ham United', 'target': 'US Sassuolo'}},\n",
       "   {'data': {'source': 'West Ham United', 'target': 'SS Lazio'}},\n",
       "   {'data': {'source': 'Newcastle United', 'target': 'TSG 1899 Hoffenheim'}},\n",
       "   {'data': {'source': 'Newcastle United', 'target': 'Real Sociedad'}},\n",
       "   {'data': {'source': 'Fulham FC', 'target': 'OGC Nice'}},\n",
       "   {'data': {'source': 'Stade Rennais FC', 'target': 'Watford FC'}}]}}"
      ]
     },
     "execution_count": 418,
     "metadata": {},
     "output_type": "execute_result"
    }
   ],
   "source": [
    "# we add attributes to each node.\n",
    "# through this function the program iterates through all the nodes and associate to each node the corresponding league\n",
    "# and number of community in which it is\n",
    "nx.set_node_attributes(G, league_from, \"league_from\")\n",
    "nx.set_node_attributes(G, part, \"community\")\n",
    "\n",
    "# then we set the data to be processed with cytoscape\n",
    "data=nx.cytoscape_data(G)\n",
    "data"
   ]
  },
  {
   "cell_type": "code",
   "execution_count": 422,
   "id": "b6a4bb2a",
   "metadata": {},
   "outputs": [],
   "source": [
    "# we format the names of the leagues to have all the words concatenated without spaces, otherwise the program does not\n",
    "# elaborate them correctly.\n",
    "for el in data['elements']['nodes']:\n",
    "    el['classes']=el['data']['league_from'].replace(' ','')\n"
   ]
  },
  {
   "cell_type": "code",
   "execution_count": 423,
   "id": "d0697816",
   "metadata": {},
   "outputs": [
    {
     "data": {
      "text/plain": [
       "{'data': [],\n",
       " 'directed': False,\n",
       " 'multigraph': False,\n",
       " 'elements': {'nodes': [{'data': {'league_from': 'Bundesliga',\n",
       "     'community': 2,\n",
       "     'id': 'Borussia Dortmund',\n",
       "     'value': 'Borussia Dortmund',\n",
       "     'name': 'Borussia Dortmund'},\n",
       "    'classes': 'Bundesliga 2'},\n",
       "   {'data': {'league_from': 'Premier League',\n",
       "     'community': 1,\n",
       "     'id': 'Manchester City',\n",
       "     'value': 'Manchester City',\n",
       "     'name': 'Manchester City'},\n",
       "    'classes': 'PremierLeague 1'},\n",
       "   {'data': {'league_from': 'Serie A',\n",
       "     'community': 2,\n",
       "     'id': 'Inter Milan',\n",
       "     'value': 'Inter Milan',\n",
       "     'name': 'Inter Milan'},\n",
       "    'classes': 'SerieA 2'},\n",
       "   {'data': {'league_from': 'Premier League',\n",
       "     'community': 2,\n",
       "     'id': 'Chelsea FC',\n",
       "     'value': 'Chelsea FC',\n",
       "     'name': 'Chelsea FC'},\n",
       "    'classes': 'PremierLeague 2'},\n",
       "   {'data': {'league_from': 'Premier League',\n",
       "     'community': 2,\n",
       "     'id': 'Manchester United',\n",
       "     'value': 'Manchester United',\n",
       "     'name': 'Manchester United'},\n",
       "    'classes': 'PremierLeague 2'},\n",
       "   {'data': {'league_from': 'Bundesliga',\n",
       "     'community': 0,\n",
       "     'id': 'Bayer 04 Leverkusen',\n",
       "     'value': 'Bayer 04 Leverkusen',\n",
       "     'name': 'Bayer 04 Leverkusen'},\n",
       "    'classes': 'Bundesliga 0'},\n",
       "   {'data': {'league_from': 'LaLiga',\n",
       "     'community': 6,\n",
       "     'id': 'Atlético de Madrid',\n",
       "     'value': 'Atlético de Madrid',\n",
       "     'name': 'Atlético de Madrid'},\n",
       "    'classes': 'LaLiga 6'},\n",
       "   {'data': {'league_from': 'LaLiga',\n",
       "     'community': 2,\n",
       "     'id': 'Real Madrid',\n",
       "     'value': 'Real Madrid',\n",
       "     'name': 'Real Madrid'},\n",
       "    'classes': 'LaLiga 2'},\n",
       "   {'data': {'league_from': 'Bundesliga',\n",
       "     'community': 4,\n",
       "     'id': 'RB Leipzig',\n",
       "     'value': 'RB Leipzig',\n",
       "     'name': 'RB Leipzig'},\n",
       "    'classes': 'Bundesliga 4'},\n",
       "   {'data': {'league_from': 'Premier League',\n",
       "     'community': 4,\n",
       "     'id': 'Liverpool FC',\n",
       "     'value': 'Liverpool FC',\n",
       "     'name': 'Liverpool FC'},\n",
       "    'classes': 'PremierLeague 4'},\n",
       "   {'data': {'league_from': 'Ligue 1',\n",
       "     'community': 2,\n",
       "     'id': 'LOSC Lille',\n",
       "     'value': 'LOSC Lille',\n",
       "     'name': 'LOSC Lille'},\n",
       "    'classes': 'Ligue1 2'},\n",
       "   {'data': {'league_from': 'Premier League',\n",
       "     'community': 6,\n",
       "     'id': 'Arsenal FC',\n",
       "     'value': 'Arsenal FC',\n",
       "     'name': 'Arsenal FC'},\n",
       "    'classes': 'PremierLeague 6'},\n",
       "   {'data': {'league_from': 'Ligue 1',\n",
       "     'community': 5,\n",
       "     'id': 'Olympique Lyon',\n",
       "     'value': 'Olympique Lyon',\n",
       "     'name': 'Olympique Lyon'},\n",
       "    'classes': 'Ligue1 5'},\n",
       "   {'data': {'league_from': 'Premier League',\n",
       "     'community': 0,\n",
       "     'id': 'Tottenham Hotspur',\n",
       "     'value': 'Tottenham Hotspur',\n",
       "     'name': 'Tottenham Hotspur'},\n",
       "    'classes': 'PremierLeague 0'},\n",
       "   {'data': {'league_from': 'Premier League',\n",
       "     'community': 0,\n",
       "     'id': 'Aston Villa',\n",
       "     'value': 'Aston Villa',\n",
       "     'name': 'Aston Villa'},\n",
       "    'classes': 'PremierLeague 0'},\n",
       "   {'data': {'league_from': 'Others',\n",
       "     'community': 1,\n",
       "     'id': 'Sporting CP',\n",
       "     'value': 'Sporting CP',\n",
       "     'name': 'Sporting CP'},\n",
       "    'classes': 'Others 1'},\n",
       "   {'data': {'league_from': 'Others',\n",
       "     'community': 4,\n",
       "     'id': 'PSV Eindhoven',\n",
       "     'value': 'PSV Eindhoven',\n",
       "     'name': 'PSV Eindhoven'},\n",
       "    'classes': 'Others 4'},\n",
       "   {'data': {'league_from': 'Serie A',\n",
       "     'community': 4,\n",
       "     'id': 'AS Roma',\n",
       "     'value': 'AS Roma',\n",
       "     'name': 'AS Roma'},\n",
       "    'classes': 'SerieA 4'},\n",
       "   {'data': {'league_from': 'Others',\n",
       "     'community': 1,\n",
       "     'id': 'SL Benfica',\n",
       "     'value': 'SL Benfica',\n",
       "     'name': 'SL Benfica'},\n",
       "    'classes': 'Others 1'},\n",
       "   {'data': {'league_from': 'Serie A',\n",
       "     'community': 0,\n",
       "     'id': 'Juventus FC',\n",
       "     'value': 'Juventus FC',\n",
       "     'name': 'Juventus FC'},\n",
       "    'classes': 'SerieA 0'},\n",
       "   {'data': {'league_from': 'Premier League',\n",
       "     'community': 1,\n",
       "     'id': 'Leeds United',\n",
       "     'value': 'Leeds United',\n",
       "     'name': 'Leeds United'},\n",
       "    'classes': 'PremierLeague 1'},\n",
       "   {'data': {'league_from': 'Premier League',\n",
       "     'community': 2,\n",
       "     'id': 'Leicester City',\n",
       "     'value': 'Leicester City',\n",
       "     'name': 'Leicester City'},\n",
       "    'classes': 'PremierLeague 2'},\n",
       "   {'data': {'league_from': 'Serie A',\n",
       "     'community': 2,\n",
       "     'id': 'SSC Napoli',\n",
       "     'value': 'SSC Napoli',\n",
       "     'name': 'SSC Napoli'},\n",
       "    'classes': 'SerieA 2'},\n",
       "   {'data': {'league_from': 'LaLiga',\n",
       "     'community': 0,\n",
       "     'id': 'Real Betis Balompié',\n",
       "     'value': 'Real Betis Balompié',\n",
       "     'name': 'Real Betis Balompié'},\n",
       "    'classes': 'LaLiga 0'},\n",
       "   {'data': {'league_from': 'Serie A',\n",
       "     'community': 0,\n",
       "     'id': 'Atalanta BC',\n",
       "     'value': 'Atalanta BC',\n",
       "     'name': 'Atalanta BC'},\n",
       "    'classes': 'SerieA 0'},\n",
       "   {'data': {'league_from': 'Premier League',\n",
       "     'community': 0,\n",
       "     'id': 'Everton FC',\n",
       "     'value': 'Everton FC',\n",
       "     'name': 'Everton FC'},\n",
       "    'classes': 'PremierLeague 0'},\n",
       "   {'data': {'league_from': 'Bundesliga',\n",
       "     'community': 4,\n",
       "     'id': 'Bayern Munich',\n",
       "     'value': 'Bayern Munich',\n",
       "     'name': 'Bayern Munich'},\n",
       "    'classes': 'Bundesliga 4'},\n",
       "   {'data': {'league_from': 'LaLiga',\n",
       "     'community': 1,\n",
       "     'id': 'Valencia CF',\n",
       "     'value': 'Valencia CF',\n",
       "     'name': 'Valencia CF'},\n",
       "    'classes': 'LaLiga 1'},\n",
       "   {'data': {'league_from': 'Ligue 1',\n",
       "     'community': 2,\n",
       "     'id': 'AS Monaco',\n",
       "     'value': 'AS Monaco',\n",
       "     'name': 'AS Monaco'},\n",
       "    'classes': 'Ligue1 2'},\n",
       "   {'data': {'league_from': 'Others',\n",
       "     'community': 2,\n",
       "     'id': 'Ajax Amsterdam',\n",
       "     'value': 'Ajax Amsterdam',\n",
       "     'name': 'Ajax Amsterdam'},\n",
       "    'classes': 'Others 2'},\n",
       "   {'data': {'league_from': 'Others',\n",
       "     'community': 4,\n",
       "     'id': 'FC Porto',\n",
       "     'value': 'FC Porto',\n",
       "     'name': 'FC Porto'},\n",
       "    'classes': 'Others 4'},\n",
       "   {'data': {'league_from': 'LaLiga',\n",
       "     'community': 1,\n",
       "     'id': 'FC Barcelona',\n",
       "     'value': 'FC Barcelona',\n",
       "     'name': 'FC Barcelona'},\n",
       "    'classes': 'LaLiga 1'},\n",
       "   {'data': {'league_from': 'Premier League',\n",
       "     'community': 1,\n",
       "     'id': 'Wolverhampton Wanderers',\n",
       "     'value': 'Wolverhampton Wanderers',\n",
       "     'name': 'Wolverhampton Wanderers'},\n",
       "    'classes': 'PremierLeague 1'},\n",
       "   {'data': {'league_from': 'Bundesliga',\n",
       "     'community': 5,\n",
       "     'id': 'Eintracht Frankfurt',\n",
       "     'value': 'Eintracht Frankfurt',\n",
       "     'name': 'Eintracht Frankfurt'},\n",
       "    'classes': 'Bundesliga 5'},\n",
       "   {'data': {'league_from': 'Premier League',\n",
       "     'community': 5,\n",
       "     'id': 'West Ham United',\n",
       "     'value': 'West Ham United',\n",
       "     'name': 'West Ham United'},\n",
       "    'classes': 'PremierLeague 5'},\n",
       "   {'data': {'league_from': 'Others',\n",
       "     'community': 2,\n",
       "     'id': 'Shakhtar Donetsk',\n",
       "     'value': 'Shakhtar Donetsk',\n",
       "     'name': 'Shakhtar Donetsk'},\n",
       "    'classes': 'Others 2'},\n",
       "   {'data': {'league_from': 'LaLiga',\n",
       "     'community': 0,\n",
       "     'id': 'Sevilla FC',\n",
       "     'value': 'Sevilla FC',\n",
       "     'name': 'Sevilla FC'},\n",
       "    'classes': 'LaLiga 0'},\n",
       "   {'data': {'league_from': 'Premier League',\n",
       "     'community': 5,\n",
       "     'id': 'Newcastle United',\n",
       "     'value': 'Newcastle United',\n",
       "     'name': 'Newcastle United'},\n",
       "    'classes': 'PremierLeague 5'},\n",
       "   {'data': {'league_from': 'Premier League',\n",
       "     'community': 2,\n",
       "     'id': 'Crystal Palace',\n",
       "     'value': 'Crystal Palace',\n",
       "     'name': 'Crystal Palace'},\n",
       "    'classes': 'PremierLeague 2'},\n",
       "   {'data': {'league_from': 'Bundesliga',\n",
       "     'community': 5,\n",
       "     'id': 'TSG 1899 Hoffenheim',\n",
       "     'value': 'TSG 1899 Hoffenheim',\n",
       "     'name': 'TSG 1899 Hoffenheim'},\n",
       "    'classes': 'Bundesliga 5'},\n",
       "   {'data': {'league_from': 'Premier League',\n",
       "     'community': 0,\n",
       "     'id': 'Norwich City',\n",
       "     'value': 'Norwich City',\n",
       "     'name': 'Norwich City'},\n",
       "    'classes': 'PremierLeague 0'},\n",
       "   {'data': {'league_from': 'Others',\n",
       "     'community': 0,\n",
       "     'id': 'Fulham FC',\n",
       "     'value': 'Fulham FC',\n",
       "     'name': 'Fulham FC'},\n",
       "    'classes': 'Others 0'},\n",
       "   {'data': {'league_from': 'LaLiga',\n",
       "     'community': 0,\n",
       "     'id': 'Villarreal CF',\n",
       "     'value': 'Villarreal CF',\n",
       "     'name': 'Villarreal CF'},\n",
       "    'classes': 'LaLiga 0'},\n",
       "   {'data': {'league_from': 'Premier League',\n",
       "     'community': 6,\n",
       "     'id': 'Brighton & Hove Albion',\n",
       "     'value': 'Brighton & Hove Albion',\n",
       "     'name': 'Brighton & Hove Albion'},\n",
       "    'classes': 'PremierLeague 6'},\n",
       "   {'data': {'league_from': 'Others',\n",
       "     'community': 5,\n",
       "     'id': 'CSKA Moscow',\n",
       "     'value': 'CSKA Moscow',\n",
       "     'name': 'CSKA Moscow'},\n",
       "    'classes': 'Others 5'},\n",
       "   {'data': {'league_from': 'Ligue 1',\n",
       "     'community': 0,\n",
       "     'id': 'OGC Nice',\n",
       "     'value': 'OGC Nice',\n",
       "     'name': 'OGC Nice'},\n",
       "    'classes': 'Ligue1 0'},\n",
       "   {'data': {'league_from': 'LaLiga',\n",
       "     'community': 5,\n",
       "     'id': 'Real Sociedad',\n",
       "     'value': 'Real Sociedad',\n",
       "     'name': 'Real Sociedad'},\n",
       "    'classes': 'LaLiga 5'},\n",
       "   {'data': {'league_from': 'Serie A',\n",
       "     'community': 5,\n",
       "     'id': 'US Sassuolo',\n",
       "     'value': 'US Sassuolo',\n",
       "     'name': 'US Sassuolo'},\n",
       "    'classes': 'SerieA 5'},\n",
       "   {'data': {'league_from': 'Serie A',\n",
       "     'community': 5,\n",
       "     'id': 'SS Lazio',\n",
       "     'value': 'SS Lazio',\n",
       "     'name': 'SS Lazio'},\n",
       "    'classes': 'SerieA 5'},\n",
       "   {'data': {'league_from': 'Premier League',\n",
       "     'community': 6,\n",
       "     'id': 'Nottingham Forest',\n",
       "     'value': 'Nottingham Forest',\n",
       "     'name': 'Nottingham Forest'},\n",
       "    'classes': 'PremierLeague 6'},\n",
       "   {'data': {'league_from': 'Serie A',\n",
       "     'community': 6,\n",
       "     'id': 'UC Sampdoria',\n",
       "     'value': 'UC Sampdoria',\n",
       "     'name': 'UC Sampdoria'},\n",
       "    'classes': 'SerieA 6'},\n",
       "   {'data': {'league_from': 'Ligue 1',\n",
       "     'community': 3,\n",
       "     'id': 'Stade Rennais FC',\n",
       "     'value': 'Stade Rennais FC',\n",
       "     'name': 'Stade Rennais FC'},\n",
       "    'classes': 'Ligue1 3'},\n",
       "   {'data': {'league_from': 'Premier League',\n",
       "     'community': 3,\n",
       "     'id': 'Watford FC',\n",
       "     'value': 'Watford FC',\n",
       "     'name': 'Watford FC'},\n",
       "    'classes': 'PremierLeague 3'},\n",
       "   {'data': {'league_from': 'Others',\n",
       "     'community': 1,\n",
       "     'id': 'AFC Bournemouth',\n",
       "     'value': 'AFC Bournemouth',\n",
       "     'name': 'AFC Bournemouth'},\n",
       "    'classes': 'Others 1'},\n",
       "   {'data': {'league_from': 'Serie A',\n",
       "     'community': 1,\n",
       "     'id': 'AC Milan',\n",
       "     'value': 'AC Milan',\n",
       "     'name': 'AC Milan'},\n",
       "    'classes': 'SerieA 1'}],\n",
       "  'edges': [{'data': {'source': 'Borussia Dortmund',\n",
       "     'target': 'Manchester City'}},\n",
       "   {'data': {'source': 'Borussia Dortmund', 'target': 'Manchester United'}},\n",
       "   {'data': {'source': 'Borussia Dortmund', 'target': 'Chelsea FC'}},\n",
       "   {'data': {'source': 'Manchester City', 'target': 'Atlético de Madrid'}},\n",
       "   {'data': {'source': 'Manchester City', 'target': 'Chelsea FC'}},\n",
       "   {'data': {'source': 'Manchester City', 'target': 'Aston Villa'}},\n",
       "   {'data': {'source': 'Manchester City', 'target': 'Juventus FC'}},\n",
       "   {'data': {'source': 'Manchester City', 'target': 'Leeds United'}},\n",
       "   {'data': {'source': 'Manchester City', 'target': 'Leicester City'}},\n",
       "   {'data': {'source': 'Manchester City', 'target': 'Arsenal FC'}},\n",
       "   {'data': {'source': 'Manchester City', 'target': 'Valencia CF'}},\n",
       "   {'data': {'source': 'Manchester City', 'target': 'SL Benfica'}},\n",
       "   {'data': {'source': 'Manchester City', 'target': 'AFC Bournemouth'}},\n",
       "   {'data': {'source': 'Inter Milan', 'target': 'Chelsea FC'}},\n",
       "   {'data': {'source': 'Chelsea FC', 'target': 'Bayer 04 Leverkusen'}},\n",
       "   {'data': {'source': 'Chelsea FC', 'target': 'RB Leipzig'}},\n",
       "   {'data': {'source': 'Chelsea FC', 'target': 'SL Benfica'}},\n",
       "   {'data': {'source': 'Chelsea FC', 'target': 'Juventus FC'}},\n",
       "   {'data': {'source': 'Chelsea FC', 'target': 'Atlético de Madrid'}},\n",
       "   {'data': {'source': 'Chelsea FC', 'target': 'SSC Napoli'}},\n",
       "   {'data': {'source': 'Chelsea FC', 'target': 'Ajax Amsterdam'}},\n",
       "   {'data': {'source': 'Chelsea FC', 'target': 'Leicester City'}},\n",
       "   {'data': {'source': 'Chelsea FC', 'target': 'Shakhtar Donetsk'}},\n",
       "   {'data': {'source': 'Chelsea FC', 'target': 'AS Monaco'}},\n",
       "   {'data': {'source': 'Chelsea FC', 'target': 'Arsenal FC'}},\n",
       "   {'data': {'source': 'Chelsea FC', 'target': 'Real Madrid'}},\n",
       "   {'data': {'source': 'Chelsea FC', 'target': 'West Ham United'}},\n",
       "   {'data': {'source': 'Chelsea FC', 'target': 'Crystal Palace'}},\n",
       "   {'data': {'source': 'Manchester United', 'target': 'Real Madrid'}},\n",
       "   {'data': {'source': 'Manchester United', 'target': 'Sporting CP'}},\n",
       "   {'data': {'source': 'Manchester United', 'target': 'Leicester City'}},\n",
       "   {'data': {'source': 'Manchester United', 'target': 'Juventus FC'}},\n",
       "   {'data': {'source': 'Manchester United', 'target': 'Ajax Amsterdam'}},\n",
       "   {'data': {'source': 'Manchester United', 'target': 'FC Porto'}},\n",
       "   {'data': {'source': 'Manchester United', 'target': 'Crystal Palace'}},\n",
       "   {'data': {'source': 'Manchester United', 'target': 'Shakhtar Donetsk'}},\n",
       "   {'data': {'source': 'Bayer 04 Leverkusen', 'target': 'Aston Villa'}},\n",
       "   {'data': {'source': 'Atlético de Madrid', 'target': 'Arsenal FC'}},\n",
       "   {'data': {'source': 'Atlético de Madrid', 'target': 'Nottingham Forest'}},\n",
       "   {'data': {'source': 'Real Madrid', 'target': 'Arsenal FC'}},\n",
       "   {'data': {'source': 'Real Madrid', 'target': 'Everton FC'}},\n",
       "   {'data': {'source': 'Real Madrid', 'target': 'Tottenham Hotspur'}},\n",
       "   {'data': {'source': 'RB Leipzig', 'target': 'Liverpool FC'}},\n",
       "   {'data': {'source': 'Liverpool FC', 'target': 'PSV Eindhoven'}},\n",
       "   {'data': {'source': 'Liverpool FC', 'target': 'AS Roma'}},\n",
       "   {'data': {'source': 'Liverpool FC', 'target': 'SL Benfica'}},\n",
       "   {'data': {'source': 'Liverpool FC', 'target': 'Bayern Munich'}},\n",
       "   {'data': {'source': 'Liverpool FC', 'target': 'AS Monaco'}},\n",
       "   {'data': {'source': 'Liverpool FC', 'target': 'FC Porto'}},\n",
       "   {'data': {'source': 'LOSC Lille', 'target': 'Arsenal FC'}},\n",
       "   {'data': {'source': 'LOSC Lille', 'target': 'Newcastle United'}},\n",
       "   {'data': {'source': 'LOSC Lille', 'target': 'Leicester City'}},\n",
       "   {'data': {'source': 'Arsenal FC', 'target': 'UC Sampdoria'}},\n",
       "   {'data': {'source': 'Arsenal FC', 'target': 'Brighton & Hove Albion'}},\n",
       "   {'data': {'source': 'Olympique Lyon', 'target': 'Tottenham Hotspur'}},\n",
       "   {'data': {'source': 'Olympique Lyon', 'target': 'West Ham United'}},\n",
       "   {'data': {'source': 'Olympique Lyon', 'target': 'Newcastle United'}},\n",
       "   {'data': {'source': 'Tottenham Hotspur', 'target': 'Real Betis Balompié'}},\n",
       "   {'data': {'source': 'Tottenham Hotspur', 'target': 'Atalanta BC'}},\n",
       "   {'data': {'source': 'Tottenham Hotspur', 'target': 'Everton FC'}},\n",
       "   {'data': {'source': 'Tottenham Hotspur', 'target': 'PSV Eindhoven'}},\n",
       "   {'data': {'source': 'Tottenham Hotspur', 'target': 'Fulham FC'}},\n",
       "   {'data': {'source': 'Tottenham Hotspur', 'target': 'Villarreal CF'}},\n",
       "   {'data': {'source': 'Tottenham Hotspur',\n",
       "     'target': 'Brighton & Hove Albion'}},\n",
       "   {'data': {'source': 'Tottenham Hotspur', 'target': 'Juventus FC'}},\n",
       "   {'data': {'source': 'Tottenham Hotspur', 'target': 'Sevilla FC'}},\n",
       "   {'data': {'source': 'Aston Villa', 'target': 'Sevilla FC'}},\n",
       "   {'data': {'source': 'Aston Villa', 'target': 'Norwich City'}},\n",
       "   {'data': {'source': 'Aston Villa', 'target': 'Everton FC'}},\n",
       "   {'data': {'source': 'Aston Villa', 'target': 'Wolverhampton Wanderers'}},\n",
       "   {'data': {'source': 'Sporting CP', 'target': 'Wolverhampton Wanderers'}},\n",
       "   {'data': {'source': 'SL Benfica', 'target': 'Wolverhampton Wanderers'}},\n",
       "   {'data': {'source': 'Juventus FC', 'target': 'Everton FC'}},\n",
       "   {'data': {'source': 'Leeds United', 'target': 'Valencia CF'}},\n",
       "   {'data': {'source': 'Leicester City', 'target': 'AS Monaco'}},\n",
       "   {'data': {'source': 'Everton FC', 'target': 'Newcastle United'}},\n",
       "   {'data': {'source': 'Valencia CF', 'target': 'Wolverhampton Wanderers'}},\n",
       "   {'data': {'source': 'FC Barcelona', 'target': 'Wolverhampton Wanderers'}},\n",
       "   {'data': {'source': 'Wolverhampton Wanderers', 'target': 'AC Milan'}},\n",
       "   {'data': {'source': 'Eintracht Frankfurt', 'target': 'West Ham United'}},\n",
       "   {'data': {'source': 'West Ham United', 'target': 'CSKA Moscow'}},\n",
       "   {'data': {'source': 'West Ham United', 'target': 'US Sassuolo'}},\n",
       "   {'data': {'source': 'West Ham United', 'target': 'SS Lazio'}},\n",
       "   {'data': {'source': 'Newcastle United', 'target': 'TSG 1899 Hoffenheim'}},\n",
       "   {'data': {'source': 'Newcastle United', 'target': 'Real Sociedad'}},\n",
       "   {'data': {'source': 'Fulham FC', 'target': 'OGC Nice'}},\n",
       "   {'data': {'source': 'Stade Rennais FC', 'target': 'Watford FC'}}]}}"
      ]
     },
     "execution_count": 423,
     "metadata": {},
     "output_type": "execute_result"
    }
   ],
   "source": [
    "# we create a class that codifies together the league and the community to which the node belongs \n",
    "for el in data['elements']['nodes']:\n",
    "    el['classes']=el['classes']+\" \"+str(el['data']['community'])\n",
    "data"
   ]
  },
  {
   "cell_type": "markdown",
   "id": "d745cef0",
   "metadata": {},
   "source": [
    "Below it is contained the whole code for the cytoscape dashboard. "
   ]
  },
  {
   "cell_type": "code",
   "execution_count": 429,
   "id": "44fec24a",
   "metadata": {},
   "outputs": [
    {
     "name": "stdout",
     "output_type": "stream",
     "text": [
      "Dash is running on http://127.0.0.1:550/\n",
      "\n"
     ]
    },
    {
     "name": "stderr",
     "output_type": "stream",
     "text": [
      " * Running on http://127.0.0.1:550/ (Press CTRL+C to quit)\n"
     ]
    },
    {
     "ename": "OSError",
     "evalue": "Address 'http://127.0.0.1:550' already in use.\n    Try passing a different port to run_server.",
     "output_type": "error",
     "traceback": [
      "\u001b[1;31m---------------------------------------------------------------------------\u001b[0m",
      "\u001b[1;31mOSError\u001b[0m                                   Traceback (most recent call last)",
      "\u001b[1;32m~\\AppData\\Local\\Temp\\ipykernel_17916\\255444910.py\u001b[0m in \u001b[0;36m<module>\u001b[1;34m\u001b[0m\n\u001b[0;32m    223\u001b[0m \u001b[1;33m\u001b[0m\u001b[0m\n\u001b[0;32m    224\u001b[0m \u001b[1;32mif\u001b[0m \u001b[0m__name__\u001b[0m \u001b[1;33m==\u001b[0m \u001b[1;34m'__main__'\u001b[0m\u001b[1;33m:\u001b[0m\u001b[1;33m\u001b[0m\u001b[1;33m\u001b[0m\u001b[0m\n\u001b[1;32m--> 225\u001b[1;33m     \u001b[0mapp\u001b[0m\u001b[1;33m.\u001b[0m\u001b[0mrun_server\u001b[0m\u001b[1;33m(\u001b[0m\u001b[0mmode\u001b[0m\u001b[1;33m=\u001b[0m\u001b[1;34m'inline'\u001b[0m\u001b[1;33m,\u001b[0m \u001b[0mdebug\u001b[0m\u001b[1;33m=\u001b[0m\u001b[1;32mFalse\u001b[0m\u001b[1;33m,\u001b[0m \u001b[0mport\u001b[0m\u001b[1;33m=\u001b[0m\u001b[1;36m550\u001b[0m\u001b[1;33m)\u001b[0m\u001b[1;33m\u001b[0m\u001b[1;33m\u001b[0m\u001b[0m\n\u001b[0m\u001b[0;32m    226\u001b[0m \u001b[1;33m\u001b[0m\u001b[0m\n",
      "\u001b[1;32m~\\anaconda3\\lib\\site-packages\\jupyter_dash\\jupyter_app.py\u001b[0m in \u001b[0;36mrun_server\u001b[1;34m(self, mode, width, height, inline_exceptions, **kwargs)\u001b[0m\n\u001b[0;32m    337\u001b[0m                 )\n\u001b[0;32m    338\u001b[0m \u001b[1;33m\u001b[0m\u001b[0m\n\u001b[1;32m--> 339\u001b[1;33m         \u001b[0mwait_for_app\u001b[0m\u001b[1;33m(\u001b[0m\u001b[1;33m)\u001b[0m\u001b[1;33m\u001b[0m\u001b[1;33m\u001b[0m\u001b[0m\n\u001b[0m\u001b[0;32m    340\u001b[0m \u001b[1;33m\u001b[0m\u001b[0m\n\u001b[0;32m    341\u001b[0m         \u001b[1;32mif\u001b[0m \u001b[0mJupyterDash\u001b[0m\u001b[1;33m.\u001b[0m\u001b[0m_in_colab\u001b[0m\u001b[1;33m:\u001b[0m\u001b[1;33m\u001b[0m\u001b[1;33m\u001b[0m\u001b[0m\n",
      "\u001b[1;32m~\\anaconda3\\lib\\site-packages\\retrying.py\u001b[0m in \u001b[0;36mwrapped_f\u001b[1;34m(*args, **kw)\u001b[0m\n\u001b[0;32m     54\u001b[0m             \u001b[1;33m@\u001b[0m\u001b[0msix\u001b[0m\u001b[1;33m.\u001b[0m\u001b[0mwraps\u001b[0m\u001b[1;33m(\u001b[0m\u001b[0mf\u001b[0m\u001b[1;33m)\u001b[0m\u001b[1;33m\u001b[0m\u001b[1;33m\u001b[0m\u001b[0m\n\u001b[0;32m     55\u001b[0m             \u001b[1;32mdef\u001b[0m \u001b[0mwrapped_f\u001b[0m\u001b[1;33m(\u001b[0m\u001b[1;33m*\u001b[0m\u001b[0margs\u001b[0m\u001b[1;33m,\u001b[0m \u001b[1;33m**\u001b[0m\u001b[0mkw\u001b[0m\u001b[1;33m)\u001b[0m\u001b[1;33m:\u001b[0m\u001b[1;33m\u001b[0m\u001b[1;33m\u001b[0m\u001b[0m\n\u001b[1;32m---> 56\u001b[1;33m                 \u001b[1;32mreturn\u001b[0m \u001b[0mRetrying\u001b[0m\u001b[1;33m(\u001b[0m\u001b[1;33m*\u001b[0m\u001b[0mdargs\u001b[0m\u001b[1;33m,\u001b[0m \u001b[1;33m**\u001b[0m\u001b[0mdkw\u001b[0m\u001b[1;33m)\u001b[0m\u001b[1;33m.\u001b[0m\u001b[0mcall\u001b[0m\u001b[1;33m(\u001b[0m\u001b[0mf\u001b[0m\u001b[1;33m,\u001b[0m \u001b[1;33m*\u001b[0m\u001b[0margs\u001b[0m\u001b[1;33m,\u001b[0m \u001b[1;33m**\u001b[0m\u001b[0mkw\u001b[0m\u001b[1;33m)\u001b[0m\u001b[1;33m\u001b[0m\u001b[1;33m\u001b[0m\u001b[0m\n\u001b[0m\u001b[0;32m     57\u001b[0m \u001b[1;33m\u001b[0m\u001b[0m\n\u001b[0;32m     58\u001b[0m             \u001b[1;32mreturn\u001b[0m \u001b[0mwrapped_f\u001b[0m\u001b[1;33m\u001b[0m\u001b[1;33m\u001b[0m\u001b[0m\n",
      "\u001b[1;32m~\\anaconda3\\lib\\site-packages\\retrying.py\u001b[0m in \u001b[0;36mcall\u001b[1;34m(self, fn, *args, **kwargs)\u001b[0m\n\u001b[0;32m    264\u001b[0m                 \u001b[1;32mif\u001b[0m \u001b[1;32mnot\u001b[0m \u001b[0mself\u001b[0m\u001b[1;33m.\u001b[0m\u001b[0m_wrap_exception\u001b[0m \u001b[1;32mand\u001b[0m \u001b[0mattempt\u001b[0m\u001b[1;33m.\u001b[0m\u001b[0mhas_exception\u001b[0m\u001b[1;33m:\u001b[0m\u001b[1;33m\u001b[0m\u001b[1;33m\u001b[0m\u001b[0m\n\u001b[0;32m    265\u001b[0m                     \u001b[1;31m# get() on an attempt with an exception should cause it to be raised, but raise just in case\u001b[0m\u001b[1;33m\u001b[0m\u001b[1;33m\u001b[0m\u001b[0m\n\u001b[1;32m--> 266\u001b[1;33m                     \u001b[1;32mraise\u001b[0m \u001b[0mattempt\u001b[0m\u001b[1;33m.\u001b[0m\u001b[0mget\u001b[0m\u001b[1;33m(\u001b[0m\u001b[1;33m)\u001b[0m\u001b[1;33m\u001b[0m\u001b[1;33m\u001b[0m\u001b[0m\n\u001b[0m\u001b[0;32m    267\u001b[0m                 \u001b[1;32melse\u001b[0m\u001b[1;33m:\u001b[0m\u001b[1;33m\u001b[0m\u001b[1;33m\u001b[0m\u001b[0m\n\u001b[0;32m    268\u001b[0m                     \u001b[1;32mraise\u001b[0m \u001b[0mRetryError\u001b[0m\u001b[1;33m(\u001b[0m\u001b[0mattempt\u001b[0m\u001b[1;33m)\u001b[0m\u001b[1;33m\u001b[0m\u001b[1;33m\u001b[0m\u001b[0m\n",
      "\u001b[1;32m~\\anaconda3\\lib\\site-packages\\retrying.py\u001b[0m in \u001b[0;36mget\u001b[1;34m(self, wrap_exception)\u001b[0m\n\u001b[0;32m    299\u001b[0m                 \u001b[1;32mraise\u001b[0m \u001b[0mRetryError\u001b[0m\u001b[1;33m(\u001b[0m\u001b[0mself\u001b[0m\u001b[1;33m)\u001b[0m\u001b[1;33m\u001b[0m\u001b[1;33m\u001b[0m\u001b[0m\n\u001b[0;32m    300\u001b[0m             \u001b[1;32melse\u001b[0m\u001b[1;33m:\u001b[0m\u001b[1;33m\u001b[0m\u001b[1;33m\u001b[0m\u001b[0m\n\u001b[1;32m--> 301\u001b[1;33m                 \u001b[0msix\u001b[0m\u001b[1;33m.\u001b[0m\u001b[0mreraise\u001b[0m\u001b[1;33m(\u001b[0m\u001b[0mself\u001b[0m\u001b[1;33m.\u001b[0m\u001b[0mvalue\u001b[0m\u001b[1;33m[\u001b[0m\u001b[1;36m0\u001b[0m\u001b[1;33m]\u001b[0m\u001b[1;33m,\u001b[0m \u001b[0mself\u001b[0m\u001b[1;33m.\u001b[0m\u001b[0mvalue\u001b[0m\u001b[1;33m[\u001b[0m\u001b[1;36m1\u001b[0m\u001b[1;33m]\u001b[0m\u001b[1;33m,\u001b[0m \u001b[0mself\u001b[0m\u001b[1;33m.\u001b[0m\u001b[0mvalue\u001b[0m\u001b[1;33m[\u001b[0m\u001b[1;36m2\u001b[0m\u001b[1;33m]\u001b[0m\u001b[1;33m)\u001b[0m\u001b[1;33m\u001b[0m\u001b[1;33m\u001b[0m\u001b[0m\n\u001b[0m\u001b[0;32m    302\u001b[0m         \u001b[1;32melse\u001b[0m\u001b[1;33m:\u001b[0m\u001b[1;33m\u001b[0m\u001b[1;33m\u001b[0m\u001b[0m\n\u001b[0;32m    303\u001b[0m             \u001b[1;32mreturn\u001b[0m \u001b[0mself\u001b[0m\u001b[1;33m.\u001b[0m\u001b[0mvalue\u001b[0m\u001b[1;33m\u001b[0m\u001b[1;33m\u001b[0m\u001b[0m\n",
      "\u001b[1;32m~\\anaconda3\\lib\\site-packages\\six.py\u001b[0m in \u001b[0;36mreraise\u001b[1;34m(tp, value, tb)\u001b[0m\n\u001b[0;32m    717\u001b[0m             \u001b[1;32mif\u001b[0m \u001b[0mvalue\u001b[0m\u001b[1;33m.\u001b[0m\u001b[0m__traceback__\u001b[0m \u001b[1;32mis\u001b[0m \u001b[1;32mnot\u001b[0m \u001b[0mtb\u001b[0m\u001b[1;33m:\u001b[0m\u001b[1;33m\u001b[0m\u001b[1;33m\u001b[0m\u001b[0m\n\u001b[0;32m    718\u001b[0m                 \u001b[1;32mraise\u001b[0m \u001b[0mvalue\u001b[0m\u001b[1;33m.\u001b[0m\u001b[0mwith_traceback\u001b[0m\u001b[1;33m(\u001b[0m\u001b[0mtb\u001b[0m\u001b[1;33m)\u001b[0m\u001b[1;33m\u001b[0m\u001b[1;33m\u001b[0m\u001b[0m\n\u001b[1;32m--> 719\u001b[1;33m             \u001b[1;32mraise\u001b[0m \u001b[0mvalue\u001b[0m\u001b[1;33m\u001b[0m\u001b[1;33m\u001b[0m\u001b[0m\n\u001b[0m\u001b[0;32m    720\u001b[0m         \u001b[1;32mfinally\u001b[0m\u001b[1;33m:\u001b[0m\u001b[1;33m\u001b[0m\u001b[1;33m\u001b[0m\u001b[0m\n\u001b[0;32m    721\u001b[0m             \u001b[0mvalue\u001b[0m \u001b[1;33m=\u001b[0m \u001b[1;32mNone\u001b[0m\u001b[1;33m\u001b[0m\u001b[1;33m\u001b[0m\u001b[0m\n",
      "\u001b[1;32m~\\anaconda3\\lib\\site-packages\\retrying.py\u001b[0m in \u001b[0;36mcall\u001b[1;34m(self, fn, *args, **kwargs)\u001b[0m\n\u001b[0;32m    249\u001b[0m \u001b[1;33m\u001b[0m\u001b[0m\n\u001b[0;32m    250\u001b[0m             \u001b[1;32mtry\u001b[0m\u001b[1;33m:\u001b[0m\u001b[1;33m\u001b[0m\u001b[1;33m\u001b[0m\u001b[0m\n\u001b[1;32m--> 251\u001b[1;33m                 \u001b[0mattempt\u001b[0m \u001b[1;33m=\u001b[0m \u001b[0mAttempt\u001b[0m\u001b[1;33m(\u001b[0m\u001b[0mfn\u001b[0m\u001b[1;33m(\u001b[0m\u001b[1;33m*\u001b[0m\u001b[0margs\u001b[0m\u001b[1;33m,\u001b[0m \u001b[1;33m**\u001b[0m\u001b[0mkwargs\u001b[0m\u001b[1;33m)\u001b[0m\u001b[1;33m,\u001b[0m \u001b[0mattempt_number\u001b[0m\u001b[1;33m,\u001b[0m \u001b[1;32mFalse\u001b[0m\u001b[1;33m)\u001b[0m\u001b[1;33m\u001b[0m\u001b[1;33m\u001b[0m\u001b[0m\n\u001b[0m\u001b[0;32m    252\u001b[0m             \u001b[1;32mexcept\u001b[0m\u001b[1;33m:\u001b[0m\u001b[1;33m\u001b[0m\u001b[1;33m\u001b[0m\u001b[0m\n\u001b[0;32m    253\u001b[0m                 \u001b[0mtb\u001b[0m \u001b[1;33m=\u001b[0m \u001b[0msys\u001b[0m\u001b[1;33m.\u001b[0m\u001b[0mexc_info\u001b[0m\u001b[1;33m(\u001b[0m\u001b[1;33m)\u001b[0m\u001b[1;33m\u001b[0m\u001b[1;33m\u001b[0m\u001b[0m\n",
      "\u001b[1;32m~\\anaconda3\\lib\\site-packages\\jupyter_dash\\jupyter_app.py\u001b[0m in \u001b[0;36mwait_for_app\u001b[1;34m()\u001b[0m\n\u001b[0;32m    330\u001b[0m                     \u001b[0mhost\u001b[0m\u001b[1;33m=\u001b[0m\u001b[0mhost\u001b[0m\u001b[1;33m,\u001b[0m \u001b[0mport\u001b[0m\u001b[1;33m=\u001b[0m\u001b[0mport\u001b[0m\u001b[1;33m,\u001b[0m \u001b[0mtoken\u001b[0m\u001b[1;33m=\u001b[0m\u001b[0mJupyterDash\u001b[0m\u001b[1;33m.\u001b[0m\u001b[0m_token\u001b[0m\u001b[1;33m\u001b[0m\u001b[1;33m\u001b[0m\u001b[0m\n\u001b[0;32m    331\u001b[0m                 )\n\u001b[1;32m--> 332\u001b[1;33m                 raise OSError(\n\u001b[0m\u001b[0;32m    333\u001b[0m                     \u001b[1;34m\"Address '{url}' already in use.\\n\"\u001b[0m\u001b[1;33m\u001b[0m\u001b[1;33m\u001b[0m\u001b[0m\n\u001b[0;32m    334\u001b[0m                     \"    Try passing a different port to run_server.\".format(\n",
      "\u001b[1;31mOSError\u001b[0m: Address 'http://127.0.0.1:550' already in use.\n    Try passing a different port to run_server."
     ]
    }
   ],
   "source": [
    "cyto_id = 'cytoscape' # just the name of the plot\n",
    "\n",
    "style = {'width': '100%', 'height': '800px'} # the size of the plot\n",
    "\n",
    "# we initialize the dashboard application\n",
    "app = JupyterDash(__name__)\n",
    "\n",
    "# we set the layout of the dashboard\n",
    "\n",
    "# it will contain 2 drop down menus\n",
    "\n",
    "# the first will allow the user to decide which layout to visualize the nodes\n",
    "\n",
    "# the second it will allow the user to select if the nodes should be colored according to the community louvain clusters color,\n",
    "# or according to the league belonging of the node\n",
    "\n",
    "app.layout = html.Div([dcc.Dropdown(\n",
    "        # first drop down menu for the layout\n",
    "        id='dropdown-update-layout',\n",
    "        value='circle',\n",
    "        clearable=False,\n",
    "        options=[\n",
    "            {'label': name.capitalize(), 'value': name}\n",
    "            for name in ['circle', 'concentric', 'cose-bilkent']\n",
    "        ]\n",
    "    ),\n",
    "\n",
    "    dcc.Dropdown(\n",
    "        # second drop down menu for the color of the nodes\n",
    "        id='dropdown-update-color',\n",
    "        value='league',\n",
    "        clearable=False,\n",
    "        options=[\n",
    "            {'label': name.capitalize(), 'value': name}\n",
    "            for name in ['league', 'community']\n",
    "        ]\n",
    "    ),\n",
    "    # here we specify the different features of the graph                   \n",
    "    cyto.Cytoscape(id = cyto_id, # name of the plot\n",
    "                   style = style,\n",
    "                   layout = {'name': 'concentric'}, \n",
    "                   stylesheet=[\n",
    "            # Group selectors\n",
    "            {\n",
    "                'selector': 'node',\n",
    "                'style': {\n",
    "                    'content': 'data(id)'\n",
    "                }\n",
    "            }\n",
    "            ]\n",
    ",\n",
    "                   elements = data['elements'])] # lastly we specify the location of the elements of the cytoscape graph\n",
    "    )\n",
    "\n",
    "################################################################################################################################\n",
    "\n",
    "# The first callback defines the color that each nodes has to be according to the choice of the user: by League or by community\n",
    "# lauvain cluster\n",
    "\n",
    "@app.callback(Output('cytoscape', 'stylesheet'),\n",
    "              Input('dropdown-update-color', 'value'))\n",
    "\n",
    "def update_layout(stylesheet):\n",
    "    # here we tailor the features of the nodes and the edges\n",
    "    \n",
    "    # there are two options represented by the if we are going to make: \n",
    "    # the first is that the nodes need to be colored according to the league from which each player comes\n",
    "    # the second is that the nodes need to be colored according to the community louvain cluster \n",
    "    \n",
    "    \n",
    "    # 1st if\n",
    "    if stylesheet=='league':\n",
    "        stylesheet=[\n",
    "            # Group selectors\n",
    "            {\n",
    "                # we set that the label of each node coincide with the name of the CLub from which the player comes\n",
    "                'selector': 'node',\n",
    "                'style': {\n",
    "                    'content': 'data(id)'\n",
    "                }\n",
    "            \n",
    "            },\n",
    "            \n",
    "             {\n",
    "                 # we specify the opacity of all edges in order to make the nodes and the labels easier to visualize\n",
    "                'selector': 'edge',\n",
    "                'style': {\n",
    "                    'line-color': 'black',\n",
    "                     'opacity': '0.2'\n",
    "                }\n",
    "             },\n",
    "\n",
    "\n",
    "            # Class selectors\n",
    "            # here we tailor the color of the node accordig to the League from which the player comes\n",
    "            {\n",
    "                'selector': '.LaLiga',\n",
    "                'style': {\n",
    "                    'background-color': '#E16B19',\n",
    "                    'line-color': '#219ebc',\n",
    "                    'shape': 'dot'\n",
    "                }\n",
    "            },\n",
    "            {\n",
    "                'selector': '.Others',\n",
    "                'style': {\n",
    "                    'background-color': 'lightgrey',\n",
    "                    'line-color': '#219ebc',\n",
    "                    'shape': 'dot'\n",
    "                }\n",
    "            },\n",
    "    {\n",
    "                'selector': '.PremierLeague',\n",
    "                'style': {\n",
    "                    'background-color': '#031b5e',\n",
    "                    'line-color': '#219ebc',\n",
    "                    'shape': 'dot'\n",
    "                }\n",
    "            },{\n",
    "                'selector': '.Bundesliga',\n",
    "                'style': {\n",
    "                    'background-color': '#ca0302',\n",
    "                    'line-color': '#219ebc',\n",
    "                    'shape': 'dot'\n",
    "                }\n",
    "            },\n",
    "    {\n",
    "                'selector': '.SerieA',\n",
    "                'style': {\n",
    "                    'background-color': '#25AA0A',\n",
    "                    'line-color': '#219ebc',\n",
    "                    'shape': 'dot'\n",
    "                }\n",
    "            },\n",
    "    {\n",
    "                'selector': '.Ligue1',\n",
    "                'style': {\n",
    "                    'background-color': '#7e33c5',\n",
    "                    'line-color': '#219ebc',\n",
    "                    'shape': 'dot'\n",
    "                }\n",
    "            }\n",
    "            \n",
    "            \n",
    "        ]\n",
    "\n",
    "\n",
    "        return stylesheet\n",
    "    \n",
    "    \n",
    "    \n",
    "    # 2nd if \n",
    "    if stylesheet=='community':\n",
    "        stylesheet=[\n",
    "                    # Group selectors\n",
    "                    {\n",
    "                        'selector': 'node',\n",
    "                        'style': {\n",
    "                            'content': 'data(id)'\n",
    "                        }\n",
    "                    },\n",
    "             {\n",
    "                'selector': 'edge',\n",
    "                'style': {\n",
    "                    'line-color': 'black',\n",
    "                    'opacity': '0.2'\n",
    "                }\n",
    "             }\n",
    "                    ]\n",
    "        # here we define that there must be created the same number of colors from the viridis palette as the number \n",
    "        # of clusters we have\n",
    "        \n",
    "        # we automised the process since the number of cluster individuated by community louvain algorithm can vary \n",
    "        # time by time\n",
    "        palette = sns.color_palette(\"viridis\", max(part.values())+1)\n",
    "\n",
    "        for x in range(0,max(part.values())+1):\n",
    "            # we convert x in a string and assign to y to avoid issues in the next steps\n",
    "            y=str(x)\n",
    "            color=matplotlib.colors.rgb2hex(palette[x])\n",
    "            # it is colored the node according to the cluster\n",
    "            selector={\n",
    "                        'selector': f'.{y}',\n",
    "                        'style': {\n",
    "                            'background-color':f'{color}',\n",
    "                            'shape': 'dot'\n",
    "                        }\n",
    "                    }\n",
    "            stylesheet.append(selector)\n",
    "            \n",
    "        return stylesheet\n",
    "    \n",
    "    \n",
    "########### Now we will go thorugh the callback connected to the second drop down menu, the one to choose layout ###########\n",
    "    \n",
    "\n",
    "@app.callback(Output('cytoscape', 'layout'),\n",
    "              Input('dropdown-update-layout', 'value'))\n",
    "\n",
    "    # here we make the layout match the one decided by the user\n",
    "def update_layout(layout):\n",
    "    if layout=='circle':\n",
    "        return {\n",
    "            'name': layout,\n",
    "            'animate': True,\n",
    "            \n",
    "        }\n",
    "    if layout=='cose-bilkent':\n",
    "        return {\n",
    "            'name': layout,\n",
    "            'animate': True,\n",
    "            # below we specify the metric to give more distance between nodes and make it easier to visualize\n",
    "            'idealEdgeLength': 200\n",
    "        }\n",
    "    if layout=='concentric':\n",
    "        return {\n",
    "            'name': layout,\n",
    "            'animate': True,\n",
    "            # below we specify the metric to give more distance between nodes and make it easier to visualize\n",
    "            'minNodeSpacing': 70\n",
    "        }\n",
    "\n",
    "    \n",
    "if __name__ == '__main__':\n",
    "    app.run_server(mode='inline', debug=False, port=550)\n",
    "\n"
   ]
  },
  {
   "cell_type": "code",
   "execution_count": null,
   "id": "fcda42af",
   "metadata": {},
   "outputs": [],
   "source": []
  }
 ],
 "metadata": {
  "kernelspec": {
   "display_name": "Python 3 (ipykernel)",
   "language": "python",
   "name": "python3"
  },
  "language_info": {
   "codemirror_mode": {
    "name": "ipython",
    "version": 3
   },
   "file_extension": ".py",
   "mimetype": "text/x-python",
   "name": "python",
   "nbconvert_exporter": "python",
   "pygments_lexer": "ipython3",
   "version": "3.9.13"
  }
 },
 "nbformat": 4,
 "nbformat_minor": 5
}
